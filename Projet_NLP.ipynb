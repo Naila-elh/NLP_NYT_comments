{
  "nbformat": 4,
  "nbformat_minor": 0,
  "metadata": {
    "colab": {
      "name": "Projet_NLP_final.ipynb",
      "provenance": [],
      "collapsed_sections": [],
      "include_colab_link": true
    },
    "kernelspec": {
      "name": "python3",
      "display_name": "Python 3"
    },
    "accelerator": "GPU",
    "widgets": {
      "application/vnd.jupyter.widget-state+json": {
        "bd88763b61274dacb73a86fa8a83eb8c": {
          "model_module": "@jupyter-widgets/controls",
          "model_name": "HBoxModel",
          "state": {
            "_view_name": "HBoxView",
            "_dom_classes": [],
            "_model_name": "HBoxModel",
            "_view_module": "@jupyter-widgets/controls",
            "_model_module_version": "1.5.0",
            "_view_count": null,
            "_view_module_version": "1.5.0",
            "box_style": "",
            "layout": "IPY_MODEL_a35ddee56bf44378836434fb2b8b0bd8",
            "_model_module": "@jupyter-widgets/controls",
            "children": [
              "IPY_MODEL_c32f2904297248e095cf86560d49a323",
              "IPY_MODEL_57faccd9c73c462a87e40ee5d6d80b65"
            ]
          }
        },
        "a35ddee56bf44378836434fb2b8b0bd8": {
          "model_module": "@jupyter-widgets/base",
          "model_name": "LayoutModel",
          "state": {
            "_view_name": "LayoutView",
            "grid_template_rows": null,
            "right": null,
            "justify_content": null,
            "_view_module": "@jupyter-widgets/base",
            "overflow": null,
            "_model_module_version": "1.2.0",
            "_view_count": null,
            "flex_flow": null,
            "width": null,
            "min_width": null,
            "border": null,
            "align_items": null,
            "bottom": null,
            "_model_module": "@jupyter-widgets/base",
            "top": null,
            "grid_column": null,
            "overflow_y": null,
            "overflow_x": null,
            "grid_auto_flow": null,
            "grid_area": null,
            "grid_template_columns": null,
            "flex": null,
            "_model_name": "LayoutModel",
            "justify_items": null,
            "grid_row": null,
            "max_height": null,
            "align_content": null,
            "visibility": null,
            "align_self": null,
            "height": null,
            "min_height": null,
            "padding": null,
            "grid_auto_rows": null,
            "grid_gap": null,
            "max_width": null,
            "order": null,
            "_view_module_version": "1.2.0",
            "grid_template_areas": null,
            "object_position": null,
            "object_fit": null,
            "grid_auto_columns": null,
            "margin": null,
            "display": null,
            "left": null
          }
        },
        "c32f2904297248e095cf86560d49a323": {
          "model_module": "@jupyter-widgets/controls",
          "model_name": "IntProgressModel",
          "state": {
            "_view_name": "ProgressView",
            "style": "IPY_MODEL_c62415c9490e4ba6af4dd98e2f37e0f6",
            "_dom_classes": [],
            "description": "Downloading: 100%",
            "_model_name": "IntProgressModel",
            "bar_style": "success",
            "max": 231508,
            "_view_module": "@jupyter-widgets/controls",
            "_model_module_version": "1.5.0",
            "value": 231508,
            "_view_count": null,
            "_view_module_version": "1.5.0",
            "orientation": "horizontal",
            "min": 0,
            "description_tooltip": null,
            "_model_module": "@jupyter-widgets/controls",
            "layout": "IPY_MODEL_ce26ccbf4fb04b7984556f97d36e3cfd"
          }
        },
        "57faccd9c73c462a87e40ee5d6d80b65": {
          "model_module": "@jupyter-widgets/controls",
          "model_name": "HTMLModel",
          "state": {
            "_view_name": "HTMLView",
            "style": "IPY_MODEL_bc5513699f5e4312acd1d465c267f5ad",
            "_dom_classes": [],
            "description": "",
            "_model_name": "HTMLModel",
            "placeholder": "​",
            "_view_module": "@jupyter-widgets/controls",
            "_model_module_version": "1.5.0",
            "value": " 232k/232k [00:00&lt;00:00, 256kB/s]",
            "_view_count": null,
            "_view_module_version": "1.5.0",
            "description_tooltip": null,
            "_model_module": "@jupyter-widgets/controls",
            "layout": "IPY_MODEL_7c33643a98894a869ead424443d5e5ea"
          }
        },
        "c62415c9490e4ba6af4dd98e2f37e0f6": {
          "model_module": "@jupyter-widgets/controls",
          "model_name": "ProgressStyleModel",
          "state": {
            "_view_name": "StyleView",
            "_model_name": "ProgressStyleModel",
            "description_width": "initial",
            "_view_module": "@jupyter-widgets/base",
            "_model_module_version": "1.5.0",
            "_view_count": null,
            "_view_module_version": "1.2.0",
            "bar_color": null,
            "_model_module": "@jupyter-widgets/controls"
          }
        },
        "ce26ccbf4fb04b7984556f97d36e3cfd": {
          "model_module": "@jupyter-widgets/base",
          "model_name": "LayoutModel",
          "state": {
            "_view_name": "LayoutView",
            "grid_template_rows": null,
            "right": null,
            "justify_content": null,
            "_view_module": "@jupyter-widgets/base",
            "overflow": null,
            "_model_module_version": "1.2.0",
            "_view_count": null,
            "flex_flow": null,
            "width": null,
            "min_width": null,
            "border": null,
            "align_items": null,
            "bottom": null,
            "_model_module": "@jupyter-widgets/base",
            "top": null,
            "grid_column": null,
            "overflow_y": null,
            "overflow_x": null,
            "grid_auto_flow": null,
            "grid_area": null,
            "grid_template_columns": null,
            "flex": null,
            "_model_name": "LayoutModel",
            "justify_items": null,
            "grid_row": null,
            "max_height": null,
            "align_content": null,
            "visibility": null,
            "align_self": null,
            "height": null,
            "min_height": null,
            "padding": null,
            "grid_auto_rows": null,
            "grid_gap": null,
            "max_width": null,
            "order": null,
            "_view_module_version": "1.2.0",
            "grid_template_areas": null,
            "object_position": null,
            "object_fit": null,
            "grid_auto_columns": null,
            "margin": null,
            "display": null,
            "left": null
          }
        },
        "bc5513699f5e4312acd1d465c267f5ad": {
          "model_module": "@jupyter-widgets/controls",
          "model_name": "DescriptionStyleModel",
          "state": {
            "_view_name": "StyleView",
            "_model_name": "DescriptionStyleModel",
            "description_width": "",
            "_view_module": "@jupyter-widgets/base",
            "_model_module_version": "1.5.0",
            "_view_count": null,
            "_view_module_version": "1.2.0",
            "_model_module": "@jupyter-widgets/controls"
          }
        },
        "7c33643a98894a869ead424443d5e5ea": {
          "model_module": "@jupyter-widgets/base",
          "model_name": "LayoutModel",
          "state": {
            "_view_name": "LayoutView",
            "grid_template_rows": null,
            "right": null,
            "justify_content": null,
            "_view_module": "@jupyter-widgets/base",
            "overflow": null,
            "_model_module_version": "1.2.0",
            "_view_count": null,
            "flex_flow": null,
            "width": null,
            "min_width": null,
            "border": null,
            "align_items": null,
            "bottom": null,
            "_model_module": "@jupyter-widgets/base",
            "top": null,
            "grid_column": null,
            "overflow_y": null,
            "overflow_x": null,
            "grid_auto_flow": null,
            "grid_area": null,
            "grid_template_columns": null,
            "flex": null,
            "_model_name": "LayoutModel",
            "justify_items": null,
            "grid_row": null,
            "max_height": null,
            "align_content": null,
            "visibility": null,
            "align_self": null,
            "height": null,
            "min_height": null,
            "padding": null,
            "grid_auto_rows": null,
            "grid_gap": null,
            "max_width": null,
            "order": null,
            "_view_module_version": "1.2.0",
            "grid_template_areas": null,
            "object_position": null,
            "object_fit": null,
            "grid_auto_columns": null,
            "margin": null,
            "display": null,
            "left": null
          }
        },
        "aff359667a394fc5af9fff0d71d68a56": {
          "model_module": "@jupyter-widgets/controls",
          "model_name": "HBoxModel",
          "state": {
            "_view_name": "HBoxView",
            "_dom_classes": [],
            "_model_name": "HBoxModel",
            "_view_module": "@jupyter-widgets/controls",
            "_model_module_version": "1.5.0",
            "_view_count": null,
            "_view_module_version": "1.5.0",
            "box_style": "",
            "layout": "IPY_MODEL_cd90a6a5758440b2a5620bd0579279c2",
            "_model_module": "@jupyter-widgets/controls",
            "children": [
              "IPY_MODEL_11817506f0374f938a986fa190bf9d43",
              "IPY_MODEL_2b38932de7174c7d95164ce81d1232fe"
            ]
          }
        },
        "cd90a6a5758440b2a5620bd0579279c2": {
          "model_module": "@jupyter-widgets/base",
          "model_name": "LayoutModel",
          "state": {
            "_view_name": "LayoutView",
            "grid_template_rows": null,
            "right": null,
            "justify_content": null,
            "_view_module": "@jupyter-widgets/base",
            "overflow": null,
            "_model_module_version": "1.2.0",
            "_view_count": null,
            "flex_flow": null,
            "width": null,
            "min_width": null,
            "border": null,
            "align_items": null,
            "bottom": null,
            "_model_module": "@jupyter-widgets/base",
            "top": null,
            "grid_column": null,
            "overflow_y": null,
            "overflow_x": null,
            "grid_auto_flow": null,
            "grid_area": null,
            "grid_template_columns": null,
            "flex": null,
            "_model_name": "LayoutModel",
            "justify_items": null,
            "grid_row": null,
            "max_height": null,
            "align_content": null,
            "visibility": null,
            "align_self": null,
            "height": null,
            "min_height": null,
            "padding": null,
            "grid_auto_rows": null,
            "grid_gap": null,
            "max_width": null,
            "order": null,
            "_view_module_version": "1.2.0",
            "grid_template_areas": null,
            "object_position": null,
            "object_fit": null,
            "grid_auto_columns": null,
            "margin": null,
            "display": null,
            "left": null
          }
        },
        "11817506f0374f938a986fa190bf9d43": {
          "model_module": "@jupyter-widgets/controls",
          "model_name": "IntProgressModel",
          "state": {
            "_view_name": "ProgressView",
            "style": "IPY_MODEL_4675192eac0b40a489ee89877d9e2109",
            "_dom_classes": [],
            "description": "Downloading: 100%",
            "_model_name": "IntProgressModel",
            "bar_style": "success",
            "max": 361,
            "_view_module": "@jupyter-widgets/controls",
            "_model_module_version": "1.5.0",
            "value": 361,
            "_view_count": null,
            "_view_module_version": "1.5.0",
            "orientation": "horizontal",
            "min": 0,
            "description_tooltip": null,
            "_model_module": "@jupyter-widgets/controls",
            "layout": "IPY_MODEL_a37683bd881b43589275747ba0844a38"
          }
        },
        "2b38932de7174c7d95164ce81d1232fe": {
          "model_module": "@jupyter-widgets/controls",
          "model_name": "HTMLModel",
          "state": {
            "_view_name": "HTMLView",
            "style": "IPY_MODEL_713b8a2a8bab4da8b915a4f9dde59120",
            "_dom_classes": [],
            "description": "",
            "_model_name": "HTMLModel",
            "placeholder": "​",
            "_view_module": "@jupyter-widgets/controls",
            "_model_module_version": "1.5.0",
            "value": " 361/361 [31:27&lt;00:00, 5.23s/B]",
            "_view_count": null,
            "_view_module_version": "1.5.0",
            "description_tooltip": null,
            "_model_module": "@jupyter-widgets/controls",
            "layout": "IPY_MODEL_7cb8e2c91b7c450eb8c1e44425d8ad20"
          }
        },
        "4675192eac0b40a489ee89877d9e2109": {
          "model_module": "@jupyter-widgets/controls",
          "model_name": "ProgressStyleModel",
          "state": {
            "_view_name": "StyleView",
            "_model_name": "ProgressStyleModel",
            "description_width": "initial",
            "_view_module": "@jupyter-widgets/base",
            "_model_module_version": "1.5.0",
            "_view_count": null,
            "_view_module_version": "1.2.0",
            "bar_color": null,
            "_model_module": "@jupyter-widgets/controls"
          }
        },
        "a37683bd881b43589275747ba0844a38": {
          "model_module": "@jupyter-widgets/base",
          "model_name": "LayoutModel",
          "state": {
            "_view_name": "LayoutView",
            "grid_template_rows": null,
            "right": null,
            "justify_content": null,
            "_view_module": "@jupyter-widgets/base",
            "overflow": null,
            "_model_module_version": "1.2.0",
            "_view_count": null,
            "flex_flow": null,
            "width": null,
            "min_width": null,
            "border": null,
            "align_items": null,
            "bottom": null,
            "_model_module": "@jupyter-widgets/base",
            "top": null,
            "grid_column": null,
            "overflow_y": null,
            "overflow_x": null,
            "grid_auto_flow": null,
            "grid_area": null,
            "grid_template_columns": null,
            "flex": null,
            "_model_name": "LayoutModel",
            "justify_items": null,
            "grid_row": null,
            "max_height": null,
            "align_content": null,
            "visibility": null,
            "align_self": null,
            "height": null,
            "min_height": null,
            "padding": null,
            "grid_auto_rows": null,
            "grid_gap": null,
            "max_width": null,
            "order": null,
            "_view_module_version": "1.2.0",
            "grid_template_areas": null,
            "object_position": null,
            "object_fit": null,
            "grid_auto_columns": null,
            "margin": null,
            "display": null,
            "left": null
          }
        },
        "713b8a2a8bab4da8b915a4f9dde59120": {
          "model_module": "@jupyter-widgets/controls",
          "model_name": "DescriptionStyleModel",
          "state": {
            "_view_name": "StyleView",
            "_model_name": "DescriptionStyleModel",
            "description_width": "",
            "_view_module": "@jupyter-widgets/base",
            "_model_module_version": "1.5.0",
            "_view_count": null,
            "_view_module_version": "1.2.0",
            "_model_module": "@jupyter-widgets/controls"
          }
        },
        "7cb8e2c91b7c450eb8c1e44425d8ad20": {
          "model_module": "@jupyter-widgets/base",
          "model_name": "LayoutModel",
          "state": {
            "_view_name": "LayoutView",
            "grid_template_rows": null,
            "right": null,
            "justify_content": null,
            "_view_module": "@jupyter-widgets/base",
            "overflow": null,
            "_model_module_version": "1.2.0",
            "_view_count": null,
            "flex_flow": null,
            "width": null,
            "min_width": null,
            "border": null,
            "align_items": null,
            "bottom": null,
            "_model_module": "@jupyter-widgets/base",
            "top": null,
            "grid_column": null,
            "overflow_y": null,
            "overflow_x": null,
            "grid_auto_flow": null,
            "grid_area": null,
            "grid_template_columns": null,
            "flex": null,
            "_model_name": "LayoutModel",
            "justify_items": null,
            "grid_row": null,
            "max_height": null,
            "align_content": null,
            "visibility": null,
            "align_self": null,
            "height": null,
            "min_height": null,
            "padding": null,
            "grid_auto_rows": null,
            "grid_gap": null,
            "max_width": null,
            "order": null,
            "_view_module_version": "1.2.0",
            "grid_template_areas": null,
            "object_position": null,
            "object_fit": null,
            "grid_auto_columns": null,
            "margin": null,
            "display": null,
            "left": null
          }
        },
        "d7f83c76d68d4ffba73c2e0d7f562732": {
          "model_module": "@jupyter-widgets/controls",
          "model_name": "HBoxModel",
          "state": {
            "_view_name": "HBoxView",
            "_dom_classes": [],
            "_model_name": "HBoxModel",
            "_view_module": "@jupyter-widgets/controls",
            "_model_module_version": "1.5.0",
            "_view_count": null,
            "_view_module_version": "1.5.0",
            "box_style": "",
            "layout": "IPY_MODEL_bc2ebfd774db4751bf32f26890542bcc",
            "_model_module": "@jupyter-widgets/controls",
            "children": [
              "IPY_MODEL_db04a51a7eb6482f8de6ca1bb1157f57",
              "IPY_MODEL_66e433c0f6ea459291bdda5bfc551f42"
            ]
          }
        },
        "bc2ebfd774db4751bf32f26890542bcc": {
          "model_module": "@jupyter-widgets/base",
          "model_name": "LayoutModel",
          "state": {
            "_view_name": "LayoutView",
            "grid_template_rows": null,
            "right": null,
            "justify_content": null,
            "_view_module": "@jupyter-widgets/base",
            "overflow": null,
            "_model_module_version": "1.2.0",
            "_view_count": null,
            "flex_flow": null,
            "width": null,
            "min_width": null,
            "border": null,
            "align_items": null,
            "bottom": null,
            "_model_module": "@jupyter-widgets/base",
            "top": null,
            "grid_column": null,
            "overflow_y": null,
            "overflow_x": null,
            "grid_auto_flow": null,
            "grid_area": null,
            "grid_template_columns": null,
            "flex": null,
            "_model_name": "LayoutModel",
            "justify_items": null,
            "grid_row": null,
            "max_height": null,
            "align_content": null,
            "visibility": null,
            "align_self": null,
            "height": null,
            "min_height": null,
            "padding": null,
            "grid_auto_rows": null,
            "grid_gap": null,
            "max_width": null,
            "order": null,
            "_view_module_version": "1.2.0",
            "grid_template_areas": null,
            "object_position": null,
            "object_fit": null,
            "grid_auto_columns": null,
            "margin": null,
            "display": null,
            "left": null
          }
        },
        "db04a51a7eb6482f8de6ca1bb1157f57": {
          "model_module": "@jupyter-widgets/controls",
          "model_name": "IntProgressModel",
          "state": {
            "_view_name": "ProgressView",
            "style": "IPY_MODEL_26a6f99e84b44ea6ad22b8c7ce4bc6c5",
            "_dom_classes": [],
            "description": "Downloading: 100%",
            "_model_name": "IntProgressModel",
            "bar_style": "success",
            "max": 440473133,
            "_view_module": "@jupyter-widgets/controls",
            "_model_module_version": "1.5.0",
            "value": 440473133,
            "_view_count": null,
            "_view_module_version": "1.5.0",
            "orientation": "horizontal",
            "min": 0,
            "description_tooltip": null,
            "_model_module": "@jupyter-widgets/controls",
            "layout": "IPY_MODEL_2a39678637634f2586961de1337198eb"
          }
        },
        "66e433c0f6ea459291bdda5bfc551f42": {
          "model_module": "@jupyter-widgets/controls",
          "model_name": "HTMLModel",
          "state": {
            "_view_name": "HTMLView",
            "style": "IPY_MODEL_3cac9e31b1ce485289a2891336a08065",
            "_dom_classes": [],
            "description": "",
            "_model_name": "HTMLModel",
            "placeholder": "​",
            "_view_module": "@jupyter-widgets/controls",
            "_model_module_version": "1.5.0",
            "value": " 440M/440M [00:46&lt;00:00, 9.55MB/s]",
            "_view_count": null,
            "_view_module_version": "1.5.0",
            "description_tooltip": null,
            "_model_module": "@jupyter-widgets/controls",
            "layout": "IPY_MODEL_92fa1a1798e849868faeaf27c5479be1"
          }
        },
        "26a6f99e84b44ea6ad22b8c7ce4bc6c5": {
          "model_module": "@jupyter-widgets/controls",
          "model_name": "ProgressStyleModel",
          "state": {
            "_view_name": "StyleView",
            "_model_name": "ProgressStyleModel",
            "description_width": "initial",
            "_view_module": "@jupyter-widgets/base",
            "_model_module_version": "1.5.0",
            "_view_count": null,
            "_view_module_version": "1.2.0",
            "bar_color": null,
            "_model_module": "@jupyter-widgets/controls"
          }
        },
        "2a39678637634f2586961de1337198eb": {
          "model_module": "@jupyter-widgets/base",
          "model_name": "LayoutModel",
          "state": {
            "_view_name": "LayoutView",
            "grid_template_rows": null,
            "right": null,
            "justify_content": null,
            "_view_module": "@jupyter-widgets/base",
            "overflow": null,
            "_model_module_version": "1.2.0",
            "_view_count": null,
            "flex_flow": null,
            "width": null,
            "min_width": null,
            "border": null,
            "align_items": null,
            "bottom": null,
            "_model_module": "@jupyter-widgets/base",
            "top": null,
            "grid_column": null,
            "overflow_y": null,
            "overflow_x": null,
            "grid_auto_flow": null,
            "grid_area": null,
            "grid_template_columns": null,
            "flex": null,
            "_model_name": "LayoutModel",
            "justify_items": null,
            "grid_row": null,
            "max_height": null,
            "align_content": null,
            "visibility": null,
            "align_self": null,
            "height": null,
            "min_height": null,
            "padding": null,
            "grid_auto_rows": null,
            "grid_gap": null,
            "max_width": null,
            "order": null,
            "_view_module_version": "1.2.0",
            "grid_template_areas": null,
            "object_position": null,
            "object_fit": null,
            "grid_auto_columns": null,
            "margin": null,
            "display": null,
            "left": null
          }
        },
        "3cac9e31b1ce485289a2891336a08065": {
          "model_module": "@jupyter-widgets/controls",
          "model_name": "DescriptionStyleModel",
          "state": {
            "_view_name": "StyleView",
            "_model_name": "DescriptionStyleModel",
            "description_width": "",
            "_view_module": "@jupyter-widgets/base",
            "_model_module_version": "1.5.0",
            "_view_count": null,
            "_view_module_version": "1.2.0",
            "_model_module": "@jupyter-widgets/controls"
          }
        },
        "92fa1a1798e849868faeaf27c5479be1": {
          "model_module": "@jupyter-widgets/base",
          "model_name": "LayoutModel",
          "state": {
            "_view_name": "LayoutView",
            "grid_template_rows": null,
            "right": null,
            "justify_content": null,
            "_view_module": "@jupyter-widgets/base",
            "overflow": null,
            "_model_module_version": "1.2.0",
            "_view_count": null,
            "flex_flow": null,
            "width": null,
            "min_width": null,
            "border": null,
            "align_items": null,
            "bottom": null,
            "_model_module": "@jupyter-widgets/base",
            "top": null,
            "grid_column": null,
            "overflow_y": null,
            "overflow_x": null,
            "grid_auto_flow": null,
            "grid_area": null,
            "grid_template_columns": null,
            "flex": null,
            "_model_name": "LayoutModel",
            "justify_items": null,
            "grid_row": null,
            "max_height": null,
            "align_content": null,
            "visibility": null,
            "align_self": null,
            "height": null,
            "min_height": null,
            "padding": null,
            "grid_auto_rows": null,
            "grid_gap": null,
            "max_width": null,
            "order": null,
            "_view_module_version": "1.2.0",
            "grid_template_areas": null,
            "object_position": null,
            "object_fit": null,
            "grid_auto_columns": null,
            "margin": null,
            "display": null,
            "left": null
          }
        }
      }
    }
  },
  "cells": [
    {
      "cell_type": "markdown",
      "metadata": {
        "id": "view-in-github",
        "colab_type": "text"
      },
      "source": [
        "<a href=\"https://colab.research.google.com/github/Naila-elh/NLP_NYT_comments/blob/master/Projet_NLP.ipynb\" target=\"_parent\"><img src=\"https://colab.research.google.com/assets/colab-badge.svg\" alt=\"Open In Colab\"/></a>"
      ]
    },
    {
      "cell_type": "markdown",
      "metadata": {
        "id": "RIRPWZuFSlcD",
        "colab_type": "text"
      },
      "source": [
        "# **Machine Learning for NLP Project : What makes a good editorialist?**"
      ]
    },
    {
      "cell_type": "markdown",
      "metadata": {
        "id": "G70ssE1yFQeN",
        "colab_type": "text"
      },
      "source": [
        "By Naïla El Haouari & Félix Pasquier"
      ]
    },
    {
      "cell_type": "markdown",
      "metadata": {
        "id": "FISz5xOxFY7Z",
        "colab_type": "text"
      },
      "source": [
        "*April, 12th 2020*"
      ]
    },
    {
      "cell_type": "markdown",
      "metadata": {
        "id": "aW5QEhuAFfl9",
        "colab_type": "text"
      },
      "source": [
        "# Introduction"
      ]
    },
    {
      "cell_type": "markdown",
      "metadata": {
        "id": "ytnAPoojSvvx",
        "colab_type": "text"
      },
      "source": [
        "Nowadays, being a journalist is not an easy job. With the development of the internet and the arrival of social media, the profession has to re-invent itself. Journalists have to find new ways to convey quality information while appealing to the broadest audience they can. Most importantly, their work has to be attractive to the new generations. We are particularly interested in the work of the editorialists. In democracies such as the United States or France, they are very important for the public debate. They are the ones to present the right questions in relation to current national or global issues. \n",
        "\n",
        "As a consequence, our goal in this project consists in finding what makes a “good” editorialist. We will try to detect the “good” editorialists, that really contribute to the public debate, from the “bad” ones. \n",
        "\n",
        "To do this, we analyze the comments people left after reading the work of the New York Times editorialists. The New York Times plays a prominent role in shaping people's opinion and outlook on current affairs and also in setting the tone of the public discourse, especially in the USA. We will use the New York Times (NYT) comments database (https://www.kaggle.com/aashita/nyt-comments#CommentsApril2017.csv), which contains 9,000 articles from which we have information about their author and all the comments related to them. We will also use the Twitter US Airlines Sentiment Database (https://www.kaggle.com/crowdflower/twitter-airline-sentiment) as a way to train our models, since it has a similar classification as ours.\n"
      ]
    },
    {
      "cell_type": "markdown",
      "metadata": {
        "id": "bVENrYrNUGXh",
        "colab_type": "text"
      },
      "source": [
        "# 1. The Data "
      ]
    },
    {
      "cell_type": "code",
      "metadata": {
        "id": "PtdBptIzQulA",
        "colab_type": "code",
        "outputId": "6a9f4203-7238-4254-fd68-248d4333d8e9",
        "colab": {
          "base_uri": "https://localhost:8080/",
          "height": 122
        }
      },
      "source": [
        "from google.colab import drive \n",
        "drive.mount('/content/gdrive')"
      ],
      "execution_count": 0,
      "outputs": [
        {
          "output_type": "stream",
          "text": [
            "Go to this URL in a browser: https://accounts.google.com/o/oauth2/auth?client_id=947318989803-6bn6qk8qdgf4n4g3pfee6491hc0brc4i.apps.googleusercontent.com&redirect_uri=urn%3aietf%3awg%3aoauth%3a2.0%3aoob&response_type=code&scope=email%20https%3a%2f%2fwww.googleapis.com%2fauth%2fdocs.test%20https%3a%2f%2fwww.googleapis.com%2fauth%2fdrive%20https%3a%2f%2fwww.googleapis.com%2fauth%2fdrive.photos.readonly%20https%3a%2f%2fwww.googleapis.com%2fauth%2fpeopleapi.readonly\n",
            "\n",
            "Enter your authorization code:\n",
            "··········\n",
            "Mounted at /content/gdrive\n"
          ],
          "name": "stdout"
        }
      ]
    },
    {
      "cell_type": "markdown",
      "metadata": {
        "id": "GdJCS5WO072z",
        "colab_type": "text"
      },
      "source": [
        "The NYT data contains information about the comments made on the articles published in New York Times in Jan-May 2017 and Jan-April 2018. The month-wise data is given in two csv files - one each for the articles on which comments were made and for the comments themselves. The csv files for comments contain over 2 million comments in total with 34 features and those for articles contain 16 features about more than 9,000 articles.\n",
        "\n",
        "We restrict our attention to editorialists. In other words, we only took the articles that were labelled as \"OpEd\" or \"Editorial\", with their corresponding comments. In addition, we focus on the editorialists who wrote at least 10 articles during this period.\n",
        "\n",
        "Our goal consists in having some indicators about the editorialists' writing : how effective are their articles in providing food for thoughts? Are people happy/unhappy with their answers?  \n",
        "\n",
        "It is very difficult to analyze each comment specifically. Indeed, a reader can express a positive sentiment over the editorialist's writing and/or opinions. However, they can express negative sentiment over the topic of the article. Here is an example :\n",
        "\n",
        "\"Sykes and his foolishness would be funny if it weren't so pathetic.\n",
        "Do the republicans and their supporters who spew and  buy into this nonsense understand exactly how howlingly ridiculous they make themselves?\n",
        "Mr. Kristof is right; they are on the wrong side of history. not only are women increasingly able to define themselves without benefit of their judgments, more and more men like mr. kristof are not only unthreatened by that, they support it.\n",
        "Republicans, stop this foolishness and join the 21st century.\"\n",
        "\n",
        "The person who wrote this comment clearly has a positive sentiment over the Mr. Kristof's work, yet expresses a negative sentiment about Mr. Sykes' speech, which was the topic of the article.\n",
        "\n",
        "To deal with this issue, we decided to only focus on the sentences where the first name and/or last name of the editorialist were mentionned. We decided to remove all the articles written by \"the editorial board\", as we couldn't know precisely who wrote the articles. In addition, only a very tiny percentage of the comments referred directly to the \"board\". This left us with 78,962 comments. The code to create such database is in the appendix\n",
        "\n",
        "In this project, we compute several indicators that we will use to assess the editorialists :\n",
        "- the average number of comments an editorialist has by article;\n",
        "- the average share of positive, negative comments each editorialist receives.  "
      ]
    },
    {
      "cell_type": "markdown",
      "metadata": {
        "id": "GVZyPUh4Buqd",
        "colab_type": "text"
      },
      "source": [
        "## 1.1. Creation of a subset of the dataset"
      ]
    },
    {
      "cell_type": "code",
      "metadata": {
        "id": "5VsJo6RXc7QQ",
        "colab_type": "code",
        "outputId": "995a5f6a-c129-428f-a363-dadf7a47ad3c",
        "colab": {
          "base_uri": "https://localhost:8080/",
          "height": 207
        }
      },
      "source": [
        "# Downloading the database\n",
        "import pandas as pd\n",
        "import glob, os    \n",
        "\n",
        "articles = pd.concat(map(pd.read_csv, glob.glob(os.path.join('/content/gdrive/My Drive/Colab Notebooks/nyt_articles/', \"*.csv\"))))\n",
        "comments = pd.concat(map(pd.read_csv, glob.glob(os.path.join('/content/gdrive/My Drive/Colab Notebooks/nyt_comments/', \"*.csv\"))))"
      ],
      "execution_count": 0,
      "outputs": [
        {
          "output_type": "stream",
          "text": [
            "/usr/local/lib/python3.6/dist-packages/IPython/core/interactiveshell.py:2882: DtypeWarning: Columns (32) have mixed types.Specify dtype option on import or set low_memory=False.\n",
            "  exec(code_obj, self.user_global_ns, self.user_ns)\n",
            "/usr/local/lib/python3.6/dist-packages/IPython/core/interactiveshell.py:2882: DtypeWarning: Columns (32,33) have mixed types.Specify dtype option on import or set low_memory=False.\n",
            "  exec(code_obj, self.user_global_ns, self.user_ns)\n",
            "/usr/local/lib/python3.6/dist-packages/IPython/core/interactiveshell.py:2882: DtypeWarning: Columns (14,15,31) have mixed types.Specify dtype option on import or set low_memory=False.\n",
            "  exec(code_obj, self.user_global_ns, self.user_ns)\n",
            "/usr/local/lib/python3.6/dist-packages/IPython/core/interactiveshell.py:2882: DtypeWarning: Columns (25,26) have mixed types.Specify dtype option on import or set low_memory=False.\n",
            "  exec(code_obj, self.user_global_ns, self.user_ns)\n",
            "/usr/local/lib/python3.6/dist-packages/IPython/core/interactiveshell.py:2882: DtypeWarning: Columns (14,15,31,32) have mixed types.Specify dtype option on import or set low_memory=False.\n",
            "  exec(code_obj, self.user_global_ns, self.user_ns)\n"
          ],
          "name": "stderr"
        }
      ]
    },
    {
      "cell_type": "code",
      "metadata": {
        "id": "Cg0NhfOec9hg",
        "colab_type": "code",
        "colab": {}
      },
      "source": [
        "comments = comments.reset_index(drop=True)\n",
        "articles = articles.reset_index(drop=True)"
      ],
      "execution_count": 0,
      "outputs": []
    },
    {
      "cell_type": "code",
      "metadata": {
        "id": "lD72SVIgBtKm",
        "colab_type": "code",
        "colab": {}
      },
      "source": [
        "import re"
      ],
      "execution_count": 0,
      "outputs": []
    },
    {
      "cell_type": "code",
      "metadata": {
        "id": "w9jnFNmoB6hI",
        "colab_type": "code",
        "outputId": "2c76036c-f19e-4b7b-def0-b8e84dd89772",
        "colab": {
          "base_uri": "https://localhost:8080/",
          "height": 34
        }
      },
      "source": [
        "# Keep articles OpEd and Editorial\n",
        "articles = articles[articles['typeOfMaterial'].isin(['Op-Ed', 'Editorial'])]\n",
        "len(articles)"
      ],
      "execution_count": 0,
      "outputs": [
        {
          "output_type": "execute_result",
          "data": {
            "text/plain": [
              "1995"
            ]
          },
          "metadata": {
            "tags": []
          },
          "execution_count": 5
        }
      ]
    },
    {
      "cell_type": "code",
      "metadata": {
        "id": "Q5_HqQOhB63I",
        "colab_type": "code",
        "outputId": "85e0b3b9-38d6-4cd9-844c-16be851b09a7",
        "colab": {
          "base_uri": "https://localhost:8080/",
          "height": 34
        }
      },
      "source": [
        "# Cleaning articles author name\n",
        "\n",
        "# duplicate articles if several authors\n",
        "authors = articles['byline'].str.split(',|and|with', expand=True).add_prefix('author_')\n",
        "\n",
        "# remove everything before \"by, BY, By\" (interviewed by, etc.)\n",
        "for col in authors.columns :\n",
        "    authors.loc[~authors[col].isna(), col] = authors.loc[~authors[col].isna(), col].apply(lambda x: re.sub(r'.*(by|BY|By)', '', x).strip())\n",
        "\n",
        "# merge to have article id\n",
        "authors = pd.merge(authors, articles[['articleID']], left_index=True, right_index=True)\n",
        "\n",
        "# stack df to have a df with one article-one author per row\n",
        "authors = authors.set_index(['articleID']).stack().reset_index(level=-1, drop=True).reset_index(name='author')\n",
        "\n",
        "# manually remove authors which are not real : \"M.D\" (which is a title), \"Unknown\"\n",
        "authors = authors[~authors['author'].isin(['M.D', 'Unknown'])]\n",
        "\n",
        "# keep authors who wrote 10 or more articles\n",
        "authors_list = authors['author'].value_counts()[authors['author'].value_counts()>=10].index\n",
        "authors = authors[authors['author'].isin(authors_list)]\n",
        "\n",
        "len(authors['author'].unique())"
      ],
      "execution_count": 0,
      "outputs": [
        {
          "output_type": "execute_result",
          "data": {
            "text/plain": [
              "22"
            ]
          },
          "metadata": {
            "tags": []
          },
          "execution_count": 6
        }
      ]
    },
    {
      "cell_type": "code",
      "metadata": {
        "id": "AXy1q64TB60L",
        "colab_type": "code",
        "outputId": "63040296-6289-4f23-ea6a-7ca0040a54e8",
        "colab": {
          "base_uri": "https://localhost:8080/",
          "height": 34
        }
      },
      "source": [
        "# In the comments database, we keep only comments from the authors we kept, using the \"articleID\" variable.\n",
        "comments = comments[comments['articleID'].isin(authors['articleID'].unique())]\n",
        "\n",
        "# We also only keep comments that are not an answer to another comment\n",
        "comments = comments.loc[comments['commentType']=='comment']\n",
        "\n",
        "# Joining comments and authors\n",
        "comments = comments.join(authors.set_index('articleID'), on='articleID')[['articleID','commentBody','commentID','author']]\n",
        "comments = comments.drop_duplicates(subset=['commentID','author'], keep='first')\n",
        "\n",
        "# We also remove the author \"The Editorial Board\" : we cannot consider them as an identified journalist\n",
        "test_set = comments.loc[comments['author']!='THE EDITORIAL BOARD']\n",
        "len(test_set)"
      ],
      "execution_count": 0,
      "outputs": [
        {
          "output_type": "execute_result",
          "data": {
            "text/plain": [
              "388189"
            ]
          },
          "metadata": {
            "tags": []
          },
          "execution_count": 7
        }
      ]
    },
    {
      "cell_type": "markdown",
      "metadata": {
        "id": "cX7hC9qVCdPZ",
        "colab_type": "text"
      },
      "source": [
        "## 1.2. Tokenization of authors names"
      ]
    },
    {
      "cell_type": "markdown",
      "metadata": {
        "id": "T8vXVB0vCuIi",
        "colab_type": "text"
      },
      "source": [
        "We want to tokenize the authors names to make it more easier to then select the sentences that contain the author's name"
      ]
    },
    {
      "cell_type": "code",
      "metadata": {
        "id": "6T5oV0YYB6en",
        "colab_type": "code",
        "outputId": "1257389b-6409-492a-f76f-456e030fd52d",
        "colab": {
          "base_uri": "https://localhost:8080/",
          "height": 357
        }
      },
      "source": [
        "import nltk\n",
        "nltk.download('punkt')\n",
        "\n",
        "# lower the comments and authors names\n",
        "test_set['commentBody'] = test_set['commentBody'].str.lower()\n",
        "test_set['author'] = test_set['author'].str.lower()\n",
        "\n",
        "# tokenize\n",
        "test_set['author_tokens'] = test_set['author'].apply(nltk.word_tokenize)"
      ],
      "execution_count": 0,
      "outputs": [
        {
          "output_type": "stream",
          "text": [
            "[nltk_data] Downloading package punkt to /root/nltk_data...\n",
            "[nltk_data]   Unzipping tokenizers/punkt.zip.\n"
          ],
          "name": "stdout"
        },
        {
          "output_type": "stream",
          "text": [
            "/usr/local/lib/python3.6/dist-packages/ipykernel_launcher.py:5: SettingWithCopyWarning: \n",
            "A value is trying to be set on a copy of a slice from a DataFrame.\n",
            "Try using .loc[row_indexer,col_indexer] = value instead\n",
            "\n",
            "See the caveats in the documentation: https://pandas.pydata.org/pandas-docs/stable/user_guide/indexing.html#returning-a-view-versus-a-copy\n",
            "  \"\"\"\n",
            "/usr/local/lib/python3.6/dist-packages/ipykernel_launcher.py:6: SettingWithCopyWarning: \n",
            "A value is trying to be set on a copy of a slice from a DataFrame.\n",
            "Try using .loc[row_indexer,col_indexer] = value instead\n",
            "\n",
            "See the caveats in the documentation: https://pandas.pydata.org/pandas-docs/stable/user_guide/indexing.html#returning-a-view-versus-a-copy\n",
            "  \n",
            "/usr/local/lib/python3.6/dist-packages/ipykernel_launcher.py:9: SettingWithCopyWarning: \n",
            "A value is trying to be set on a copy of a slice from a DataFrame.\n",
            "Try using .loc[row_indexer,col_indexer] = value instead\n",
            "\n",
            "See the caveats in the documentation: https://pandas.pydata.org/pandas-docs/stable/user_guide/indexing.html#returning-a-view-versus-a-copy\n",
            "  if __name__ == '__main__':\n"
          ],
          "name": "stderr"
        }
      ]
    },
    {
      "cell_type": "code",
      "metadata": {
        "id": "PtL6jjrvCoFD",
        "colab_type": "code",
        "outputId": "121a4c20-1fac-4fc5-97d9-53d6e0b84fe8",
        "colab": {
          "base_uri": "https://localhost:8080/",
          "height": 221
        }
      },
      "source": [
        "# Remove \"m.\", \"l.\", etc, that are \"second names\"\n",
        "def clean_authors_names(author_token):\n",
        "    issues = \"\".join([x for x in author_token if len(x)==2])\n",
        "    if issues!=\"\":\n",
        "        author_token.remove(issues)\n",
        "    else :\n",
        "        pass\n",
        "test_set['author_tokens'].apply(lambda x: clean_authors_names(x))"
      ],
      "execution_count": 0,
      "outputs": [
        {
          "output_type": "execute_result",
          "data": {
            "text/plain": [
              "0          None\n",
              "1          None\n",
              "2          None\n",
              "3          None\n",
              "4          None\n",
              "           ... \n",
              "2100204    None\n",
              "2100205    None\n",
              "2100206    None\n",
              "2100207    None\n",
              "2100208    None\n",
              "Name: author_tokens, Length: 388189, dtype: object"
            ]
          },
          "metadata": {
            "tags": []
          },
          "execution_count": 9
        }
      ]
    },
    {
      "cell_type": "code",
      "metadata": {
        "id": "zmIeK93ZCoCr",
        "colab_type": "code",
        "outputId": "45a41ecf-70c4-4c60-fd8d-d6a5bb8a150c",
        "colab": {
          "base_uri": "https://localhost:8080/",
          "height": 119
        }
      },
      "source": [
        "# We select the comments that contain the author's name\n",
        "test_set['ref_author'] = test_set.apply(lambda x: any(i in x.commentBody for i in x.author_tokens), axis=1)\n",
        "test_set['ref_author'].value_counts()\n",
        "test_set = test_set.loc[test_set['ref_author']==True].reset_index(drop=True).reset_index()"
      ],
      "execution_count": 0,
      "outputs": [
        {
          "output_type": "stream",
          "text": [
            "/usr/local/lib/python3.6/dist-packages/ipykernel_launcher.py:1: SettingWithCopyWarning: \n",
            "A value is trying to be set on a copy of a slice from a DataFrame.\n",
            "Try using .loc[row_indexer,col_indexer] = value instead\n",
            "\n",
            "See the caveats in the documentation: https://pandas.pydata.org/pandas-docs/stable/user_guide/indexing.html#returning-a-view-versus-a-copy\n",
            "  \"\"\"Entry point for launching an IPython kernel.\n"
          ],
          "name": "stderr"
        }
      ]
    },
    {
      "cell_type": "markdown",
      "metadata": {
        "id": "RStlCZlbdMyp",
        "colab_type": "text"
      },
      "source": [
        "## 1.3. Extraction of the sentences that contain the journalist's name"
      ]
    },
    {
      "cell_type": "markdown",
      "metadata": {
        "id": "cu8btH70dXtn",
        "colab_type": "text"
      },
      "source": [
        "We will only keep the sentences that contain the journalist's name. This way, the model will capture the sentiments towards the journalist, and not the general sentiment about the article topic."
      ]
    },
    {
      "cell_type": "code",
      "metadata": {
        "id": "4tgvrfk_CoAc",
        "colab_type": "code",
        "colab": {}
      },
      "source": [
        "def extract_sentence(i):\n",
        "    row=test_set.loc[test_set.index==i]\n",
        "    sentences=[]\n",
        "    for author_name in row['author_tokens'][i] :\n",
        "        if author_name in row['commentBody'][i]:\n",
        "            sentences.extend(re.findall(r\"(?:(?![.?]).|m\\.|mr\\.|ms\\.|dr\\.|prof\\.)*\"+ \n",
        "                                        re.escape(author_name) +\n",
        "                                        r\"(?:(?![.?]).|m\\.|mr\\.|ms\\.|dr\\.|prof\\.)*[\\\"!?.]\", row['commentBody'][i]))\n",
        "    sentences = ' '.join(set(sentences))\n",
        "    sentences = re.sub('<br/>', ' ', sentences)\n",
        "    return sentences"
      ],
      "execution_count": 0,
      "outputs": []
    },
    {
      "cell_type": "code",
      "metadata": {
        "id": "his8nSQiCn-H",
        "colab_type": "code",
        "colab": {}
      },
      "source": [
        "test_set['sentences_author'] = test_set['index'].apply(lambda x: extract_sentence(x))"
      ],
      "execution_count": 0,
      "outputs": []
    },
    {
      "cell_type": "code",
      "metadata": {
        "id": "P8ORZovcCn76",
        "colab_type": "code",
        "colab": {}
      },
      "source": [
        "#from google.colab import files\n",
        "#test_set.to_csv('test_set.csv', sep=\";\") \n",
        "#files.download('test_set.csv')"
      ],
      "execution_count": 0,
      "outputs": []
    },
    {
      "cell_type": "code",
      "metadata": {
        "id": "gtousNrRB6cP",
        "colab_type": "code",
        "colab": {}
      },
      "source": [
        "# # Export of 300 comments that we will manually label -- do it only once\n",
        "# labels = test_set.sample(n=300)\n",
        "# labels.to_csv('data/test_setlabel.csv', sep=\";\")\n",
        "# labels['index'].to_csv('data/indexes_setlabel.csv', sep=';')"
      ],
      "execution_count": 0,
      "outputs": []
    },
    {
      "cell_type": "markdown",
      "metadata": {
        "id": "zbVVAFNedhN1",
        "colab_type": "text"
      },
      "source": [
        "## 1.4. Descriptive statistics"
      ]
    },
    {
      "cell_type": "markdown",
      "metadata": {
        "id": "JIpYDFWjdi06",
        "colab_type": "text"
      },
      "source": [
        "We present some descriptive statistics about the data we are working on."
      ]
    },
    {
      "cell_type": "code",
      "metadata": {
        "id": "DK-naJCMB6Zx",
        "colab_type": "code",
        "colab": {}
      },
      "source": [
        "authors_statistics = test_set.groupby('author').agg('sum').reset_index()[['author','ref_author']]\n",
        "\n",
        "# number of comments in editorials - total\n",
        "nb_comments_total = comments.groupby('author').agg('count').reset_index()[['author','articleID']].rename(columns={'articleID':'nb_comments'})\n",
        "nb_comments_total['author'] = nb_comments_total['author'].apply(lambda x: x.lower())\n",
        "\n",
        "# Number of comments by author\n",
        "authors_statistics = pd.merge(authors_statistics, nb_comments_total, on='author')\n",
        "authors_statistics['ref_author_pct'] = authors_statistics['ref_author']/authors_statistics['nb_comments']*100"
      ],
      "execution_count": 0,
      "outputs": []
    },
    {
      "cell_type": "code",
      "metadata": {
        "id": "Ex2tPteVdfFV",
        "colab_type": "code",
        "colab": {}
      },
      "source": [
        "# Number of articles\n",
        "def nb_articles(df):\n",
        "  nb_comments_articles = df.groupby(['author','articleID']).agg('count').reset_index()[['author','articleID','commentID']].rename(columns={'commentID':'nb_comments'})\n",
        "  nb_comments_articles['author'] = nb_comments_articles['author'].apply(lambda x: x.lower())\n",
        "  nb_articles = nb_comments_articles.groupby('author').agg('count').reset_index()[['author','articleID']].rename(columns={'articleID':'nb_articles'})\n",
        "  nb_comments_articles=nb_comments_articles.groupby('author').agg('mean').reset_index().rename(columns={\"nb_comments\":'nb_comments_by_article'})\n",
        "  return nb_comments_articles, nb_articles\n",
        "\n",
        "nb_comments_total, nb_articles_total = nb_articles(comments)\n",
        "nb_comments_test, nb_articles_test = nb_articles(test_set)"
      ],
      "execution_count": 0,
      "outputs": []
    },
    {
      "cell_type": "code",
      "metadata": {
        "id": "hRZTxyMzdfPm",
        "colab_type": "code",
        "outputId": "3d5e5203-330a-4625-a5fc-6d9a22adffeb",
        "colab": {
          "base_uri": "https://localhost:8080/",
          "height": 1000
        }
      },
      "source": [
        "# Database with the author's statistics\n",
        "authors_statistics = pd.merge(authors_statistics, nb_articles_total, on=\"author\").rename(columns={'nb_articles':'nb_articles_test'})\n",
        "authors_statistics = pd.merge(authors_statistics, nb_articles_total, on=\"author\").rename(columns={'nb_articles':'nb_articles_total'})\n",
        "authors_statistics['articles_pct'] = authors_statistics['nb_articles_test']/authors_statistics['nb_articles_total']*100\n",
        "\n",
        "authors_statistics = pd.merge(authors_statistics, nb_comments_test,on=\"author\").rename(columns={'nb_comments_by_article':'nb_comments_by_article_test'})\n",
        "authors_statistics = pd.merge(authors_statistics, nb_comments_total,on=\"author\").rename(columns={'nb_comments_by_article':'nb_comments_by_article_total'})\n",
        "authors_statistics['nb_comments_article_pct'] = authors_statistics['nb_comments_by_article_test']/authors_statistics['nb_comments_by_article_total']*100\n",
        "\n",
        "authors_statistics"
      ],
      "execution_count": 0,
      "outputs": [
        {
          "output_type": "execute_result",
          "data": {
            "text/html": [
              "<div>\n",
              "<style scoped>\n",
              "    .dataframe tbody tr th:only-of-type {\n",
              "        vertical-align: middle;\n",
              "    }\n",
              "\n",
              "    .dataframe tbody tr th {\n",
              "        vertical-align: top;\n",
              "    }\n",
              "\n",
              "    .dataframe thead th {\n",
              "        text-align: right;\n",
              "    }\n",
              "</style>\n",
              "<table border=\"1\" class=\"dataframe\">\n",
              "  <thead>\n",
              "    <tr style=\"text-align: right;\">\n",
              "      <th></th>\n",
              "      <th>author</th>\n",
              "      <th>ref_author</th>\n",
              "      <th>nb_comments</th>\n",
              "      <th>ref_author_pct</th>\n",
              "      <th>nb_articles_test</th>\n",
              "      <th>nb_articles_total</th>\n",
              "      <th>articles_pct</th>\n",
              "      <th>nb_comments_by_article_test</th>\n",
              "      <th>nb_comments_by_article_total</th>\n",
              "      <th>nb_comments_article_pct</th>\n",
              "    </tr>\n",
              "  </thead>\n",
              "  <tbody>\n",
              "    <tr>\n",
              "      <th>0</th>\n",
              "      <td>andrew rosenthal</td>\n",
              "      <td>170.0</td>\n",
              "      <td>3094</td>\n",
              "      <td>5.494505</td>\n",
              "      <td>10</td>\n",
              "      <td>10</td>\n",
              "      <td>100.0</td>\n",
              "      <td>18.888889</td>\n",
              "      <td>309.400000</td>\n",
              "      <td>6.105006</td>\n",
              "    </tr>\n",
              "    <tr>\n",
              "      <th>1</th>\n",
              "      <td>bret stephens</td>\n",
              "      <td>3828.0</td>\n",
              "      <td>14651</td>\n",
              "      <td>26.127909</td>\n",
              "      <td>47</td>\n",
              "      <td>47</td>\n",
              "      <td>100.0</td>\n",
              "      <td>81.446809</td>\n",
              "      <td>311.723404</td>\n",
              "      <td>26.127909</td>\n",
              "    </tr>\n",
              "    <tr>\n",
              "      <th>2</th>\n",
              "      <td>charles m. blow</td>\n",
              "      <td>8470.0</td>\n",
              "      <td>39395</td>\n",
              "      <td>21.500190</td>\n",
              "      <td>61</td>\n",
              "      <td>61</td>\n",
              "      <td>100.0</td>\n",
              "      <td>138.852459</td>\n",
              "      <td>645.819672</td>\n",
              "      <td>21.500190</td>\n",
              "    </tr>\n",
              "    <tr>\n",
              "      <th>3</th>\n",
              "      <td>david brooks</td>\n",
              "      <td>17976.0</td>\n",
              "      <td>47493</td>\n",
              "      <td>37.849788</td>\n",
              "      <td>71</td>\n",
              "      <td>71</td>\n",
              "      <td>100.0</td>\n",
              "      <td>253.183099</td>\n",
              "      <td>668.915493</td>\n",
              "      <td>37.849788</td>\n",
              "    </tr>\n",
              "    <tr>\n",
              "      <th>4</th>\n",
              "      <td>david leonhardt</td>\n",
              "      <td>1394.0</td>\n",
              "      <td>18194</td>\n",
              "      <td>7.661867</td>\n",
              "      <td>46</td>\n",
              "      <td>46</td>\n",
              "      <td>100.0</td>\n",
              "      <td>30.304348</td>\n",
              "      <td>395.521739</td>\n",
              "      <td>7.661867</td>\n",
              "    </tr>\n",
              "    <tr>\n",
              "      <th>5</th>\n",
              "      <td>evan gershkovich</td>\n",
              "      <td>23.0</td>\n",
              "      <td>743</td>\n",
              "      <td>3.095559</td>\n",
              "      <td>20</td>\n",
              "      <td>20</td>\n",
              "      <td>100.0</td>\n",
              "      <td>1.769231</td>\n",
              "      <td>37.150000</td>\n",
              "      <td>4.762398</td>\n",
              "    </tr>\n",
              "    <tr>\n",
              "      <th>6</th>\n",
              "      <td>frank bruni</td>\n",
              "      <td>5857.0</td>\n",
              "      <td>36117</td>\n",
              "      <td>16.216740</td>\n",
              "      <td>72</td>\n",
              "      <td>72</td>\n",
              "      <td>100.0</td>\n",
              "      <td>81.347222</td>\n",
              "      <td>501.625000</td>\n",
              "      <td>16.216740</td>\n",
              "    </tr>\n",
              "    <tr>\n",
              "      <th>7</th>\n",
              "      <td>gail collins</td>\n",
              "      <td>3920.0</td>\n",
              "      <td>27493</td>\n",
              "      <td>14.258175</td>\n",
              "      <td>71</td>\n",
              "      <td>71</td>\n",
              "      <td>100.0</td>\n",
              "      <td>55.211268</td>\n",
              "      <td>387.225352</td>\n",
              "      <td>14.258175</td>\n",
              "    </tr>\n",
              "    <tr>\n",
              "      <th>8</th>\n",
              "      <td>jennifer finney boylan</td>\n",
              "      <td>194.0</td>\n",
              "      <td>2347</td>\n",
              "      <td>8.265871</td>\n",
              "      <td>14</td>\n",
              "      <td>14</td>\n",
              "      <td>100.0</td>\n",
              "      <td>13.857143</td>\n",
              "      <td>167.642857</td>\n",
              "      <td>8.265871</td>\n",
              "    </tr>\n",
              "    <tr>\n",
              "      <th>9</th>\n",
              "      <td>linda greenhouse</td>\n",
              "      <td>434.0</td>\n",
              "      <td>3042</td>\n",
              "      <td>14.266930</td>\n",
              "      <td>15</td>\n",
              "      <td>15</td>\n",
              "      <td>100.0</td>\n",
              "      <td>28.933333</td>\n",
              "      <td>202.800000</td>\n",
              "      <td>14.266930</td>\n",
              "    </tr>\n",
              "    <tr>\n",
              "      <th>10</th>\n",
              "      <td>liz spayd</td>\n",
              "      <td>675.0</td>\n",
              "      <td>5264</td>\n",
              "      <td>12.822948</td>\n",
              "      <td>51</td>\n",
              "      <td>51</td>\n",
              "      <td>100.0</td>\n",
              "      <td>13.235294</td>\n",
              "      <td>103.215686</td>\n",
              "      <td>12.822948</td>\n",
              "    </tr>\n",
              "    <tr>\n",
              "      <th>11</th>\n",
              "      <td>margaret renkl</td>\n",
              "      <td>164.0</td>\n",
              "      <td>2355</td>\n",
              "      <td>6.963907</td>\n",
              "      <td>11</td>\n",
              "      <td>11</td>\n",
              "      <td>100.0</td>\n",
              "      <td>14.909091</td>\n",
              "      <td>214.090909</td>\n",
              "      <td>6.963907</td>\n",
              "    </tr>\n",
              "    <tr>\n",
              "      <th>12</th>\n",
              "      <td>maureen dowd</td>\n",
              "      <td>3253.0</td>\n",
              "      <td>13558</td>\n",
              "      <td>23.993214</td>\n",
              "      <td>27</td>\n",
              "      <td>27</td>\n",
              "      <td>100.0</td>\n",
              "      <td>120.481481</td>\n",
              "      <td>502.148148</td>\n",
              "      <td>23.993214</td>\n",
              "    </tr>\n",
              "    <tr>\n",
              "      <th>13</th>\n",
              "      <td>michelle goldberg</td>\n",
              "      <td>1148.0</td>\n",
              "      <td>13038</td>\n",
              "      <td>8.805031</td>\n",
              "      <td>34</td>\n",
              "      <td>34</td>\n",
              "      <td>100.0</td>\n",
              "      <td>33.764706</td>\n",
              "      <td>383.470588</td>\n",
              "      <td>8.805031</td>\n",
              "    </tr>\n",
              "    <tr>\n",
              "      <th>14</th>\n",
              "      <td>nicholas kristof</td>\n",
              "      <td>3702.0</td>\n",
              "      <td>27742</td>\n",
              "      <td>13.344388</td>\n",
              "      <td>70</td>\n",
              "      <td>70</td>\n",
              "      <td>100.0</td>\n",
              "      <td>52.885714</td>\n",
              "      <td>396.314286</td>\n",
              "      <td>13.344388</td>\n",
              "    </tr>\n",
              "    <tr>\n",
              "      <th>15</th>\n",
              "      <td>paul krugman</td>\n",
              "      <td>9659.0</td>\n",
              "      <td>49601</td>\n",
              "      <td>19.473398</td>\n",
              "      <td>106</td>\n",
              "      <td>106</td>\n",
              "      <td>100.0</td>\n",
              "      <td>91.122642</td>\n",
              "      <td>467.933962</td>\n",
              "      <td>19.473398</td>\n",
              "    </tr>\n",
              "    <tr>\n",
              "      <th>16</th>\n",
              "      <td>roger cohen</td>\n",
              "      <td>3042.0</td>\n",
              "      <td>17185</td>\n",
              "      <td>17.701484</td>\n",
              "      <td>58</td>\n",
              "      <td>58</td>\n",
              "      <td>100.0</td>\n",
              "      <td>53.368421</td>\n",
              "      <td>296.293103</td>\n",
              "      <td>18.012036</td>\n",
              "    </tr>\n",
              "    <tr>\n",
              "      <th>17</th>\n",
              "      <td>ross douthat</td>\n",
              "      <td>10210.0</td>\n",
              "      <td>30480</td>\n",
              "      <td>33.497375</td>\n",
              "      <td>65</td>\n",
              "      <td>65</td>\n",
              "      <td>100.0</td>\n",
              "      <td>157.076923</td>\n",
              "      <td>468.923077</td>\n",
              "      <td>33.497375</td>\n",
              "    </tr>\n",
              "    <tr>\n",
              "      <th>18</th>\n",
              "      <td>thomas b. edsall</td>\n",
              "      <td>1053.0</td>\n",
              "      <td>11455</td>\n",
              "      <td>9.192492</td>\n",
              "      <td>32</td>\n",
              "      <td>32</td>\n",
              "      <td>100.0</td>\n",
              "      <td>32.906250</td>\n",
              "      <td>357.968750</td>\n",
              "      <td>9.192492</td>\n",
              "    </tr>\n",
              "    <tr>\n",
              "      <th>19</th>\n",
              "      <td>thomas l. friedman</td>\n",
              "      <td>3201.0</td>\n",
              "      <td>16511</td>\n",
              "      <td>19.387075</td>\n",
              "      <td>37</td>\n",
              "      <td>37</td>\n",
              "      <td>100.0</td>\n",
              "      <td>86.513514</td>\n",
              "      <td>446.243243</td>\n",
              "      <td>19.387075</td>\n",
              "    </tr>\n",
              "    <tr>\n",
              "      <th>20</th>\n",
              "      <td>timothy egan</td>\n",
              "      <td>941.0</td>\n",
              "      <td>8431</td>\n",
              "      <td>11.161191</td>\n",
              "      <td>29</td>\n",
              "      <td>29</td>\n",
              "      <td>100.0</td>\n",
              "      <td>32.448276</td>\n",
              "      <td>290.724138</td>\n",
              "      <td>11.161191</td>\n",
              "    </tr>\n",
              "  </tbody>\n",
              "</table>\n",
              "</div>"
            ],
            "text/plain": [
              "                    author  ...  nb_comments_article_pct\n",
              "0         andrew rosenthal  ...                 6.105006\n",
              "1            bret stephens  ...                26.127909\n",
              "2          charles m. blow  ...                21.500190\n",
              "3             david brooks  ...                37.849788\n",
              "4          david leonhardt  ...                 7.661867\n",
              "5         evan gershkovich  ...                 4.762398\n",
              "6              frank bruni  ...                16.216740\n",
              "7             gail collins  ...                14.258175\n",
              "8   jennifer finney boylan  ...                 8.265871\n",
              "9         linda greenhouse  ...                14.266930\n",
              "10               liz spayd  ...                12.822948\n",
              "11          margaret renkl  ...                 6.963907\n",
              "12            maureen dowd  ...                23.993214\n",
              "13       michelle goldberg  ...                 8.805031\n",
              "14        nicholas kristof  ...                13.344388\n",
              "15            paul krugman  ...                19.473398\n",
              "16             roger cohen  ...                18.012036\n",
              "17            ross douthat  ...                33.497375\n",
              "18        thomas b. edsall  ...                 9.192492\n",
              "19      thomas l. friedman  ...                19.387075\n",
              "20            timothy egan  ...                11.161191\n",
              "\n",
              "[21 rows x 10 columns]"
            ]
          },
          "metadata": {
            "tags": []
          },
          "execution_count": 15
        }
      ]
    },
    {
      "cell_type": "markdown",
      "metadata": {
        "id": "ZW7VoTD6dsxf",
        "colab_type": "text"
      },
      "source": [
        "In these graphs, we compare the number of articles, number of comments, and mean of number of comments per article, for each author. We represent two bars in the barplots: one for the comments as a whole, and one for the comments containing the journalist's name. We can therefore see if some authors are more cited than others. For the stacked barplots, both bars start at the y-axis, in order to better notice the proportions."
      ]
    },
    {
      "cell_type": "code",
      "metadata": {
        "id": "9g5zbuZcdqSA",
        "colab_type": "code",
        "colab": {}
      },
      "source": [
        "import matplotlib.pyplot as plt"
      ],
      "execution_count": 0,
      "outputs": []
    },
    {
      "cell_type": "code",
      "metadata": {
        "id": "Jafn-28Pdxwq",
        "colab_type": "code",
        "outputId": "d7846554-5820-48e6-e669-55259c29f5f0",
        "colab": {
          "base_uri": "https://localhost:8080/",
          "height": 350
        }
      },
      "source": [
        "plt.figure(figsize=(10,5))\n",
        "plt.barh(authors_statistics['author'], authors_statistics['nb_articles_total'], color=(0.2, 0.4, 0.6, 0.6))\n",
        "plt.title(\"Number of articles for each journalist\")\n",
        "plt.xlabel('Number of articles')\n",
        "plt.show()"
      ],
      "execution_count": 0,
      "outputs": [
        {
          "output_type": "display_data",
          "data": {
            "image/png": "[encoded data removed]",
            "text/plain": [
              "<Figure size 720x360 with 1 Axes>"
            ]
          },
          "metadata": {
            "tags": [],
            "needs_background": "light"
          }
        }
      ]
    },
    {
      "cell_type": "code",
      "metadata": {
        "id": "_zUQuK2Odyz5",
        "colab_type": "code",
        "outputId": "f56dca6f-ae00-459c-9ba7-e3eec8ccf6c5",
        "colab": {
          "base_uri": "https://localhost:8080/",
          "height": 350
        }
      },
      "source": [
        "plt.figure(figsize=(10,5))\n",
        "plt.barh(authors_statistics['author'], authors_statistics['nb_comments'], color=(0.2, 0.4, 0.6, 0.6), label='total comments')\n",
        "plt.barh(authors_statistics['author'], authors_statistics['ref_author'], color='#7f6d5f', label=\"containing author's name\")\n",
        "\n",
        "plt.title(\"Number of comments for each author in test_set\")\n",
        "plt.xlabel('Number of comments')\n",
        "plt.legend()\n",
        "plt.show()\n",
        "\n",
        "# in proportion of all comments, some journalists are more quoted than others"
      ],
      "execution_count": 0,
      "outputs": [
        {
          "output_type": "display_data",
          "data": {
            "image/png": "[encoded data removed]",
            "text/plain": [
              "<Figure size 720x360 with 1 Axes>"
            ]
          },
          "metadata": {
            "tags": [],
            "needs_background": "light"
          }
        }
      ]
    },
    {
      "cell_type": "code",
      "metadata": {
        "id": "aNcovhbad1gu",
        "colab_type": "code",
        "outputId": "53dc79f2-fea3-4c3a-ba21-2a099c39dd75",
        "colab": {
          "base_uri": "https://localhost:8080/",
          "height": 350
        }
      },
      "source": [
        "plt.figure(figsize=(10,5))\n",
        "plt.barh(authors_statistics['author'], authors_statistics['nb_comments_by_article_total'], color=(0.2, 0.4, 0.6, 0.6), label='total comments')\n",
        "plt.barh(authors_statistics['author'], authors_statistics['nb_comments_by_article_test'], color='#7f6d5f', label=\"containing author's name\")\n",
        "\n",
        "plt.title(\"Mean of number of comments by article\")\n",
        "plt.xlabel('Mean of number of comments')\n",
        "plt.legend()\n",
        "plt.show()"
      ],
      "execution_count": 0,
      "outputs": [
        {
          "output_type": "display_data",
          "data": {
            "image/png": "[encoded data removed]",
            "text/plain": [
              "<Figure size 720x360 with 1 Axes>"
            ]
          },
          "metadata": {
            "tags": [],
            "needs_background": "light"
          }
        }
      ]
    },
    {
      "cell_type": "markdown",
      "metadata": {
        "id": "_WGVpJn30A4W",
        "colab_type": "text"
      },
      "source": [
        "It seems that David Brooks and Charles Blow are really good at triggering some reactions and fostering some debate over the issues they raise."
      ]
    },
    {
      "cell_type": "markdown",
      "metadata": {
        "id": "I-BrbLQttiTE",
        "colab_type": "text"
      },
      "source": [
        "# 2. Our Classification Model"
      ]
    },
    {
      "cell_type": "markdown",
      "metadata": {
        "id": "V92XZnIx9eIl",
        "colab_type": "text"
      },
      "source": [
        "To build our second indicator, we have to detect which comments are positive regarding the editorialist's work, which comments are negative and which comments are neural. To do so, we will build and deploy a sentiment analysis model based on BERT.\n",
        "\n",
        "However, the NYT comments are not labelled so we cannot use them directly. \n",
        "\n",
        "To overcome this, we train our model using the Twitter US Airlines Sentiment database. We chose this dataset as the tweets are labelled either \"negative\", \"positive\" or \"neutral\". This is exactly how we want to classify our comments.\n",
        "\n",
        "Then, we evaluate our model using 300 comments that we randomly selected from our previously constructed database and that we labelled ourselves."
      ]
    },
    {
      "cell_type": "markdown",
      "metadata": {
        "id": "loxoTtK4UP-T",
        "colab_type": "text"
      },
      "source": [
        "## 2.1 Installing the GPU, downloading and importing libraries\n"
      ]
    },
    {
      "cell_type": "code",
      "metadata": {
        "id": "pCtAHpwXwBlq",
        "colab_type": "code",
        "outputId": "b642f75c-78dc-419a-b2f0-504c77978709",
        "colab": {
          "base_uri": "https://localhost:8080/",
          "height": 34
        }
      },
      "source": [
        "# CHECK IF THE GPU IS INSTALLED\n",
        "\n",
        "import tensorflow as tf\n",
        "\n",
        "# Get the GPU device name.\n",
        "device_name = tf.test.gpu_device_name()\n",
        "\n",
        "# The device name should look like the following:\n",
        "if device_name == '/device:GPU:0':\n",
        "    print('Found GPU at: {}'.format(device_name))\n",
        "else:\n",
        "    raise SystemError('GPU device not found')"
      ],
      "execution_count": 0,
      "outputs": [
        {
          "output_type": "stream",
          "text": [
            "Found GPU at: /device:GPU:0\n"
          ],
          "name": "stdout"
        }
      ]
    },
    {
      "cell_type": "code",
      "metadata": {
        "id": "pqbg_RdowZFM",
        "colab_type": "code",
        "outputId": "a6eca3ba-6cf6-4456-a987-ee8631bc2bea",
        "colab": {
          "base_uri": "https://localhost:8080/",
          "height": 51
        }
      },
      "source": [
        "# Other information about the GPU\n",
        "\n",
        "import torch\n",
        "\n",
        "# If there's a GPU available...\n",
        "if torch.cuda.is_available():    \n",
        "\n",
        "    # Tell PyTorch to use the GPU.    \n",
        "    device = torch.device(\"cuda\")\n",
        "    print('There are %d GPU(s) available.' % torch.cuda.device_count())\n",
        "    print('We will use the GPU:', torch.cuda.get_device_name(0))\n",
        "\n",
        "# If not...\n",
        "else:\n",
        "    print('No GPU available, using the CPU instead.')\n",
        "    device = torch.device(\"cpu\")"
      ],
      "execution_count": 0,
      "outputs": [
        {
          "output_type": "stream",
          "text": [
            "There are 1 GPU(s) available.\n",
            "We will use the GPU: Tesla T4\n"
          ],
          "name": "stdout"
        }
      ]
    },
    {
      "cell_type": "code",
      "metadata": {
        "id": "8qZYezVrwdjU",
        "colab_type": "code",
        "outputId": "bd52c91a-0834-4975-a7e8-089b800be133",
        "colab": {
          "base_uri": "https://localhost:8080/",
          "height": 683
        }
      },
      "source": [
        "# We install the huggingface library which will give us a pytorch interface for working with BERT.\n",
        "\n",
        "!pip install transformers"
      ],
      "execution_count": 0,
      "outputs": [
        {
          "output_type": "stream",
          "text": [
            "Collecting transformers\n",
            "\u001b[?25l  Downloading https://files.pythonhosted.org/packages/a3/78/92cedda05552398352ed9784908b834ee32a0bd071a9b32de287327370b7/transformers-2.8.0-py3-none-any.whl (563kB)\n",
            "\r\u001b[K     |▋                               | 10kB 23.4MB/s eta 0:00:01\r\u001b[K     |█▏                              | 20kB 17.9MB/s eta 0:00:01\r\u001b[K     |█▊                              | 30kB 22.4MB/s eta 0:00:01\r\u001b[K     |██▎                             | 40kB 17.4MB/s eta 0:00:01\r\u001b[K     |███                             | 51kB 19.2MB/s eta 0:00:01\r\u001b[K     |███▌                            | 61kB 21.5MB/s eta 0:00:01\r\u001b[K     |████                            | 71kB 19.4MB/s eta 0:00:01\r\u001b[K     |████▋                           | 81kB 19.2MB/s eta 0:00:01\r\u001b[K     |█████▎                          | 92kB 19.2MB/s eta 0:00:01\r\u001b[K     |█████▉                          | 102kB 20.4MB/s eta 0:00:01\r\u001b[K     |██████▍                         | 112kB 20.4MB/s eta 0:00:01\r\u001b[K     |███████                         | 122kB 20.4MB/s eta 0:00:01\r\u001b[K     |███████▋                        | 133kB 20.4MB/s eta 0:00:01\r\u001b[K     |████████▏                       | 143kB 20.4MB/s eta 0:00:01\r\u001b[K     |████████▊                       | 153kB 20.4MB/s eta 0:00:01\r\u001b[K     |█████████▎                      | 163kB 20.4MB/s eta 0:00:01\r\u001b[K     |█████████▉                      | 174kB 20.4MB/s eta 0:00:01\r\u001b[K     |██████████▌                     | 184kB 20.4MB/s eta 0:00:01\r\u001b[K     |███████████                     | 194kB 20.4MB/s eta 0:00:01\r\u001b[K     |███████████▋                    | 204kB 20.4MB/s eta 0:00:01\r\u001b[K     |████████████▏                   | 215kB 20.4MB/s eta 0:00:01\r\u001b[K     |████████████▉                   | 225kB 20.4MB/s eta 0:00:01\r\u001b[K     |█████████████▍                  | 235kB 20.4MB/s eta 0:00:01\r\u001b[K     |██████████████                  | 245kB 20.4MB/s eta 0:00:01\r\u001b[K     |██████████████▌                 | 256kB 20.4MB/s eta 0:00:01\r\u001b[K     |███████████████▏                | 266kB 20.4MB/s eta 0:00:01\r\u001b[K     |███████████████▊                | 276kB 20.4MB/s eta 0:00:01\r\u001b[K     |████████████████▎               | 286kB 20.4MB/s eta 0:00:01\r\u001b[K     |████████████████▉               | 296kB 20.4MB/s eta 0:00:01\r\u001b[K     |█████████████████▍              | 307kB 20.4MB/s eta 0:00:01\r\u001b[K     |██████████████████              | 317kB 20.4MB/s eta 0:00:01\r\u001b[K     |██████████████████▋             | 327kB 20.4MB/s eta 0:00:01\r\u001b[K     |███████████████████▏            | 337kB 20.4MB/s eta 0:00:01\r\u001b[K     |███████████████████▊            | 348kB 20.4MB/s eta 0:00:01\r\u001b[K     |████████████████████▍           | 358kB 20.4MB/s eta 0:00:01\r\u001b[K     |█████████████████████           | 368kB 20.4MB/s eta 0:00:01\r\u001b[K     |█████████████████████▌          | 378kB 20.4MB/s eta 0:00:01\r\u001b[K     |██████████████████████          | 389kB 20.4MB/s eta 0:00:01\r\u001b[K     |██████████████████████▊         | 399kB 20.4MB/s eta 0:00:01\r\u001b[K     |███████████████████████▎        | 409kB 20.4MB/s eta 0:00:01\r\u001b[K     |███████████████████████▉        | 419kB 20.4MB/s eta 0:00:01\r\u001b[K     |████████████████████████▍       | 430kB 20.4MB/s eta 0:00:01\r\u001b[K     |█████████████████████████       | 440kB 20.4MB/s eta 0:00:01\r\u001b[K     |█████████████████████████▋      | 450kB 20.4MB/s eta 0:00:01\r\u001b[K     |██████████████████████████▏     | 460kB 20.4MB/s eta 0:00:01\r\u001b[K     |██████████████████████████▊     | 471kB 20.4MB/s eta 0:00:01\r\u001b[K     |███████████████████████████▎    | 481kB 20.4MB/s eta 0:00:01\r\u001b[K     |████████████████████████████    | 491kB 20.4MB/s eta 0:00:01\r\u001b[K     |████████████████████████████▌   | 501kB 20.4MB/s eta 0:00:01\r\u001b[K     |█████████████████████████████   | 512kB 20.4MB/s eta 0:00:01\r\u001b[K     |█████████████████████████████▋  | 522kB 20.4MB/s eta 0:00:01\r\u001b[K     |██████████████████████████████▎ | 532kB 20.4MB/s eta 0:00:01\r\u001b[K     |██████████████████████████████▉ | 542kB 20.4MB/s eta 0:00:01\r\u001b[K     |███████████████████████████████▍| 552kB 20.4MB/s eta 0:00:01\r\u001b[K     |████████████████████████████████| 563kB 20.4MB/s eta 0:00:01\r\u001b[K     |████████████████████████████████| 573kB 20.4MB/s \n",
            "\u001b[?25hRequirement already satisfied: boto3 in /usr/local/lib/python3.6/dist-packages (from transformers) (1.12.38)\n",
            "Requirement already satisfied: regex!=2019.12.17 in /usr/local/lib/python3.6/dist-packages (from transformers) (2019.12.20)\n",
            "Requirement already satisfied: filelock in /usr/local/lib/python3.6/dist-packages (from transformers) (3.0.12)\n",
            "Requirement already satisfied: tqdm>=4.27 in /usr/local/lib/python3.6/dist-packages (from transformers) (4.38.0)\n",
            "Collecting sacremoses\n",
            "\u001b[?25l  Downloading https://files.pythonhosted.org/packages/a6/b4/7a41d630547a4afd58143597d5a49e07bfd4c42914d8335b2a5657efc14b/sacremoses-0.0.38.tar.gz (860kB)\n",
            "\u001b[K     |████████████████████████████████| 870kB 46.8MB/s \n",
            "\u001b[?25hRequirement already satisfied: dataclasses; python_version < \"3.7\" in /usr/local/lib/python3.6/dist-packages (from transformers) (0.7)\n",
            "Collecting sentencepiece\n",
            "\u001b[?25l  Downloading https://files.pythonhosted.org/packages/74/f4/2d5214cbf13d06e7cb2c20d84115ca25b53ea76fa1f0ade0e3c9749de214/sentencepiece-0.1.85-cp36-cp36m-manylinux1_x86_64.whl (1.0MB)\n",
            "\u001b[K     |████████████████████████████████| 1.0MB 50.3MB/s \n",
            "\u001b[?25hRequirement already satisfied: numpy in /usr/local/lib/python3.6/dist-packages (from transformers) (1.18.2)\n",
            "Collecting tokenizers==0.5.2\n",
            "\u001b[?25l  Downloading https://files.pythonhosted.org/packages/d1/3f/73c881ea4723e43c1e9acf317cf407fab3a278daab3a69c98dcac511c04f/tokenizers-0.5.2-cp36-cp36m-manylinux1_x86_64.whl (3.7MB)\n",
            "\u001b[K     |████████████████████████████████| 3.7MB 48.8MB/s \n",
            "\u001b[?25hRequirement already satisfied: requests in /usr/local/lib/python3.6/dist-packages (from transformers) (2.21.0)\n",
            "Requirement already satisfied: s3transfer<0.4.0,>=0.3.0 in /usr/local/lib/python3.6/dist-packages (from boto3->transformers) (0.3.3)\n",
            "Requirement already satisfied: botocore<1.16.0,>=1.15.38 in /usr/local/lib/python3.6/dist-packages (from boto3->transformers) (1.15.38)\n",
            "Requirement already satisfied: jmespath<1.0.0,>=0.7.1 in /usr/local/lib/python3.6/dist-packages (from boto3->transformers) (0.9.5)\n",
            "Requirement already satisfied: six in /usr/local/lib/python3.6/dist-packages (from sacremoses->transformers) (1.12.0)\n",
            "Requirement already satisfied: click in /usr/local/lib/python3.6/dist-packages (from sacremoses->transformers) (7.1.1)\n",
            "Requirement already satisfied: joblib in /usr/local/lib/python3.6/dist-packages (from sacremoses->transformers) (0.14.1)\n",
            "Requirement already satisfied: certifi>=2017.4.17 in /usr/local/lib/python3.6/dist-packages (from requests->transformers) (2020.4.5.1)\n",
            "Requirement already satisfied: urllib3<1.25,>=1.21.1 in /usr/local/lib/python3.6/dist-packages (from requests->transformers) (1.24.3)\n",
            "Requirement already satisfied: idna<2.9,>=2.5 in /usr/local/lib/python3.6/dist-packages (from requests->transformers) (2.8)\n",
            "Requirement already satisfied: chardet<3.1.0,>=3.0.2 in /usr/local/lib/python3.6/dist-packages (from requests->transformers) (3.0.4)\n",
            "Requirement already satisfied: docutils<0.16,>=0.10 in /usr/local/lib/python3.6/dist-packages (from botocore<1.16.0,>=1.15.38->boto3->transformers) (0.15.2)\n",
            "Requirement already satisfied: python-dateutil<3.0.0,>=2.1 in /usr/local/lib/python3.6/dist-packages (from botocore<1.16.0,>=1.15.38->boto3->transformers) (2.8.1)\n",
            "Building wheels for collected packages: sacremoses\n",
            "  Building wheel for sacremoses (setup.py) ... \u001b[?25l\u001b[?25hdone\n",
            "  Created wheel for sacremoses: filename=sacremoses-0.0.38-cp36-none-any.whl size=884628 sha256=fe99cb504414248d1ed551d773ef122ceacbee70b5f2c07f2078ee2db8b4e1ba\n",
            "  Stored in directory: /root/.cache/pip/wheels/6d/ec/1a/21b8912e35e02741306f35f66c785f3afe94de754a0eaf1422\n",
            "Successfully built sacremoses\n",
            "Installing collected packages: sacremoses, sentencepiece, tokenizers, transformers\n",
            "Successfully installed sacremoses-0.0.38 sentencepiece-0.1.85 tokenizers-0.5.2 transformers-2.8.0\n"
          ],
          "name": "stdout"
        }
      ]
    },
    {
      "cell_type": "code",
      "metadata": {
        "id": "a_ZOT43gXtQ6",
        "colab_type": "code",
        "colab": {}
      },
      "source": [
        "# We import all the libraries\n",
        "\n",
        "import pandas as pd\n",
        "import re\n",
        "import random\n",
        "import numpy as np"
      ],
      "execution_count": 0,
      "outputs": []
    },
    {
      "cell_type": "markdown",
      "metadata": {
        "id": "tnyJRbEJXsdq",
        "colab_type": "text"
      },
      "source": [
        "## 2.2 The Twitter US Airlines Sentiment Analysis Database"
      ]
    },
    {
      "cell_type": "markdown",
      "metadata": {
        "id": "GuRp-KYfEkkJ",
        "colab_type": "text"
      },
      "source": [
        "We use pandas to parse the \"in-domain\" training database and look at a few of its properties and data points."
      ]
    },
    {
      "cell_type": "code",
      "metadata": {
        "id": "vg4IQH55wlk5",
        "colab_type": "code",
        "outputId": "9226ee9f-9aa7-4a23-f135-d8cccf5bcc04",
        "colab": {
          "base_uri": "https://localhost:8080/",
          "height": 204
        }
      },
      "source": [
        "! wget -O tweets.csv https://raw.githubusercontent.com/gguibon/gguibon.github.io/master/Tweets.csv"
      ],
      "execution_count": 0,
      "outputs": [
        {
          "output_type": "stream",
          "text": [
            "--2020-04-12 22:52:16--  https://raw.githubusercontent.com/gguibon/gguibon.github.io/master/Tweets.csv\n",
            "Resolving raw.githubusercontent.com (raw.githubusercontent.com)... 151.101.0.133, 151.101.64.133, 151.101.128.133, ...\n",
            "Connecting to raw.githubusercontent.com (raw.githubusercontent.com)|151.101.0.133|:443... connected.\n",
            "HTTP request sent, awaiting response... 200 OK\n",
            "Length: 3421431 (3.3M) [text/plain]\n",
            "Saving to: ‘tweets.csv’\n",
            "\n",
            "tweets.csv          100%[===================>]   3.26M  --.-KB/s    in 0.03s   \n",
            "\n",
            "2020-04-12 22:52:17 (109 MB/s) - ‘tweets.csv’ saved [3421431/3421431]\n",
            "\n"
          ],
          "name": "stdout"
        }
      ]
    },
    {
      "cell_type": "code",
      "metadata": {
        "id": "8ry9IKnJwn47",
        "colab_type": "code",
        "colab": {}
      },
      "source": [
        "dfTweets = pd.read_csv('tweets.csv')"
      ],
      "execution_count": 0,
      "outputs": []
    },
    {
      "cell_type": "code",
      "metadata": {
        "id": "BCDd_Xm5wvkX",
        "colab_type": "code",
        "outputId": "cdec9585-93ca-4493-8b00-51267d8764f1",
        "colab": {
          "base_uri": "https://localhost:8080/",
          "height": 923
        }
      },
      "source": [
        "# Some descriptive statistics\n",
        "print('Number of tweets: {:,}\\n'.format(dfTweets.shape[0]))\n",
        "\n",
        "# Display 10 random rows from the data.\n",
        "dfTweets.sample(10)"
      ],
      "execution_count": 0,
      "outputs": [
        {
          "output_type": "stream",
          "text": [
            "Number of tweets: 14,640\n",
            "\n"
          ],
          "name": "stdout"
        },
        {
          "output_type": "execute_result",
          "data": {
            "text/html": [
              "<div>\n",
              "<style scoped>\n",
              "    .dataframe tbody tr th:only-of-type {\n",
              "        vertical-align: middle;\n",
              "    }\n",
              "\n",
              "    .dataframe tbody tr th {\n",
              "        vertical-align: top;\n",
              "    }\n",
              "\n",
              "    .dataframe thead th {\n",
              "        text-align: right;\n",
              "    }\n",
              "</style>\n",
              "<table border=\"1\" class=\"dataframe\">\n",
              "  <thead>\n",
              "    <tr style=\"text-align: right;\">\n",
              "      <th></th>\n",
              "      <th>tweet_id</th>\n",
              "      <th>airline_sentiment</th>\n",
              "      <th>airline_sentiment_confidence</th>\n",
              "      <th>negativereason</th>\n",
              "      <th>negativereason_confidence</th>\n",
              "      <th>airline</th>\n",
              "      <th>airline_sentiment_gold</th>\n",
              "      <th>name</th>\n",
              "      <th>negativereason_gold</th>\n",
              "      <th>retweet_count</th>\n",
              "      <th>text</th>\n",
              "      <th>tweet_coord</th>\n",
              "      <th>tweet_created</th>\n",
              "      <th>tweet_location</th>\n",
              "      <th>user_timezone</th>\n",
              "    </tr>\n",
              "  </thead>\n",
              "  <tbody>\n",
              "    <tr>\n",
              "      <th>11457</th>\n",
              "      <td>568104590387884032</td>\n",
              "      <td>negative</td>\n",
              "      <td>1.0000</td>\n",
              "      <td>Customer Service Issue</td>\n",
              "      <td>1.0000</td>\n",
              "      <td>US Airways</td>\n",
              "      <td>NaN</td>\n",
              "      <td>LayneHillesland</td>\n",
              "      <td>NaN</td>\n",
              "      <td>0</td>\n",
              "      <td>@USAirways Spoke on the phone 3 or 4 times, bu...</td>\n",
              "      <td>NaN</td>\n",
              "      <td>2015-02-18 09:47:43 -0800</td>\n",
              "      <td>NaN</td>\n",
              "      <td>NaN</td>\n",
              "    </tr>\n",
              "    <tr>\n",
              "      <th>3008</th>\n",
              "      <td>568801535662166016</td>\n",
              "      <td>neutral</td>\n",
              "      <td>0.6596</td>\n",
              "      <td>NaN</td>\n",
              "      <td>0.0000</td>\n",
              "      <td>United</td>\n",
              "      <td>NaN</td>\n",
              "      <td>tjny753</td>\n",
              "      <td>NaN</td>\n",
              "      <td>0</td>\n",
              "      <td>@united Based on suggestions from other passen...</td>\n",
              "      <td>NaN</td>\n",
              "      <td>2015-02-20 07:57:08 -0800</td>\n",
              "      <td>Elmira, NY</td>\n",
              "      <td>NaN</td>\n",
              "    </tr>\n",
              "    <tr>\n",
              "      <th>2297</th>\n",
              "      <td>569272738826694656</td>\n",
              "      <td>negative</td>\n",
              "      <td>1.0000</td>\n",
              "      <td>Can't Tell</td>\n",
              "      <td>0.6817</td>\n",
              "      <td>United</td>\n",
              "      <td>NaN</td>\n",
              "      <td>luko</td>\n",
              "      <td>NaN</td>\n",
              "      <td>0</td>\n",
              "      <td>@united you have a culture issue</td>\n",
              "      <td>NaN</td>\n",
              "      <td>2015-02-21 15:09:32 -0800</td>\n",
              "      <td>Pittsburgh</td>\n",
              "      <td>Quito</td>\n",
              "    </tr>\n",
              "    <tr>\n",
              "      <th>12894</th>\n",
              "      <td>569988479540695040</td>\n",
              "      <td>negative</td>\n",
              "      <td>1.0000</td>\n",
              "      <td>Customer Service Issue</td>\n",
              "      <td>0.6776</td>\n",
              "      <td>American</td>\n",
              "      <td>NaN</td>\n",
              "      <td>ekatz24</td>\n",
              "      <td>NaN</td>\n",
              "      <td>1</td>\n",
              "      <td>@AmericanAir should prob give me a refund sinc...</td>\n",
              "      <td>NaN</td>\n",
              "      <td>2015-02-23 14:33:38 -0800</td>\n",
              "      <td>NaN</td>\n",
              "      <td>Central Time (US &amp; Canada)</td>\n",
              "    </tr>\n",
              "    <tr>\n",
              "      <th>2132</th>\n",
              "      <td>569346420139905024</td>\n",
              "      <td>negative</td>\n",
              "      <td>1.0000</td>\n",
              "      <td>Customer Service Issue</td>\n",
              "      <td>1.0000</td>\n",
              "      <td>United</td>\n",
              "      <td>NaN</td>\n",
              "      <td>ambersings</td>\n",
              "      <td>NaN</td>\n",
              "      <td>0</td>\n",
              "      <td>@united Airline SUCKS! Customer Service SUCKS!...</td>\n",
              "      <td>NaN</td>\n",
              "      <td>2015-02-21 20:02:19 -0800</td>\n",
              "      <td>New York</td>\n",
              "      <td>Pacific Time (US &amp; Canada)</td>\n",
              "    </tr>\n",
              "    <tr>\n",
              "      <th>5532</th>\n",
              "      <td>568915536844759040</td>\n",
              "      <td>neutral</td>\n",
              "      <td>1.0000</td>\n",
              "      <td>NaN</td>\n",
              "      <td>NaN</td>\n",
              "      <td>Southwest</td>\n",
              "      <td>NaN</td>\n",
              "      <td>didieraur</td>\n",
              "      <td>NaN</td>\n",
              "      <td>0</td>\n",
              "      <td>@SouthwestAir tweet just popped up on my phone...</td>\n",
              "      <td>[35.12084166, -89.84738331]</td>\n",
              "      <td>2015-02-20 15:30:08 -0800</td>\n",
              "      <td>Memphis, Tennessee</td>\n",
              "      <td>Central Time (US &amp; Canada)</td>\n",
              "    </tr>\n",
              "    <tr>\n",
              "      <th>3856</th>\n",
              "      <td>568077199162658816</td>\n",
              "      <td>neutral</td>\n",
              "      <td>1.0000</td>\n",
              "      <td>NaN</td>\n",
              "      <td>NaN</td>\n",
              "      <td>United</td>\n",
              "      <td>NaN</td>\n",
              "      <td>Bevil_Sarah</td>\n",
              "      <td>NaN</td>\n",
              "      <td>1</td>\n",
              "      <td>@united can you send a personal plane to get u...</td>\n",
              "      <td>NaN</td>\n",
              "      <td>2015-02-18 07:58:53 -0800</td>\n",
              "      <td>Mill Creek HS</td>\n",
              "      <td>NaN</td>\n",
              "    </tr>\n",
              "    <tr>\n",
              "      <th>7951</th>\n",
              "      <td>568937402837786625</td>\n",
              "      <td>positive</td>\n",
              "      <td>1.0000</td>\n",
              "      <td>NaN</td>\n",
              "      <td>NaN</td>\n",
              "      <td>Delta</td>\n",
              "      <td>NaN</td>\n",
              "      <td>misschris715</td>\n",
              "      <td>NaN</td>\n",
              "      <td>0</td>\n",
              "      <td>@JetBlue yes! Terra blue chips were my favorit...</td>\n",
              "      <td>NaN</td>\n",
              "      <td>2015-02-20 16:57:01 -0800</td>\n",
              "      <td>los angeles, ca</td>\n",
              "      <td>Pacific Time (US &amp; Canada)</td>\n",
              "    </tr>\n",
              "    <tr>\n",
              "      <th>632</th>\n",
              "      <td>570236138603950080</td>\n",
              "      <td>negative</td>\n",
              "      <td>0.6288</td>\n",
              "      <td>Bad Flight</td>\n",
              "      <td>0.6288</td>\n",
              "      <td>United</td>\n",
              "      <td>NaN</td>\n",
              "      <td>Evan_Flay</td>\n",
              "      <td>NaN</td>\n",
              "      <td>0</td>\n",
              "      <td>@united but it's hard to stay upset at someone...</td>\n",
              "      <td>[29.98340611, -95.33682231]</td>\n",
              "      <td>2015-02-24 06:57:44 -0800</td>\n",
              "      <td>Seattle</td>\n",
              "      <td>Pacific Time (US &amp; Canada)</td>\n",
              "    </tr>\n",
              "    <tr>\n",
              "      <th>3342</th>\n",
              "      <td>568511969335984128</td>\n",
              "      <td>negative</td>\n",
              "      <td>1.0000</td>\n",
              "      <td>Flight Attendant Complaints</td>\n",
              "      <td>0.6559</td>\n",
              "      <td>United</td>\n",
              "      <td>NaN</td>\n",
              "      <td>Tamarabrams</td>\n",
              "      <td>NaN</td>\n",
              "      <td>0</td>\n",
              "      <td>@united Rude grouchy agent at Dulles check-in ...</td>\n",
              "      <td>NaN</td>\n",
              "      <td>2015-02-19 12:46:30 -0800</td>\n",
              "      <td>Arlington Virginia</td>\n",
              "      <td>Eastern Time (US &amp; Canada)</td>\n",
              "    </tr>\n",
              "  </tbody>\n",
              "</table>\n",
              "</div>"
            ],
            "text/plain": [
              "                 tweet_id  ...               user_timezone\n",
              "11457  568104590387884032  ...                         NaN\n",
              "3008   568801535662166016  ...                         NaN\n",
              "2297   569272738826694656  ...                       Quito\n",
              "12894  569988479540695040  ...  Central Time (US & Canada)\n",
              "2132   569346420139905024  ...  Pacific Time (US & Canada)\n",
              "5532   568915536844759040  ...  Central Time (US & Canada)\n",
              "3856   568077199162658816  ...                         NaN\n",
              "7951   568937402837786625  ...  Pacific Time (US & Canada)\n",
              "632    570236138603950080  ...  Pacific Time (US & Canada)\n",
              "3342   568511969335984128  ...  Eastern Time (US & Canada)\n",
              "\n",
              "[10 rows x 15 columns]"
            ]
          },
          "metadata": {
            "tags": []
          },
          "execution_count": 17
        }
      ]
    },
    {
      "cell_type": "markdown",
      "metadata": {
        "id": "4WYDR3-jHXW9",
        "colab_type": "text"
      },
      "source": [
        "The two variables we actually care about are the tweets and their label."
      ]
    },
    {
      "cell_type": "code",
      "metadata": {
        "id": "YOum9Gxcw5if",
        "colab_type": "code",
        "outputId": "0c43dc10-bbb6-4236-85dd-b8ac8bfd43e1",
        "colab": {
          "base_uri": "https://localhost:8080/",
          "height": 204
        }
      },
      "source": [
        "# Reshaping the data so that \n",
        "dfTweets = dfTweets[['airline_sentiment','text']]\n",
        "dfTweets.loc[:,'label'] = dfTweets.airline_sentiment.map({'negative':0,'neutral':2,'positive':1})\n",
        "dfTweets = dfTweets.drop(['airline_sentiment'], axis=1)\n",
        "dfTweets.head()"
      ],
      "execution_count": 0,
      "outputs": [
        {
          "output_type": "execute_result",
          "data": {
            "text/html": [
              "<div>\n",
              "<style scoped>\n",
              "    .dataframe tbody tr th:only-of-type {\n",
              "        vertical-align: middle;\n",
              "    }\n",
              "\n",
              "    .dataframe tbody tr th {\n",
              "        vertical-align: top;\n",
              "    }\n",
              "\n",
              "    .dataframe thead th {\n",
              "        text-align: right;\n",
              "    }\n",
              "</style>\n",
              "<table border=\"1\" class=\"dataframe\">\n",
              "  <thead>\n",
              "    <tr style=\"text-align: right;\">\n",
              "      <th></th>\n",
              "      <th>text</th>\n",
              "      <th>label</th>\n",
              "    </tr>\n",
              "  </thead>\n",
              "  <tbody>\n",
              "    <tr>\n",
              "      <th>0</th>\n",
              "      <td>@VirginAmerica What @dhepburn said.</td>\n",
              "      <td>2</td>\n",
              "    </tr>\n",
              "    <tr>\n",
              "      <th>1</th>\n",
              "      <td>@VirginAmerica plus you've added commercials t...</td>\n",
              "      <td>1</td>\n",
              "    </tr>\n",
              "    <tr>\n",
              "      <th>2</th>\n",
              "      <td>@VirginAmerica I didn't today... Must mean I n...</td>\n",
              "      <td>2</td>\n",
              "    </tr>\n",
              "    <tr>\n",
              "      <th>3</th>\n",
              "      <td>@VirginAmerica it's really aggressive to blast...</td>\n",
              "      <td>0</td>\n",
              "    </tr>\n",
              "    <tr>\n",
              "      <th>4</th>\n",
              "      <td>@VirginAmerica and it's a really big bad thing...</td>\n",
              "      <td>0</td>\n",
              "    </tr>\n",
              "  </tbody>\n",
              "</table>\n",
              "</div>"
            ],
            "text/plain": [
              "                                                text  label\n",
              "0                @VirginAmerica What @dhepburn said.      2\n",
              "1  @VirginAmerica plus you've added commercials t...      1\n",
              "2  @VirginAmerica I didn't today... Must mean I n...      2\n",
              "3  @VirginAmerica it's really aggressive to blast...      0\n",
              "4  @VirginAmerica and it's a really big bad thing...      0"
            ]
          },
          "metadata": {
            "tags": []
          },
          "execution_count": 18
        }
      ]
    },
    {
      "cell_type": "markdown",
      "metadata": {
        "id": "PmgBZrPRHj7_",
        "colab_type": "text"
      },
      "source": [
        "We pre-process tweets before using the BERT tokenizer"
      ]
    },
    {
      "cell_type": "code",
      "metadata": {
        "id": "XRmwxW9BjB6g",
        "colab_type": "code",
        "colab": {}
      },
      "source": [
        "# We pre-process the data\n",
        "\n",
        "def preprocess_tweet_1(tweet):\n",
        "\t#Preprocess the text in a single tweet\n",
        "\t#arguments: tweet = a single tweet in form of string \n",
        "\t#convert the tweet to lower case\n",
        "\ttweet.lower()\n",
        "\t#remove all urls\n",
        "\ttweet = re.sub('((www\\.[^\\s]+)|(https?://[^\\s]+))','',tweet)\n",
        "\treturn tweet\n",
        "\n",
        "def preprocess_tweet_2(tweet):\n",
        "  #correct all multiple white spaces to a single white space\n",
        "  tweet = re.sub('[\\s]+', ' ', tweet)\n",
        "  return tweet\n",
        "\n",
        "def preprocess_tweet_3(tweet):\n",
        "  #convert \"#topic\" to just \"topic\"\n",
        "  tweet = re.sub(r'#([^\\s]+)', r'\\1', tweet)\n",
        "  return tweet\n",
        "\n",
        "#def preprocess_tweet_4(tweet):\n",
        "  #replace all @username by 'USER'\n",
        "  #tweet = re.sub('@[^\\s]+','USER', tweet)\n",
        "  #return tweet"
      ],
      "execution_count": 0,
      "outputs": []
    },
    {
      "cell_type": "code",
      "metadata": {
        "id": "Ah9mRF66jErm",
        "colab_type": "code",
        "colab": {}
      },
      "source": [
        "dfTweets['text'] = dfTweets['text'].apply(preprocess_tweet_1)\n",
        "dfTweets['text'] = dfTweets['text'].apply(preprocess_tweet_2)\n",
        "dfTweets['text'] = dfTweets['text'].apply(preprocess_tweet_3)\n",
        "#dfTweets['text'] = dfTweets['text'].apply(preprocess_tweet_4)"
      ],
      "execution_count": 0,
      "outputs": []
    },
    {
      "cell_type": "code",
      "metadata": {
        "id": "KE_ABIZsz9xn",
        "colab_type": "code",
        "colab": {}
      },
      "source": [
        "# We are only interested in the sentences and their labels, in the form of lists\n",
        "sentences = dfTweets.text.values\n",
        "labels = dfTweets.label.values"
      ],
      "execution_count": 0,
      "outputs": []
    },
    {
      "cell_type": "markdown",
      "metadata": {
        "id": "--Ke-k_cRFMD",
        "colab_type": "text"
      },
      "source": [
        "## 2.3 Tokenization of the Tweets"
      ]
    },
    {
      "cell_type": "markdown",
      "metadata": {
        "id": "_qAdsW8CH1XP",
        "colab_type": "text"
      },
      "source": [
        "We transform our dataset into the format that BERT can be trained on. The text must be split into tokens. Then, these tokens must be mapped to their index in the tokenizer vocabulary.\n",
        "\n",
        "The tokenization must be performed by the tokenizer included with BERT. We use the \"uncased\" version."
      ]
    },
    {
      "cell_type": "code",
      "metadata": {
        "id": "ohizm3580Cjx",
        "colab_type": "code",
        "outputId": "e0bf0ca4-fe85-497f-c77f-76024cb7e0b2",
        "colab": {
          "base_uri": "https://localhost:8080/",
          "height": 66,
          "referenced_widgets": [
            "bd88763b61274dacb73a86fa8a83eb8c",
            "a35ddee56bf44378836434fb2b8b0bd8",
            "c32f2904297248e095cf86560d49a323",
            "57faccd9c73c462a87e40ee5d6d80b65",
            "c62415c9490e4ba6af4dd98e2f37e0f6",
            "ce26ccbf4fb04b7984556f97d36e3cfd",
            "bc5513699f5e4312acd1d465c267f5ad",
            "7c33643a98894a869ead424443d5e5ea"
          ]
        }
      },
      "source": [
        "from transformers import BertTokenizer\n",
        "\n",
        "# Load the BERT tokenizer.\n",
        "tokenizer = BertTokenizer.from_pretrained('bert-base-uncased', do_lower_case=True)"
      ],
      "execution_count": 0,
      "outputs": [
        {
          "output_type": "display_data",
          "data": {
            "application/vnd.jupyter.widget-view+json": {
              "model_id": "bd88763b61274dacb73a86fa8a83eb8c",
              "version_minor": 0,
              "version_major": 2
            },
            "text/plain": [
              "HBox(children=(IntProgress(value=0, description='Downloading', max=231508, style=ProgressStyle(description_wid…"
            ]
          },
          "metadata": {
            "tags": []
          }
        },
        {
          "output_type": "stream",
          "text": [
            "\n"
          ],
          "name": "stdout"
        }
      ]
    },
    {
      "cell_type": "code",
      "metadata": {
        "id": "ER-Pzt7f0F2L",
        "colab_type": "code",
        "outputId": "cf9af73d-7f42-4796-ec79-9eb5326d89c4",
        "colab": {
          "base_uri": "https://localhost:8080/",
          "height": 68
        }
      },
      "source": [
        "# EXAMPLE \n",
        "\n",
        "# Print the original sentence.\n",
        "print(' Original: ', sentences[0])\n",
        "\n",
        "# Print the sentence split into tokens.\n",
        "print('Tokenized: ', tokenizer.tokenize(sentences[0]))\n",
        "\n",
        "# Print the sentence mapped to token ids.\n",
        "print('Token IDs: ', tokenizer.convert_tokens_to_ids(tokenizer.tokenize(sentences[0])))"
      ],
      "execution_count": 0,
      "outputs": [
        {
          "output_type": "stream",
          "text": [
            " Original:  @VirginAmerica What @dhepburn said.\n",
            "Tokenized:  ['@', 'virgin', '##ame', '##rica', 'what', '@', 'dh', '##ep', '##burn', 'said', '.']\n",
            "Token IDs:  [1030, 6261, 14074, 14735, 2054, 1030, 28144, 13699, 8022, 2056, 1012]\n"
          ],
          "name": "stdout"
        }
      ]
    },
    {
      "cell_type": "code",
      "metadata": {
        "id": "7PpqSp0C0Nww",
        "colab_type": "code",
        "outputId": "553ca954-efb3-43fa-b355-f87ddbef7f5b",
        "colab": {
          "base_uri": "https://localhost:8080/",
          "height": 34
        }
      },
      "source": [
        "# We perform one tokenization pass of the dataset in order to measure the maximum sentence length.\n",
        "\n",
        "max_len = 0\n",
        "\n",
        "# For every sentence...\n",
        "for sent in sentences:\n",
        "\n",
        "    # Tokenize the text and add `[CLS]` and `[SEP]` tokens.\n",
        "    input_ids = tokenizer.encode(sent, add_special_tokens=True)\n",
        "\n",
        "    # Update the maximum sentence length.\n",
        "    max_len = max(max_len, len(input_ids))\n",
        "\n",
        "print('Max sentence length: ', max_len)"
      ],
      "execution_count": 0,
      "outputs": [
        {
          "output_type": "stream",
          "text": [
            "Max sentence length:  60\n"
          ],
          "name": "stdout"
        }
      ]
    },
    {
      "cell_type": "markdown",
      "metadata": {
        "id": "is8XKSMhKdUZ",
        "colab_type": "text"
      },
      "source": [
        "However, we have very long sentences in our dataset of comments. We decide to be conservative and choose to put a `max_length` of 512 in the model. Although the training will be longer, we make sure to keep all the information in the sentences."
      ]
    },
    {
      "cell_type": "markdown",
      "metadata": {
        "id": "T4riAfibONRq",
        "colab_type": "text"
      },
      "source": [
        "We will use the tokenizer.encode_plus function, that combines multiple steps in order to tokenize the text in a BERT-compatible way. encode_plus will:\n",
        "- Tokenize the sentence.\n",
        "- Prepend the [CLS] token to the start.\n",
        "- Append the [SEP] token to the end.\n",
        "- Map tokens to their IDs.\n",
        "- Pad or truncate the sentence to `max_length`\n",
        "- Create attention masks for [PAD] tokens."
      ]
    },
    {
      "cell_type": "code",
      "metadata": {
        "id": "XScVfT2G0dZX",
        "colab_type": "code",
        "outputId": "d6e5aab3-efc0-4441-e5e4-37923c95e4ed",
        "colab": {
          "base_uri": "https://localhost:8080/",
          "height": 476
        }
      },
      "source": [
        "# Tokenize all of the sentences and map the tokens to thier word IDs.\n",
        "input_ids = []\n",
        "attention_masks = []\n",
        "\n",
        "# For every sentence...\n",
        "for sent in sentences:\n",
        "    encoded_dict = tokenizer.encode_plus(\n",
        "                        sent,                      # Sentence to encode.\n",
        "                        add_special_tokens = True, # Add '[CLS]' and '[SEP]'\n",
        "                        max_length = 256,           # Pad & truncate all sentences.\n",
        "                        pad_to_max_length = True,\n",
        "                        return_attention_mask = True,   # Construct attn. masks.\n",
        "                        return_tensors = 'pt',     # Return pytorch tensors.\n",
        "                   )\n",
        "    \n",
        "    # Add the encoded sentence to the list.    \n",
        "    input_ids.append(encoded_dict['input_ids'])\n",
        "    \n",
        "    # And its attention mask (simply differentiates padding from non-padding).\n",
        "    attention_masks.append(encoded_dict['attention_mask'])\n",
        "\n",
        "# Convert the lists into tensors.\n",
        "input_ids = torch.cat(input_ids, dim=0)\n",
        "attention_masks = torch.cat(attention_masks, dim=0)\n",
        "labels = torch.tensor(labels)\n",
        "\n",
        "# Print sentence 0, now as a list of IDs.\n",
        "print('Original: ', sentences[0])\n",
        "print('Token IDs:', input_ids[0])"
      ],
      "execution_count": 0,
      "outputs": [
        {
          "output_type": "stream",
          "text": [
            "Original:  @VirginAmerica What @dhepburn said.\n",
            "Token IDs: tensor([  101,  1030,  6261, 14074, 14735,  2054,  1030, 28144, 13699,  8022,\n",
            "         2056,  1012,   102,     0,     0,     0,     0,     0,     0,     0,\n",
            "            0,     0,     0,     0,     0,     0,     0,     0,     0,     0,\n",
            "            0,     0,     0,     0,     0,     0,     0,     0,     0,     0,\n",
            "            0,     0,     0,     0,     0,     0,     0,     0,     0,     0,\n",
            "            0,     0,     0,     0,     0,     0,     0,     0,     0,     0,\n",
            "            0,     0,     0,     0,     0,     0,     0,     0,     0,     0,\n",
            "            0,     0,     0,     0,     0,     0,     0,     0,     0,     0,\n",
            "            0,     0,     0,     0,     0,     0,     0,     0,     0,     0,\n",
            "            0,     0,     0,     0,     0,     0,     0,     0,     0,     0,\n",
            "            0,     0,     0,     0,     0,     0,     0,     0,     0,     0,\n",
            "            0,     0,     0,     0,     0,     0,     0,     0,     0,     0,\n",
            "            0,     0,     0,     0,     0,     0,     0,     0,     0,     0,\n",
            "            0,     0,     0,     0,     0,     0,     0,     0,     0,     0,\n",
            "            0,     0,     0,     0,     0,     0,     0,     0,     0,     0,\n",
            "            0,     0,     0,     0,     0,     0,     0,     0,     0,     0,\n",
            "            0,     0,     0,     0,     0,     0,     0,     0,     0,     0,\n",
            "            0,     0,     0,     0,     0,     0,     0,     0,     0,     0,\n",
            "            0,     0,     0,     0,     0,     0,     0,     0,     0,     0,\n",
            "            0,     0,     0,     0,     0,     0,     0,     0,     0,     0,\n",
            "            0,     0,     0,     0,     0,     0,     0,     0,     0,     0,\n",
            "            0,     0,     0,     0,     0,     0,     0,     0,     0,     0,\n",
            "            0,     0,     0,     0,     0,     0,     0,     0,     0,     0,\n",
            "            0,     0,     0,     0,     0,     0,     0,     0,     0,     0,\n",
            "            0,     0,     0,     0,     0,     0,     0,     0,     0,     0,\n",
            "            0,     0,     0,     0,     0,     0])\n"
          ],
          "name": "stdout"
        }
      ]
    },
    {
      "cell_type": "markdown",
      "metadata": {
        "id": "JIDRyeUGRBEU",
        "colab_type": "text"
      },
      "source": [
        "Divide up our training set to use 90% for training and 10% for validation."
      ]
    },
    {
      "cell_type": "code",
      "metadata": {
        "id": "a_ACrJ6_0kDB",
        "colab_type": "code",
        "outputId": "de02f07d-d77d-43b9-ba3c-3bbd22dc92e5",
        "colab": {
          "base_uri": "https://localhost:8080/",
          "height": 51
        }
      },
      "source": [
        "from torch.utils.data import TensorDataset, random_split\n",
        "\n",
        "# Combine the training inputs into a TensorDataset.\n",
        "dataset = TensorDataset(input_ids, attention_masks, labels)\n",
        "\n",
        "# Create a 90-10 train-validation split.\n",
        "\n",
        "# Calculate the number of samples to include in each set.\n",
        "train_size = int(0.9 * len(dataset))\n",
        "val_size = len(dataset) - train_size\n",
        "\n",
        "# Divide the dataset by randomly selecting samples.\n",
        "train_dataset, val_dataset = random_split(dataset, [train_size, val_size])\n",
        "\n",
        "print('{:>5,} training samples'.format(train_size))\n",
        "print('{:>5,} validation samples'.format(val_size))"
      ],
      "execution_count": 0,
      "outputs": [
        {
          "output_type": "stream",
          "text": [
            "13,176 training samples\n",
            "1,464 validation samples\n"
          ],
          "name": "stdout"
        }
      ]
    },
    {
      "cell_type": "markdown",
      "metadata": {
        "id": "ky3ilhm_Sg7U",
        "colab_type": "text"
      },
      "source": [
        "We  create an iterator for our dataset using the torch DataLoader class"
      ]
    },
    {
      "cell_type": "code",
      "metadata": {
        "id": "OOhbsHas0qyh",
        "colab_type": "code",
        "colab": {}
      },
      "source": [
        "from torch.utils.data import DataLoader, RandomSampler, SequentialSampler\n",
        "\n",
        "# For fine-tuning BERT on a specific task, the authors recommend a batch size of 16 or 32.\n",
        "batch_size = 32\n",
        "\n",
        "# Create the DataLoaders for our training and validation sets.\n",
        "# We'll take training samples in random order. \n",
        "train_dataloader = DataLoader(\n",
        "            train_dataset,  # The training samples.\n",
        "            sampler = RandomSampler(train_dataset), # Select batches randomly\n",
        "            batch_size = batch_size # Trains with this batch size.\n",
        "        )\n",
        "\n",
        "# For validation the order doesn't matter, so we'll just read them sequentially.\n",
        "validation_dataloader = DataLoader(\n",
        "            val_dataset, # The validation samples.\n",
        "            sampler = SequentialSampler(val_dataset), # Pull out batches sequentially.\n",
        "            batch_size = batch_size # Evaluate with this batch size.\n",
        "        )"
      ],
      "execution_count": 0,
      "outputs": []
    },
    {
      "cell_type": "markdown",
      "metadata": {
        "id": "YVbPHBuaRMFJ",
        "colab_type": "text"
      },
      "source": [
        "## 2.4 Training of the Model"
      ]
    },
    {
      "cell_type": "markdown",
      "metadata": {
        "id": "J1Y5v81iTy9U",
        "colab_type": "text"
      },
      "source": [
        "We are using BertForSequenceClassification. "
      ]
    },
    {
      "cell_type": "code",
      "metadata": {
        "id": "HCMzMMIw0uKn",
        "colab_type": "code",
        "outputId": "c5e3b98f-ab95-466c-8297-7a4af8e82b79",
        "colab": {
          "base_uri": "https://localhost:8080/",
          "height": 1000,
          "referenced_widgets": [
            "aff359667a394fc5af9fff0d71d68a56",
            "cd90a6a5758440b2a5620bd0579279c2",
            "11817506f0374f938a986fa190bf9d43",
            "2b38932de7174c7d95164ce81d1232fe",
            "4675192eac0b40a489ee89877d9e2109",
            "a37683bd881b43589275747ba0844a38",
            "713b8a2a8bab4da8b915a4f9dde59120",
            "7cb8e2c91b7c450eb8c1e44425d8ad20",
            "d7f83c76d68d4ffba73c2e0d7f562732",
            "bc2ebfd774db4751bf32f26890542bcc",
            "db04a51a7eb6482f8de6ca1bb1157f57",
            "66e433c0f6ea459291bdda5bfc551f42",
            "26a6f99e84b44ea6ad22b8c7ce4bc6c5",
            "2a39678637634f2586961de1337198eb",
            "3cac9e31b1ce485289a2891336a08065",
            "92fa1a1798e849868faeaf27c5479be1"
          ]
        }
      },
      "source": [
        "from transformers import BertForSequenceClassification, AdamW, BertConfig\n",
        "\n",
        "model = BertForSequenceClassification.from_pretrained(\n",
        "    \"bert-base-uncased\", # Use the 12-layer BERT model, with an uncased vocab.\n",
        "    num_labels = 3, # The number of output labels-- 3 for us.\n",
        "    output_attentions = False, \n",
        "    output_hidden_states = False, \n",
        ")\n",
        "\n",
        "# Tell pytorch to run this model on the GPU.\n",
        "model.cuda()"
      ],
      "execution_count": 0,
      "outputs": [
        {
          "output_type": "display_data",
          "data": {
            "application/vnd.jupyter.widget-view+json": {
              "model_id": "aff359667a394fc5af9fff0d71d68a56",
              "version_minor": 0,
              "version_major": 2
            },
            "text/plain": [
              "HBox(children=(IntProgress(value=0, description='Downloading', max=361, style=ProgressStyle(description_width=…"
            ]
          },
          "metadata": {
            "tags": []
          }
        },
        {
          "output_type": "stream",
          "text": [
            "\n"
          ],
          "name": "stdout"
        },
        {
          "output_type": "display_data",
          "data": {
            "application/vnd.jupyter.widget-view+json": {
              "model_id": "d7f83c76d68d4ffba73c2e0d7f562732",
              "version_minor": 0,
              "version_major": 2
            },
            "text/plain": [
              "HBox(children=(IntProgress(value=0, description='Downloading', max=440473133, style=ProgressStyle(description_…"
            ]
          },
          "metadata": {
            "tags": []
          }
        },
        {
          "output_type": "stream",
          "text": [
            "\n"
          ],
          "name": "stdout"
        },
        {
          "output_type": "execute_result",
          "data": {
            "text/plain": [
              "BertForSequenceClassification(\n",
              "  (bert): BertModel(\n",
              "    (embeddings): BertEmbeddings(\n",
              "      (word_embeddings): Embedding(30522, 768, padding_idx=0)\n",
              "      (position_embeddings): Embedding(512, 768)\n",
              "      (token_type_embeddings): Embedding(2, 768)\n",
              "      (LayerNorm): LayerNorm((768,), eps=1e-12, elementwise_affine=True)\n",
              "      (dropout): Dropout(p=0.1, inplace=False)\n",
              "    )\n",
              "    (encoder): BertEncoder(\n",
              "      (layer): ModuleList(\n",
              "        (0): BertLayer(\n",
              "          (attention): BertAttention(\n",
              "            (self): BertSelfAttention(\n",
              "              (query): Linear(in_features=768, out_features=768, bias=True)\n",
              "              (key): Linear(in_features=768, out_features=768, bias=True)\n",
              "              (value): Linear(in_features=768, out_features=768, bias=True)\n",
              "              (dropout): Dropout(p=0.1, inplace=False)\n",
              "            )\n",
              "            (output): BertSelfOutput(\n",
              "              (dense): Linear(in_features=768, out_features=768, bias=True)\n",
              "              (LayerNorm): LayerNorm((768,), eps=1e-12, elementwise_affine=True)\n",
              "              (dropout): Dropout(p=0.1, inplace=False)\n",
              "            )\n",
              "          )\n",
              "          (intermediate): BertIntermediate(\n",
              "            (dense): Linear(in_features=768, out_features=3072, bias=True)\n",
              "          )\n",
              "          (output): BertOutput(\n",
              "            (dense): Linear(in_features=3072, out_features=768, bias=True)\n",
              "            (LayerNorm): LayerNorm((768,), eps=1e-12, elementwise_affine=True)\n",
              "            (dropout): Dropout(p=0.1, inplace=False)\n",
              "          )\n",
              "        )\n",
              "        (1): BertLayer(\n",
              "          (attention): BertAttention(\n",
              "            (self): BertSelfAttention(\n",
              "              (query): Linear(in_features=768, out_features=768, bias=True)\n",
              "              (key): Linear(in_features=768, out_features=768, bias=True)\n",
              "              (value): Linear(in_features=768, out_features=768, bias=True)\n",
              "              (dropout): Dropout(p=0.1, inplace=False)\n",
              "            )\n",
              "            (output): BertSelfOutput(\n",
              "              (dense): Linear(in_features=768, out_features=768, bias=True)\n",
              "              (LayerNorm): LayerNorm((768,), eps=1e-12, elementwise_affine=True)\n",
              "              (dropout): Dropout(p=0.1, inplace=False)\n",
              "            )\n",
              "          )\n",
              "          (intermediate): BertIntermediate(\n",
              "            (dense): Linear(in_features=768, out_features=3072, bias=True)\n",
              "          )\n",
              "          (output): BertOutput(\n",
              "            (dense): Linear(in_features=3072, out_features=768, bias=True)\n",
              "            (LayerNorm): LayerNorm((768,), eps=1e-12, elementwise_affine=True)\n",
              "            (dropout): Dropout(p=0.1, inplace=False)\n",
              "          )\n",
              "        )\n",
              "        (2): BertLayer(\n",
              "          (attention): BertAttention(\n",
              "            (self): BertSelfAttention(\n",
              "              (query): Linear(in_features=768, out_features=768, bias=True)\n",
              "              (key): Linear(in_features=768, out_features=768, bias=True)\n",
              "              (value): Linear(in_features=768, out_features=768, bias=True)\n",
              "              (dropout): Dropout(p=0.1, inplace=False)\n",
              "            )\n",
              "            (output): BertSelfOutput(\n",
              "              (dense): Linear(in_features=768, out_features=768, bias=True)\n",
              "              (LayerNorm): LayerNorm((768,), eps=1e-12, elementwise_affine=True)\n",
              "              (dropout): Dropout(p=0.1, inplace=False)\n",
              "            )\n",
              "          )\n",
              "          (intermediate): BertIntermediate(\n",
              "            (dense): Linear(in_features=768, out_features=3072, bias=True)\n",
              "          )\n",
              "          (output): BertOutput(\n",
              "            (dense): Linear(in_features=3072, out_features=768, bias=True)\n",
              "            (LayerNorm): LayerNorm((768,), eps=1e-12, elementwise_affine=True)\n",
              "            (dropout): Dropout(p=0.1, inplace=False)\n",
              "          )\n",
              "        )\n",
              "        (3): BertLayer(\n",
              "          (attention): BertAttention(\n",
              "            (self): BertSelfAttention(\n",
              "              (query): Linear(in_features=768, out_features=768, bias=True)\n",
              "              (key): Linear(in_features=768, out_features=768, bias=True)\n",
              "              (value): Linear(in_features=768, out_features=768, bias=True)\n",
              "              (dropout): Dropout(p=0.1, inplace=False)\n",
              "            )\n",
              "            (output): BertSelfOutput(\n",
              "              (dense): Linear(in_features=768, out_features=768, bias=True)\n",
              "              (LayerNorm): LayerNorm((768,), eps=1e-12, elementwise_affine=True)\n",
              "              (dropout): Dropout(p=0.1, inplace=False)\n",
              "            )\n",
              "          )\n",
              "          (intermediate): BertIntermediate(\n",
              "            (dense): Linear(in_features=768, out_features=3072, bias=True)\n",
              "          )\n",
              "          (output): BertOutput(\n",
              "            (dense): Linear(in_features=3072, out_features=768, bias=True)\n",
              "            (LayerNorm): LayerNorm((768,), eps=1e-12, elementwise_affine=True)\n",
              "            (dropout): Dropout(p=0.1, inplace=False)\n",
              "          )\n",
              "        )\n",
              "        (4): BertLayer(\n",
              "          (attention): BertAttention(\n",
              "            (self): BertSelfAttention(\n",
              "              (query): Linear(in_features=768, out_features=768, bias=True)\n",
              "              (key): Linear(in_features=768, out_features=768, bias=True)\n",
              "              (value): Linear(in_features=768, out_features=768, bias=True)\n",
              "              (dropout): Dropout(p=0.1, inplace=False)\n",
              "            )\n",
              "            (output): BertSelfOutput(\n",
              "              (dense): Linear(in_features=768, out_features=768, bias=True)\n",
              "              (LayerNorm): LayerNorm((768,), eps=1e-12, elementwise_affine=True)\n",
              "              (dropout): Dropout(p=0.1, inplace=False)\n",
              "            )\n",
              "          )\n",
              "          (intermediate): BertIntermediate(\n",
              "            (dense): Linear(in_features=768, out_features=3072, bias=True)\n",
              "          )\n",
              "          (output): BertOutput(\n",
              "            (dense): Linear(in_features=3072, out_features=768, bias=True)\n",
              "            (LayerNorm): LayerNorm((768,), eps=1e-12, elementwise_affine=True)\n",
              "            (dropout): Dropout(p=0.1, inplace=False)\n",
              "          )\n",
              "        )\n",
              "        (5): BertLayer(\n",
              "          (attention): BertAttention(\n",
              "            (self): BertSelfAttention(\n",
              "              (query): Linear(in_features=768, out_features=768, bias=True)\n",
              "              (key): Linear(in_features=768, out_features=768, bias=True)\n",
              "              (value): Linear(in_features=768, out_features=768, bias=True)\n",
              "              (dropout): Dropout(p=0.1, inplace=False)\n",
              "            )\n",
              "            (output): BertSelfOutput(\n",
              "              (dense): Linear(in_features=768, out_features=768, bias=True)\n",
              "              (LayerNorm): LayerNorm((768,), eps=1e-12, elementwise_affine=True)\n",
              "              (dropout): Dropout(p=0.1, inplace=False)\n",
              "            )\n",
              "          )\n",
              "          (intermediate): BertIntermediate(\n",
              "            (dense): Linear(in_features=768, out_features=3072, bias=True)\n",
              "          )\n",
              "          (output): BertOutput(\n",
              "            (dense): Linear(in_features=3072, out_features=768, bias=True)\n",
              "            (LayerNorm): LayerNorm((768,), eps=1e-12, elementwise_affine=True)\n",
              "            (dropout): Dropout(p=0.1, inplace=False)\n",
              "          )\n",
              "        )\n",
              "        (6): BertLayer(\n",
              "          (attention): BertAttention(\n",
              "            (self): BertSelfAttention(\n",
              "              (query): Linear(in_features=768, out_features=768, bias=True)\n",
              "              (key): Linear(in_features=768, out_features=768, bias=True)\n",
              "              (value): Linear(in_features=768, out_features=768, bias=True)\n",
              "              (dropout): Dropout(p=0.1, inplace=False)\n",
              "            )\n",
              "            (output): BertSelfOutput(\n",
              "              (dense): Linear(in_features=768, out_features=768, bias=True)\n",
              "              (LayerNorm): LayerNorm((768,), eps=1e-12, elementwise_affine=True)\n",
              "              (dropout): Dropout(p=0.1, inplace=False)\n",
              "            )\n",
              "          )\n",
              "          (intermediate): BertIntermediate(\n",
              "            (dense): Linear(in_features=768, out_features=3072, bias=True)\n",
              "          )\n",
              "          (output): BertOutput(\n",
              "            (dense): Linear(in_features=3072, out_features=768, bias=True)\n",
              "            (LayerNorm): LayerNorm((768,), eps=1e-12, elementwise_affine=True)\n",
              "            (dropout): Dropout(p=0.1, inplace=False)\n",
              "          )\n",
              "        )\n",
              "        (7): BertLayer(\n",
              "          (attention): BertAttention(\n",
              "            (self): BertSelfAttention(\n",
              "              (query): Linear(in_features=768, out_features=768, bias=True)\n",
              "              (key): Linear(in_features=768, out_features=768, bias=True)\n",
              "              (value): Linear(in_features=768, out_features=768, bias=True)\n",
              "              (dropout): Dropout(p=0.1, inplace=False)\n",
              "            )\n",
              "            (output): BertSelfOutput(\n",
              "              (dense): Linear(in_features=768, out_features=768, bias=True)\n",
              "              (LayerNorm): LayerNorm((768,), eps=1e-12, elementwise_affine=True)\n",
              "              (dropout): Dropout(p=0.1, inplace=False)\n",
              "            )\n",
              "          )\n",
              "          (intermediate): BertIntermediate(\n",
              "            (dense): Linear(in_features=768, out_features=3072, bias=True)\n",
              "          )\n",
              "          (output): BertOutput(\n",
              "            (dense): Linear(in_features=3072, out_features=768, bias=True)\n",
              "            (LayerNorm): LayerNorm((768,), eps=1e-12, elementwise_affine=True)\n",
              "            (dropout): Dropout(p=0.1, inplace=False)\n",
              "          )\n",
              "        )\n",
              "        (8): BertLayer(\n",
              "          (attention): BertAttention(\n",
              "            (self): BertSelfAttention(\n",
              "              (query): Linear(in_features=768, out_features=768, bias=True)\n",
              "              (key): Linear(in_features=768, out_features=768, bias=True)\n",
              "              (value): Linear(in_features=768, out_features=768, bias=True)\n",
              "              (dropout): Dropout(p=0.1, inplace=False)\n",
              "            )\n",
              "            (output): BertSelfOutput(\n",
              "              (dense): Linear(in_features=768, out_features=768, bias=True)\n",
              "              (LayerNorm): LayerNorm((768,), eps=1e-12, elementwise_affine=True)\n",
              "              (dropout): Dropout(p=0.1, inplace=False)\n",
              "            )\n",
              "          )\n",
              "          (intermediate): BertIntermediate(\n",
              "            (dense): Linear(in_features=768, out_features=3072, bias=True)\n",
              "          )\n",
              "          (output): BertOutput(\n",
              "            (dense): Linear(in_features=3072, out_features=768, bias=True)\n",
              "            (LayerNorm): LayerNorm((768,), eps=1e-12, elementwise_affine=True)\n",
              "            (dropout): Dropout(p=0.1, inplace=False)\n",
              "          )\n",
              "        )\n",
              "        (9): BertLayer(\n",
              "          (attention): BertAttention(\n",
              "            (self): BertSelfAttention(\n",
              "              (query): Linear(in_features=768, out_features=768, bias=True)\n",
              "              (key): Linear(in_features=768, out_features=768, bias=True)\n",
              "              (value): Linear(in_features=768, out_features=768, bias=True)\n",
              "              (dropout): Dropout(p=0.1, inplace=False)\n",
              "            )\n",
              "            (output): BertSelfOutput(\n",
              "              (dense): Linear(in_features=768, out_features=768, bias=True)\n",
              "              (LayerNorm): LayerNorm((768,), eps=1e-12, elementwise_affine=True)\n",
              "              (dropout): Dropout(p=0.1, inplace=False)\n",
              "            )\n",
              "          )\n",
              "          (intermediate): BertIntermediate(\n",
              "            (dense): Linear(in_features=768, out_features=3072, bias=True)\n",
              "          )\n",
              "          (output): BertOutput(\n",
              "            (dense): Linear(in_features=3072, out_features=768, bias=True)\n",
              "            (LayerNorm): LayerNorm((768,), eps=1e-12, elementwise_affine=True)\n",
              "            (dropout): Dropout(p=0.1, inplace=False)\n",
              "          )\n",
              "        )\n",
              "        (10): BertLayer(\n",
              "          (attention): BertAttention(\n",
              "            (self): BertSelfAttention(\n",
              "              (query): Linear(in_features=768, out_features=768, bias=True)\n",
              "              (key): Linear(in_features=768, out_features=768, bias=True)\n",
              "              (value): Linear(in_features=768, out_features=768, bias=True)\n",
              "              (dropout): Dropout(p=0.1, inplace=False)\n",
              "            )\n",
              "            (output): BertSelfOutput(\n",
              "              (dense): Linear(in_features=768, out_features=768, bias=True)\n",
              "              (LayerNorm): LayerNorm((768,), eps=1e-12, elementwise_affine=True)\n",
              "              (dropout): Dropout(p=0.1, inplace=False)\n",
              "            )\n",
              "          )\n",
              "          (intermediate): BertIntermediate(\n",
              "            (dense): Linear(in_features=768, out_features=3072, bias=True)\n",
              "          )\n",
              "          (output): BertOutput(\n",
              "            (dense): Linear(in_features=3072, out_features=768, bias=True)\n",
              "            (LayerNorm): LayerNorm((768,), eps=1e-12, elementwise_affine=True)\n",
              "            (dropout): Dropout(p=0.1, inplace=False)\n",
              "          )\n",
              "        )\n",
              "        (11): BertLayer(\n",
              "          (attention): BertAttention(\n",
              "            (self): BertSelfAttention(\n",
              "              (query): Linear(in_features=768, out_features=768, bias=True)\n",
              "              (key): Linear(in_features=768, out_features=768, bias=True)\n",
              "              (value): Linear(in_features=768, out_features=768, bias=True)\n",
              "              (dropout): Dropout(p=0.1, inplace=False)\n",
              "            )\n",
              "            (output): BertSelfOutput(\n",
              "              (dense): Linear(in_features=768, out_features=768, bias=True)\n",
              "              (LayerNorm): LayerNorm((768,), eps=1e-12, elementwise_affine=True)\n",
              "              (dropout): Dropout(p=0.1, inplace=False)\n",
              "            )\n",
              "          )\n",
              "          (intermediate): BertIntermediate(\n",
              "            (dense): Linear(in_features=768, out_features=3072, bias=True)\n",
              "          )\n",
              "          (output): BertOutput(\n",
              "            (dense): Linear(in_features=3072, out_features=768, bias=True)\n",
              "            (LayerNorm): LayerNorm((768,), eps=1e-12, elementwise_affine=True)\n",
              "            (dropout): Dropout(p=0.1, inplace=False)\n",
              "          )\n",
              "        )\n",
              "      )\n",
              "    )\n",
              "    (pooler): BertPooler(\n",
              "      (dense): Linear(in_features=768, out_features=768, bias=True)\n",
              "      (activation): Tanh()\n",
              "    )\n",
              "  )\n",
              "  (dropout): Dropout(p=0.1, inplace=False)\n",
              "  (classifier): Linear(in_features=768, out_features=3, bias=True)\n",
              ")"
            ]
          },
          "metadata": {
            "tags": []
          },
          "execution_count": 28
        }
      ]
    },
    {
      "cell_type": "markdown",
      "metadata": {
        "id": "8Oro19fAUDNS",
        "colab_type": "text"
      },
      "source": [
        "We grab the training hyperparameters from within the stored model."
      ]
    },
    {
      "cell_type": "code",
      "metadata": {
        "id": "eArMY_DQ07SW",
        "colab_type": "code",
        "colab": {}
      },
      "source": [
        "optimizer = AdamW(model.parameters(), lr = 2e-5, eps = 1e-8)"
      ],
      "execution_count": 0,
      "outputs": []
    },
    {
      "cell_type": "code",
      "metadata": {
        "id": "It-kCTC809zy",
        "colab_type": "code",
        "colab": {}
      },
      "source": [
        "from transformers import get_linear_schedule_with_warmup\n",
        "\n",
        "# Number of training epochs. The BERT authors recommend between 2 and 4. \n",
        "# We chose to run for 2, as it is enough\n",
        "epochs = 2\n",
        "\n",
        "# Total number of training steps is [number of batches] x [number of epochs]. \n",
        "total_steps = len(train_dataloader) * epochs\n",
        "\n",
        "# Create the learning rate scheduler.\n",
        "scheduler = get_linear_schedule_with_warmup(optimizer, \n",
        "                                            num_warmup_steps = 0, \n",
        "                                            num_training_steps = total_steps)"
      ],
      "execution_count": 0,
      "outputs": []
    },
    {
      "cell_type": "markdown",
      "metadata": {
        "id": "tfzLIaLIUtxZ",
        "colab_type": "text"
      },
      "source": [
        "## 2.5 Training the Model "
      ]
    },
    {
      "cell_type": "code",
      "metadata": {
        "id": "QHPLFCND1FCN",
        "colab_type": "code",
        "colab": {}
      },
      "source": [
        "# Function to calculate the accuracy of our predictions vs labels\n",
        "def flat_accuracy(preds, labels):\n",
        "    pred_flat = np.argmax(preds, axis=1).flatten()\n",
        "    labels_flat = labels.flatten()\n",
        "    return np.sum(pred_flat == labels_flat) / len(labels_flat)"
      ],
      "execution_count": 0,
      "outputs": []
    },
    {
      "cell_type": "code",
      "metadata": {
        "id": "89ldDS9b1IPK",
        "colab_type": "code",
        "colab": {}
      },
      "source": [
        "import time\n",
        "import datetime\n",
        "\n",
        "def format_time(elapsed):\n",
        "    elapsed_rounded = int(round((elapsed)))\n",
        "    return str(datetime.timedelta(seconds=elapsed_rounded))"
      ],
      "execution_count": 0,
      "outputs": []
    },
    {
      "cell_type": "code",
      "metadata": {
        "id": "CXC5ib1q1K3o",
        "colab_type": "code",
        "outputId": "2759fcdc-2a11-4ed9-e654-554b8b2b7d15",
        "colab": {
          "base_uri": "https://localhost:8080/",
          "height": 714
        }
      },
      "source": [
        "# This training code is based on the `run_glue.py` script here:\n",
        "# https://github.com/huggingface/transformers/blob/5bfcd0485ece086ebcbed2d008813037968a9e58/examples/run_glue.py#L128\n",
        "\n",
        "# Set the seed value all over the place to make this reproducible.\n",
        "seed_val = 42\n",
        "\n",
        "random.seed(seed_val)\n",
        "np.random.seed(seed_val)\n",
        "torch.manual_seed(seed_val)\n",
        "torch.cuda.manual_seed_all(seed_val)\n",
        "\n",
        "# We'll store a number of quantities such as training and validation loss, \n",
        "# validation accuracy, and timings.\n",
        "training_stats = []\n",
        "\n",
        "# Measure the total training time for the whole run.\n",
        "total_t0 = time.time()\n",
        "\n",
        "# For each epoch...\n",
        "for epoch_i in range(0, epochs):\n",
        "    \n",
        "    # ========================================\n",
        "    #               Training\n",
        "    # ========================================\n",
        "    \n",
        "    # Perform one full pass over the training set.\n",
        "\n",
        "    print(\"\")\n",
        "    print('======== Epoch {:} / {:} ========'.format(epoch_i + 1, epochs))\n",
        "    print('Training...')\n",
        "\n",
        "    # Measure how long the training epoch takes.\n",
        "    t0 = time.time()\n",
        "\n",
        "    # Reset the total loss for this epoch.\n",
        "    total_train_loss = 0\n",
        "\n",
        "    # Put the model into training mode. Don't be mislead--the call to \n",
        "    # `train` just changes the *mode*, it doesn't *perform* the training.\n",
        "    # `dropout` and `batchnorm` layers behave differently during training\n",
        "    # vs. test (source: https://stackoverflow.com/questions/51433378/what-does-model-train-do-in-pytorch)\n",
        "    model.train()\n",
        "\n",
        "    # For each batch of training data...\n",
        "    for step, batch in enumerate(train_dataloader):\n",
        "\n",
        "        # Progress update every 50 batches.\n",
        "        if step % 50 == 0 and not step == 0:\n",
        "            # Calculate elapsed time in minutes.\n",
        "            elapsed = format_time(time.time() - t0)\n",
        "            \n",
        "            # Report progress.\n",
        "            print('  Batch {:>5,}  of  {:>5,}.    Elapsed: {:}.'.format(step, len(train_dataloader), elapsed))\n",
        "\n",
        "        # Unpack this training batch from our dataloader. \n",
        "        #\n",
        "        # As we unpack the batch, we'll also copy each tensor to the GPU using the \n",
        "        # `to` method.\n",
        "        #\n",
        "        # `batch` contains three pytorch tensors:\n",
        "        #   [0]: input ids \n",
        "        #   [1]: attention masks\n",
        "        #   [2]: labels \n",
        "        b_input_ids = batch[0].to(device)\n",
        "        b_input_mask = batch[1].to(device)\n",
        "        b_labels = batch[2].to(device)\n",
        "\n",
        "        # Always clear any previously calculated gradients before performing a\n",
        "        # backward pass. PyTorch doesn't do this automatically because \n",
        "        # accumulating the gradients is \"convenient while training RNNs\". \n",
        "        # (source: https://stackoverflow.com/questions/48001598/why-do-we-need-to-call-zero-grad-in-pytorch)\n",
        "        model.zero_grad()        \n",
        "\n",
        "        # Perform a forward pass (evaluate the model on this training batch).\n",
        "        # The documentation for this `model` function is here: \n",
        "        # https://huggingface.co/transformers/v2.2.0/model_doc/bert.html#transformers.BertForSequenceClassification\n",
        "        # It returns different numbers of parameters depending on what arguments\n",
        "        # arge given and what flags are set. For our useage here, it returns\n",
        "        # the loss (because we provided labels) and the \"logits\"--the model\n",
        "        # outputs prior to activation.\n",
        "        loss, logits = model(b_input_ids, \n",
        "                             token_type_ids=None, \n",
        "                             attention_mask=b_input_mask, \n",
        "                             labels=b_labels)\n",
        "\n",
        "        # Accumulate the training loss over all of the batches so that we can\n",
        "        # calculate the average loss at the end. `loss` is a Tensor containing a\n",
        "        # single value; the `.item()` function just returns the Python value \n",
        "        # from the tensor.\n",
        "        total_train_loss += loss.item()\n",
        "\n",
        "        # Perform a backward pass to calculate the gradients.\n",
        "        loss.backward()\n",
        "\n",
        "        # Clip the norm of the gradients to 1.0.\n",
        "        # This is to help prevent the \"exploding gradients\" problem.\n",
        "        torch.nn.utils.clip_grad_norm_(model.parameters(), 1.0)\n",
        "\n",
        "        # Update parameters and take a step using the computed gradient.\n",
        "        # The optimizer dictates the \"update rule\"--how the parameters are\n",
        "        # modified based on their gradients, the learning rate, etc.\n",
        "        optimizer.step()\n",
        "\n",
        "        # Update the learning rate.\n",
        "        scheduler.step()\n",
        "\n",
        "    # Calculate the average loss over all of the batches.\n",
        "    avg_train_loss = total_train_loss / len(train_dataloader)            \n",
        "    \n",
        "    # Measure how long this epoch took.\n",
        "    training_time = format_time(time.time() - t0)\n",
        "\n",
        "    print(\"\")\n",
        "    print(\"  Average training loss: {0:.2f}\".format(avg_train_loss))\n",
        "    print(\"  Training epcoh took: {:}\".format(training_time))\n",
        "        \n",
        "    # ========================================\n",
        "    #               Validation\n",
        "    # ========================================\n",
        "    # After the completion of each training epoch, measure our performance on\n",
        "    # our validation set.\n",
        "\n",
        "    print(\"\")\n",
        "    print(\"Running Validation...\")\n",
        "\n",
        "    t0 = time.time()\n",
        "\n",
        "    # Put the model in evaluation mode--the dropout layers behave differently\n",
        "    # during evaluation.\n",
        "    model.eval()\n",
        "\n",
        "    # Tracking variables \n",
        "    total_eval_accuracy = 0\n",
        "    total_eval_loss = 0\n",
        "    nb_eval_steps = 0\n",
        "\n",
        "    # Evaluate data for one epoch\n",
        "    for batch in validation_dataloader:\n",
        "        \n",
        "        # Unpack this training batch from our dataloader. \n",
        "        #\n",
        "        # As we unpack the batch, we'll also copy each tensor to the GPU using \n",
        "        # the `to` method.\n",
        "        #\n",
        "        # `batch` contains three pytorch tensors:\n",
        "        #   [0]: input ids \n",
        "        #   [1]: attention masks\n",
        "        #   [2]: labels \n",
        "        b_input_ids = batch[0].to(device)\n",
        "        b_input_mask = batch[1].to(device)\n",
        "        b_labels = batch[2].to(device)\n",
        "        \n",
        "        # Tell pytorch not to bother with constructing the compute graph during\n",
        "        # the forward pass, since this is only needed for backprop (training).\n",
        "        with torch.no_grad():        \n",
        "\n",
        "            # Forward pass, calculate logit predictions.\n",
        "            # token_type_ids is the same as the \"segment ids\", which \n",
        "            # differentiates sentence 1 and 2 in 2-sentence tasks.\n",
        "            # The documentation for this `model` function is here: \n",
        "            # https://huggingface.co/transformers/v2.2.0/model_doc/bert.html#transformers.BertForSequenceClassification\n",
        "            # Get the \"logits\" output by the model. The \"logits\" are the output\n",
        "            # values prior to applying an activation function like the softmax.\n",
        "            (loss, logits) = model(b_input_ids, \n",
        "                                   token_type_ids=None, \n",
        "                                   attention_mask=b_input_mask,\n",
        "                                   labels=b_labels)\n",
        "            \n",
        "        # Accumulate the validation loss.\n",
        "        total_eval_loss += loss.item()\n",
        "\n",
        "        # Move logits and labels to CPU\n",
        "        logits = logits.detach().cpu().numpy()\n",
        "        label_ids = b_labels.to('cpu').numpy()\n",
        "\n",
        "        # Calculate the accuracy for this batch of test sentences, and\n",
        "        # accumulate it over all batches.\n",
        "        total_eval_accuracy += flat_accuracy(logits, label_ids)\n",
        "        \n",
        "\n",
        "    # Report the final accuracy for this validation run.\n",
        "    avg_val_accuracy = total_eval_accuracy / len(validation_dataloader)\n",
        "    print(\"  Accuracy: {0:.2f}\".format(avg_val_accuracy))\n",
        "\n",
        "    # Calculate the average loss over all of the batches.\n",
        "    avg_val_loss = total_eval_loss / len(validation_dataloader)\n",
        "    \n",
        "    # Measure how long the validation run took.\n",
        "    validation_time = format_time(time.time() - t0)\n",
        "    \n",
        "    print(\"  Validation Loss: {0:.2f}\".format(avg_val_loss))\n",
        "    print(\"  Validation took: {:}\".format(validation_time))\n",
        "\n",
        "    # Record all statistics from this epoch.\n",
        "    training_stats.append(\n",
        "        {\n",
        "            'epoch': epoch_i + 1,\n",
        "            'Training Loss': avg_train_loss,\n",
        "            'Valid. Loss': avg_val_loss,\n",
        "            'Valid. Accur.': avg_val_accuracy,\n",
        "            'Training Time': training_time,\n",
        "            'Validation Time': validation_time\n",
        "        }\n",
        "    )\n",
        "\n",
        "print(\"\")\n",
        "print(\"Training complete!\")\n",
        "\n",
        "print(\"Total training took {:} (h:mm:ss)\".format(format_time(time.time()-total_t0)))"
      ],
      "execution_count": 0,
      "outputs": [
        {
          "output_type": "stream",
          "text": [
            "\n",
            "======== Epoch 1 / 2 ========\n",
            "Training...\n",
            "  Batch    50  of    412.    Elapsed: 0:01:09.\n",
            "  Batch   100  of    412.    Elapsed: 0:02:20.\n",
            "  Batch   150  of    412.    Elapsed: 0:03:31.\n",
            "  Batch   200  of    412.    Elapsed: 0:04:42.\n",
            "  Batch   250  of    412.    Elapsed: 0:05:52.\n",
            "  Batch   300  of    412.    Elapsed: 0:07:03.\n",
            "  Batch   350  of    412.    Elapsed: 0:08:13.\n",
            "  Batch   400  of    412.    Elapsed: 0:09:24.\n",
            "\n",
            "  Average training loss: 0.49\n",
            "  Training epcoh took: 0:09:41\n",
            "\n",
            "Running Validation...\n",
            "  Accuracy: 0.84\n",
            "  Validation Loss: 0.40\n",
            "  Validation took: 0:00:23\n",
            "\n",
            "======== Epoch 2 / 2 ========\n",
            "Training...\n",
            "  Batch    50  of    412.    Elapsed: 0:01:11.\n",
            "  Batch   100  of    412.    Elapsed: 0:02:21.\n",
            "  Batch   150  of    412.    Elapsed: 0:03:32.\n",
            "  Batch   200  of    412.    Elapsed: 0:04:42.\n",
            "  Batch   250  of    412.    Elapsed: 0:05:53.\n",
            "  Batch   300  of    412.    Elapsed: 0:07:04.\n",
            "  Batch   350  of    412.    Elapsed: 0:08:14.\n",
            "  Batch   400  of    412.    Elapsed: 0:09:25.\n",
            "\n",
            "  Average training loss: 0.31\n",
            "  Training epcoh took: 0:09:42\n",
            "\n",
            "Running Validation...\n",
            "  Accuracy: 0.84\n",
            "  Validation Loss: 0.40\n",
            "  Validation took: 0:00:23\n",
            "\n",
            "Training complete!\n",
            "Total training took 0:20:08 (h:mm:ss)\n"
          ],
          "name": "stdout"
        }
      ]
    },
    {
      "cell_type": "markdown",
      "metadata": {
        "id": "0OQK8IlBWFl_",
        "colab_type": "text"
      },
      "source": [
        "Let's view the summary of the training process."
      ]
    },
    {
      "cell_type": "code",
      "metadata": {
        "id": "DEUFqR111eOT",
        "colab_type": "code",
        "outputId": "1c141bb1-6023-493e-a89d-1f3c5efee222",
        "colab": {
          "base_uri": "https://localhost:8080/",
          "height": 142
        }
      },
      "source": [
        "# Display floats with two decimal places.\n",
        "pd.set_option('precision', 2)\n",
        "\n",
        "# Create a DataFrame from our training statistics.\n",
        "df_stats = pd.DataFrame(data=training_stats)\n",
        "\n",
        "# Use the 'epoch' as the row index.\n",
        "df_stats = df_stats.set_index('epoch')\n",
        "\n",
        "# A hack to force the column headers to wrap.\n",
        "#df = df.style.set_table_styles([dict(selector=\"th\",props=[('max-width', '70px')])])\n",
        "\n",
        "# Display the table.\n",
        "df_stats"
      ],
      "execution_count": 0,
      "outputs": [
        {
          "output_type": "execute_result",
          "data": {
            "text/html": [
              "<div>\n",
              "<style scoped>\n",
              "    .dataframe tbody tr th:only-of-type {\n",
              "        vertical-align: middle;\n",
              "    }\n",
              "\n",
              "    .dataframe tbody tr th {\n",
              "        vertical-align: top;\n",
              "    }\n",
              "\n",
              "    .dataframe thead th {\n",
              "        text-align: right;\n",
              "    }\n",
              "</style>\n",
              "<table border=\"1\" class=\"dataframe\">\n",
              "  <thead>\n",
              "    <tr style=\"text-align: right;\">\n",
              "      <th></th>\n",
              "      <th>Training Loss</th>\n",
              "      <th>Valid. Loss</th>\n",
              "      <th>Valid. Accur.</th>\n",
              "      <th>Training Time</th>\n",
              "      <th>Validation Time</th>\n",
              "    </tr>\n",
              "    <tr>\n",
              "      <th>epoch</th>\n",
              "      <th></th>\n",
              "      <th></th>\n",
              "      <th></th>\n",
              "      <th></th>\n",
              "      <th></th>\n",
              "    </tr>\n",
              "  </thead>\n",
              "  <tbody>\n",
              "    <tr>\n",
              "      <th>1</th>\n",
              "      <td>0.49</td>\n",
              "      <td>0.4</td>\n",
              "      <td>0.84</td>\n",
              "      <td>0:09:41</td>\n",
              "      <td>0:00:23</td>\n",
              "    </tr>\n",
              "    <tr>\n",
              "      <th>2</th>\n",
              "      <td>0.31</td>\n",
              "      <td>0.4</td>\n",
              "      <td>0.84</td>\n",
              "      <td>0:09:42</td>\n",
              "      <td>0:00:23</td>\n",
              "    </tr>\n",
              "  </tbody>\n",
              "</table>\n",
              "</div>"
            ],
            "text/plain": [
              "       Training Loss  Valid. Loss  Valid. Accur. Training Time Validation Time\n",
              "epoch                                                                         \n",
              "1               0.49          0.4           0.84       0:09:41         0:00:23\n",
              "2               0.31          0.4           0.84       0:09:42         0:00:23"
            ]
          },
          "metadata": {
            "tags": []
          },
          "execution_count": 34
        }
      ]
    },
    {
      "cell_type": "markdown",
      "metadata": {
        "id": "qmNnAmFxiC9B",
        "colab_type": "text"
      },
      "source": [
        "## 2.6 Evaluation on our Labelled Comments"
      ]
    },
    {
      "cell_type": "code",
      "metadata": {
        "id": "w3bLeITkiBA-",
        "colab_type": "code",
        "colab": {}
      },
      "source": [
        "# We import our labelled comments\n",
        "df = pd.read_csv('/content/gdrive/My Drive/Colab Notebooks/label.csv', error_bad_lines=False, sep=';', encoding = \"ISO-8859-1\")"
      ],
      "execution_count": 0,
      "outputs": []
    },
    {
      "cell_type": "code",
      "metadata": {
        "id": "Vy2Yw3z7iGZD",
        "colab_type": "code",
        "outputId": "054928d2-43df-41f3-bfd9-fe7e1e1e8f85",
        "colab": {
          "base_uri": "https://localhost:8080/",
          "height": 359
        }
      },
      "source": [
        "df.sample(10)"
      ],
      "execution_count": 0,
      "outputs": [
        {
          "output_type": "execute_result",
          "data": {
            "text/html": [
              "<div>\n",
              "<style scoped>\n",
              "    .dataframe tbody tr th:only-of-type {\n",
              "        vertical-align: middle;\n",
              "    }\n",
              "\n",
              "    .dataframe tbody tr th {\n",
              "        vertical-align: top;\n",
              "    }\n",
              "\n",
              "    .dataframe thead th {\n",
              "        text-align: right;\n",
              "    }\n",
              "</style>\n",
              "<table border=\"1\" class=\"dataframe\">\n",
              "  <thead>\n",
              "    <tr style=\"text-align: right;\">\n",
              "      <th></th>\n",
              "      <th>sentences_author</th>\n",
              "      <th>label</th>\n",
              "    </tr>\n",
              "  </thead>\n",
              "  <tbody>\n",
              "    <tr>\n",
              "      <th>203</th>\n",
              "      <td>face it mr blow, they fight dirty, they fight...</td>\n",
              "      <td>neutral</td>\n",
              "    </tr>\n",
              "    <tr>\n",
              "      <th>266</th>\n",
              "      <td>the wall street journal leans conservative, ...</td>\n",
              "      <td>neutral</td>\n",
              "    </tr>\n",
              "    <tr>\n",
              "      <th>152</th>\n",
              "      <td>&lt;br/&gt;&lt;br/&gt;ross, your immodest proposals are a ...</td>\n",
              "      <td>negative</td>\n",
              "    </tr>\n",
              "    <tr>\n",
              "      <th>9</th>\n",
              "      <td>i've been a fan of mr. egan's writing for many...</td>\n",
              "      <td>negative</td>\n",
              "    </tr>\n",
              "    <tr>\n",
              "      <th>233</th>\n",
              "      <td>gail:&lt;br/&gt;&lt;br/&gt;i wish i was amused by this opi...</td>\n",
              "      <td>neutral</td>\n",
              "    </tr>\n",
              "    <tr>\n",
              "      <th>226</th>\n",
              "      <td>thank you maureen dowd for putting the past we...</td>\n",
              "      <td>positive</td>\n",
              "    </tr>\n",
              "    <tr>\n",
              "      <th>196</th>\n",
              "      <td>&lt;br/&gt;&lt;br/&gt;moreover, methinks mr. douthat needs...</td>\n",
              "      <td>negative</td>\n",
              "    </tr>\n",
              "    <tr>\n",
              "      <th>109</th>\n",
              "      <td>i don't put david brooks in the main hall of a...</td>\n",
              "      <td>neutral</td>\n",
              "    </tr>\n",
              "    <tr>\n",
              "      <th>5</th>\n",
              "      <td>they aren't as stupid as dr. krugman and many...</td>\n",
              "      <td>negative</td>\n",
              "    </tr>\n",
              "    <tr>\n",
              "      <th>175</th>\n",
              "      <td>since that includes just about every republic...</td>\n",
              "      <td>positive</td>\n",
              "    </tr>\n",
              "  </tbody>\n",
              "</table>\n",
              "</div>"
            ],
            "text/plain": [
              "                                      sentences_author     label\n",
              "203   face it mr blow, they fight dirty, they fight...   neutral\n",
              "266    the wall street journal leans conservative, ...   neutral\n",
              "152  <br/><br/>ross, your immodest proposals are a ...  negative\n",
              "9    i've been a fan of mr. egan's writing for many...  negative\n",
              "233  gail:<br/><br/>i wish i was amused by this opi...   neutral\n",
              "226  thank you maureen dowd for putting the past we...  positive\n",
              "196  <br/><br/>moreover, methinks mr. douthat needs...  negative\n",
              "109  i don't put david brooks in the main hall of a...   neutral\n",
              "5     they aren't as stupid as dr. krugman and many...  negative\n",
              "175   since that includes just about every republic...  positive"
            ]
          },
          "metadata": {
            "tags": []
          },
          "execution_count": 36
        }
      ]
    },
    {
      "cell_type": "code",
      "metadata": {
        "id": "aUMf7no4ibbo",
        "colab_type": "code",
        "outputId": "ebaace38-7a0c-47ff-8d3c-903a004a5b39",
        "colab": {
          "base_uri": "https://localhost:8080/",
          "height": 204
        }
      },
      "source": [
        "# Reshaping the data\n",
        "df.rename(columns={'sentences_author':'text'},inplace=True)\n",
        "df.loc[:,'labels'] = df.label.map({'negative':0,'neutral':2,'positive':1})\n",
        "df = df.drop(['label'], axis=1)\n",
        "df.head()"
      ],
      "execution_count": 0,
      "outputs": [
        {
          "output_type": "execute_result",
          "data": {
            "text/html": [
              "<div>\n",
              "<style scoped>\n",
              "    .dataframe tbody tr th:only-of-type {\n",
              "        vertical-align: middle;\n",
              "    }\n",
              "\n",
              "    .dataframe tbody tr th {\n",
              "        vertical-align: top;\n",
              "    }\n",
              "\n",
              "    .dataframe thead th {\n",
              "        text-align: right;\n",
              "    }\n",
              "</style>\n",
              "<table border=\"1\" class=\"dataframe\">\n",
              "  <thead>\n",
              "    <tr style=\"text-align: right;\">\n",
              "      <th></th>\n",
              "      <th>text</th>\n",
              "      <th>labels</th>\n",
              "    </tr>\n",
              "  </thead>\n",
              "  <tbody>\n",
              "    <tr>\n",
              "      <th>0</th>\n",
              "      <td>frank, i'm typically in full alignment with yo...</td>\n",
              "      <td>2</td>\n",
              "    </tr>\n",
              "    <tr>\n",
              "      <th>1</th>\n",
              "      <td>i think professor krugman answered that ques...</td>\n",
              "      <td>1</td>\n",
              "    </tr>\n",
              "    <tr>\n",
              "      <th>2</th>\n",
              "      <td>\" &lt;br/&gt;&lt;br/&gt;maureen has seen the greater truth...</td>\n",
              "      <td>1</td>\n",
              "    </tr>\n",
              "    <tr>\n",
              "      <th>3</th>\n",
              "      <td>that said, i am with frank: a bit of real \"se...</td>\n",
              "      <td>1</td>\n",
              "    </tr>\n",
              "    <tr>\n",
              "      <th>4</th>\n",
              "      <td>another good article by edsall.</td>\n",
              "      <td>1</td>\n",
              "    </tr>\n",
              "  </tbody>\n",
              "</table>\n",
              "</div>"
            ],
            "text/plain": [
              "                                                text  labels\n",
              "0  frank, i'm typically in full alignment with yo...       2\n",
              "1    i think professor krugman answered that ques...       1\n",
              "2  \" <br/><br/>maureen has seen the greater truth...       1\n",
              "3   that said, i am with frank: a bit of real \"se...       1\n",
              "4                    another good article by edsall.       1"
            ]
          },
          "metadata": {
            "tags": []
          },
          "execution_count": 37
        }
      ]
    },
    {
      "cell_type": "markdown",
      "metadata": {
        "id": "f-JXaTaFWhjZ",
        "colab_type": "text"
      },
      "source": [
        "As previously, we pre-process the data"
      ]
    },
    {
      "cell_type": "code",
      "metadata": {
        "id": "HhenzWTPicDG",
        "colab_type": "code",
        "colab": {}
      },
      "source": [
        "def preprocess_sentence(sen):\n",
        "\t#Preprocess the text in a single sentence\n",
        "\t#convert the sentence to lower case\n",
        "\tsen.lower()\n",
        "\t#remove all urls\n",
        "\tsen = re.sub('((www\\.[^\\s]+)|(https?://[^\\s]+))','',sen)\n",
        "\t#correct all multiple white spaces to a single white space\n",
        "\tsen = re.sub('[\\s]+', ' ', sen)\n",
        "\t#convert \"#topic\" to just \"topic\"\n",
        "\tsen = re.sub(r'#([^\\s]+)', r'\\1', sen)\n",
        "\treturn sen\n",
        "\n",
        "def remove_html(sen):\n",
        "  sen = re.sub('<[^<]+?>', '', sen)\n",
        "  return sen\n",
        "\n",
        "def remove_hyphen(sen):\n",
        "  sen = re.sub('\\\" ', '', sen)\n",
        "  return sen"
      ],
      "execution_count": 0,
      "outputs": []
    },
    {
      "cell_type": "code",
      "metadata": {
        "id": "zhV4v3eNijCp",
        "colab_type": "code",
        "colab": {}
      },
      "source": [
        "df['text'] = df['text'].apply(preprocess_sentence)\n",
        "df['text'] = df['text'].apply(remove_html)\n",
        "df['text'] = df['text'].apply(remove_hyphen)"
      ],
      "execution_count": 0,
      "outputs": []
    },
    {
      "cell_type": "code",
      "metadata": {
        "id": "zNWfDkdD1oTn",
        "colab_type": "code",
        "outputId": "d5ad6caf-d23b-460d-dc38-d36d8b58114a",
        "colab": {
          "base_uri": "https://localhost:8080/",
          "height": 51
        }
      },
      "source": [
        "# Report the number of sentences.\n",
        "print('Number of test sentences: {:,}\\n'.format(df.shape[0]))\n",
        "\n",
        "# Create sentence and label lists\n",
        "sentences = df.text.values\n",
        "labels = df.labels.values\n",
        "\n",
        "# Tokenize all of the sentences and map the tokens to thier word IDs.\n",
        "input_ids = []\n",
        "attention_masks = []\n",
        "\n",
        "# For every sentence...\n",
        "for sent in sentences:\n",
        "    encoded_dict = tokenizer.encode_plus(\n",
        "                        sent,                      # Sentence to encode.\n",
        "                        add_special_tokens = True, # Add '[CLS]' and '[SEP]'\n",
        "                        max_length = 64,           # Pad & truncate all sentences.\n",
        "                        pad_to_max_length = True,\n",
        "                        return_attention_mask = True,   # Construct attn. masks.\n",
        "                        return_tensors = 'pt',     # Return pytorch tensors.\n",
        "                   )\n",
        "    \n",
        "    # Add the encoded sentence to the list.    \n",
        "    input_ids.append(encoded_dict['input_ids'])\n",
        "    \n",
        "    # And its attention mask (simply differentiates padding from non-padding).\n",
        "    attention_masks.append(encoded_dict['attention_mask'])\n",
        "\n",
        "# Convert the lists into tensors.\n",
        "input_ids = torch.cat(input_ids, dim=0)\n",
        "attention_masks = torch.cat(attention_masks, dim=0)\n",
        "labels = torch.tensor(labels)\n",
        "\n",
        "# Set the batch size.  \n",
        "batch_size = 32  \n",
        "\n",
        "# Create the DataLoader.\n",
        "prediction_data = TensorDataset(input_ids, attention_masks, labels)\n",
        "prediction_sampler = SequentialSampler(prediction_data)\n",
        "prediction_dataloader = DataLoader(prediction_data, sampler=prediction_sampler, batch_size=batch_size)"
      ],
      "execution_count": 0,
      "outputs": [
        {
          "output_type": "stream",
          "text": [
            "Number of test sentences: 300\n",
            "\n"
          ],
          "name": "stdout"
        }
      ]
    },
    {
      "cell_type": "markdown",
      "metadata": {
        "id": "vOIFaDe3WuZH",
        "colab_type": "text"
      },
      "source": [
        "We apply our tuned model to generate predictions on test set of comments."
      ]
    },
    {
      "cell_type": "code",
      "metadata": {
        "id": "e-jR_bax5hbk",
        "colab_type": "code",
        "outputId": "10977338-37b0-43f1-e2a6-b2be217124ae",
        "colab": {
          "base_uri": "https://localhost:8080/",
          "height": 51
        }
      },
      "source": [
        "# Prediction on test set\n",
        "\n",
        "print('Predicting labels for {:,} test sentences...'.format(len(input_ids)))\n",
        "\n",
        "# Put model in evaluation mode\n",
        "model.eval()\n",
        "\n",
        "# Tracking variables \n",
        "predictions, true_labels = [], []\n",
        "\n",
        "# Predict \n",
        "for batch in prediction_dataloader:\n",
        "  # Add batch to GPU\n",
        "  batch = tuple(t.to(device) for t in batch)\n",
        "  \n",
        "  # Unpack the inputs from our dataloader\n",
        "  b_input_ids, b_input_mask, b_labels = batch\n",
        "  \n",
        "  # Telling the model not to compute or store gradients, saving memory and \n",
        "  # speeding up prediction\n",
        "  with torch.no_grad():\n",
        "      # Forward pass, calculate logit predictions\n",
        "      outputs = model(b_input_ids, token_type_ids=None, \n",
        "                      attention_mask=b_input_mask)\n",
        "\n",
        "  logits = outputs[0]\n",
        "\n",
        "  # Move logits and labels to CPU\n",
        "  logits = logits.detach().cpu().numpy()\n",
        "  label_ids = b_labels.to('cpu').numpy()\n",
        "  \n",
        "  # Store predictions and true labels\n",
        "  predictions.append(logits)\n",
        "  true_labels.append(label_ids)\n",
        "\n",
        "print('    DONE.')"
      ],
      "execution_count": 0,
      "outputs": [
        {
          "output_type": "stream",
          "text": [
            "Predicting labels for 300 test sentences...\n",
            "    DONE.\n"
          ],
          "name": "stdout"
        }
      ]
    },
    {
      "cell_type": "code",
      "metadata": {
        "id": "szbfflt8kwjr",
        "colab_type": "code",
        "colab": {}
      },
      "source": [
        "# Combine the results across all batches. \n",
        "flat_predictions = np.concatenate(predictions, axis=0)\n",
        "\n",
        "# For each sample, pick the label (0, 1 or 2) with the higher score.\n",
        "flat_predictions = np.argmax(flat_predictions, axis=1).flatten()\n",
        "\n",
        "# Combine the correct labels for each batch into a single list.\n",
        "flat_true_labels = np.concatenate(true_labels, axis=0)"
      ],
      "execution_count": 0,
      "outputs": []
    },
    {
      "cell_type": "code",
      "metadata": {
        "id": "ecYxhMi4wRTS",
        "colab_type": "code",
        "colab": {}
      },
      "source": [
        "pred = pd.DataFrame(flat_predictions,columns=['value'])\n",
        "true = pd.DataFrame(flat_true_labels,columns=['value'])"
      ],
      "execution_count": 0,
      "outputs": []
    },
    {
      "cell_type": "code",
      "metadata": {
        "id": "EIxHyl2kx4G1",
        "colab_type": "code",
        "colab": {}
      },
      "source": [
        "pred.loc[:,'y_pred'] = pred.value.map({0:'negative',2:'neutral',1:'positive'})\n",
        "true.loc[:,'y_true'] = true.value.map({0:'negative',2:'neutral',1:'positive'})\n",
        "pred = pred.drop(['value'], axis=1)\n",
        "true = true.drop(['value'], axis=1)"
      ],
      "execution_count": 0,
      "outputs": []
    },
    {
      "cell_type": "code",
      "metadata": {
        "id": "kUWlccy-1LJk",
        "colab_type": "code",
        "colab": {}
      },
      "source": [
        "pred.loc[:,'y_pred_negative'] = pred.y_pred.map({'negative':1,'neutral':0,'positive':0})\n",
        "pred.loc[:,'y_pred_positive'] = pred.y_pred.map({'negative':0,'neutral':0,'positive':1})\n",
        "pred.loc[:,'y_pred_neutral'] = pred.y_pred.map({'negative':0,'neutral':1,'positive':0})"
      ],
      "execution_count": 0,
      "outputs": []
    },
    {
      "cell_type": "code",
      "metadata": {
        "id": "CZAynkYu5b22",
        "colab_type": "code",
        "colab": {}
      },
      "source": [
        "true.loc[:,'y_true_negative'] = true.y_true.map({'negative':1,'neutral':0,'positive':0})\n",
        "true.loc[:,'y_true_positive'] = true.y_true.map({'negative':0,'neutral':0,'positive':1})\n",
        "true.loc[:,'y_true_neutral'] = true.y_true.map({'negative':0,'neutral':1,'positive':0})"
      ],
      "execution_count": 0,
      "outputs": []
    },
    {
      "cell_type": "code",
      "metadata": {
        "id": "U7_QvvE_5nXn",
        "colab_type": "code",
        "colab": {}
      },
      "source": [
        "y_pred2 = pd.DataFrame({\"y_pred_negative\": pred[\"y_pred_negative\"], \"y_pred_positive\": pred[\"y_pred_positive\"], \"y_pred_neutral\": pred[\"y_pred_neutral\"]}).to_numpy()\n",
        "y_true2 = pd.DataFrame({\"y_true_negative\": true[\"y_true_negative\"], \"y_true_positive\": true[\"y_true_positive\"], \"y_true_neutral\": true[\"y_true_neutral\"]}).to_numpy()"
      ],
      "execution_count": 0,
      "outputs": []
    },
    {
      "cell_type": "code",
      "metadata": {
        "id": "67oxtw5_vyrq",
        "colab_type": "code",
        "colab": {}
      },
      "source": [
        "from sklearn.metrics import classification_report, confusion_matrix, roc_curve, auc\n",
        "import matplotlib.pyplot as plt\n",
        "import seaborn as sn\n",
        "\n",
        "def show_eval(y_true, y_pred):\n",
        "  print( classification_report(y_true, y_pred) )\n",
        "  cm = confusion_matrix(y_true, y_pred) \n",
        "  labels = ['negative', 'neutral', 'positive']\n",
        "  df_cm = pd.DataFrame(cm, index=labels, columns=labels)\n",
        "  # config plot sizes\n",
        "  sn.set(font_scale=1.2)\n",
        "  sn.heatmap(df_cm, annot=True, annot_kws={\"size\": 18}, cmap='coolwarm', linewidth=0.5, fmt=\"\")\n",
        "  plt.show()"
      ],
      "execution_count": 0,
      "outputs": []
    },
    {
      "cell_type": "code",
      "metadata": {
        "id": "K2gmw1dPzBi5",
        "colab_type": "code",
        "outputId": "756972c9-b424-4b57-f7a5-6c81832bdfcb",
        "colab": {
          "base_uri": "https://localhost:8080/",
          "height": 441
        }
      },
      "source": [
        "show_eval(np.array(true[\"y_true\"]), np.array(pred[\"y_pred\"]))"
      ],
      "execution_count": 0,
      "outputs": [
        {
          "output_type": "stream",
          "text": [
            "              precision    recall  f1-score   support\n",
            "\n",
            "    negative       0.40      0.93      0.56        90\n",
            "     neutral       0.77      0.24      0.37       112\n",
            "    positive       0.89      0.48      0.62        98\n",
            "\n",
            "    accuracy                           0.53       300\n",
            "   macro avg       0.68      0.55      0.52       300\n",
            "weighted avg       0.70      0.53      0.51       300\n",
            "\n"
          ],
          "name": "stdout"
        },
        {
          "output_type": "display_data",
          "data": {
            "image/png": "[encoded data removed]",
            "text/plain": [
              "<Figure size 432x288 with 2 Axes>"
            ]
          },
          "metadata": {
            "tags": []
          }
        }
      ]
    },
    {
      "cell_type": "code",
      "metadata": {
        "id": "X4m9_AK1za0N",
        "colab_type": "code",
        "colab": {}
      },
      "source": [
        "def ROC_plot(y_true, y_pred):  \n",
        "  labels = ['negative', 'positive', 'neutral']\n",
        "  fpr = dict()\n",
        "  tpr = dict()\n",
        "  roc_auc = dict()\n",
        "  for i, label in enumerate(labels):\n",
        "    fpr[i], tpr[i], _ = roc_curve(y_true[:, i], y_pred[:, i])\n",
        "    roc_auc[i] = auc(fpr[i], tpr[i])\n",
        "    print(label, roc_auc[i])\n",
        "\n",
        "  for i, label in enumerate(labels):\n",
        "    plt.figure()\n",
        "    plt.plot(fpr[i], tpr[i], label='ROC curve (area = %0.2f)' % roc_auc[i])\n",
        "    plt.plot([0, 1], [0, 1], 'k--')\n",
        "    plt.xlim([0.0, 1.0])\n",
        "    plt.ylim([0.0, 1.05])\n",
        "    plt.xlabel('False Positive Rate')\n",
        "    plt.ylabel('True Positive Rate')\n",
        "    plt.title('Receiver operating characteristic for '+label)\n",
        "    plt.legend(loc=\"lower right\")\n",
        "    plt.show()"
      ],
      "execution_count": 0,
      "outputs": []
    },
    {
      "cell_type": "code",
      "metadata": {
        "id": "FxdSwjcpzMkQ",
        "colab_type": "code",
        "outputId": "3579e5a0-7f1a-44e2-e3f1-fd4351c2d4a7",
        "colab": {
          "base_uri": "https://localhost:8080/",
          "height": 935
        }
      },
      "source": [
        "ROC_plot(y_true2,y_pred2)"
      ],
      "execution_count": 0,
      "outputs": [
        {
          "output_type": "stream",
          "text": [
            "negative 0.6619047619047619\n",
            "positive 0.7249444332188321\n",
            "neutral 0.5992591185410334\n"
          ],
          "name": "stdout"
        },
        {
          "output_type": "display_data",
          "data": {
            "image/png": "[encoded data removed]",
            "text/plain": [
              "<Figure size 432x288 with 1 Axes>"
            ]
          },
          "metadata": {
            "tags": []
          }
        },
        {
          "output_type": "display_data",
          "data": {
            "image/png": "[encoded data removed]",
            "text/plain": [
              "<Figure size 432x288 with 1 Axes>"
            ]
          },
          "metadata": {
            "tags": []
          }
        },
        {
          "output_type": "display_data",
          "data": {
            "image/png": "[encoded data removed]",
            "text/plain": [
              "<Figure size 432x288 with 1 Axes>"
            ]
          },
          "metadata": {
            "tags": []
          }
        }
      ]
    },
    {
      "cell_type": "markdown",
      "metadata": {
        "id": "TNZFPmCTXMME",
        "colab_type": "text"
      },
      "source": [
        "Our model is not very good, in all criteria... We over-estimate negative comments. However, when we say that a comment is \"positive\", it is most of the time true.\n",
        "\n"
      ]
    },
    {
      "cell_type": "code",
      "metadata": {
        "id": "IXydIJZ8_8y4",
        "colab_type": "code",
        "outputId": "c70bf331-a5d6-4f96-c3dc-531226cb65db",
        "colab": {
          "base_uri": "https://localhost:8080/",
          "height": 204
        }
      },
      "source": [
        "df[\"predictions\"] = flat_predictions\n",
        "df.head()"
      ],
      "execution_count": 0,
      "outputs": [
        {
          "output_type": "execute_result",
          "data": {
            "text/html": [
              "<div>\n",
              "<style scoped>\n",
              "    .dataframe tbody tr th:only-of-type {\n",
              "        vertical-align: middle;\n",
              "    }\n",
              "\n",
              "    .dataframe tbody tr th {\n",
              "        vertical-align: top;\n",
              "    }\n",
              "\n",
              "    .dataframe thead th {\n",
              "        text-align: right;\n",
              "    }\n",
              "</style>\n",
              "<table border=\"1\" class=\"dataframe\">\n",
              "  <thead>\n",
              "    <tr style=\"text-align: right;\">\n",
              "      <th></th>\n",
              "      <th>text</th>\n",
              "      <th>labels</th>\n",
              "      <th>predictions</th>\n",
              "    </tr>\n",
              "  </thead>\n",
              "  <tbody>\n",
              "    <tr>\n",
              "      <th>0</th>\n",
              "      <td>frank, i'm typically in full alignment with yo...</td>\n",
              "      <td>2</td>\n",
              "      <td>0</td>\n",
              "    </tr>\n",
              "    <tr>\n",
              "      <th>1</th>\n",
              "      <td>i think professor krugman answered that quest...</td>\n",
              "      <td>1</td>\n",
              "      <td>2</td>\n",
              "    </tr>\n",
              "    <tr>\n",
              "      <th>2</th>\n",
              "      <td>maureen has seen the greater truth behind the ...</td>\n",
              "      <td>1</td>\n",
              "      <td>0</td>\n",
              "    </tr>\n",
              "    <tr>\n",
              "      <th>3</th>\n",
              "      <td>that said, i am with frank: a bit of real \"se...</td>\n",
              "      <td>1</td>\n",
              "      <td>0</td>\n",
              "    </tr>\n",
              "    <tr>\n",
              "      <th>4</th>\n",
              "      <td>another good article by edsall.</td>\n",
              "      <td>1</td>\n",
              "      <td>1</td>\n",
              "    </tr>\n",
              "  </tbody>\n",
              "</table>\n",
              "</div>"
            ],
            "text/plain": [
              "                                                text  labels  predictions\n",
              "0  frank, i'm typically in full alignment with yo...       2            0\n",
              "1   i think professor krugman answered that quest...       1            2\n",
              "2  maureen has seen the greater truth behind the ...       1            0\n",
              "3   that said, i am with frank: a bit of real \"se...       1            0\n",
              "4                    another good article by edsall.       1            1"
            ]
          },
          "metadata": {
            "tags": []
          },
          "execution_count": 74
        }
      ]
    },
    {
      "cell_type": "code",
      "metadata": {
        "id": "AAcYQqVoC8Wa",
        "colab_type": "code",
        "colab": {}
      },
      "source": [
        "df_errors = df[df[\"labels\"] != df[\"predictions\"]]"
      ],
      "execution_count": 0,
      "outputs": []
    },
    {
      "cell_type": "markdown",
      "metadata": {
        "id": "BlHjKIEuZZdM",
        "colab_type": "text"
      },
      "source": [
        "Here are some comments that we miss-classified. As we can see, one of the main problems comes from the fact that negative or positive words are used to describe the topic of the article but not the work of the editorialist specifically..."
      ]
    },
    {
      "cell_type": "code",
      "metadata": {
        "id": "WuN_p-C4EE0Y",
        "colab_type": "code",
        "outputId": "bfefd1b9-4325-4892-da5a-1c9d951b3cbf",
        "colab": {
          "base_uri": "https://localhost:8080/",
          "height": 122
        }
      },
      "source": [
        "list(df_errors.sample(5)[\"text\"])"
      ],
      "execution_count": 0,
      "outputs": [
        {
          "output_type": "execute_result",
          "data": {
            "text/plain": [
              "[\"i think i will follow david brook's lead in how i comment from now on.\",\n",
              " 'frank, wish i was there with you in italy, just walking the streets and wandering from pasta to espresso to ice cream, to. enjoy frank, and forget him for a few days.',\n",
              " ' since that includes just about every republican candidate and office holder, i agree with mr. blow, that sliver of the nation is beyond the pale. like mr. blow, i shut my ears to any politician who does not condemn racism, sexism and religious bigotry.',\n",
              " 'brooks is right to suggest the possibility of a cancer lab as the right place for an historian to be.',\n",
              " \"today, mr brooks, you read like the 'crazy vicar' version of your self.\"]"
            ]
          },
          "metadata": {
            "tags": []
          },
          "execution_count": 78
        }
      ]
    },
    {
      "cell_type": "markdown",
      "metadata": {
        "id": "ZXZgYX9waJvV",
        "colab_type": "text"
      },
      "source": [
        "To reduce this problem, it would be better to train the model on labelled comments and not on tweets about US Airlines. It would probably require a lot of comments as topics are very varied in the editorials and it is really hard to disentangle the sentiments related to the article from the sentiments related to the editorialist.\n",
        "\n",
        "In addition, a more complex model, with more layers, could be interesting"
      ]
    },
    {
      "cell_type": "markdown",
      "metadata": {
        "id": "P-Zos7KTCOc_",
        "colab_type": "text"
      },
      "source": [
        "# 3. Prediction on the Whole Set of Sentences"
      ]
    },
    {
      "cell_type": "markdown",
      "metadata": {
        "id": "2YQUinDYeMnL",
        "colab_type": "text"
      },
      "source": [
        "## 3.1 Importing & Reshaping the data"
      ]
    },
    {
      "cell_type": "markdown",
      "metadata": {
        "id": "BQQalJUvaBK7",
        "colab_type": "text"
      },
      "source": [
        "Even though our prediction is really bad, we still compute our indicator, that is the average share of positive/negative/neutral comments per article for each editorialist"
      ]
    },
    {
      "cell_type": "markdown",
      "metadata": {
        "id": "VOog9SmCb9d7",
        "colab_type": "text"
      },
      "source": [
        "We import the whole set of sentences that contain the first and/or last name of an editorialist of the New York Times"
      ]
    },
    {
      "cell_type": "code",
      "metadata": {
        "id": "8f1OjbKNjkvR",
        "colab_type": "code",
        "colab": {}
      },
      "source": [
        "whole_set = pd.read_csv('/content/gdrive/My Drive/Colab Notebooks/test_set.csv', error_bad_lines=False, sep=';', encoding = \"ISO-8859-1\")"
      ],
      "execution_count": 0,
      "outputs": []
    },
    {
      "cell_type": "code",
      "metadata": {
        "id": "oaOtLpaKjwTn",
        "colab_type": "code",
        "outputId": "9a067715-8e71-4ede-92fe-750fd31bf51f",
        "colab": {
          "base_uri": "https://localhost:8080/",
          "height": 546
        }
      },
      "source": [
        "whole_set.sample(10)"
      ],
      "execution_count": 0,
      "outputs": [
        {
          "output_type": "execute_result",
          "data": {
            "text/html": [
              "<div>\n",
              "<style scoped>\n",
              "    .dataframe tbody tr th:only-of-type {\n",
              "        vertical-align: middle;\n",
              "    }\n",
              "\n",
              "    .dataframe tbody tr th {\n",
              "        vertical-align: top;\n",
              "    }\n",
              "\n",
              "    .dataframe thead th {\n",
              "        text-align: right;\n",
              "    }\n",
              "</style>\n",
              "<table border=\"1\" class=\"dataframe\">\n",
              "  <thead>\n",
              "    <tr style=\"text-align: right;\">\n",
              "      <th></th>\n",
              "      <th>Unnamed: 0</th>\n",
              "      <th>index</th>\n",
              "      <th>articleID</th>\n",
              "      <th>commentBody</th>\n",
              "      <th>commentID</th>\n",
              "      <th>author</th>\n",
              "      <th>author_tokens</th>\n",
              "      <th>ref_author</th>\n",
              "      <th>sentences_author</th>\n",
              "    </tr>\n",
              "  </thead>\n",
              "  <tbody>\n",
              "    <tr>\n",
              "      <th>32494</th>\n",
              "      <td>32494</td>\n",
              "      <td>32494</td>\n",
              "      <td>5a8bfc4610f40f00018c1f01</td>\n",
              "      <td>i couldnât agree with you more, mr. cohen...</td>\n",
              "      <td>2.60e+07</td>\n",
              "      <td>roger cohen</td>\n",
              "      <td>['roger', 'cohen']</td>\n",
              "      <td>True</td>\n",
              "      <td>i couldnât agree with you more, mr. cohen.</td>\n",
              "    </tr>\n",
              "    <tr>\n",
              "      <th>34007</th>\n",
              "      <td>34007</td>\n",
              "      <td>34007</td>\n",
              "      <td>5a8ff0cc10f40f00018c29b8</td>\n",
              "      <td>\"like a lot of parents i know, iâm dismayed ...</td>\n",
              "      <td>2.61e+07</td>\n",
              "      <td>michelle goldberg</td>\n",
              "      <td>['michelle', 'goldberg']</td>\n",
              "      <td>True</td>\n",
              "      <td>\"&lt;br/&gt;&lt;br/&gt;michelle, one of trump's legacies m...</td>\n",
              "    </tr>\n",
              "    <tr>\n",
              "      <th>957</th>\n",
              "      <td>957</td>\n",
              "      <td>957</td>\n",
              "      <td>58e5ec707c459f24986d8ada</td>\n",
              "      <td>mr. kristof are you attempting to \"normalize\" ...</td>\n",
              "      <td>2.21e+07</td>\n",
              "      <td>nicholas kristof</td>\n",
              "      <td>['nicholas', 'kristof']</td>\n",
              "      <td>True</td>\n",
              "      <td>mr. kristof are you attempting to \"normalize\" ...</td>\n",
              "    </tr>\n",
              "    <tr>\n",
              "      <th>29034</th>\n",
              "      <td>29034</td>\n",
              "      <td>29034</td>\n",
              "      <td>5a7e4af4068401528a290799</td>\n",
              "      <td>one can assess the venal damage to government ...</td>\n",
              "      <td>2.59e+07</td>\n",
              "      <td>gail collins</td>\n",
              "      <td>['gail', 'collins']</td>\n",
              "      <td>True</td>\n",
              "      <td>one can assess the venal damage to government ...</td>\n",
              "    </tr>\n",
              "    <tr>\n",
              "      <th>76605</th>\n",
              "      <td>76605</td>\n",
              "      <td>76605</td>\n",
              "      <td>5925346a7c459f24986e1562</td>\n",
              "      <td>...this sounds a little like friedman went to ...</td>\n",
              "      <td>2.26e+07</td>\n",
              "      <td>thomas l. friedman</td>\n",
              "      <td>['thomas', 'friedman']</td>\n",
              "      <td>True</td>\n",
              "      <td>this sounds a little like friedman went to ame...</td>\n",
              "    </tr>\n",
              "    <tr>\n",
              "      <th>51198</th>\n",
              "      <td>51198</td>\n",
              "      <td>51198</td>\n",
              "      <td>5a540ae57c459f29e79b2e94</td>\n",
              "      <td>david, i hear your argument, but i think the g...</td>\n",
              "      <td>2.55e+07</td>\n",
              "      <td>david brooks</td>\n",
              "      <td>['david', 'brooks']</td>\n",
              "      <td>True</td>\n",
              "      <td>david, i hear your argument, but i think the g...</td>\n",
              "    </tr>\n",
              "    <tr>\n",
              "      <th>57139</th>\n",
              "      <td>57139</td>\n",
              "      <td>57139</td>\n",
              "      <td>58d225f97c459f247805d3fc</td>\n",
              "      <td>mr. bruni,&lt;br/&gt;your offer to trump to actually...</td>\n",
              "      <td>2.19e+07</td>\n",
              "      <td>frank bruni</td>\n",
              "      <td>['frank', 'bruni']</td>\n",
              "      <td>True</td>\n",
              "      <td>mr. bruni,&lt;br/&gt;your offer to trump to actually...</td>\n",
              "    </tr>\n",
              "    <tr>\n",
              "      <th>36164</th>\n",
              "      <td>36164</td>\n",
              "      <td>36164</td>\n",
              "      <td>586f538695d0e03926079490</td>\n",
              "      <td>dr. krugman, to condemn a president-elect's po...</td>\n",
              "      <td>2.10e+07</td>\n",
              "      <td>paul krugman</td>\n",
              "      <td>['paul', 'krugman']</td>\n",
              "      <td>True</td>\n",
              "      <td>dr. krugman, to condemn a president-elect's po...</td>\n",
              "    </tr>\n",
              "    <tr>\n",
              "      <th>61470</th>\n",
              "      <td>61470</td>\n",
              "      <td>61470</td>\n",
              "      <td>5a9aacc747de81a901209a2d</td>\n",
              "      <td>if you run perpetual trade deficits, it means ...</td>\n",
              "      <td>2.62e+07</td>\n",
              "      <td>paul krugman</td>\n",
              "      <td>['paul', 'krugman']</td>\n",
              "      <td>True</td>\n",
              "      <td>&lt;br/&gt;&lt;br/&gt;i thought you could have nailed this...</td>\n",
              "    </tr>\n",
              "    <tr>\n",
              "      <th>20082</th>\n",
              "      <td>20082</td>\n",
              "      <td>20082</td>\n",
              "      <td>58a417fd95d0e024746368e2</td>\n",
              "      <td>thank you mr. bruni for helping americans rais...</td>\n",
              "      <td>2.15e+07</td>\n",
              "      <td>frank bruni</td>\n",
              "      <td>['frank', 'bruni']</td>\n",
              "      <td>True</td>\n",
              "      <td>thank you mr. bruni for helping americans rais...</td>\n",
              "    </tr>\n",
              "  </tbody>\n",
              "</table>\n",
              "</div>"
            ],
            "text/plain": [
              "       Unnamed: 0  ...                                   sentences_author\n",
              "32494       32494  ...       i couldnât agree with you more, mr. cohen.\n",
              "34007       34007  ...  \"<br/><br/>michelle, one of trump's legacies m...\n",
              "957           957  ...  mr. kristof are you attempting to \"normalize\" ...\n",
              "29034       29034  ...  one can assess the venal damage to government ...\n",
              "76605       76605  ...  this sounds a little like friedman went to ame...\n",
              "51198       51198  ...  david, i hear your argument, but i think the g...\n",
              "57139       57139  ...  mr. bruni,<br/>your offer to trump to actually...\n",
              "36164       36164  ...  dr. krugman, to condemn a president-elect's po...\n",
              "61470       61470  ...  <br/><br/>i thought you could have nailed this...\n",
              "20082       20082  ...  thank you mr. bruni for helping americans rais...\n",
              "\n",
              "[10 rows x 9 columns]"
            ]
          },
          "metadata": {
            "tags": []
          },
          "execution_count": 80
        }
      ]
    },
    {
      "cell_type": "code",
      "metadata": {
        "id": "bMpG86zHk3Ki",
        "colab_type": "code",
        "outputId": "05390d68-0cfe-440b-bf9d-e0fe3dae5332",
        "colab": {
          "base_uri": "https://localhost:8080/",
          "height": 306
        }
      },
      "source": [
        "# Reshaping the data\n",
        "\n",
        "whole_set.rename(columns={'sentences_author':'text'},inplace=True)\n",
        "whole_set.head()"
      ],
      "execution_count": 0,
      "outputs": [
        {
          "output_type": "execute_result",
          "data": {
            "text/html": [
              "<div>\n",
              "<style scoped>\n",
              "    .dataframe tbody tr th:only-of-type {\n",
              "        vertical-align: middle;\n",
              "    }\n",
              "\n",
              "    .dataframe tbody tr th {\n",
              "        vertical-align: top;\n",
              "    }\n",
              "\n",
              "    .dataframe thead th {\n",
              "        text-align: right;\n",
              "    }\n",
              "</style>\n",
              "<table border=\"1\" class=\"dataframe\">\n",
              "  <thead>\n",
              "    <tr style=\"text-align: right;\">\n",
              "      <th></th>\n",
              "      <th>Unnamed: 0</th>\n",
              "      <th>index</th>\n",
              "      <th>articleID</th>\n",
              "      <th>commentBody</th>\n",
              "      <th>commentID</th>\n",
              "      <th>author</th>\n",
              "      <th>author_tokens</th>\n",
              "      <th>ref_author</th>\n",
              "      <th>text</th>\n",
              "    </tr>\n",
              "  </thead>\n",
              "  <tbody>\n",
              "    <tr>\n",
              "      <th>0</th>\n",
              "      <td>0</td>\n",
              "      <td>0</td>\n",
              "      <td>58def3237c459f24986d7c84</td>\n",
              "      <td>bravo gail !&lt;br/&gt;add to your list of the paria...</td>\n",
              "      <td>2.20e+07</td>\n",
              "      <td>gail collins</td>\n",
              "      <td>['gail', 'collins']</td>\n",
              "      <td>True</td>\n",
              "      <td>bravo gail !&lt;br/&gt;add to your list of the paria...</td>\n",
              "    </tr>\n",
              "    <tr>\n",
              "      <th>1</th>\n",
              "      <td>1</td>\n",
              "      <td>1</td>\n",
              "      <td>58def3237c459f24986d7c84</td>\n",
              "      <td>oh yeah gail we do \"wish this on\" everyone of ...</td>\n",
              "      <td>2.20e+07</td>\n",
              "      <td>gail collins</td>\n",
              "      <td>['gail', 'collins']</td>\n",
              "      <td>True</td>\n",
              "      <td>oh yeah gail we do \"wish this on\" everyone of ...</td>\n",
              "    </tr>\n",
              "    <tr>\n",
              "      <th>2</th>\n",
              "      <td>2</td>\n",
              "      <td>2</td>\n",
              "      <td>58def3237c459f24986d7c84</td>\n",
              "      <td>gail collins' funny columns alone are worth th...</td>\n",
              "      <td>2.20e+07</td>\n",
              "      <td>gail collins</td>\n",
              "      <td>['gail', 'collins']</td>\n",
              "      <td>True</td>\n",
              "      <td>gail collins' funny columns alone are worth th...</td>\n",
              "    </tr>\n",
              "    <tr>\n",
              "      <th>3</th>\n",
              "      <td>3</td>\n",
              "      <td>3</td>\n",
              "      <td>58def3237c459f24986d7c84</td>\n",
              "      <td>as usual, very insightful ms. collins.  to a p...</td>\n",
              "      <td>2.20e+07</td>\n",
              "      <td>gail collins</td>\n",
              "      <td>['gail', 'collins']</td>\n",
              "      <td>True</td>\n",
              "      <td>as usual, very insightful ms. collins.</td>\n",
              "    </tr>\n",
              "    <tr>\n",
              "      <th>4</th>\n",
              "      <td>4</td>\n",
              "      <td>4</td>\n",
              "      <td>58def3237c459f24986d7c84</td>\n",
              "      <td>once again gail collins demonstrates that she'...</td>\n",
              "      <td>2.20e+07</td>\n",
              "      <td>gail collins</td>\n",
              "      <td>['gail', 'collins']</td>\n",
              "      <td>True</td>\n",
              "      <td>once again gail collins demonstrates that she'...</td>\n",
              "    </tr>\n",
              "  </tbody>\n",
              "</table>\n",
              "</div>"
            ],
            "text/plain": [
              "   Unnamed: 0  ...                                               text\n",
              "0           0  ...  bravo gail !<br/>add to your list of the paria...\n",
              "1           1  ...  oh yeah gail we do \"wish this on\" everyone of ...\n",
              "2           2  ...  gail collins' funny columns alone are worth th...\n",
              "3           3  ...             as usual, very insightful ms. collins.\n",
              "4           4  ...  once again gail collins demonstrates that she'...\n",
              "\n",
              "[5 rows x 9 columns]"
            ]
          },
          "metadata": {
            "tags": []
          },
          "execution_count": 81
        }
      ]
    },
    {
      "cell_type": "code",
      "metadata": {
        "id": "H4_wuTm1lSDt",
        "colab_type": "code",
        "outputId": "c41ab60d-7fc8-4b6f-aaa4-a235b7045aa9",
        "colab": {
          "base_uri": "https://localhost:8080/",
          "height": 204
        }
      },
      "source": [
        "whole_set = whole_set[['author','articleID', 'text']]\n",
        "whole_set.head()"
      ],
      "execution_count": 0,
      "outputs": [
        {
          "output_type": "execute_result",
          "data": {
            "text/html": [
              "<div>\n",
              "<style scoped>\n",
              "    .dataframe tbody tr th:only-of-type {\n",
              "        vertical-align: middle;\n",
              "    }\n",
              "\n",
              "    .dataframe tbody tr th {\n",
              "        vertical-align: top;\n",
              "    }\n",
              "\n",
              "    .dataframe thead th {\n",
              "        text-align: right;\n",
              "    }\n",
              "</style>\n",
              "<table border=\"1\" class=\"dataframe\">\n",
              "  <thead>\n",
              "    <tr style=\"text-align: right;\">\n",
              "      <th></th>\n",
              "      <th>author</th>\n",
              "      <th>articleID</th>\n",
              "      <th>text</th>\n",
              "    </tr>\n",
              "  </thead>\n",
              "  <tbody>\n",
              "    <tr>\n",
              "      <th>0</th>\n",
              "      <td>gail collins</td>\n",
              "      <td>58def3237c459f24986d7c84</td>\n",
              "      <td>bravo gail !&lt;br/&gt;add to your list of the paria...</td>\n",
              "    </tr>\n",
              "    <tr>\n",
              "      <th>1</th>\n",
              "      <td>gail collins</td>\n",
              "      <td>58def3237c459f24986d7c84</td>\n",
              "      <td>oh yeah gail we do \"wish this on\" everyone of ...</td>\n",
              "    </tr>\n",
              "    <tr>\n",
              "      <th>2</th>\n",
              "      <td>gail collins</td>\n",
              "      <td>58def3237c459f24986d7c84</td>\n",
              "      <td>gail collins' funny columns alone are worth th...</td>\n",
              "    </tr>\n",
              "    <tr>\n",
              "      <th>3</th>\n",
              "      <td>gail collins</td>\n",
              "      <td>58def3237c459f24986d7c84</td>\n",
              "      <td>as usual, very insightful ms. collins.</td>\n",
              "    </tr>\n",
              "    <tr>\n",
              "      <th>4</th>\n",
              "      <td>gail collins</td>\n",
              "      <td>58def3237c459f24986d7c84</td>\n",
              "      <td>once again gail collins demonstrates that she'...</td>\n",
              "    </tr>\n",
              "  </tbody>\n",
              "</table>\n",
              "</div>"
            ],
            "text/plain": [
              "         author  ...                                               text\n",
              "0  gail collins  ...  bravo gail !<br/>add to your list of the paria...\n",
              "1  gail collins  ...  oh yeah gail we do \"wish this on\" everyone of ...\n",
              "2  gail collins  ...  gail collins' funny columns alone are worth th...\n",
              "3  gail collins  ...             as usual, very insightful ms. collins.\n",
              "4  gail collins  ...  once again gail collins demonstrates that she'...\n",
              "\n",
              "[5 rows x 3 columns]"
            ]
          },
          "metadata": {
            "tags": []
          },
          "execution_count": 82
        }
      ]
    },
    {
      "cell_type": "code",
      "metadata": {
        "id": "MaZE1k0roE1j",
        "colab_type": "code",
        "colab": {}
      },
      "source": [
        "whole_set = whole_set.dropna()"
      ],
      "execution_count": 0,
      "outputs": []
    },
    {
      "cell_type": "code",
      "metadata": {
        "id": "sme7nQSgleC3",
        "colab_type": "code",
        "colab": {}
      },
      "source": [
        "whole_set['text'] = whole_set['text'].apply(preprocess_sentence)\n",
        "whole_set['text'] = whole_set['text'].apply(remove_html)\n",
        "whole_set['text'] = whole_set['text'].apply(remove_hyphen)"
      ],
      "execution_count": 0,
      "outputs": []
    },
    {
      "cell_type": "code",
      "metadata": {
        "id": "FI0EjyxMoUvo",
        "colab_type": "code",
        "outputId": "ca4e8b74-2615-4c11-c42a-2340899a9185",
        "colab": {
          "base_uri": "https://localhost:8080/",
          "height": 51
        }
      },
      "source": [
        "# Report the number of sentences.\n",
        "print('Number of test sentences: {:,}\\n'.format(whole_set.shape[0]))\n",
        "\n",
        "# Create sentence and label lists\n",
        "sentences = whole_set.text.values\n",
        "\n",
        "# Tokenize all of the sentences and map the tokens to thier word IDs.\n",
        "input_ids = []\n",
        "attention_masks = []\n",
        "\n",
        "# For every sentence...\n",
        "for sent in sentences:\n",
        "    encoded_dict = tokenizer.encode_plus(\n",
        "                        sent,                      # Sentence to encode.\n",
        "                        add_special_tokens = True, # Add '[CLS]' and '[SEP]'\n",
        "                        max_length = 64,           # Pad & truncate all sentences.\n",
        "                        pad_to_max_length = True,\n",
        "                        return_attention_mask = True,   # Construct attn. masks.\n",
        "                        return_tensors = 'pt',     # Return pytorch tensors.\n",
        "                   )\n",
        "    \n",
        "    # Add the encoded sentence to the list.    \n",
        "    input_ids.append(encoded_dict['input_ids'])\n",
        "    \n",
        "    # And its attention mask (simply differentiates padding from non-padding).\n",
        "    attention_masks.append(encoded_dict['attention_mask'])\n",
        "\n",
        "# Convert the lists into tensors.\n",
        "input_ids = torch.cat(input_ids, dim=0)\n",
        "attention_masks = torch.cat(attention_masks, dim=0)\n",
        "\n",
        "# Set the batch size.  \n",
        "batch_size = 32  \n",
        "\n",
        "# Create the DataLoader.\n",
        "prediction_data = TensorDataset(input_ids, attention_masks)\n",
        "prediction_sampler = SequentialSampler(prediction_data)\n",
        "prediction_dataloader = DataLoader(prediction_data, sampler=prediction_sampler, batch_size=batch_size)"
      ],
      "execution_count": 0,
      "outputs": [
        {
          "output_type": "stream",
          "text": [
            "Number of test sentences: 78,962\n",
            "\n"
          ],
          "name": "stdout"
        }
      ]
    },
    {
      "cell_type": "markdown",
      "metadata": {
        "id": "zcN0SX23eUNv",
        "colab_type": "text"
      },
      "source": [
        "## 3.2 Prediction"
      ]
    },
    {
      "cell_type": "code",
      "metadata": {
        "id": "0vVy1jZ9pCZA",
        "colab_type": "code",
        "outputId": "a3165384-0ef7-42bc-c87b-2b2559919c1b",
        "colab": {
          "base_uri": "https://localhost:8080/",
          "height": 51
        }
      },
      "source": [
        "# Prediction on test set\n",
        "\n",
        "print('Predicting labels for {:,} test sentences...'.format(len(input_ids)))\n",
        "\n",
        "# Put model in evaluation mode\n",
        "model.eval()\n",
        "\n",
        "# Tracking variables \n",
        "predictions = []\n",
        "\n",
        "# Predict \n",
        "for batch in prediction_dataloader:\n",
        "  # Add batch to GPU\n",
        "  batch = tuple(t.to(device) for t in batch)\n",
        "  \n",
        "  # Unpack the inputs from our dataloader\n",
        "  b_input_ids, b_input_mask = batch\n",
        "  \n",
        "  # Telling the model not to compute or store gradients, saving memory and \n",
        "  # speeding up prediction\n",
        "  with torch.no_grad():\n",
        "      # Forward pass, calculate logit predictions\n",
        "      outputs = model(b_input_ids, token_type_ids=None, \n",
        "                      attention_mask=b_input_mask)\n",
        "\n",
        "  logits = outputs[0]\n",
        "\n",
        "  # Move logits and labels to CPU\n",
        "  logits = logits.detach().cpu().numpy()\n",
        "  \n",
        "  # Store predictions and true labels\n",
        "  predictions.append(logits)\n",
        "\n",
        "print('    DONE.')"
      ],
      "execution_count": 0,
      "outputs": [
        {
          "output_type": "stream",
          "text": [
            "Predicting labels for 78,962 test sentences...\n",
            "    DONE.\n"
          ],
          "name": "stdout"
        }
      ]
    },
    {
      "cell_type": "code",
      "metadata": {
        "id": "hQYDs-uQpRVz",
        "colab_type": "code",
        "colab": {}
      },
      "source": [
        "# Combine the results across all batches. \n",
        "flat_predictions = np.concatenate(predictions, axis=0)\n",
        "flat_predictions = np.argmax(flat_predictions, axis=1).flatten()\n",
        "pred = pd.DataFrame(flat_predictions,columns=['value'])\n",
        "pred.loc[:,'sentiment_predicted'] = pred.value.map({0:'negative',2:'neutral',1:'positive'})\n",
        "pred = pred.drop(['value'], axis=1)"
      ],
      "execution_count": 0,
      "outputs": []
    },
    {
      "cell_type": "code",
      "metadata": {
        "id": "110X2dFcpp-p",
        "colab_type": "code",
        "outputId": "4afd669e-236d-4158-b64a-fb0f840be080",
        "colab": {
          "base_uri": "https://localhost:8080/",
          "height": 359
        }
      },
      "source": [
        "whole_set[\"sentiment_predicted\"] = flat_predictions\n",
        "whole_set.sample(10)"
      ],
      "execution_count": 0,
      "outputs": [
        {
          "output_type": "execute_result",
          "data": {
            "text/html": [
              "<div>\n",
              "<style scoped>\n",
              "    .dataframe tbody tr th:only-of-type {\n",
              "        vertical-align: middle;\n",
              "    }\n",
              "\n",
              "    .dataframe tbody tr th {\n",
              "        vertical-align: top;\n",
              "    }\n",
              "\n",
              "    .dataframe thead th {\n",
              "        text-align: right;\n",
              "    }\n",
              "</style>\n",
              "<table border=\"1\" class=\"dataframe\">\n",
              "  <thead>\n",
              "    <tr style=\"text-align: right;\">\n",
              "      <th></th>\n",
              "      <th>author</th>\n",
              "      <th>articleID</th>\n",
              "      <th>text</th>\n",
              "      <th>sentiment_predicted</th>\n",
              "    </tr>\n",
              "  </thead>\n",
              "  <tbody>\n",
              "    <tr>\n",
              "      <th>68065</th>\n",
              "      <td>paul krugman</td>\n",
              "      <td>5ab97a4e47de81a901217947</td>\n",
              "      <td>his clear summary of their game, strategy, an...</td>\n",
              "      <td>0</td>\n",
              "    </tr>\n",
              "    <tr>\n",
              "      <th>33073</th>\n",
              "      <td>david brooks</td>\n",
              "      <td>5a949f1610f40f00018c32cc</td>\n",
              "      <td>david, youâve contributed to the decline of ...</td>\n",
              "      <td>0</td>\n",
              "    </tr>\n",
              "    <tr>\n",
              "      <th>10187</th>\n",
              "      <td>david brooks</td>\n",
              "      <td>5acfe47e068401528a2a86bb</td>\n",
              "      <td>as i read this contribution by mr. brooks, i k...</td>\n",
              "      <td>0</td>\n",
              "    </tr>\n",
              "    <tr>\n",
              "      <th>33108</th>\n",
              "      <td>david brooks</td>\n",
              "      <td>5a949f1610f40f00018c32cc</td>\n",
              "      <td>epa, cfpb, pbs, public schools, state departme...</td>\n",
              "      <td>0</td>\n",
              "    </tr>\n",
              "    <tr>\n",
              "      <th>78232</th>\n",
              "      <td>david brooks</td>\n",
              "      <td>592d1d7d7c459f24986e2554</td>\n",
              "      <td>sorry david.</td>\n",
              "      <td>2</td>\n",
              "    </tr>\n",
              "    <tr>\n",
              "      <th>49197</th>\n",
              "      <td>charles m. blow</td>\n",
              "      <td>5a5c069c7c459f29e79b3f4f</td>\n",
              "      <td>we are still, in 2018, too far from admitting...</td>\n",
              "      <td>0</td>\n",
              "    </tr>\n",
              "    <tr>\n",
              "      <th>51524</th>\n",
              "      <td>david brooks</td>\n",
              "      <td>5a540ae57c459f29e79b2e94</td>\n",
              "      <td>\"well informed enough to get by\"\"some think he...</td>\n",
              "      <td>0</td>\n",
              "    </tr>\n",
              "    <tr>\n",
              "      <th>16198</th>\n",
              "      <td>david brooks</td>\n",
              "      <td>58943d8995d0e0392607e662</td>\n",
              "      <td>trump-bannonism is believed because the republ...</td>\n",
              "      <td>0</td>\n",
              "    </tr>\n",
              "    <tr>\n",
              "      <th>73882</th>\n",
              "      <td>thomas l. friedman</td>\n",
              "      <td>591b8e417c459f24986dff73</td>\n",
              "      <td>what we need now, author friedman, before it'...</td>\n",
              "      <td>0</td>\n",
              "    </tr>\n",
              "    <tr>\n",
              "      <th>34389</th>\n",
              "      <td>frank bruni</td>\n",
              "      <td>5a8ff0cc10f40f00018c29b7</td>\n",
              "      <td>frank,as someone who has worked in the disabil...</td>\n",
              "      <td>1</td>\n",
              "    </tr>\n",
              "  </tbody>\n",
              "</table>\n",
              "</div>"
            ],
            "text/plain": [
              "                   author  ... sentiment_predicted\n",
              "68065        paul krugman  ...                   0\n",
              "33073        david brooks  ...                   0\n",
              "10187        david brooks  ...                   0\n",
              "33108        david brooks  ...                   0\n",
              "78232        david brooks  ...                   2\n",
              "49197     charles m. blow  ...                   0\n",
              "51524        david brooks  ...                   0\n",
              "16198        david brooks  ...                   0\n",
              "73882  thomas l. friedman  ...                   0\n",
              "34389         frank bruni  ...                   1\n",
              "\n",
              "[10 rows x 4 columns]"
            ]
          },
          "metadata": {
            "tags": []
          },
          "execution_count": 88
        }
      ]
    },
    {
      "cell_type": "code",
      "metadata": {
        "id": "NCBMKz7qqKbb",
        "colab_type": "code",
        "colab": {}
      },
      "source": [
        "#from google.colab import files\n",
        "#whole_set.to_csv('final_set.csv') \n",
        "#files.download('final_set.csv')"
      ],
      "execution_count": 0,
      "outputs": []
    },
    {
      "cell_type": "markdown",
      "metadata": {
        "id": "Ks6ZcDLYedP_",
        "colab_type": "text"
      },
      "source": [
        "# 4. Results"
      ]
    },
    {
      "cell_type": "markdown",
      "metadata": {
        "id": "nerCNh1wegeW",
        "colab_type": "text"
      },
      "source": [
        "To conclude, we analyze the results we obtained with our model. We want to analyse the journalists that have more positive / negative comments."
      ]
    },
    {
      "cell_type": "code",
      "metadata": {
        "id": "wqzRjS2ReeXr",
        "colab_type": "code",
        "colab": {}
      },
      "source": [
        "#final = pd.read_csv('data/final_set.csv', sep=\",\")\n",
        "final = whole_set"
      ],
      "execution_count": 0,
      "outputs": []
    },
    {
      "cell_type": "code",
      "metadata": {
        "id": "abKRlB4qeioh",
        "colab_type": "code",
        "outputId": "4d3ddc98-28b6-4b9b-8c84-c6de1cc2b2cf",
        "colab": {
          "base_uri": "https://localhost:8080/",
          "height": 700
        }
      },
      "source": [
        "# Reshape the dataset and keep only important variables\n",
        "final['sentiment_str'] = final['sentiment_predicted'].map({0:'negative',2:'neutral',1:'positive'})\n",
        "\n",
        "final = final.groupby(['author','sentiment_str']).agg('count').reset_index()\\\n",
        "            .pivot(index='author',columns='sentiment_str', values='text').reset_index()\n",
        "final['nb_comments'] = final.sum(axis=1)\n",
        "\n",
        "# Percentage of negative/positive/neutral comments\n",
        "for sentiment in ['positive','negative','neutral']:\n",
        "    final[sentiment+'_pct'] = final[sentiment]/final['nb_comments']\n",
        "\n",
        "final"
      ],
      "execution_count": 0,
      "outputs": [
        {
          "output_type": "execute_result",
          "data": {
            "text/html": [
              "<div>\n",
              "<style scoped>\n",
              "    .dataframe tbody tr th:only-of-type {\n",
              "        vertical-align: middle;\n",
              "    }\n",
              "\n",
              "    .dataframe tbody tr th {\n",
              "        vertical-align: top;\n",
              "    }\n",
              "\n",
              "    .dataframe thead th {\n",
              "        text-align: right;\n",
              "    }\n",
              "</style>\n",
              "<table border=\"1\" class=\"dataframe\">\n",
              "  <thead>\n",
              "    <tr style=\"text-align: right;\">\n",
              "      <th>sentiment_str</th>\n",
              "      <th>author</th>\n",
              "      <th>negative</th>\n",
              "      <th>neutral</th>\n",
              "      <th>positive</th>\n",
              "      <th>nb_comments</th>\n",
              "      <th>positive_pct</th>\n",
              "      <th>negative_pct</th>\n",
              "      <th>neutral_pct</th>\n",
              "    </tr>\n",
              "  </thead>\n",
              "  <tbody>\n",
              "    <tr>\n",
              "      <th>0</th>\n",
              "      <td>andrew rosenthal</td>\n",
              "      <td>127.0</td>\n",
              "      <td>17.0</td>\n",
              "      <td>25.0</td>\n",
              "      <td>169.0</td>\n",
              "      <td>0.15</td>\n",
              "      <td>0.75</td>\n",
              "      <td>0.10</td>\n",
              "    </tr>\n",
              "    <tr>\n",
              "      <th>1</th>\n",
              "      <td>bret stephens</td>\n",
              "      <td>2664.0</td>\n",
              "      <td>624.0</td>\n",
              "      <td>526.0</td>\n",
              "      <td>3814.0</td>\n",
              "      <td>0.14</td>\n",
              "      <td>0.70</td>\n",
              "      <td>0.16</td>\n",
              "    </tr>\n",
              "    <tr>\n",
              "      <th>2</th>\n",
              "      <td>charles m. blow</td>\n",
              "      <td>5604.0</td>\n",
              "      <td>718.0</td>\n",
              "      <td>2111.0</td>\n",
              "      <td>8433.0</td>\n",
              "      <td>0.25</td>\n",
              "      <td>0.66</td>\n",
              "      <td>0.09</td>\n",
              "    </tr>\n",
              "    <tr>\n",
              "      <th>3</th>\n",
              "      <td>david brooks</td>\n",
              "      <td>13274.0</td>\n",
              "      <td>2470.0</td>\n",
              "      <td>2177.0</td>\n",
              "      <td>17921.0</td>\n",
              "      <td>0.12</td>\n",
              "      <td>0.74</td>\n",
              "      <td>0.14</td>\n",
              "    </tr>\n",
              "    <tr>\n",
              "      <th>4</th>\n",
              "      <td>david leonhardt</td>\n",
              "      <td>961.0</td>\n",
              "      <td>189.0</td>\n",
              "      <td>237.0</td>\n",
              "      <td>1387.0</td>\n",
              "      <td>0.17</td>\n",
              "      <td>0.69</td>\n",
              "      <td>0.14</td>\n",
              "    </tr>\n",
              "    <tr>\n",
              "      <th>5</th>\n",
              "      <td>evan gershkovich</td>\n",
              "      <td>20.0</td>\n",
              "      <td>3.0</td>\n",
              "      <td>NaN</td>\n",
              "      <td>23.0</td>\n",
              "      <td>NaN</td>\n",
              "      <td>0.87</td>\n",
              "      <td>0.13</td>\n",
              "    </tr>\n",
              "    <tr>\n",
              "      <th>6</th>\n",
              "      <td>frank bruni</td>\n",
              "      <td>3628.0</td>\n",
              "      <td>680.0</td>\n",
              "      <td>1527.0</td>\n",
              "      <td>5835.0</td>\n",
              "      <td>0.26</td>\n",
              "      <td>0.62</td>\n",
              "      <td>0.12</td>\n",
              "    </tr>\n",
              "    <tr>\n",
              "      <th>7</th>\n",
              "      <td>gail collins</td>\n",
              "      <td>2193.0</td>\n",
              "      <td>641.0</td>\n",
              "      <td>1065.0</td>\n",
              "      <td>3899.0</td>\n",
              "      <td>0.27</td>\n",
              "      <td>0.56</td>\n",
              "      <td>0.16</td>\n",
              "    </tr>\n",
              "    <tr>\n",
              "      <th>8</th>\n",
              "      <td>jennifer finney boylan</td>\n",
              "      <td>90.0</td>\n",
              "      <td>28.0</td>\n",
              "      <td>74.0</td>\n",
              "      <td>192.0</td>\n",
              "      <td>0.39</td>\n",
              "      <td>0.47</td>\n",
              "      <td>0.15</td>\n",
              "    </tr>\n",
              "    <tr>\n",
              "      <th>9</th>\n",
              "      <td>linda greenhouse</td>\n",
              "      <td>296.0</td>\n",
              "      <td>39.0</td>\n",
              "      <td>98.0</td>\n",
              "      <td>433.0</td>\n",
              "      <td>0.23</td>\n",
              "      <td>0.68</td>\n",
              "      <td>0.09</td>\n",
              "    </tr>\n",
              "    <tr>\n",
              "      <th>10</th>\n",
              "      <td>liz spayd</td>\n",
              "      <td>561.0</td>\n",
              "      <td>67.0</td>\n",
              "      <td>43.0</td>\n",
              "      <td>671.0</td>\n",
              "      <td>0.06</td>\n",
              "      <td>0.84</td>\n",
              "      <td>0.10</td>\n",
              "    </tr>\n",
              "    <tr>\n",
              "      <th>11</th>\n",
              "      <td>margaret renkl</td>\n",
              "      <td>60.0</td>\n",
              "      <td>31.0</td>\n",
              "      <td>72.0</td>\n",
              "      <td>163.0</td>\n",
              "      <td>0.44</td>\n",
              "      <td>0.37</td>\n",
              "      <td>0.19</td>\n",
              "    </tr>\n",
              "    <tr>\n",
              "      <th>12</th>\n",
              "      <td>maureen dowd</td>\n",
              "      <td>2026.0</td>\n",
              "      <td>405.0</td>\n",
              "      <td>794.0</td>\n",
              "      <td>3225.0</td>\n",
              "      <td>0.25</td>\n",
              "      <td>0.63</td>\n",
              "      <td>0.13</td>\n",
              "    </tr>\n",
              "    <tr>\n",
              "      <th>13</th>\n",
              "      <td>michelle goldberg</td>\n",
              "      <td>765.0</td>\n",
              "      <td>129.0</td>\n",
              "      <td>250.0</td>\n",
              "      <td>1144.0</td>\n",
              "      <td>0.22</td>\n",
              "      <td>0.67</td>\n",
              "      <td>0.11</td>\n",
              "    </tr>\n",
              "    <tr>\n",
              "      <th>14</th>\n",
              "      <td>nicholas kristof</td>\n",
              "      <td>2226.0</td>\n",
              "      <td>506.0</td>\n",
              "      <td>946.0</td>\n",
              "      <td>3678.0</td>\n",
              "      <td>0.26</td>\n",
              "      <td>0.61</td>\n",
              "      <td>0.14</td>\n",
              "    </tr>\n",
              "    <tr>\n",
              "      <th>15</th>\n",
              "      <td>paul krugman</td>\n",
              "      <td>6892.0</td>\n",
              "      <td>1431.0</td>\n",
              "      <td>1270.0</td>\n",
              "      <td>9593.0</td>\n",
              "      <td>0.13</td>\n",
              "      <td>0.72</td>\n",
              "      <td>0.15</td>\n",
              "    </tr>\n",
              "    <tr>\n",
              "      <th>16</th>\n",
              "      <td>roger cohen</td>\n",
              "      <td>2083.0</td>\n",
              "      <td>333.0</td>\n",
              "      <td>601.0</td>\n",
              "      <td>3017.0</td>\n",
              "      <td>0.20</td>\n",
              "      <td>0.69</td>\n",
              "      <td>0.11</td>\n",
              "    </tr>\n",
              "    <tr>\n",
              "      <th>17</th>\n",
              "      <td>ross douthat</td>\n",
              "      <td>8012.0</td>\n",
              "      <td>1388.0</td>\n",
              "      <td>785.0</td>\n",
              "      <td>10185.0</td>\n",
              "      <td>0.08</td>\n",
              "      <td>0.79</td>\n",
              "      <td>0.14</td>\n",
              "    </tr>\n",
              "    <tr>\n",
              "      <th>18</th>\n",
              "      <td>thomas b. edsall</td>\n",
              "      <td>745.0</td>\n",
              "      <td>138.0</td>\n",
              "      <td>169.0</td>\n",
              "      <td>1052.0</td>\n",
              "      <td>0.16</td>\n",
              "      <td>0.71</td>\n",
              "      <td>0.13</td>\n",
              "    </tr>\n",
              "    <tr>\n",
              "      <th>19</th>\n",
              "      <td>thomas l. friedman</td>\n",
              "      <td>2174.0</td>\n",
              "      <td>411.0</td>\n",
              "      <td>606.0</td>\n",
              "      <td>3191.0</td>\n",
              "      <td>0.19</td>\n",
              "      <td>0.68</td>\n",
              "      <td>0.13</td>\n",
              "    </tr>\n",
              "    <tr>\n",
              "      <th>20</th>\n",
              "      <td>timothy egan</td>\n",
              "      <td>550.0</td>\n",
              "      <td>115.0</td>\n",
              "      <td>272.0</td>\n",
              "      <td>937.0</td>\n",
              "      <td>0.29</td>\n",
              "      <td>0.59</td>\n",
              "      <td>0.12</td>\n",
              "    </tr>\n",
              "  </tbody>\n",
              "</table>\n",
              "</div>"
            ],
            "text/plain": [
              "sentiment_str                  author  negative  ...  negative_pct  neutral_pct\n",
              "0                    andrew rosenthal     127.0  ...          0.75         0.10\n",
              "1                       bret stephens    2664.0  ...          0.70         0.16\n",
              "2                     charles m. blow    5604.0  ...          0.66         0.09\n",
              "3                        david brooks   13274.0  ...          0.74         0.14\n",
              "4                     david leonhardt     961.0  ...          0.69         0.14\n",
              "5                    evan gershkovich      20.0  ...          0.87         0.13\n",
              "6                         frank bruni    3628.0  ...          0.62         0.12\n",
              "7                        gail collins    2193.0  ...          0.56         0.16\n",
              "8              jennifer finney boylan      90.0  ...          0.47         0.15\n",
              "9                    linda greenhouse     296.0  ...          0.68         0.09\n",
              "10                          liz spayd     561.0  ...          0.84         0.10\n",
              "11                     margaret renkl      60.0  ...          0.37         0.19\n",
              "12                       maureen dowd    2026.0  ...          0.63         0.13\n",
              "13                  michelle goldberg     765.0  ...          0.67         0.11\n",
              "14                   nicholas kristof    2226.0  ...          0.61         0.14\n",
              "15                       paul krugman    6892.0  ...          0.72         0.15\n",
              "16                        roger cohen    2083.0  ...          0.69         0.11\n",
              "17                       ross douthat    8012.0  ...          0.79         0.14\n",
              "18                   thomas b. edsall     745.0  ...          0.71         0.13\n",
              "19                 thomas l. friedman    2174.0  ...          0.68         0.13\n",
              "20                       timothy egan     550.0  ...          0.59         0.12\n",
              "\n",
              "[21 rows x 8 columns]"
            ]
          },
          "metadata": {
            "tags": []
          },
          "execution_count": 90
        }
      ]
    },
    {
      "cell_type": "markdown",
      "metadata": {
        "id": "Gqu32XwlemQv",
        "colab_type": "text"
      },
      "source": [
        "In graphs, we represent the numbers of positive/negative/neutral comments, for each journalist. Contrary to the graphs in the introduction, these graphs are stacked -- so the different bars in the barplots do not start at the y-axis."
      ]
    },
    {
      "cell_type": "code",
      "metadata": {
        "id": "88ewpJBDeka5",
        "colab_type": "code",
        "colab": {}
      },
      "source": [
        "def set_size(w,h, ax=None):\n",
        "    \"\"\" w, h: width, height in inches \"\"\"\n",
        "    if not ax: ax=plt.gca()\n",
        "    l = ax.figure.subplotpars.left\n",
        "    r = ax.figure.subplotpars.right\n",
        "    t = ax.figure.subplotpars.top\n",
        "    b = ax.figure.subplotpars.bottom\n",
        "    figw = float(w)/(r-l)\n",
        "    figh = float(h)/(t-b)\n",
        "    ax.figure.set_size_inches(figw, figh)"
      ],
      "execution_count": 0,
      "outputs": []
    },
    {
      "cell_type": "code",
      "metadata": {
        "id": "88MfrcLceoxr",
        "colab_type": "code",
        "outputId": "15813c41-eee4-4c19-eab5-dc344c00ae1d",
        "colab": {
          "base_uri": "https://localhost:8080/",
          "height": 430
        }
      },
      "source": [
        "final.set_index('author')[['negative','positive','neutral']]\\\n",
        "                .plot.barh(stacked=True, title=\"Number of comments by each sentiment\")\n",
        "set_size(10,5)"
      ],
      "execution_count": 0,
      "outputs": [
        {
          "output_type": "display_data",
          "data": {
            "image/png": "[encoded data removed]",
            "text/plain": [
              "<Figure size 929.032x476.821 with 1 Axes>"
            ]
          },
          "metadata": {
            "tags": []
          }
        }
      ]
    },
    {
      "cell_type": "code",
      "metadata": {
        "id": "0yGFtVreerB6",
        "colab_type": "code",
        "outputId": "2b061012-486a-415f-82e3-40231f314d0c",
        "colab": {
          "base_uri": "https://localhost:8080/",
          "height": 430
        }
      },
      "source": [
        "final.set_index('author')[['negative_pct','positive_pct','neutral_pct']]\\\n",
        "                .plot.barh(stacked=True, title=\"Number of comments by each sentiment\")\n",
        "set_size(10,5)"
      ],
      "execution_count": 0,
      "outputs": [
        {
          "output_type": "display_data",
          "data": {
            "image/png": "[encoded data removed]",
            "text/plain": [
              "<Figure size 929.032x476.821 with 1 Axes>"
            ]
          },
          "metadata": {
            "tags": []
          }
        }
      ]
    },
    {
      "cell_type": "code",
      "metadata": {
        "id": "tyVX2udyerhD",
        "colab_type": "code",
        "outputId": "d9b72e23-548d-4713-ace3-9ada6e1ea781",
        "colab": {
          "base_uri": "https://localhost:8080/",
          "height": 430
        }
      },
      "source": [
        "final.sort_values('negative_pct').set_index('author')[['negative_pct','positive_pct','neutral_pct']]\\\n",
        "                .plot.barh(stacked=True, title=\"Number of comments by each sentiment\")\n",
        "set_size(10,5)"
      ],
      "execution_count": 0,
      "outputs": [
        {
          "output_type": "display_data",
          "data": {
            "image/png": "[encoded data removed]",
            "text/plain": [
              "<Figure size 929.032x476.821 with 1 Axes>"
            ]
          },
          "metadata": {
            "tags": []
          }
        }
      ]
    },
    {
      "cell_type": "markdown",
      "metadata": {
        "id": "4yUY_JzNeux2",
        "colab_type": "text"
      },
      "source": [
        "The graphs of the predicted sentiments confirm that our model does not precisely work on our dataset. Indeed, the model does not predict well the negative sentiment -- too many comments are labellized as \"negative\". However, if we stand with this analysis, we can identify the journalists that have more positive comments (which is often correlated with having a few negative comments), and might be more popular among the audience."
      ]
    },
    {
      "cell_type": "markdown",
      "metadata": {
        "id": "v1w39PI5eyuY",
        "colab_type": "text"
      },
      "source": [
        "# Conclusion"
      ]
    },
    {
      "cell_type": "markdown",
      "metadata": {
        "id": "tyB0hf_ozdW8",
        "colab_type": "text"
      },
      "source": [
        "From our first indicator (the average number of comments per article), David Brooks and Charles Blow really seem able to stir some debate over the issues they raise. It is more difficult to assess the journalists based on our second indicator as our predictions are not particularly good. All we know is that the positive comments we predict are most of the true positive comments. From this perspective, we can infer that Margaret Renkl, Jennifer Finney Boylan and Gail Collins' writings appeal to a lot of NYT readers. \n",
        "\n",
        "On average, Nicholas Kristof seems to do pretty good on the two indicators.\n",
        "\n",
        "A further interesting question for future work would be to understand what topics or which style triggers more reaction, more polarization or more consensus"
      ]
    },
    {
      "cell_type": "code",
      "metadata": {
        "id": "gdjoxBXz0OGV",
        "colab_type": "code",
        "colab": {}
      },
      "source": [
        ""
      ],
      "execution_count": 0,
      "outputs": []
    }
  ]
}