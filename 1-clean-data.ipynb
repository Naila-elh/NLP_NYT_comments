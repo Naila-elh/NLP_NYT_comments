{
 "cells": [
  {
   "cell_type": "markdown",
   "metadata": {},
   "source": [
    "Ressources:\n",
    "- Jeux de données d'entraînement : https://blog.cambridgespark.com/50-free-machine-learning-datasets-sentiment-analysis-b9388f79c124\n",
    "- Sentiment analysis : https://medium.com/nearist-ai/word2vec-tutorial-the-skip-gram-model-c7926e1fdc09\n",
    "- Sentiment analysis : https://towardsdatascience.com/unsupervised-sentiment-analysis-a38bf1906483"
   ]
  },
  {
   "cell_type": "markdown",
   "metadata": {},
   "source": [
    "Questions à se poser:\n",
    "- Pour les articles: on distingue selon articles ou blog? Et on fait par catégorie d'articles?\n",
    "- Pour les commentaires : on distingue commentaire et réponse à un commentaire ou on regarde juste les commentaires?"
   ]
  },
  {
   "cell_type": "code",
   "execution_count": 393,
   "metadata": {
    "ExecuteTime": {
     "end_time": "2020-04-12T16:38:06.464778Z",
     "start_time": "2020-04-12T16:38:06.458837Z"
    }
   },
   "outputs": [],
   "source": [
    "import pandas as pd\n",
    "import numpy as np\n",
    "import os\n",
    "from glob import glob"
   ]
  },
  {
   "cell_type": "code",
   "execution_count": 394,
   "metadata": {
    "ExecuteTime": {
     "end_time": "2020-04-12T16:38:06.791329Z",
     "start_time": "2020-04-12T16:38:06.788297Z"
    }
   },
   "outputs": [],
   "source": [
    "path_to_data = ('data/')"
   ]
  },
  {
   "cell_type": "code",
   "execution_count": 395,
   "metadata": {
    "ExecuteTime": {
     "end_time": "2020-04-12T16:40:26.074203Z",
     "start_time": "2020-04-12T16:38:07.405412Z"
    }
   },
   "outputs": [
    {
     "name": "stdout",
     "output_type": "stream",
     "text": [
      "Reading articles...\n",
      "Reading comments...\n"
     ]
    },
    {
     "name": "stderr",
     "output_type": "stream",
     "text": [
      "C:\\Users\\naila\\Anaconda3\\lib\\site-packages\\IPython\\core\\interactiveshell.py:3296: DtypeWarning: Columns (25,26) have mixed types. Specify dtype option on import or set low_memory=False.\n",
      "  exec(code_obj, self.user_global_ns, self.user_ns)\n",
      "C:\\Users\\naila\\Anaconda3\\lib\\site-packages\\IPython\\core\\interactiveshell.py:3296: DtypeWarning: Columns (32) have mixed types. Specify dtype option on import or set low_memory=False.\n",
      "  exec(code_obj, self.user_global_ns, self.user_ns)\n",
      "C:\\Users\\naila\\Anaconda3\\lib\\site-packages\\IPython\\core\\interactiveshell.py:3296: DtypeWarning: Columns (14,15,31,32) have mixed types. Specify dtype option on import or set low_memory=False.\n",
      "  exec(code_obj, self.user_global_ns, self.user_ns)\n",
      "C:\\Users\\naila\\Anaconda3\\lib\\site-packages\\IPython\\core\\interactiveshell.py:3296: DtypeWarning: Columns (32,33) have mixed types. Specify dtype option on import or set low_memory=False.\n",
      "  exec(code_obj, self.user_global_ns, self.user_ns)\n",
      "C:\\Users\\naila\\Anaconda3\\lib\\site-packages\\IPython\\core\\interactiveshell.py:3296: DtypeWarning: Columns (14,15,31) have mixed types. Specify dtype option on import or set low_memory=False.\n",
      "  exec(code_obj, self.user_global_ns, self.user_ns)\n"
     ]
    }
   ],
   "source": [
    "print('Reading articles...')\n",
    "articles = pd.concat(map(pd.read_csv, glob(os.path.join(path_to_data+'nyt-articles/', \"*.csv\"))), axis=0, sort=True).reset_index(drop=True)\n",
    "print('Reading comments...')\n",
    "comments = pd.concat(map(pd.read_csv, glob(os.path.join(path_to_data+'nyt-comments/', \"*.csv\"))), axis=0, sort=True).reset_index(drop=True)"
   ]
  },
  {
   "cell_type": "code",
   "execution_count": 396,
   "metadata": {
    "ExecuteTime": {
     "end_time": "2020-04-12T16:40:26.196320Z",
     "start_time": "2020-04-12T16:40:26.097509Z"
    }
   },
   "outputs": [
    {
     "data": {
      "text/plain": [
       "2176364"
      ]
     },
     "execution_count": 396,
     "metadata": {},
     "output_type": "execute_result"
    }
   ],
   "source": [
    "len(comments)"
   ]
  },
  {
   "cell_type": "code",
   "execution_count": 397,
   "metadata": {
    "ExecuteTime": {
     "end_time": "2020-04-12T16:40:26.210250Z",
     "start_time": "2020-04-12T16:40:26.200277Z"
    }
   },
   "outputs": [
    {
     "data": {
      "text/plain": [
       "9335"
      ]
     },
     "execution_count": 397,
     "metadata": {},
     "output_type": "execute_result"
    }
   ],
   "source": [
    "len(articles)"
   ]
  },
  {
   "cell_type": "markdown",
   "metadata": {},
   "source": [
    "# 1. Descriptive statistics"
   ]
  },
  {
   "cell_type": "code",
   "execution_count": 7,
   "metadata": {
    "ExecuteTime": {
     "end_time": "2020-04-11T20:15:40.740779Z",
     "start_time": "2020-04-11T20:15:40.003191Z"
    }
   },
   "outputs": [
    {
     "data": {
      "text/plain": [
       "article     9168\n",
       "blogpost     167\n",
       "Name: documentType, dtype: int64"
      ]
     },
     "execution_count": 7,
     "metadata": {},
     "output_type": "execute_result"
    }
   ],
   "source": [
    "articles['documentType'].value_counts() # some of them are blogposts"
   ]
  },
  {
   "cell_type": "code",
   "execution_count": 8,
   "metadata": {
    "ExecuteTime": {
     "end_time": "2020-04-11T20:15:41.116700Z",
     "start_time": "2020-04-11T20:15:40.756738Z"
    },
    "scrolled": true
   },
   "outputs": [
    {
     "data": {
      "text/plain": [
       "News               6219\n",
       "Op-Ed              1693\n",
       "Review              513\n",
       "Editorial           302\n",
       "briefing            298\n",
       "Blog                167\n",
       "News Analysis        48\n",
       "Brief                34\n",
       "Obituary (Obit)      29\n",
       "Question             19\n",
       "Letter                9\n",
       "Biography             2\n",
       "An Appraisal          1\n",
       "Interview             1\n",
       "Name: typeOfMaterial, dtype: int64"
      ]
     },
     "execution_count": 8,
     "metadata": {},
     "output_type": "execute_result"
    }
   ],
   "source": [
    "articles['typeOfMaterial'].value_counts(dropna=False)"
   ]
  },
  {
   "cell_type": "code",
   "execution_count": 9,
   "metadata": {
    "ExecuteTime": {
     "end_time": "2020-04-11T20:15:42.133471Z",
     "start_time": "2020-04-11T20:15:41.839455Z"
    },
    "scrolled": true
   },
   "outputs": [
    {
     "data": {
      "text/plain": [
       "Unknown                       6380\n",
       "Politics                       638\n",
       "Sunday Review                  353\n",
       "Television                     261\n",
       "Asia Pacific                   174\n",
       "Europe                         172\n",
       "Family                         166\n",
       "Live                           138\n",
       "Middle East                     89\n",
       "Move                            61\n",
       "Book Review                     60\n",
       "Economy                         54\n",
       "Art & Design                    54\n",
       "Baseball                        52\n",
       "Eat                             47\n",
       "Olympics                        45\n",
       "Soccer                          43\n",
       "Media                           43\n",
       "Mind                            42\n",
       "Lesson Plans                    41\n",
       "The Daily                       40\n",
       "Music                           38\n",
       "Americas                        37\n",
       "Pro Basketball                  34\n",
       "Wine, Beer & Cocktails          33\n",
       "Pro Football                    31\n",
       "DealBook                        31\n",
       "Africa                          21\n",
       "College Basketball              20\n",
       "Tennis                          17\n",
       "                              ... \n",
       "Education Life                  11\n",
       "Personal Tech                   10\n",
       "Energy & Environment             8\n",
       "Hockey                           8\n",
       "Dance                            7\n",
       "Australia                        7\n",
       "Retirement                       6\n",
       "College Football                 5\n",
       "Room For Debate                  4\n",
       "Editorials                       3\n",
       "Weddings                         3\n",
       "401(k)'s and Similar Plans       2\n",
       "Opinion | Politics               2\n",
       "Fashion & Beauty                 2\n",
       "Auto Racing                      1\n",
       "Art                              1\n",
       "Real Estate                      1\n",
       "Cricket                          1\n",
       "Insider Events                   1\n",
       "Opinion | The World              1\n",
       "Cycling                          1\n",
       "Automobiles                      1\n",
       "Food                             1\n",
       "Entrepreneurship                 1\n",
       "Entertainment                    1\n",
       "Paying for College               1\n",
       "Learning                         1\n",
       "Rugby                            1\n",
       "Student Loans                    1\n",
       "Neighborhoods                    1\n",
       "Name: sectionName, Length: 62, dtype: int64"
      ]
     },
     "execution_count": 9,
     "metadata": {},
     "output_type": "execute_result"
    }
   ],
   "source": [
    "articles['sectionName'].value_counts(dropna=False)"
   ]
  },
  {
   "cell_type": "code",
   "execution_count": 10,
   "metadata": {
    "ExecuteTime": {
     "end_time": "2020-04-11T20:15:42.890340Z",
     "start_time": "2020-04-11T20:15:42.138398Z"
    }
   },
   "outputs": [
    {
     "data": {
      "text/plain": [
       "Index(['approveDate', 'articleID', 'articleWordCount', 'commentBody',\n",
       "       'commentID', 'commentSequence', 'commentTitle', 'commentType',\n",
       "       'createDate', 'depth', 'editorsSelection', 'inReplyTo', 'newDesk',\n",
       "       'parentID', 'parentUserDisplayName', 'permID', 'picURL', 'printPage',\n",
       "       'recommendations', 'recommendedFlag', 'replyCount', 'reportAbuseFlag',\n",
       "       'sectionName', 'sharing', 'status', 'timespeople', 'trusted',\n",
       "       'typeOfMaterial', 'updateDate', 'userDisplayName', 'userID',\n",
       "       'userLocation', 'userTitle', 'userURL'],\n",
       "      dtype='object')"
      ]
     },
     "execution_count": 10,
     "metadata": {},
     "output_type": "execute_result"
    }
   ],
   "source": [
    "comments.columns"
   ]
  },
  {
   "cell_type": "code",
   "execution_count": 11,
   "metadata": {
    "ExecuteTime": {
     "end_time": "2020-04-11T20:15:44.071688Z",
     "start_time": "2020-04-11T20:15:42.893337Z"
    },
    "scrolled": true
   },
   "outputs": [
    {
     "data": {
      "text/html": [
       "<div>\n",
       "<style scoped>\n",
       "    .dataframe tbody tr th:only-of-type {\n",
       "        vertical-align: middle;\n",
       "    }\n",
       "\n",
       "    .dataframe tbody tr th {\n",
       "        vertical-align: top;\n",
       "    }\n",
       "\n",
       "    .dataframe thead th {\n",
       "        text-align: right;\n",
       "    }\n",
       "</style>\n",
       "<table border=\"1\" class=\"dataframe\">\n",
       "  <thead>\n",
       "    <tr style=\"text-align: right;\">\n",
       "      <th></th>\n",
       "      <th>approveDate</th>\n",
       "      <th>articleID</th>\n",
       "      <th>articleWordCount</th>\n",
       "      <th>commentBody</th>\n",
       "      <th>commentID</th>\n",
       "      <th>commentSequence</th>\n",
       "      <th>commentTitle</th>\n",
       "      <th>commentType</th>\n",
       "      <th>createDate</th>\n",
       "      <th>depth</th>\n",
       "      <th>...</th>\n",
       "      <th>status</th>\n",
       "      <th>timespeople</th>\n",
       "      <th>trusted</th>\n",
       "      <th>typeOfMaterial</th>\n",
       "      <th>updateDate</th>\n",
       "      <th>userDisplayName</th>\n",
       "      <th>userID</th>\n",
       "      <th>userLocation</th>\n",
       "      <th>userTitle</th>\n",
       "      <th>userURL</th>\n",
       "    </tr>\n",
       "  </thead>\n",
       "  <tbody>\n",
       "    <tr>\n",
       "      <th>0</th>\n",
       "      <td>1491245186</td>\n",
       "      <td>58def1347c459f24986d7c80</td>\n",
       "      <td>716.0</td>\n",
       "      <td>This project makes me happy to be a 30+ year T...</td>\n",
       "      <td>22022598.0</td>\n",
       "      <td>22022598.0</td>\n",
       "      <td>&lt;br/&gt;</td>\n",
       "      <td>comment</td>\n",
       "      <td>1.491237e+09</td>\n",
       "      <td>1.0</td>\n",
       "      <td>...</td>\n",
       "      <td>approved</td>\n",
       "      <td>1.0</td>\n",
       "      <td>0.0</td>\n",
       "      <td>News</td>\n",
       "      <td>1491245186</td>\n",
       "      <td>Rob Gayle</td>\n",
       "      <td>46006296.0</td>\n",
       "      <td>Riverside, CA</td>\n",
       "      <td>NaN</td>\n",
       "      <td>NaN</td>\n",
       "    </tr>\n",
       "    <tr>\n",
       "      <th>1</th>\n",
       "      <td>1491188619</td>\n",
       "      <td>58def1347c459f24986d7c80</td>\n",
       "      <td>716.0</td>\n",
       "      <td>Stunning photos and reportage. Infuriating tha...</td>\n",
       "      <td>22017350.0</td>\n",
       "      <td>22017350.0</td>\n",
       "      <td>NaN</td>\n",
       "      <td>comment</td>\n",
       "      <td>1.491180e+09</td>\n",
       "      <td>1.0</td>\n",
       "      <td>...</td>\n",
       "      <td>approved</td>\n",
       "      <td>1.0</td>\n",
       "      <td>0.0</td>\n",
       "      <td>News</td>\n",
       "      <td>1491188619</td>\n",
       "      <td>Susan A.</td>\n",
       "      <td>29202761.0</td>\n",
       "      <td>&lt;br/&gt;</td>\n",
       "      <td>NaN</td>\n",
       "      <td>NaN</td>\n",
       "    </tr>\n",
       "    <tr>\n",
       "      <th>2</th>\n",
       "      <td>1491188617</td>\n",
       "      <td>58def1347c459f24986d7c80</td>\n",
       "      <td>716.0</td>\n",
       "      <td>Brilliant work from conception to execution. I...</td>\n",
       "      <td>22017334.0</td>\n",
       "      <td>22017334.0</td>\n",
       "      <td>&lt;br/&gt;</td>\n",
       "      <td>comment</td>\n",
       "      <td>1.491179e+09</td>\n",
       "      <td>1.0</td>\n",
       "      <td>...</td>\n",
       "      <td>approved</td>\n",
       "      <td>1.0</td>\n",
       "      <td>0.0</td>\n",
       "      <td>News</td>\n",
       "      <td>1491188617</td>\n",
       "      <td>Meta</td>\n",
       "      <td>63944806.0</td>\n",
       "      <td>Raleigh NC</td>\n",
       "      <td>NaN</td>\n",
       "      <td>NaN</td>\n",
       "    </tr>\n",
       "    <tr>\n",
       "      <th>3</th>\n",
       "      <td>1491167820</td>\n",
       "      <td>58def1347c459f24986d7c80</td>\n",
       "      <td>716.0</td>\n",
       "      <td>NYT reporters should provide a contributor's l...</td>\n",
       "      <td>22015913.0</td>\n",
       "      <td>22015913.0</td>\n",
       "      <td>&lt;br/&gt;</td>\n",
       "      <td>comment</td>\n",
       "      <td>1.491150e+09</td>\n",
       "      <td>1.0</td>\n",
       "      <td>...</td>\n",
       "      <td>approved</td>\n",
       "      <td>1.0</td>\n",
       "      <td>0.0</td>\n",
       "      <td>News</td>\n",
       "      <td>1491167820</td>\n",
       "      <td>Tom Wyrick</td>\n",
       "      <td>1266184.0</td>\n",
       "      <td>Missouri, USA</td>\n",
       "      <td>NaN</td>\n",
       "      <td>NaN</td>\n",
       "    </tr>\n",
       "    <tr>\n",
       "      <th>4</th>\n",
       "      <td>1491167815</td>\n",
       "      <td>58def1347c459f24986d7c80</td>\n",
       "      <td>716.0</td>\n",
       "      <td>Could only have been done in print. Stunning.</td>\n",
       "      <td>22015466.0</td>\n",
       "      <td>22015466.0</td>\n",
       "      <td>&lt;br/&gt;</td>\n",
       "      <td>comment</td>\n",
       "      <td>1.491147e+09</td>\n",
       "      <td>1.0</td>\n",
       "      <td>...</td>\n",
       "      <td>approved</td>\n",
       "      <td>1.0</td>\n",
       "      <td>0.0</td>\n",
       "      <td>News</td>\n",
       "      <td>1491167815</td>\n",
       "      <td>Joe Sharkey</td>\n",
       "      <td>61121360.0</td>\n",
       "      <td>Tucson, Arizona</td>\n",
       "      <td>NaN</td>\n",
       "      <td>NaN</td>\n",
       "    </tr>\n",
       "  </tbody>\n",
       "</table>\n",
       "<p>5 rows × 34 columns</p>\n",
       "</div>"
      ],
      "text/plain": [
       "   approveDate                 articleID  articleWordCount  \\\n",
       "0   1491245186  58def1347c459f24986d7c80             716.0   \n",
       "1   1491188619  58def1347c459f24986d7c80             716.0   \n",
       "2   1491188617  58def1347c459f24986d7c80             716.0   \n",
       "3   1491167820  58def1347c459f24986d7c80             716.0   \n",
       "4   1491167815  58def1347c459f24986d7c80             716.0   \n",
       "\n",
       "                                         commentBody   commentID  \\\n",
       "0  This project makes me happy to be a 30+ year T...  22022598.0   \n",
       "1  Stunning photos and reportage. Infuriating tha...  22017350.0   \n",
       "2  Brilliant work from conception to execution. I...  22017334.0   \n",
       "3  NYT reporters should provide a contributor's l...  22015913.0   \n",
       "4     Could only have been done in print. Stunning.   22015466.0   \n",
       "\n",
       "   commentSequence commentTitle commentType    createDate  depth  ...  \\\n",
       "0       22022598.0        <br/>     comment  1.491237e+09    1.0  ...   \n",
       "1       22017350.0          NaN     comment  1.491180e+09    1.0  ...   \n",
       "2       22017334.0        <br/>     comment  1.491179e+09    1.0  ...   \n",
       "3       22015913.0        <br/>     comment  1.491150e+09    1.0  ...   \n",
       "4       22015466.0        <br/>     comment  1.491147e+09    1.0  ...   \n",
       "\n",
       "     status  timespeople trusted  typeOfMaterial  updateDate userDisplayName  \\\n",
       "0  approved          1.0     0.0            News  1491245186       Rob Gayle   \n",
       "1  approved          1.0     0.0            News  1491188619        Susan A.   \n",
       "2  approved          1.0     0.0            News  1491188617            Meta   \n",
       "3  approved          1.0     0.0            News  1491167820      Tom Wyrick   \n",
       "4  approved          1.0     0.0            News  1491167815     Joe Sharkey   \n",
       "\n",
       "       userID     userLocation  userTitle  userURL  \n",
       "0  46006296.0    Riverside, CA        NaN      NaN  \n",
       "1  29202761.0            <br/>        NaN      NaN  \n",
       "2  63944806.0       Raleigh NC        NaN      NaN  \n",
       "3   1266184.0    Missouri, USA        NaN      NaN  \n",
       "4  61121360.0  Tucson, Arizona        NaN      NaN  \n",
       "\n",
       "[5 rows x 34 columns]"
      ]
     },
     "execution_count": 11,
     "metadata": {},
     "output_type": "execute_result"
    }
   ],
   "source": [
    "comments.head()"
   ]
  },
  {
   "cell_type": "code",
   "execution_count": 12,
   "metadata": {
    "ExecuteTime": {
     "end_time": "2020-04-11T20:15:44.263179Z",
     "start_time": "2020-04-11T20:15:44.073682Z"
    }
   },
   "outputs": [
    {
     "data": {
      "text/plain": [
       "comment          1595760\n",
       "userReply         580279\n",
       "reporterReply        325\n",
       "Name: commentType, dtype: int64"
      ]
     },
     "execution_count": 12,
     "metadata": {},
     "output_type": "execute_result"
    }
   ],
   "source": [
    "comments['commentType'].value_counts()"
   ]
  },
  {
   "cell_type": "markdown",
   "metadata": {},
   "source": [
    "# 2. Clean data"
   ]
  },
  {
   "cell_type": "markdown",
   "metadata": {},
   "source": [
    "## 2.1. Keeping only some articles"
   ]
  },
  {
   "cell_type": "markdown",
   "metadata": {
    "ExecuteTime": {
     "end_time": "2020-04-08T09:52:06.364523Z",
     "start_time": "2020-04-08T09:52:06.262794Z"
    }
   },
   "source": [
    "We keep only the comments written by authors who wrote at least 10 articles in the NYT, and we only focus on Editorials and Opinion Editorials. Some articles were written by several journalists, so we duplicate them -- since we consider the journalists independantly. "
   ]
  },
  {
   "cell_type": "code",
   "execution_count": 13,
   "metadata": {
    "ExecuteTime": {
     "end_time": "2020-04-11T20:15:44.972061Z",
     "start_time": "2020-04-11T20:15:44.270156Z"
    }
   },
   "outputs": [],
   "source": [
    "import re"
   ]
  },
  {
   "cell_type": "code",
   "execution_count": 14,
   "metadata": {
    "ExecuteTime": {
     "end_time": "2020-04-11T20:15:45.837732Z",
     "start_time": "2020-04-11T20:15:44.974015Z"
    }
   },
   "outputs": [
    {
     "data": {
      "text/plain": [
       "1995"
      ]
     },
     "execution_count": 14,
     "metadata": {},
     "output_type": "execute_result"
    }
   ],
   "source": [
    "# Keep articles OpEd and Editorial\n",
    "articles = articles[articles['typeOfMaterial'].isin(['Op-Ed', 'Editorial'])]\n",
    "len(articles)"
   ]
  },
  {
   "cell_type": "code",
   "execution_count": 15,
   "metadata": {
    "ExecuteTime": {
     "end_time": "2020-04-11T20:15:46.073864Z",
     "start_time": "2020-04-11T20:15:45.839717Z"
    }
   },
   "outputs": [],
   "source": [
    "# Cleaning articles author name\n",
    "\n",
    "# duplicate articles if several authors\n",
    "authors = articles['byline'].str.split(',|and|with', expand=True).add_prefix('author_')\n",
    "\n",
    "# remove everything before \"by, BY, By\" (interviewed by, etc.)\n",
    "for col in authors.columns :\n",
    "    authors.loc[~authors[col].isna(), col] = authors.loc[~authors[col].isna(), col].apply(lambda x: re.sub(r'.*(by|BY|By)', '', x).strip())\n",
    "\n",
    "# merge to have article id\n",
    "authors = pd.merge(authors, articles[['articleID']], left_index=True, right_index=True)\n",
    "\n",
    "# stack df to have a df with one article-one author per row\n",
    "authors = authors.set_index(['articleID']).stack().reset_index(level=-1, drop=True).reset_index(name='author')\n",
    "\n",
    "# manually remove authors which are not real : \"M.D\" (which is a title), \"Unknown\"\n",
    "authors = authors[~authors['author'].isin(['M.D', 'Unknown'])]\n",
    "\n",
    "# keep authors who wrote 10 or more articles\n",
    "authors_list = authors['author'].value_counts()[authors['author'].value_counts()>=10].index\n",
    "authors = authors[authors['author'].isin(authors_list)]"
   ]
  },
  {
   "cell_type": "code",
   "execution_count": 16,
   "metadata": {
    "ExecuteTime": {
     "end_time": "2020-04-11T20:15:46.089783Z",
     "start_time": "2020-04-11T20:15:46.075819Z"
    },
    "scrolled": true
   },
   "outputs": [
    {
     "data": {
      "text/plain": [
       "THE EDITORIAL BOARD       258\n",
       "PAUL KRUGMAN              109\n",
       "GAIL COLLINS               75\n",
       "FRANK BRUNI                75\n",
       "DAVID BROOKS               72\n",
       "NICHOLAS KRISTOF           72\n",
       "ROSS DOUTHAT               67\n",
       "CHARLES M. BLOW            64\n",
       "ROGER COHEN                61\n",
       "LIZ SPAYD                  53\n",
       "BRET STEPHENS              48\n",
       "DAVID LEONHARDT            46\n",
       "THOMAS L. FRIEDMAN         37\n",
       "MICHELLE GOLDBERG          34\n",
       "THOMAS B. EDSALL           33\n",
       "TIMOTHY EGAN               30\n",
       "MAUREEN DOWD               29\n",
       "EVAN GERSHKOVICH           21\n",
       "LINDA GREENHOUSE           16\n",
       "JENNIFER FINNEY BOYLAN     14\n",
       "ANDREW ROSENTHAL           11\n",
       "MARGARET RENKL             11\n",
       "Name: author, dtype: int64"
      ]
     },
     "execution_count": 16,
     "metadata": {},
     "output_type": "execute_result"
    }
   ],
   "source": [
    "authors['author'].value_counts()"
   ]
  },
  {
   "cell_type": "code",
   "execution_count": 17,
   "metadata": {
    "ExecuteTime": {
     "end_time": "2020-04-11T20:15:46.149636Z",
     "start_time": "2020-04-11T20:15:46.092794Z"
    }
   },
   "outputs": [
    {
     "data": {
      "text/plain": [
       "22"
      ]
     },
     "execution_count": 17,
     "metadata": {},
     "output_type": "execute_result"
    }
   ],
   "source": [
    "len(authors['author'].unique())"
   ]
  },
  {
   "cell_type": "code",
   "execution_count": 18,
   "metadata": {
    "ExecuteTime": {
     "end_time": "2020-04-11T20:15:46.708132Z",
     "start_time": "2020-04-11T20:15:46.154609Z"
    }
   },
   "outputs": [
    {
     "data": {
      "text/plain": [
       "659776"
      ]
     },
     "execution_count": 18,
     "metadata": {},
     "output_type": "execute_result"
    }
   ],
   "source": [
    "# In the comments database, we keep only comments from the authors we kept, using the \"articleID\" variable.\n",
    "comments = comments[comments['articleID'].isin(authors['articleID'].unique())]\n",
    "len(comments)"
   ]
  },
  {
   "cell_type": "code",
   "execution_count": 19,
   "metadata": {
    "ExecuteTime": {
     "end_time": "2020-04-11T20:15:47.072154Z",
     "start_time": "2020-04-11T20:15:46.710123Z"
    }
   },
   "outputs": [],
   "source": [
    "comments = comments.loc[comments['commentType']=='comment']"
   ]
  },
  {
   "cell_type": "code",
   "execution_count": 142,
   "metadata": {
    "ExecuteTime": {
     "end_time": "2020-04-12T09:34:41.177403Z",
     "start_time": "2020-04-12T09:34:26.751645Z"
    }
   },
   "outputs": [],
   "source": [
    "comments = comments.join(authors.set_index('articleID'), on='articleID')[['articleID','commentBody','commentID','author']]"
   ]
  },
  {
   "cell_type": "code",
   "execution_count": 143,
   "metadata": {
    "ExecuteTime": {
     "end_time": "2020-04-12T09:34:41.603705Z",
     "start_time": "2020-04-12T09:34:41.215940Z"
    }
   },
   "outputs": [],
   "source": [
    "comments = comments.drop_duplicates(subset=['commentID','author'], keep='first')"
   ]
  },
  {
   "cell_type": "markdown",
   "metadata": {},
   "source": [
    "We remove the Editorial Board because we cannot identify it as a unique journalist."
   ]
  },
  {
   "cell_type": "code",
   "execution_count": 22,
   "metadata": {
    "ExecuteTime": {
     "end_time": "2020-04-11T20:15:50.863069Z",
     "start_time": "2020-04-11T20:15:50.763280Z"
    }
   },
   "outputs": [
    {
     "data": {
      "text/plain": [
       "388189"
      ]
     },
     "execution_count": 22,
     "metadata": {},
     "output_type": "execute_result"
    }
   ],
   "source": [
    "test_set = comments.loc[test_set['author']!='THE EDITORIAL BOARD']\n",
    "len(test_set)"
   ]
  },
  {
   "cell_type": "markdown",
   "metadata": {},
   "source": [
    "## 2.2. Tokenization of authors names"
   ]
  },
  {
   "cell_type": "code",
   "execution_count": 23,
   "metadata": {
    "ExecuteTime": {
     "end_time": "2020-04-11T20:15:57.511427Z",
     "start_time": "2020-04-11T20:15:50.871026Z"
    }
   },
   "outputs": [
    {
     "name": "stderr",
     "output_type": "stream",
     "text": [
      "[nltk_data] Downloading package punkt to\n",
      "[nltk_data]     C:\\Users\\naila\\AppData\\Roaming\\nltk_data...\n",
      "[nltk_data]   Package punkt is already up-to-date!\n"
     ]
    },
    {
     "data": {
      "text/plain": [
       "True"
      ]
     },
     "execution_count": 23,
     "metadata": {},
     "output_type": "execute_result"
    }
   ],
   "source": [
    "import nltk\n",
    "nltk.download('punkt')"
   ]
  },
  {
   "cell_type": "code",
   "execution_count": 24,
   "metadata": {
    "ExecuteTime": {
     "end_time": "2020-04-11T20:15:58.561582Z",
     "start_time": "2020-04-11T20:15:57.514421Z"
    }
   },
   "outputs": [],
   "source": [
    "test_set['commentBody'] = test_set['commentBody'].str.lower()\n",
    "test_set['author'] = test_set['author'].str.lower()"
   ]
  },
  {
   "cell_type": "code",
   "execution_count": 25,
   "metadata": {
    "ExecuteTime": {
     "end_time": "2020-04-11T20:16:36.587437Z",
     "start_time": "2020-04-11T20:15:58.563536Z"
    },
    "scrolled": true
   },
   "outputs": [
    {
     "data": {
      "text/plain": [
       "9          None\n",
       "10         None\n",
       "11         None\n",
       "12         None\n",
       "13         None\n",
       "14         None\n",
       "15         None\n",
       "16         None\n",
       "17         None\n",
       "18         None\n",
       "19         None\n",
       "20         None\n",
       "21         None\n",
       "22         None\n",
       "23         None\n",
       "24         None\n",
       "25         None\n",
       "26         None\n",
       "27         None\n",
       "28         None\n",
       "29         None\n",
       "30         None\n",
       "31         None\n",
       "32         None\n",
       "33         None\n",
       "34         None\n",
       "35         None\n",
       "36         None\n",
       "37         None\n",
       "38         None\n",
       "           ... \n",
       "2174957    None\n",
       "2174958    None\n",
       "2174959    None\n",
       "2174960    None\n",
       "2174961    None\n",
       "2174962    None\n",
       "2174963    None\n",
       "2174964    None\n",
       "2174965    None\n",
       "2174966    None\n",
       "2174967    None\n",
       "2174968    None\n",
       "2174969    None\n",
       "2174970    None\n",
       "2174971    None\n",
       "2174972    None\n",
       "2174973    None\n",
       "2174974    None\n",
       "2174975    None\n",
       "2174976    None\n",
       "2174977    None\n",
       "2174978    None\n",
       "2174979    None\n",
       "2174980    None\n",
       "2174981    None\n",
       "2174982    None\n",
       "2174983    None\n",
       "2174984    None\n",
       "2174985    None\n",
       "2174986    None\n",
       "Name: author_tokens, Length: 388189, dtype: object"
      ]
     },
     "execution_count": 25,
     "metadata": {},
     "output_type": "execute_result"
    }
   ],
   "source": [
    "test_set['author_tokens'] = test_set['author'].apply(nltk.word_tokenize)\n",
    "\n",
    "# Remove \"m.\", \"l.\", etc.\n",
    "def clean_authors_names(author_token):\n",
    "    issues = \"\".join([x for x in author_token if len(x)==2])\n",
    "    if issues!=\"\":\n",
    "        author_token.remove(issues)\n",
    "    else :\n",
    "        pass\n",
    "test_set['author_tokens'].apply(lambda x: clean_authors_names(x))"
   ]
  },
  {
   "cell_type": "code",
   "execution_count": 26,
   "metadata": {
    "ExecuteTime": {
     "end_time": "2020-04-11T20:16:36.595391Z",
     "start_time": "2020-04-11T20:16:36.590396Z"
    }
   },
   "outputs": [
    {
     "data": {
      "text/plain": [
       "388189"
      ]
     },
     "execution_count": 26,
     "metadata": {},
     "output_type": "execute_result"
    }
   ],
   "source": [
    "len(test_set)"
   ]
  },
  {
   "cell_type": "code",
   "execution_count": 27,
   "metadata": {
    "ExecuteTime": {
     "end_time": "2020-04-11T20:16:59.095191Z",
     "start_time": "2020-04-11T20:16:36.600363Z"
    }
   },
   "outputs": [
    {
     "data": {
      "text/plain": [
       "False    308875\n",
       "True      79314\n",
       "Name: ref_author, dtype: int64"
      ]
     },
     "execution_count": 27,
     "metadata": {},
     "output_type": "execute_result"
    }
   ],
   "source": [
    "test_set['ref_author'] = test_set.apply(lambda x: any(i in x.commentBody for i in x.author_tokens), axis=1)\n",
    "test_set['ref_author'].value_counts()"
   ]
  },
  {
   "cell_type": "code",
   "execution_count": 28,
   "metadata": {
    "ExecuteTime": {
     "end_time": "2020-04-11T20:16:59.278738Z",
     "start_time": "2020-04-11T20:16:59.097185Z"
    },
    "scrolled": true
   },
   "outputs": [],
   "source": [
    "test_set = test_set.loc[test_set['ref_author']==True].reset_index(drop=True).reset_index()"
   ]
  },
  {
   "cell_type": "markdown",
   "metadata": {},
   "source": [
    "## 2.3. Extract sentence that contains name of journalist"
   ]
  },
  {
   "cell_type": "code",
   "execution_count": 467,
   "metadata": {
    "ExecuteTime": {
     "end_time": "2020-04-12T19:33:56.940652Z",
     "start_time": "2020-04-12T19:33:56.918189Z"
    }
   },
   "outputs": [],
   "source": [
    "def extract_sentence(i):\n",
    "    row=test_set.loc[test_set.index==i]\n",
    "    sentences=[]\n",
    "    for author_name in row['author_tokens'][i] :\n",
    "        if author_name in row['commentBody'][i]:\n",
    "            sentences.extend(re.findall(r\"(?:(?![.?]).|m\\.|mr\\.|ms\\.|dr\\.|prof\\.)*\"+ \n",
    "                                        re.escape(author_name) +\n",
    "                                        r\"(?:(?![.?]).|m\\.|mr\\.|ms\\.|dr\\.|prof\\.)*[\\\"!?.]\", row['commentBody'][i]))\n",
    "    sentences = ' '.join(set(sentences))\n",
    "    sentences = re.sub('<br/>', ' ', sentences)\n",
    "    return sentences"
   ]
  },
  {
   "cell_type": "code",
   "execution_count": 468,
   "metadata": {
    "ExecuteTime": {
     "end_time": "2020-04-12T19:34:04.253527Z",
     "start_time": "2020-04-12T19:33:57.360207Z"
    }
   },
   "outputs": [
    {
     "ename": "PermissionError",
     "evalue": "[Errno 13] Permission denied: 'data/test_setlabel2.csv'",
     "output_type": "error",
     "traceback": [
      "\u001b[1;31m---------------------------------------------------------------------------\u001b[0m",
      "\u001b[1;31mPermissionError\u001b[0m                           Traceback (most recent call last)",
      "\u001b[1;32m<ipython-input-468-ad9a0c2fd3fc>\u001b[0m in \u001b[0;36m<module>\u001b[1;34m\u001b[0m\n\u001b[0;32m      1\u001b[0m \u001b[0mlabels\u001b[0m\u001b[1;33m[\u001b[0m\u001b[1;34m'sentences_author2'\u001b[0m\u001b[1;33m]\u001b[0m \u001b[1;33m=\u001b[0m \u001b[0mlabels\u001b[0m\u001b[1;33m[\u001b[0m\u001b[1;34m'index'\u001b[0m\u001b[1;33m]\u001b[0m\u001b[1;33m.\u001b[0m\u001b[0mapply\u001b[0m\u001b[1;33m(\u001b[0m\u001b[1;32mlambda\u001b[0m \u001b[0mx\u001b[0m\u001b[1;33m:\u001b[0m \u001b[0mextract_sentence\u001b[0m\u001b[1;33m(\u001b[0m\u001b[0mx\u001b[0m\u001b[1;33m)\u001b[0m\u001b[1;33m)\u001b[0m\u001b[1;33m\u001b[0m\u001b[1;33m\u001b[0m\u001b[0m\n\u001b[1;32m----> 2\u001b[1;33m \u001b[0mlabels\u001b[0m\u001b[1;33m.\u001b[0m\u001b[0mto_csv\u001b[0m\u001b[1;33m(\u001b[0m\u001b[1;34m'data/test_setlabel2.csv'\u001b[0m\u001b[1;33m,\u001b[0m \u001b[0msep\u001b[0m\u001b[1;33m=\u001b[0m\u001b[1;34m\";\"\u001b[0m\u001b[1;33m)\u001b[0m\u001b[1;33m\u001b[0m\u001b[1;33m\u001b[0m\u001b[0m\n\u001b[0m",
      "\u001b[1;32m~\\Anaconda3\\lib\\site-packages\\pandas\\core\\generic.py\u001b[0m in \u001b[0;36mto_csv\u001b[1;34m(self, path_or_buf, sep, na_rep, float_format, columns, header, index, index_label, mode, encoding, compression, quoting, quotechar, line_terminator, chunksize, tupleize_cols, date_format, doublequote, escapechar, decimal)\u001b[0m\n\u001b[0;32m   3018\u001b[0m                                  \u001b[0mdoublequote\u001b[0m\u001b[1;33m=\u001b[0m\u001b[0mdoublequote\u001b[0m\u001b[1;33m,\u001b[0m\u001b[1;33m\u001b[0m\u001b[1;33m\u001b[0m\u001b[0m\n\u001b[0;32m   3019\u001b[0m                                  escapechar=escapechar, decimal=decimal)\n\u001b[1;32m-> 3020\u001b[1;33m         \u001b[0mformatter\u001b[0m\u001b[1;33m.\u001b[0m\u001b[0msave\u001b[0m\u001b[1;33m(\u001b[0m\u001b[1;33m)\u001b[0m\u001b[1;33m\u001b[0m\u001b[1;33m\u001b[0m\u001b[0m\n\u001b[0m\u001b[0;32m   3021\u001b[0m \u001b[1;33m\u001b[0m\u001b[0m\n\u001b[0;32m   3022\u001b[0m         \u001b[1;32mif\u001b[0m \u001b[0mpath_or_buf\u001b[0m \u001b[1;32mis\u001b[0m \u001b[1;32mNone\u001b[0m\u001b[1;33m:\u001b[0m\u001b[1;33m\u001b[0m\u001b[1;33m\u001b[0m\u001b[0m\n",
      "\u001b[1;32m~\\Anaconda3\\lib\\site-packages\\pandas\\io\\formats\\csvs.py\u001b[0m in \u001b[0;36msave\u001b[1;34m(self)\u001b[0m\n\u001b[0;32m    155\u001b[0m             f, handles = _get_handle(self.path_or_buf, self.mode,\n\u001b[0;32m    156\u001b[0m                                      \u001b[0mencoding\u001b[0m\u001b[1;33m=\u001b[0m\u001b[0mself\u001b[0m\u001b[1;33m.\u001b[0m\u001b[0mencoding\u001b[0m\u001b[1;33m,\u001b[0m\u001b[1;33m\u001b[0m\u001b[1;33m\u001b[0m\u001b[0m\n\u001b[1;32m--> 157\u001b[1;33m                                      compression=self.compression)\n\u001b[0m\u001b[0;32m    158\u001b[0m             \u001b[0mclose\u001b[0m \u001b[1;33m=\u001b[0m \u001b[1;32mTrue\u001b[0m\u001b[1;33m\u001b[0m\u001b[1;33m\u001b[0m\u001b[0m\n\u001b[0;32m    159\u001b[0m \u001b[1;33m\u001b[0m\u001b[0m\n",
      "\u001b[1;32m~\\Anaconda3\\lib\\site-packages\\pandas\\io\\common.py\u001b[0m in \u001b[0;36m_get_handle\u001b[1;34m(path_or_buf, mode, encoding, compression, memory_map, is_text)\u001b[0m\n\u001b[0;32m    422\u001b[0m         \u001b[1;32melif\u001b[0m \u001b[0mencoding\u001b[0m\u001b[1;33m:\u001b[0m\u001b[1;33m\u001b[0m\u001b[1;33m\u001b[0m\u001b[0m\n\u001b[0;32m    423\u001b[0m             \u001b[1;31m# Python 3 and encoding\u001b[0m\u001b[1;33m\u001b[0m\u001b[1;33m\u001b[0m\u001b[1;33m\u001b[0m\u001b[0m\n\u001b[1;32m--> 424\u001b[1;33m             \u001b[0mf\u001b[0m \u001b[1;33m=\u001b[0m \u001b[0mopen\u001b[0m\u001b[1;33m(\u001b[0m\u001b[0mpath_or_buf\u001b[0m\u001b[1;33m,\u001b[0m \u001b[0mmode\u001b[0m\u001b[1;33m,\u001b[0m \u001b[0mencoding\u001b[0m\u001b[1;33m=\u001b[0m\u001b[0mencoding\u001b[0m\u001b[1;33m,\u001b[0m \u001b[0mnewline\u001b[0m\u001b[1;33m=\u001b[0m\u001b[1;34m\"\"\u001b[0m\u001b[1;33m)\u001b[0m\u001b[1;33m\u001b[0m\u001b[1;33m\u001b[0m\u001b[0m\n\u001b[0m\u001b[0;32m    425\u001b[0m         \u001b[1;32melif\u001b[0m \u001b[0mis_text\u001b[0m\u001b[1;33m:\u001b[0m\u001b[1;33m\u001b[0m\u001b[1;33m\u001b[0m\u001b[0m\n\u001b[0;32m    426\u001b[0m             \u001b[1;31m# Python 3 and no explicit encoding\u001b[0m\u001b[1;33m\u001b[0m\u001b[1;33m\u001b[0m\u001b[1;33m\u001b[0m\u001b[0m\n",
      "\u001b[1;31mPermissionError\u001b[0m: [Errno 13] Permission denied: 'data/test_setlabel2.csv'"
     ]
    }
   ],
   "source": [
    "labels['sentences_author2'] = labels['index'].apply(lambda x: extract_sentence(x))\n",
    "labels.to_csv('data/test_setlabel.csv', sep=\";\")"
   ]
  },
  {
   "cell_type": "code",
   "execution_count": 469,
   "metadata": {
    "ExecuteTime": {
     "end_time": "2020-04-12T19:34:08.040441Z",
     "start_time": "2020-04-12T19:34:08.016343Z"
    }
   },
   "outputs": [
    {
     "data": {
      "text/plain": [
       "'\"   maureen has seen the greater truth behind the absurd notion that americans have the right tote guns everywhere and anywhere.'"
      ]
     },
     "execution_count": 469,
     "metadata": {},
     "output_type": "execute_result"
    }
   ],
   "source": [
    "extract_sentence(31470)"
   ]
  },
  {
   "cell_type": "code",
   "execution_count": 391,
   "metadata": {
    "ExecuteTime": {
     "end_time": "2020-04-12T16:12:42.934865Z",
     "start_time": "2020-04-12T16:12:42.874025Z"
    }
   },
   "outputs": [
    {
     "data": {
      "text/html": [
       "<div>\n",
       "<style scoped>\n",
       "    .dataframe tbody tr th:only-of-type {\n",
       "        vertical-align: middle;\n",
       "    }\n",
       "\n",
       "    .dataframe tbody tr th {\n",
       "        vertical-align: top;\n",
       "    }\n",
       "\n",
       "    .dataframe thead th {\n",
       "        text-align: right;\n",
       "    }\n",
       "</style>\n",
       "<table border=\"1\" class=\"dataframe\">\n",
       "  <thead>\n",
       "    <tr style=\"text-align: right;\">\n",
       "      <th></th>\n",
       "      <th>index</th>\n",
       "      <th>articleID</th>\n",
       "      <th>commentBody</th>\n",
       "      <th>commentID</th>\n",
       "      <th>author</th>\n",
       "      <th>author_tokens</th>\n",
       "      <th>ref_author</th>\n",
       "      <th>sentences_author</th>\n",
       "      <th>sentences_author2</th>\n",
       "    </tr>\n",
       "  </thead>\n",
       "  <tbody>\n",
       "    <tr>\n",
       "      <th>30201</th>\n",
       "      <td>30201</td>\n",
       "      <td>5a83441b10f40f00018c0c70</td>\n",
       "      <td>frank, i'm typically in full alignment with yo...</td>\n",
       "      <td>25952753.0</td>\n",
       "      <td>frank bruni</td>\n",
       "      <td>[frank, bruni, you, you]</td>\n",
       "      <td>True</td>\n",
       "      <td>frank, i'm typically in full alignment with yo...</td>\n",
       "      <td>but you would never think of exploding at his...</td>\n",
       "    </tr>\n",
       "    <tr>\n",
       "      <th>43304</th>\n",
       "      <td>43304</td>\n",
       "      <td>588b02fe95d0e0392607d1a6</td>\n",
       "      <td>president mad max will continue to bulldoze th...</td>\n",
       "      <td>21251929.0</td>\n",
       "      <td>paul krugman</td>\n",
       "      <td>[paul, krugman, you, you]</td>\n",
       "      <td>True</td>\n",
       "      <td>i think professor krugman answered that ques...</td>\n",
       "      <td>i think professor krugman answered that ques...</td>\n",
       "    </tr>\n",
       "    <tr>\n",
       "      <th>31470</th>\n",
       "      <td>31470</td>\n",
       "      <td>5a8882d010f40f00018c19c4</td>\n",
       "      <td>\"when societies try to protect a malevolent st...</td>\n",
       "      <td>26015014.0</td>\n",
       "      <td>maureen dowd</td>\n",
       "      <td>[maureen, dowd, you, you, you, you, you]</td>\n",
       "      <td>True</td>\n",
       "      <td>\" &lt;br/&gt;&lt;br/&gt;maureen has seen the greater truth...</td>\n",
       "      <td>\"   maureen has seen the greater truth behind ...</td>\n",
       "    </tr>\n",
       "    <tr>\n",
       "      <th>70558</th>\n",
       "      <td>70558</td>\n",
       "      <td>590e16587c459f24986de1af</td>\n",
       "      <td>i hope you're right but i fear that this is in...</td>\n",
       "      <td>22394895.0</td>\n",
       "      <td>frank bruni</td>\n",
       "      <td>[frank, bruni, you, you]</td>\n",
       "      <td>True</td>\n",
       "      <td>that said, i am with frank: a bit of real \"se...</td>\n",
       "      <td>that said, i am with frank: a bit of real \"se...</td>\n",
       "    </tr>\n",
       "    <tr>\n",
       "      <th>79164</th>\n",
       "      <td>79164</td>\n",
       "      <td>592fc8357c459f24986e2c43</td>\n",
       "      <td>another good article by edsall. all one need d...</td>\n",
       "      <td>22687951.0</td>\n",
       "      <td>thomas b. edsall</td>\n",
       "      <td>[thomas, edsall, you, you]</td>\n",
       "      <td>True</td>\n",
       "      <td>another good article by edsall.</td>\n",
       "      <td>another good article by edsall.</td>\n",
       "    </tr>\n",
       "    <tr>\n",
       "      <th>68056</th>\n",
       "      <td>68056</td>\n",
       "      <td>5ab97a4e47de81a901217947</td>\n",
       "      <td>oh, please. republican voters haven't been con...</td>\n",
       "      <td>26501400.0</td>\n",
       "      <td>paul krugman</td>\n",
       "      <td>[paul, krugman, you, you]</td>\n",
       "      <td>True</td>\n",
       "      <td>they aren't as stupid as dr. krugman and many...</td>\n",
       "      <td>they aren't as stupid as dr. krugman and many...</td>\n",
       "    </tr>\n",
       "    <tr>\n",
       "      <th>807</th>\n",
       "      <td>807</td>\n",
       "      <td>58e49b077c459f24986d871b</td>\n",
       "      <td>emperors?  no.  endless conflict and feuding a...</td>\n",
       "      <td>22042622.0</td>\n",
       "      <td>ross douthat</td>\n",
       "      <td>[ross, douthat, you, you]</td>\n",
       "      <td>True</td>\n",
       "      <td>&lt;br/&gt;&lt;br/&gt;ross, by the way, these sorts of gad...</td>\n",
       "      <td>ross, by the way, these sorts of gadfly colu...</td>\n",
       "    </tr>\n",
       "    <tr>\n",
       "      <th>9597</th>\n",
       "      <td>9597</td>\n",
       "      <td>5ad07c27068401528a2a87e1</td>\n",
       "      <td>yes, trump is a raging buffoon.  but cohen has...</td>\n",
       "      <td>26735832.0</td>\n",
       "      <td>roger cohen</td>\n",
       "      <td>[roger, cohen, you, you]</td>\n",
       "      <td>True</td>\n",
       "      <td>but cohen has one part of the analysis preci...</td>\n",
       "      <td>but cohen has one part of the analysis preci...</td>\n",
       "    </tr>\n",
       "    <tr>\n",
       "      <th>52238</th>\n",
       "      <td>52238</td>\n",
       "      <td>5a4ea68b7c459f29e79b258b</td>\n",
       "      <td>michelle, you done it again! i would only one ...</td>\n",
       "      <td>25439930.0</td>\n",
       "      <td>michelle goldberg</td>\n",
       "      <td>[michelle, goldberg, you, you]</td>\n",
       "      <td>True</td>\n",
       "      <td>michelle, you done it again! i would only one ...</td>\n",
       "      <td>michelle, you done it again! i would only one ...</td>\n",
       "    </tr>\n",
       "    <tr>\n",
       "      <th>14860</th>\n",
       "      <td>14860</td>\n",
       "      <td>5ae2f123068401528a2ab087</td>\n",
       "      <td>i've been a fan of mr. egan's writing for many...</td>\n",
       "      <td>26894119.0</td>\n",
       "      <td>timothy egan</td>\n",
       "      <td>[timothy, egan, you, you]</td>\n",
       "      <td>True</td>\n",
       "      <td>i've been a fan of mr. egan's writing for many...</td>\n",
       "      <td>i've been a fan of mr. egan's writing for many...</td>\n",
       "    </tr>\n",
       "    <tr>\n",
       "      <th>38814</th>\n",
       "      <td>38814</td>\n",
       "      <td>587dd40a95d0e0392607b100</td>\n",
       "      <td>this is the first time i have nothing snarky o...</td>\n",
       "      <td>21123235.0</td>\n",
       "      <td>david brooks</td>\n",
       "      <td>[david, brooks, you, you]</td>\n",
       "      <td>True</td>\n",
       "      <td>this is the first time i have nothing snarky o...</td>\n",
       "      <td>this is the first time i have nothing snarky o...</td>\n",
       "    </tr>\n",
       "    <tr>\n",
       "      <th>70724</th>\n",
       "      <td>70724</td>\n",
       "      <td>590e16587c459f24986de1b0</td>\n",
       "      <td>of course, maureen's picture of trump-ryan is ...</td>\n",
       "      <td>22394665.0</td>\n",
       "      <td>maureen dowd</td>\n",
       "      <td>[maureen, dowd, you, you]</td>\n",
       "      <td>True</td>\n",
       "      <td>of course, maureen's picture of trump-ryan is ...</td>\n",
       "      <td>of course, maureen's picture of trump-ryan is ...</td>\n",
       "    </tr>\n",
       "    <tr>\n",
       "      <th>52445</th>\n",
       "      <td>52445</td>\n",
       "      <td>58bd1c087c459f2525d20018</td>\n",
       "      <td>i'm repeatedly stunned at mr. blow's posts. th...</td>\n",
       "      <td>21707141.0</td>\n",
       "      <td>charles m. blow</td>\n",
       "      <td>[charles, blow, you, you]</td>\n",
       "      <td>True</td>\n",
       "      <td>i'm repeatedly stunned at mr. blow's posts. &lt;b...</td>\n",
       "      <td>i'm repeatedly stunned at mr. blow's posts.  i...</td>\n",
       "    </tr>\n",
       "    <tr>\n",
       "      <th>19967</th>\n",
       "      <td>19967</td>\n",
       "      <td>58a2be0695d0e024746364e2</td>\n",
       "      <td>mr. brooks, you neglected to mention one tiny ...</td>\n",
       "      <td>21468377.0</td>\n",
       "      <td>david brooks</td>\n",
       "      <td>[david, brooks, you, you]</td>\n",
       "      <td>True</td>\n",
       "      <td>mr. brooks, you neglected to mention one tiny ...</td>\n",
       "      <td>first, contrary to your claim, ford did not \"...</td>\n",
       "    </tr>\n",
       "    <tr>\n",
       "      <th>5367</th>\n",
       "      <td>5367</td>\n",
       "      <td>5906e1f17c459f24986dd042</td>\n",
       "      <td>wow charles.  ranting again, and wasting my ti...</td>\n",
       "      <td>22324493.0</td>\n",
       "      <td>charles m. blow</td>\n",
       "      <td>[charles, blow, you, you]</td>\n",
       "      <td>True</td>\n",
       "      <td>wow charles.</td>\n",
       "      <td>wow charles.</td>\n",
       "    </tr>\n",
       "    <tr>\n",
       "      <th>11588</th>\n",
       "      <td>11588</td>\n",
       "      <td>5acaaf08068401528a2a50b6</td>\n",
       "      <td>by seeing comey's behavior as hubris, i think ...</td>\n",
       "      <td>26662493.0</td>\n",
       "      <td>david leonhardt</td>\n",
       "      <td>[david, leonhardt, you, you]</td>\n",
       "      <td>True</td>\n",
       "      <td>by seeing comey's behavior as hubris, i think ...</td>\n",
       "      <td>by seeing comey's behavior as hubris, i think ...</td>\n",
       "    </tr>\n",
       "    <tr>\n",
       "      <th>59521</th>\n",
       "      <td>59521</td>\n",
       "      <td>58cb8e817c459f247805c5c1</td>\n",
       "      <td>mark twain, who might be viewed as the bob dyl...</td>\n",
       "      <td>21832555.0</td>\n",
       "      <td>david brooks</td>\n",
       "      <td>[david, brooks, you, you]</td>\n",
       "      <td>True</td>\n",
       "      <td>\"&lt;br/&gt;&lt;br/&gt;brooks says, \".</td>\n",
       "      <td>\"  brooks says, \".</td>\n",
       "    </tr>\n",
       "    <tr>\n",
       "      <th>21695</th>\n",
       "      <td>21695</td>\n",
       "      <td>58a8a0d995d0e024746375f0</td>\n",
       "      <td>ms. dowd, in psychiatry we call such a person(...</td>\n",
       "      <td>21532461.0</td>\n",
       "      <td>maureen dowd</td>\n",
       "      <td>[maureen, dowd, you, you]</td>\n",
       "      <td>True</td>\n",
       "      <td>ms. dowd, in psychiatry we call such a person(...</td>\n",
       "      <td>ms. dowd, in psychiatry we call such a person(...</td>\n",
       "    </tr>\n",
       "    <tr>\n",
       "      <th>72362</th>\n",
       "      <td>72362</td>\n",
       "      <td>591750c97c459f24986df6e1</td>\n",
       "      <td>you're a bad man,  frank. a very, very bad man...</td>\n",
       "      <td>22491198.0</td>\n",
       "      <td>frank bruni</td>\n",
       "      <td>[frank, bruni, you, you]</td>\n",
       "      <td>True</td>\n",
       "      <td>you're a bad man,  frank.</td>\n",
       "      <td>little anthony,  i mean donny is going to cha...</td>\n",
       "    </tr>\n",
       "    <tr>\n",
       "      <th>17782</th>\n",
       "      <td>17782</td>\n",
       "      <td>589a5c9495d0e0392607f1f9</td>\n",
       "      <td>the only thing more predictable than the democ...</td>\n",
       "      <td>21398151.0</td>\n",
       "      <td>ross douthat</td>\n",
       "      <td>[ross, douthat, you, you]</td>\n",
       "      <td>True</td>\n",
       "      <td>the only thing more predictable than the democ...</td>\n",
       "      <td>the only thing more predictable than the democ...</td>\n",
       "    </tr>\n",
       "    <tr>\n",
       "      <th>67123</th>\n",
       "      <td>67123</td>\n",
       "      <td>5ab4350547de81a9012159fe</td>\n",
       "      <td>this touches on the conundrum of individual vs...</td>\n",
       "      <td>26454871.0</td>\n",
       "      <td>david brooks</td>\n",
       "      <td>[david, brooks, you, you]</td>\n",
       "      <td>True</td>\n",
       "      <td>&lt;br/&gt;&lt;br/&gt;brooks, in my opinion, is a great wr...</td>\n",
       "      <td>brooks, in my opinion, is a great writer and...</td>\n",
       "    </tr>\n",
       "    <tr>\n",
       "      <th>48816</th>\n",
       "      <td>48816</td>\n",
       "      <td>5a5d42b37c459f29e79b41b3</td>\n",
       "      <td>there would be real moral truth in revealing w...</td>\n",
       "      <td>25581417.0</td>\n",
       "      <td>david brooks</td>\n",
       "      <td>[david, brooks, you, you]</td>\n",
       "      <td>True</td>\n",
       "      <td>mr. brooks is in an excellent position to ex...</td>\n",
       "      <td>mr. brooks is in an excellent position to ex...</td>\n",
       "    </tr>\n",
       "    <tr>\n",
       "      <th>4666</th>\n",
       "      <td>4666</td>\n",
       "      <td>5903939f7c459f24986dcc22</td>\n",
       "      <td>it would be interesting to see mr. stephens ex...</td>\n",
       "      <td>22310032.0</td>\n",
       "      <td>bret stephens</td>\n",
       "      <td>[bret, stephens, you, you]</td>\n",
       "      <td>True</td>\n",
       "      <td>it would be interesting to see mr. stephens ex...</td>\n",
       "      <td>it would be interesting to see mr. stephens ex...</td>\n",
       "    </tr>\n",
       "    <tr>\n",
       "      <th>74986</th>\n",
       "      <td>74986</td>\n",
       "      <td>591e9ceb7c459f24986e07cf</td>\n",
       "      <td>krugman: \"if you’re waiting to find the modern...</td>\n",
       "      <td>22558456.0</td>\n",
       "      <td>paul krugman</td>\n",
       "      <td>[paul, krugman, you, you]</td>\n",
       "      <td>True</td>\n",
       "      <td>krugman: \"if you’re waiting to find the modern...</td>\n",
       "      <td>krugman: \"if you’re waiting to find the modern...</td>\n",
       "    </tr>\n",
       "    <tr>\n",
       "      <th>61350</th>\n",
       "      <td>61350</td>\n",
       "      <td>5a992b5b410cf7000162ed90</td>\n",
       "      <td>nothing proves michelle’s major point more ent...</td>\n",
       "      <td>26186511.0</td>\n",
       "      <td>michelle goldberg</td>\n",
       "      <td>[michelle, goldberg, you, you]</td>\n",
       "      <td>True</td>\n",
       "      <td>nothing proves michelle’s major point more ent...</td>\n",
       "      <td>nothing proves michelle’s major point more ent...</td>\n",
       "    </tr>\n",
       "    <tr>\n",
       "      <th>30789</th>\n",
       "      <td>30789</td>\n",
       "      <td>5a8564d010f40f00018c1253</td>\n",
       "      <td>while i don't claim to be an expert, i think t...</td>\n",
       "      <td>25974580.0</td>\n",
       "      <td>thomas b. edsall</td>\n",
       "      <td>[thomas, edsall, you, you]</td>\n",
       "      <td>True</td>\n",
       "      <td>\" by thomas frank.</td>\n",
       "      <td>\" by thomas frank.</td>\n",
       "    </tr>\n",
       "    <tr>\n",
       "      <th>9404</th>\n",
       "      <td>9404</td>\n",
       "      <td>5ad248af068401528a2a8b81</td>\n",
       "      <td>in 1960 and 1964 karl hess helped write the go...</td>\n",
       "      <td>26739533.0</td>\n",
       "      <td>ross douthat</td>\n",
       "      <td>[ross, douthat, you, you]</td>\n",
       "      <td>True</td>\n",
       "      <td>i think ross has paul ryan pegged.</td>\n",
       "      <td>i think ross has paul ryan pegged.</td>\n",
       "    </tr>\n",
       "    <tr>\n",
       "      <th>60414</th>\n",
       "      <td>60414</td>\n",
       "      <td>58d0d4777c459f247805cfc4</td>\n",
       "      <td>a common narrative does not create unity david...</td>\n",
       "      <td>21876688.0</td>\n",
       "      <td>david brooks</td>\n",
       "      <td>[david, brooks, you, you]</td>\n",
       "      <td>True</td>\n",
       "      <td>a common narrative does not create unity david.</td>\n",
       "      <td>for many decades llb created unity in local ...</td>\n",
       "    </tr>\n",
       "    <tr>\n",
       "      <th>52439</th>\n",
       "      <td>52439</td>\n",
       "      <td>58bd1c087c459f2525d20018</td>\n",
       "      <td>charles, you are absolutely correct in your as...</td>\n",
       "      <td>21709246.0</td>\n",
       "      <td>charles m. blow</td>\n",
       "      <td>[charles, blow, you, you]</td>\n",
       "      <td>True</td>\n",
       "      <td>charles, you are absolutely correct in your as...</td>\n",
       "      <td>charles, you are absolutely correct in your as...</td>\n",
       "    </tr>\n",
       "    <tr>\n",
       "      <th>28458</th>\n",
       "      <td>28458</td>\n",
       "      <td>5a7c2a3d10f40f00018c033f</td>\n",
       "      <td>half our oil comes from fracking. i hope bret ...</td>\n",
       "      <td>25884106.0</td>\n",
       "      <td>bret stephens</td>\n",
       "      <td>[bret, stephens, you, you]</td>\n",
       "      <td>True</td>\n",
       "      <td>i hope bret cheers when that comes to his nei...</td>\n",
       "      <td>i hope bret cheers when that comes to his nei...</td>\n",
       "    </tr>\n",
       "    <tr>\n",
       "      <th>...</th>\n",
       "      <td>...</td>\n",
       "      <td>...</td>\n",
       "      <td>...</td>\n",
       "      <td>...</td>\n",
       "      <td>...</td>\n",
       "      <td>...</td>\n",
       "      <td>...</td>\n",
       "      <td>...</td>\n",
       "      <td>...</td>\n",
       "    </tr>\n",
       "    <tr>\n",
       "      <th>32341</th>\n",
       "      <td>32341</td>\n",
       "      <td>5a8b6dde10f40f00018c1ded</td>\n",
       "      <td>respect? you cannot be serious.  get real mr. ...</td>\n",
       "      <td>26031862.0</td>\n",
       "      <td>david brooks</td>\n",
       "      <td>[david, brooks, you, you]</td>\n",
       "      <td>True</td>\n",
       "      <td>get real mr. brooks the nra actually profits...</td>\n",
       "      <td>they are beneath my contempt and should be be...</td>\n",
       "    </tr>\n",
       "    <tr>\n",
       "      <th>567</th>\n",
       "      <td>567</td>\n",
       "      <td>58e349707c459f24986d8363</td>\n",
       "      <td>does mr. brooks even know that don the con is ...</td>\n",
       "      <td>22029706.0</td>\n",
       "      <td>david brooks</td>\n",
       "      <td>[david, brooks, you, you]</td>\n",
       "      <td>True</td>\n",
       "      <td>does mr. brooks even know that don the con is ...</td>\n",
       "      <td>does mr. brooks even know that don the con is ...</td>\n",
       "    </tr>\n",
       "    <tr>\n",
       "      <th>31051</th>\n",
       "      <td>31051</td>\n",
       "      <td>5a862e9d10f40f00018c14e2</td>\n",
       "      <td>as a late boomer, and as my time winds down, y...</td>\n",
       "      <td>25989254.0</td>\n",
       "      <td>david brooks</td>\n",
       "      <td>[david, brooks, you, you]</td>\n",
       "      <td>True</td>\n",
       "      <td></td>\n",
       "      <td>as a late boomer, and as my time winds down, y...</td>\n",
       "    </tr>\n",
       "    <tr>\n",
       "      <th>2487</th>\n",
       "      <td>2487</td>\n",
       "      <td>58edd56e7c459f24986d9bf3</td>\n",
       "      <td>republican zealots killed the filibuster as al...</td>\n",
       "      <td>22130696.0</td>\n",
       "      <td>ross douthat</td>\n",
       "      <td>[ross, douthat, you, you]</td>\n",
       "      <td>True</td>\n",
       "      <td>&lt;br/&gt;&lt;br/&gt;douthat enables every step of the w...</td>\n",
       "      <td>douthat enables every step of the way as he...</td>\n",
       "    </tr>\n",
       "    <tr>\n",
       "      <th>24133</th>\n",
       "      <td>24133</td>\n",
       "      <td>58b1e85e95d0e0247463896f</td>\n",
       "      <td>desperate times call for desperate measures––e...</td>\n",
       "      <td>21612402.0</td>\n",
       "      <td>ross douthat</td>\n",
       "      <td>[ross, douthat, you, you]</td>\n",
       "      <td>True</td>\n",
       "      <td>i applaud douthat for throwing caution to the...</td>\n",
       "      <td>i applaud douthat for throwing caution to the...</td>\n",
       "    </tr>\n",
       "    <tr>\n",
       "      <th>43691</th>\n",
       "      <td>43691</td>\n",
       "      <td>588cf14095d0e0392607d56d</td>\n",
       "      <td>regarding mr. trump and the media in mr. douth...</td>\n",
       "      <td>21274658.0</td>\n",
       "      <td>ross douthat</td>\n",
       "      <td>[ross, douthat, you, you]</td>\n",
       "      <td>True</td>\n",
       "      <td>regarding mr. trump and the media in mr. douth...</td>\n",
       "      <td>regarding mr. trump and the media in mr. douth...</td>\n",
       "    </tr>\n",
       "    <tr>\n",
       "      <th>64066</th>\n",
       "      <td>64066</td>\n",
       "      <td>5aa7e8c747de81a90120e309</td>\n",
       "      <td>frank, wish i was there with you in italy, jus...</td>\n",
       "      <td>26307353.0</td>\n",
       "      <td>frank bruni</td>\n",
       "      <td>[frank, bruni, you, you]</td>\n",
       "      <td>True</td>\n",
       "      <td>frank, wish i was there with you in italy, jus...</td>\n",
       "      <td>frank, wish i was there with you in italy, jus...</td>\n",
       "    </tr>\n",
       "    <tr>\n",
       "      <th>51085</th>\n",
       "      <td>51085</td>\n",
       "      <td>5a549d4c7c459f29e79b2f8f</td>\n",
       "      <td>poor gail and brett.i think their stability is...</td>\n",
       "      <td>25487505.0</td>\n",
       "      <td>bret stephens</td>\n",
       "      <td>[bret, stephens, you, you]</td>\n",
       "      <td>True</td>\n",
       "      <td>poor gail and brett.</td>\n",
       "      <td>poor gail and brett.</td>\n",
       "    </tr>\n",
       "    <tr>\n",
       "      <th>21603</th>\n",
       "      <td>21603</td>\n",
       "      <td>58a8a0d795d0e024746375e8</td>\n",
       "      <td>this weekend finds me in iowa where this morni...</td>\n",
       "      <td>21530295.0</td>\n",
       "      <td>ross douthat</td>\n",
       "      <td>[ross, douthat, you, you]</td>\n",
       "      <td>True</td>\n",
       "      <td>patience, mr. douthat.</td>\n",
       "      <td>patience, mr. douthat.</td>\n",
       "    </tr>\n",
       "    <tr>\n",
       "      <th>28294</th>\n",
       "      <td>28294</td>\n",
       "      <td>5a7ad8bd10f40f00018bff57</td>\n",
       "      <td>yes, ross, your party has installed a presiden...</td>\n",
       "      <td>25866643.0</td>\n",
       "      <td>ross douthat</td>\n",
       "      <td>[ross, douthat, you, you]</td>\n",
       "      <td>True</td>\n",
       "      <td>not seeing the bright side you try to conjur...</td>\n",
       "      <td>not seeing the bright side you try to conjur...</td>\n",
       "    </tr>\n",
       "    <tr>\n",
       "      <th>4577</th>\n",
       "      <td>4577</td>\n",
       "      <td>590300827c459f24986dc9ff</td>\n",
       "      <td>as a long time reader of nyrb and a working ed...</td>\n",
       "      <td>22303278.0</td>\n",
       "      <td>roger cohen</td>\n",
       "      <td>[roger, cohen, you, you]</td>\n",
       "      <td>True</td>\n",
       "      <td>as a long time reader of nyrb and a working ed...</td>\n",
       "      <td>so, encomiasts, be honest about who and what ...</td>\n",
       "    </tr>\n",
       "    <tr>\n",
       "      <th>20993</th>\n",
       "      <td>20993</td>\n",
       "      <td>58a6b27395d0e0247463713d</td>\n",
       "      <td>phenomenally well written piece by david brook...</td>\n",
       "      <td>21513320.0</td>\n",
       "      <td>david brooks</td>\n",
       "      <td>[david, brooks, you, you]</td>\n",
       "      <td>True</td>\n",
       "      <td>brooks nails the sycophancy loving narcism t...</td>\n",
       "      <td>brooks nails the sycophancy loving narcism t...</td>\n",
       "    </tr>\n",
       "    <tr>\n",
       "      <th>33817</th>\n",
       "      <td>33817</td>\n",
       "      <td>5a91c03a10f40f00018c2da1</td>\n",
       "      <td>very powerful, maureen dowd.  and chilling.  a...</td>\n",
       "      <td>26105470.0</td>\n",
       "      <td>maureen dowd</td>\n",
       "      <td>[maureen, dowd, you, you]</td>\n",
       "      <td>True</td>\n",
       "      <td>very powerful, maureen dowd.</td>\n",
       "      <td>strangely, your parable expresses a key para...</td>\n",
       "    </tr>\n",
       "    <tr>\n",
       "      <th>58994</th>\n",
       "      <td>58994</td>\n",
       "      <td>58ca3cfa7c459f247805c1e6</td>\n",
       "      <td>the saddest thing about all this ridicule and ...</td>\n",
       "      <td>21821561.0</td>\n",
       "      <td>gail collins</td>\n",
       "      <td>[gail, collins, you, you]</td>\n",
       "      <td>True</td>\n",
       "      <td>&lt;br/&gt;&lt;br/&gt;ms. collins, as usual, is spot on.</td>\n",
       "      <td>ms. collins, as usual, is spot on.</td>\n",
       "    </tr>\n",
       "    <tr>\n",
       "      <th>55849</th>\n",
       "      <td>55849</td>\n",
       "      <td>58d6b7077c459f24986d667e</td>\n",
       "      <td>nailed it maureen. after reading jane mayer's ...</td>\n",
       "      <td>21937027.0</td>\n",
       "      <td>maureen dowd</td>\n",
       "      <td>[maureen, dowd, you, you]</td>\n",
       "      <td>True</td>\n",
       "      <td>nailed it maureen.</td>\n",
       "      <td>nailed it maureen.</td>\n",
       "    </tr>\n",
       "    <tr>\n",
       "      <th>14503</th>\n",
       "      <td>14503</td>\n",
       "      <td>5ae19fa4068401528a2aac78</td>\n",
       "      <td>it’s fitting that gail collins’s column appear...</td>\n",
       "      <td>26878877.0</td>\n",
       "      <td>bret stephens</td>\n",
       "      <td>[bret, stephens, you, you]</td>\n",
       "      <td>True</td>\n",
       "      <td>stephens picked the low-hanging fruit.</td>\n",
       "      <td>stephens picked the low-hanging fruit.  how ...</td>\n",
       "    </tr>\n",
       "    <tr>\n",
       "      <th>71638</th>\n",
       "      <td>71638</td>\n",
       "      <td>5913c4a47c459f24986dede5</td>\n",
       "      <td>you are correct, mr. blow.  i am exhausted and...</td>\n",
       "      <td>22454901.0</td>\n",
       "      <td>charles m. blow</td>\n",
       "      <td>[charles, blow, you, you]</td>\n",
       "      <td>True</td>\n",
       "      <td>you are correct, mr. blow.</td>\n",
       "      <td>looking at you, mitch. you are correct, mr. ...</td>\n",
       "    </tr>\n",
       "    <tr>\n",
       "      <th>27275</th>\n",
       "      <td>27275</td>\n",
       "      <td>5a77b85110f40f00018bf792</td>\n",
       "      <td>if i ever want my fortune told, i will certain...</td>\n",
       "      <td>25842970.0</td>\n",
       "      <td>charles m. blow</td>\n",
       "      <td>[charles, blow, you, you]</td>\n",
       "      <td>True</td>\n",
       "      <td>if i ever want my fortune told, i will certain...</td>\n",
       "      <td>if i ever want my fortune told, i will certain...</td>\n",
       "    </tr>\n",
       "    <tr>\n",
       "      <th>39892</th>\n",
       "      <td>39892</td>\n",
       "      <td>588076fb95d0e0392607b8d2</td>\n",
       "      <td>brother blow,&lt;br/&gt;&lt;br/&gt;i recognize it is nearl...</td>\n",
       "      <td>21146563.0</td>\n",
       "      <td>charles m. blow</td>\n",
       "      <td>[charles, blow, you, you]</td>\n",
       "      <td>True</td>\n",
       "      <td>brother blow,&lt;br/&gt;&lt;br/&gt;i recognize it is nearl...</td>\n",
       "      <td>what solutions to the current situation would...</td>\n",
       "    </tr>\n",
       "    <tr>\n",
       "      <th>76627</th>\n",
       "      <td>76627</td>\n",
       "      <td>592534767c459f24986e1563</td>\n",
       "      <td>when the republican party stops supporting hea...</td>\n",
       "      <td>22614007.0</td>\n",
       "      <td>ross douthat</td>\n",
       "      <td>[ross, douthat, you, you]</td>\n",
       "      <td>True</td>\n",
       "      <td>when the republican party stops supporting hea...</td>\n",
       "      <td>when the republican party stops supporting hea...</td>\n",
       "    </tr>\n",
       "    <tr>\n",
       "      <th>51402</th>\n",
       "      <td>51402</td>\n",
       "      <td>5a540ae57c459f29e79b2e94</td>\n",
       "      <td>david brooks remains one of the sharpest socia...</td>\n",
       "      <td>25489435.0</td>\n",
       "      <td>david brooks</td>\n",
       "      <td>[david, brooks, you, you]</td>\n",
       "      <td>True</td>\n",
       "      <td>david brooks remains one of the sharpest socia...</td>\n",
       "      <td>david brooks remains one of the sharpest socia...</td>\n",
       "    </tr>\n",
       "    <tr>\n",
       "      <th>20874</th>\n",
       "      <td>20874</td>\n",
       "      <td>58a6b27395d0e0247463713d</td>\n",
       "      <td>one of the best columns brooks has penned. &lt;br...</td>\n",
       "      <td>21516287.0</td>\n",
       "      <td>david brooks</td>\n",
       "      <td>[david, brooks, you, you]</td>\n",
       "      <td>True</td>\n",
       "      <td>one of the best columns brooks has penned.</td>\n",
       "      <td>one of the best columns brooks has penned.</td>\n",
       "    </tr>\n",
       "    <tr>\n",
       "      <th>31293</th>\n",
       "      <td>31293</td>\n",
       "      <td>5a8882c810f40f00018c19c2</td>\n",
       "      <td>let's face it, ross, given mass shootings are ...</td>\n",
       "      <td>26021713.0</td>\n",
       "      <td>ross douthat</td>\n",
       "      <td>[ross, douthat, you, you]</td>\n",
       "      <td>True</td>\n",
       "      <td>let's face it, ross, given mass shootings are ...</td>\n",
       "      <td>let's face it, ross, given mass shootings are ...</td>\n",
       "    </tr>\n",
       "    <tr>\n",
       "      <th>33954</th>\n",
       "      <td>33954</td>\n",
       "      <td>5a90c91b10f40f00018c2c47</td>\n",
       "      <td>gail, what does all this say about the vocatio...</td>\n",
       "      <td>26101656.0</td>\n",
       "      <td>gail collins</td>\n",
       "      <td>[gail, collins, you, you]</td>\n",
       "      <td>True</td>\n",
       "      <td>gail, what does all this say about the vocatio...</td>\n",
       "      <td>gail, what does all this say about the vocatio...</td>\n",
       "    </tr>\n",
       "    <tr>\n",
       "      <th>49141</th>\n",
       "      <td>49141</td>\n",
       "      <td>5a5c069c7c459f29e79b3f4f</td>\n",
       "      <td>charles has hit it onthe nail. the problem is ...</td>\n",
       "      <td>25565986.0</td>\n",
       "      <td>charles m. blow</td>\n",
       "      <td>[charles, blow, you, you]</td>\n",
       "      <td>True</td>\n",
       "      <td>charles has hit it onthe nail.</td>\n",
       "      <td>charles has hit it onthe nail.</td>\n",
       "    </tr>\n",
       "    <tr>\n",
       "      <th>49632</th>\n",
       "      <td>49632</td>\n",
       "      <td>5a5810047c459f29e79b38d3</td>\n",
       "      <td>democracies don't perish because of liberalism...</td>\n",
       "      <td>25547617.0</td>\n",
       "      <td>david brooks</td>\n",
       "      <td>[david, brooks, you, you]</td>\n",
       "      <td>True</td>\n",
       "      <td>your problem with trump david, as shown in yo...</td>\n",
       "      <td>your problem with trump david, as shown in yo...</td>\n",
       "    </tr>\n",
       "    <tr>\n",
       "      <th>50696</th>\n",
       "      <td>50696</td>\n",
       "      <td>5a4fc7717c459f29e79b280d</td>\n",
       "      <td>re paul krugman's latest bashing of paul ryan:...</td>\n",
       "      <td>25448590.0</td>\n",
       "      <td>paul krugman</td>\n",
       "      <td>[paul, krugman, you, you]</td>\n",
       "      <td>True</td>\n",
       "      <td>part of that strategy consists in doing what ...</td>\n",
       "      <td>part of that strategy consists in doing what ...</td>\n",
       "    </tr>\n",
       "    <tr>\n",
       "      <th>71713</th>\n",
       "      <td>71713</td>\n",
       "      <td>5913c4a47c459f24986dede5</td>\n",
       "      <td>mr. blow:  if trump were only the 'president',...</td>\n",
       "      <td>22453493.0</td>\n",
       "      <td>charles m. blow</td>\n",
       "      <td>[charles, blow, you, you]</td>\n",
       "      <td>True</td>\n",
       "      <td>mr. blow:  if trump were only the 'president',...</td>\n",
       "      <td>mr. blow:  if trump were only the 'president',...</td>\n",
       "    </tr>\n",
       "    <tr>\n",
       "      <th>40398</th>\n",
       "      <td>40398</td>\n",
       "      <td>5881c88895d0e0392607bce1</td>\n",
       "      <td>mr. brooks has chosen to predict with a style ...</td>\n",
       "      <td>21157798.0</td>\n",
       "      <td>david brooks</td>\n",
       "      <td>[david, brooks, you, you]</td>\n",
       "      <td>True</td>\n",
       "      <td>mr. brooks has chosen to predict with a style ...</td>\n",
       "      <td>mr. brooks has chosen to predict with a style ...</td>\n",
       "    </tr>\n",
       "    <tr>\n",
       "      <th>39999</th>\n",
       "      <td>39999</td>\n",
       "      <td>588076fb95d0e0392607b8d2</td>\n",
       "      <td>military parades?  this just keeps getting wor...</td>\n",
       "      <td>21144956.0</td>\n",
       "      <td>charles m. blow</td>\n",
       "      <td>[charles, blow, you, you]</td>\n",
       "      <td>True</td>\n",
       "      <td>but after the part about military parades, k...</td>\n",
       "      <td>but after the part about military parades, k...</td>\n",
       "    </tr>\n",
       "  </tbody>\n",
       "</table>\n",
       "<p>300 rows × 9 columns</p>\n",
       "</div>"
      ],
      "text/plain": [
       "       index                 articleID  \\\n",
       "30201  30201  5a83441b10f40f00018c0c70   \n",
       "43304  43304  588b02fe95d0e0392607d1a6   \n",
       "31470  31470  5a8882d010f40f00018c19c4   \n",
       "70558  70558  590e16587c459f24986de1af   \n",
       "79164  79164  592fc8357c459f24986e2c43   \n",
       "68056  68056  5ab97a4e47de81a901217947   \n",
       "807      807  58e49b077c459f24986d871b   \n",
       "9597    9597  5ad07c27068401528a2a87e1   \n",
       "52238  52238  5a4ea68b7c459f29e79b258b   \n",
       "14860  14860  5ae2f123068401528a2ab087   \n",
       "38814  38814  587dd40a95d0e0392607b100   \n",
       "70724  70724  590e16587c459f24986de1b0   \n",
       "52445  52445  58bd1c087c459f2525d20018   \n",
       "19967  19967  58a2be0695d0e024746364e2   \n",
       "5367    5367  5906e1f17c459f24986dd042   \n",
       "11588  11588  5acaaf08068401528a2a50b6   \n",
       "59521  59521  58cb8e817c459f247805c5c1   \n",
       "21695  21695  58a8a0d995d0e024746375f0   \n",
       "72362  72362  591750c97c459f24986df6e1   \n",
       "17782  17782  589a5c9495d0e0392607f1f9   \n",
       "67123  67123  5ab4350547de81a9012159fe   \n",
       "48816  48816  5a5d42b37c459f29e79b41b3   \n",
       "4666    4666  5903939f7c459f24986dcc22   \n",
       "74986  74986  591e9ceb7c459f24986e07cf   \n",
       "61350  61350  5a992b5b410cf7000162ed90   \n",
       "30789  30789  5a8564d010f40f00018c1253   \n",
       "9404    9404  5ad248af068401528a2a8b81   \n",
       "60414  60414  58d0d4777c459f247805cfc4   \n",
       "52439  52439  58bd1c087c459f2525d20018   \n",
       "28458  28458  5a7c2a3d10f40f00018c033f   \n",
       "...      ...                       ...   \n",
       "32341  32341  5a8b6dde10f40f00018c1ded   \n",
       "567      567  58e349707c459f24986d8363   \n",
       "31051  31051  5a862e9d10f40f00018c14e2   \n",
       "2487    2487  58edd56e7c459f24986d9bf3   \n",
       "24133  24133  58b1e85e95d0e0247463896f   \n",
       "43691  43691  588cf14095d0e0392607d56d   \n",
       "64066  64066  5aa7e8c747de81a90120e309   \n",
       "51085  51085  5a549d4c7c459f29e79b2f8f   \n",
       "21603  21603  58a8a0d795d0e024746375e8   \n",
       "28294  28294  5a7ad8bd10f40f00018bff57   \n",
       "4577    4577  590300827c459f24986dc9ff   \n",
       "20993  20993  58a6b27395d0e0247463713d   \n",
       "33817  33817  5a91c03a10f40f00018c2da1   \n",
       "58994  58994  58ca3cfa7c459f247805c1e6   \n",
       "55849  55849  58d6b7077c459f24986d667e   \n",
       "14503  14503  5ae19fa4068401528a2aac78   \n",
       "71638  71638  5913c4a47c459f24986dede5   \n",
       "27275  27275  5a77b85110f40f00018bf792   \n",
       "39892  39892  588076fb95d0e0392607b8d2   \n",
       "76627  76627  592534767c459f24986e1563   \n",
       "51402  51402  5a540ae57c459f29e79b2e94   \n",
       "20874  20874  58a6b27395d0e0247463713d   \n",
       "31293  31293  5a8882c810f40f00018c19c2   \n",
       "33954  33954  5a90c91b10f40f00018c2c47   \n",
       "49141  49141  5a5c069c7c459f29e79b3f4f   \n",
       "49632  49632  5a5810047c459f29e79b38d3   \n",
       "50696  50696  5a4fc7717c459f29e79b280d   \n",
       "71713  71713  5913c4a47c459f24986dede5   \n",
       "40398  40398  5881c88895d0e0392607bce1   \n",
       "39999  39999  588076fb95d0e0392607b8d2   \n",
       "\n",
       "                                             commentBody   commentID  \\\n",
       "30201  frank, i'm typically in full alignment with yo...  25952753.0   \n",
       "43304  president mad max will continue to bulldoze th...  21251929.0   \n",
       "31470  \"when societies try to protect a malevolent st...  26015014.0   \n",
       "70558  i hope you're right but i fear that this is in...  22394895.0   \n",
       "79164  another good article by edsall. all one need d...  22687951.0   \n",
       "68056  oh, please. republican voters haven't been con...  26501400.0   \n",
       "807    emperors?  no.  endless conflict and feuding a...  22042622.0   \n",
       "9597   yes, trump is a raging buffoon.  but cohen has...  26735832.0   \n",
       "52238  michelle, you done it again! i would only one ...  25439930.0   \n",
       "14860  i've been a fan of mr. egan's writing for many...  26894119.0   \n",
       "38814  this is the first time i have nothing snarky o...  21123235.0   \n",
       "70724  of course, maureen's picture of trump-ryan is ...  22394665.0   \n",
       "52445  i'm repeatedly stunned at mr. blow's posts. th...  21707141.0   \n",
       "19967  mr. brooks, you neglected to mention one tiny ...  21468377.0   \n",
       "5367   wow charles.  ranting again, and wasting my ti...  22324493.0   \n",
       "11588  by seeing comey's behavior as hubris, i think ...  26662493.0   \n",
       "59521  mark twain, who might be viewed as the bob dyl...  21832555.0   \n",
       "21695  ms. dowd, in psychiatry we call such a person(...  21532461.0   \n",
       "72362  you're a bad man,  frank. a very, very bad man...  22491198.0   \n",
       "17782  the only thing more predictable than the democ...  21398151.0   \n",
       "67123  this touches on the conundrum of individual vs...  26454871.0   \n",
       "48816  there would be real moral truth in revealing w...  25581417.0   \n",
       "4666   it would be interesting to see mr. stephens ex...  22310032.0   \n",
       "74986  krugman: \"if you’re waiting to find the modern...  22558456.0   \n",
       "61350  nothing proves michelle’s major point more ent...  26186511.0   \n",
       "30789  while i don't claim to be an expert, i think t...  25974580.0   \n",
       "9404   in 1960 and 1964 karl hess helped write the go...  26739533.0   \n",
       "60414  a common narrative does not create unity david...  21876688.0   \n",
       "52439  charles, you are absolutely correct in your as...  21709246.0   \n",
       "28458  half our oil comes from fracking. i hope bret ...  25884106.0   \n",
       "...                                                  ...         ...   \n",
       "32341  respect? you cannot be serious.  get real mr. ...  26031862.0   \n",
       "567    does mr. brooks even know that don the con is ...  22029706.0   \n",
       "31051  as a late boomer, and as my time winds down, y...  25989254.0   \n",
       "2487   republican zealots killed the filibuster as al...  22130696.0   \n",
       "24133  desperate times call for desperate measures––e...  21612402.0   \n",
       "43691  regarding mr. trump and the media in mr. douth...  21274658.0   \n",
       "64066  frank, wish i was there with you in italy, jus...  26307353.0   \n",
       "51085  poor gail and brett.i think their stability is...  25487505.0   \n",
       "21603  this weekend finds me in iowa where this morni...  21530295.0   \n",
       "28294  yes, ross, your party has installed a presiden...  25866643.0   \n",
       "4577   as a long time reader of nyrb and a working ed...  22303278.0   \n",
       "20993  phenomenally well written piece by david brook...  21513320.0   \n",
       "33817  very powerful, maureen dowd.  and chilling.  a...  26105470.0   \n",
       "58994  the saddest thing about all this ridicule and ...  21821561.0   \n",
       "55849  nailed it maureen. after reading jane mayer's ...  21937027.0   \n",
       "14503  it’s fitting that gail collins’s column appear...  26878877.0   \n",
       "71638  you are correct, mr. blow.  i am exhausted and...  22454901.0   \n",
       "27275  if i ever want my fortune told, i will certain...  25842970.0   \n",
       "39892  brother blow,<br/><br/>i recognize it is nearl...  21146563.0   \n",
       "76627  when the republican party stops supporting hea...  22614007.0   \n",
       "51402  david brooks remains one of the sharpest socia...  25489435.0   \n",
       "20874  one of the best columns brooks has penned. <br...  21516287.0   \n",
       "31293  let's face it, ross, given mass shootings are ...  26021713.0   \n",
       "33954  gail, what does all this say about the vocatio...  26101656.0   \n",
       "49141  charles has hit it onthe nail. the problem is ...  25565986.0   \n",
       "49632  democracies don't perish because of liberalism...  25547617.0   \n",
       "50696  re paul krugman's latest bashing of paul ryan:...  25448590.0   \n",
       "71713  mr. blow:  if trump were only the 'president',...  22453493.0   \n",
       "40398  mr. brooks has chosen to predict with a style ...  21157798.0   \n",
       "39999  military parades?  this just keeps getting wor...  21144956.0   \n",
       "\n",
       "                  author                             author_tokens  \\\n",
       "30201        frank bruni                  [frank, bruni, you, you]   \n",
       "43304       paul krugman                 [paul, krugman, you, you]   \n",
       "31470       maureen dowd  [maureen, dowd, you, you, you, you, you]   \n",
       "70558        frank bruni                  [frank, bruni, you, you]   \n",
       "79164   thomas b. edsall                [thomas, edsall, you, you]   \n",
       "68056       paul krugman                 [paul, krugman, you, you]   \n",
       "807         ross douthat                 [ross, douthat, you, you]   \n",
       "9597         roger cohen                  [roger, cohen, you, you]   \n",
       "52238  michelle goldberg            [michelle, goldberg, you, you]   \n",
       "14860       timothy egan                 [timothy, egan, you, you]   \n",
       "38814       david brooks                 [david, brooks, you, you]   \n",
       "70724       maureen dowd                 [maureen, dowd, you, you]   \n",
       "52445    charles m. blow                 [charles, blow, you, you]   \n",
       "19967       david brooks                 [david, brooks, you, you]   \n",
       "5367     charles m. blow                 [charles, blow, you, you]   \n",
       "11588    david leonhardt              [david, leonhardt, you, you]   \n",
       "59521       david brooks                 [david, brooks, you, you]   \n",
       "21695       maureen dowd                 [maureen, dowd, you, you]   \n",
       "72362        frank bruni                  [frank, bruni, you, you]   \n",
       "17782       ross douthat                 [ross, douthat, you, you]   \n",
       "67123       david brooks                 [david, brooks, you, you]   \n",
       "48816       david brooks                 [david, brooks, you, you]   \n",
       "4666       bret stephens                [bret, stephens, you, you]   \n",
       "74986       paul krugman                 [paul, krugman, you, you]   \n",
       "61350  michelle goldberg            [michelle, goldberg, you, you]   \n",
       "30789   thomas b. edsall                [thomas, edsall, you, you]   \n",
       "9404        ross douthat                 [ross, douthat, you, you]   \n",
       "60414       david brooks                 [david, brooks, you, you]   \n",
       "52439    charles m. blow                 [charles, blow, you, you]   \n",
       "28458      bret stephens                [bret, stephens, you, you]   \n",
       "...                  ...                                       ...   \n",
       "32341       david brooks                 [david, brooks, you, you]   \n",
       "567         david brooks                 [david, brooks, you, you]   \n",
       "31051       david brooks                 [david, brooks, you, you]   \n",
       "2487        ross douthat                 [ross, douthat, you, you]   \n",
       "24133       ross douthat                 [ross, douthat, you, you]   \n",
       "43691       ross douthat                 [ross, douthat, you, you]   \n",
       "64066        frank bruni                  [frank, bruni, you, you]   \n",
       "51085      bret stephens                [bret, stephens, you, you]   \n",
       "21603       ross douthat                 [ross, douthat, you, you]   \n",
       "28294       ross douthat                 [ross, douthat, you, you]   \n",
       "4577         roger cohen                  [roger, cohen, you, you]   \n",
       "20993       david brooks                 [david, brooks, you, you]   \n",
       "33817       maureen dowd                 [maureen, dowd, you, you]   \n",
       "58994       gail collins                 [gail, collins, you, you]   \n",
       "55849       maureen dowd                 [maureen, dowd, you, you]   \n",
       "14503      bret stephens                [bret, stephens, you, you]   \n",
       "71638    charles m. blow                 [charles, blow, you, you]   \n",
       "27275    charles m. blow                 [charles, blow, you, you]   \n",
       "39892    charles m. blow                 [charles, blow, you, you]   \n",
       "76627       ross douthat                 [ross, douthat, you, you]   \n",
       "51402       david brooks                 [david, brooks, you, you]   \n",
       "20874       david brooks                 [david, brooks, you, you]   \n",
       "31293       ross douthat                 [ross, douthat, you, you]   \n",
       "33954       gail collins                 [gail, collins, you, you]   \n",
       "49141    charles m. blow                 [charles, blow, you, you]   \n",
       "49632       david brooks                 [david, brooks, you, you]   \n",
       "50696       paul krugman                 [paul, krugman, you, you]   \n",
       "71713    charles m. blow                 [charles, blow, you, you]   \n",
       "40398       david brooks                 [david, brooks, you, you]   \n",
       "39999    charles m. blow                 [charles, blow, you, you]   \n",
       "\n",
       "       ref_author                                   sentences_author  \\\n",
       "30201        True  frank, i'm typically in full alignment with yo...   \n",
       "43304        True    i think professor krugman answered that ques...   \n",
       "31470        True  \" <br/><br/>maureen has seen the greater truth...   \n",
       "70558        True   that said, i am with frank: a bit of real \"se...   \n",
       "79164        True                    another good article by edsall.   \n",
       "68056        True   they aren't as stupid as dr. krugman and many...   \n",
       "807          True  <br/><br/>ross, by the way, these sorts of gad...   \n",
       "9597         True    but cohen has one part of the analysis preci...   \n",
       "52238        True  michelle, you done it again! i would only one ...   \n",
       "14860        True  i've been a fan of mr. egan's writing for many...   \n",
       "38814        True  this is the first time i have nothing snarky o...   \n",
       "70724        True  of course, maureen's picture of trump-ryan is ...   \n",
       "52445        True  i'm repeatedly stunned at mr. blow's posts. <b...   \n",
       "19967        True  mr. brooks, you neglected to mention one tiny ...   \n",
       "5367         True                                       wow charles.   \n",
       "11588        True  by seeing comey's behavior as hubris, i think ...   \n",
       "59521        True                         \"<br/><br/>brooks says, \".   \n",
       "21695        True  ms. dowd, in psychiatry we call such a person(...   \n",
       "72362        True                          you're a bad man,  frank.   \n",
       "17782        True  the only thing more predictable than the democ...   \n",
       "67123        True  <br/><br/>brooks, in my opinion, is a great wr...   \n",
       "48816        True    mr. brooks is in an excellent position to ex...   \n",
       "4666         True  it would be interesting to see mr. stephens ex...   \n",
       "74986        True  krugman: \"if you’re waiting to find the modern...   \n",
       "61350        True  nothing proves michelle’s major point more ent...   \n",
       "30789        True                                 \" by thomas frank.   \n",
       "9404         True                 i think ross has paul ryan pegged.   \n",
       "60414        True    a common narrative does not create unity david.   \n",
       "52439        True  charles, you are absolutely correct in your as...   \n",
       "28458        True   i hope bret cheers when that comes to his nei...   \n",
       "...           ...                                                ...   \n",
       "32341        True    get real mr. brooks the nra actually profits...   \n",
       "567          True  does mr. brooks even know that don the con is ...   \n",
       "31051        True                                                      \n",
       "2487         True   <br/><br/>douthat enables every step of the w...   \n",
       "24133        True   i applaud douthat for throwing caution to the...   \n",
       "43691        True  regarding mr. trump and the media in mr. douth...   \n",
       "64066        True  frank, wish i was there with you in italy, jus...   \n",
       "51085        True                               poor gail and brett.   \n",
       "21603        True                             patience, mr. douthat.   \n",
       "28294        True    not seeing the bright side you try to conjur...   \n",
       "4577         True  as a long time reader of nyrb and a working ed...   \n",
       "20993        True    brooks nails the sycophancy loving narcism t...   \n",
       "33817        True                       very powerful, maureen dowd.   \n",
       "58994        True       <br/><br/>ms. collins, as usual, is spot on.   \n",
       "55849        True                                 nailed it maureen.   \n",
       "14503        True             stephens picked the low-hanging fruit.   \n",
       "71638        True                         you are correct, mr. blow.   \n",
       "27275        True  if i ever want my fortune told, i will certain...   \n",
       "39892        True  brother blow,<br/><br/>i recognize it is nearl...   \n",
       "76627        True  when the republican party stops supporting hea...   \n",
       "51402        True  david brooks remains one of the sharpest socia...   \n",
       "20874        True         one of the best columns brooks has penned.   \n",
       "31293        True  let's face it, ross, given mass shootings are ...   \n",
       "33954        True  gail, what does all this say about the vocatio...   \n",
       "49141        True                     charles has hit it onthe nail.   \n",
       "49632        True   your problem with trump david, as shown in yo...   \n",
       "50696        True   part of that strategy consists in doing what ...   \n",
       "71713        True  mr. blow:  if trump were only the 'president',...   \n",
       "40398        True  mr. brooks has chosen to predict with a style ...   \n",
       "39999        True    but after the part about military parades, k...   \n",
       "\n",
       "                                       sentences_author2  \n",
       "30201   but you would never think of exploding at his...  \n",
       "43304    i think professor krugman answered that ques...  \n",
       "31470  \"   maureen has seen the greater truth behind ...  \n",
       "70558   that said, i am with frank: a bit of real \"se...  \n",
       "79164                    another good article by edsall.  \n",
       "68056   they aren't as stupid as dr. krugman and many...  \n",
       "807      ross, by the way, these sorts of gadfly colu...  \n",
       "9597     but cohen has one part of the analysis preci...  \n",
       "52238  michelle, you done it again! i would only one ...  \n",
       "14860  i've been a fan of mr. egan's writing for many...  \n",
       "38814  this is the first time i have nothing snarky o...  \n",
       "70724  of course, maureen's picture of trump-ryan is ...  \n",
       "52445  i'm repeatedly stunned at mr. blow's posts.  i...  \n",
       "19967   first, contrary to your claim, ford did not \"...  \n",
       "5367                                        wow charles.  \n",
       "11588  by seeing comey's behavior as hubris, i think ...  \n",
       "59521                                 \"  brooks says, \".  \n",
       "21695  ms. dowd, in psychiatry we call such a person(...  \n",
       "72362   little anthony,  i mean donny is going to cha...  \n",
       "17782  the only thing more predictable than the democ...  \n",
       "67123    brooks, in my opinion, is a great writer and...  \n",
       "48816    mr. brooks is in an excellent position to ex...  \n",
       "4666   it would be interesting to see mr. stephens ex...  \n",
       "74986  krugman: \"if you’re waiting to find the modern...  \n",
       "61350  nothing proves michelle’s major point more ent...  \n",
       "30789                                 \" by thomas frank.  \n",
       "9404                  i think ross has paul ryan pegged.  \n",
       "60414    for many decades llb created unity in local ...  \n",
       "52439  charles, you are absolutely correct in your as...  \n",
       "28458   i hope bret cheers when that comes to his nei...  \n",
       "...                                                  ...  \n",
       "32341   they are beneath my contempt and should be be...  \n",
       "567    does mr. brooks even know that don the con is ...  \n",
       "31051  as a late boomer, and as my time winds down, y...  \n",
       "2487      douthat enables every step of the way as he...  \n",
       "24133   i applaud douthat for throwing caution to the...  \n",
       "43691  regarding mr. trump and the media in mr. douth...  \n",
       "64066  frank, wish i was there with you in italy, jus...  \n",
       "51085                               poor gail and brett.  \n",
       "21603                             patience, mr. douthat.  \n",
       "28294    not seeing the bright side you try to conjur...  \n",
       "4577    so, encomiasts, be honest about who and what ...  \n",
       "20993    brooks nails the sycophancy loving narcism t...  \n",
       "33817    strangely, your parable expresses a key para...  \n",
       "58994                 ms. collins, as usual, is spot on.  \n",
       "55849                                 nailed it maureen.  \n",
       "14503    stephens picked the low-hanging fruit.  how ...  \n",
       "71638    looking at you, mitch. you are correct, mr. ...  \n",
       "27275  if i ever want my fortune told, i will certain...  \n",
       "39892   what solutions to the current situation would...  \n",
       "76627  when the republican party stops supporting hea...  \n",
       "51402  david brooks remains one of the sharpest socia...  \n",
       "20874         one of the best columns brooks has penned.  \n",
       "31293  let's face it, ross, given mass shootings are ...  \n",
       "33954  gail, what does all this say about the vocatio...  \n",
       "49141                     charles has hit it onthe nail.  \n",
       "49632   your problem with trump david, as shown in yo...  \n",
       "50696   part of that strategy consists in doing what ...  \n",
       "71713  mr. blow:  if trump were only the 'president',...  \n",
       "40398  mr. brooks has chosen to predict with a style ...  \n",
       "39999    but after the part about military parades, k...  \n",
       "\n",
       "[300 rows x 9 columns]"
      ]
     },
     "execution_count": 391,
     "metadata": {},
     "output_type": "execute_result"
    }
   ],
   "source": [
    "labels"
   ]
  },
  {
   "cell_type": "code",
   "execution_count": 108,
   "metadata": {
    "ExecuteTime": {
     "end_time": "2020-04-11T21:21:52.638039Z",
     "start_time": "2020-04-11T21:16:55.322121Z"
    }
   },
   "outputs": [],
   "source": [
    "test_set['sentences_author'] = test_set['index'].apply(lambda x: extract_sentence(x))"
   ]
  },
  {
   "cell_type": "code",
   "execution_count": 115,
   "metadata": {
    "ExecuteTime": {
     "end_time": "2020-04-11T21:26:24.868111Z",
     "start_time": "2020-04-11T21:26:22.658015Z"
    }
   },
   "outputs": [],
   "source": [
    "test_set.to_csv('data/test_set.csv', sep=\";\")"
   ]
  },
  {
   "cell_type": "code",
   "execution_count": 116,
   "metadata": {
    "ExecuteTime": {
     "end_time": "2020-04-11T21:26:25.907062Z",
     "start_time": "2020-04-11T21:26:25.886150Z"
    }
   },
   "outputs": [],
   "source": [
    "# labels = test_set.sample(n=300)\n",
    "# labels.to_csv('data/test_setlabel.csv', sep=\";\")\n",
    "# labels['index'].to_csv('data/indexes_setlabel.csv', sep=';')"
   ]
  },
  {
   "cell_type": "markdown",
   "metadata": {},
   "source": [
    "# Descriptive statistics"
   ]
  },
  {
   "cell_type": "markdown",
   "metadata": {},
   "source": [
    "## Number of comments"
   ]
  },
  {
   "cell_type": "code",
   "execution_count": 239,
   "metadata": {
    "ExecuteTime": {
     "end_time": "2020-04-12T10:06:44.100503Z",
     "start_time": "2020-04-12T10:06:44.007725Z"
    }
   },
   "outputs": [],
   "source": [
    "authors_statistics = test_set.groupby('author').agg('sum').reset_index()[['author','ref_author']]"
   ]
  },
  {
   "cell_type": "code",
   "execution_count": 240,
   "metadata": {
    "ExecuteTime": {
     "end_time": "2020-04-12T10:06:44.492035Z",
     "start_time": "2020-04-12T10:06:44.211762Z"
    }
   },
   "outputs": [],
   "source": [
    "# number of comments in editorials - total\n",
    "nb_comments_total = comments.groupby('author').agg('count').reset_index()[['author','articleID']].rename(columns={'articleID':'nb_comments'})\n",
    "nb_comments_total['author'] = nb_comments_total['author'].apply(lambda x: x.lower())"
   ]
  },
  {
   "cell_type": "code",
   "execution_count": 241,
   "metadata": {
    "ExecuteTime": {
     "end_time": "2020-04-12T10:06:44.522523Z",
     "start_time": "2020-04-12T10:06:44.494023Z"
    }
   },
   "outputs": [],
   "source": [
    "# Number of comments by author\n",
    "authors_statistics = pd.merge(authors_statistics, nb_comments_total, on='author')\n",
    "authors_statistics['ref_author_pct'] = authors_statistics['ref_author']/authors_statistics['nb_comments']*100"
   ]
  },
  {
   "cell_type": "markdown",
   "metadata": {},
   "source": [
    "###  Number of articles"
   ]
  },
  {
   "cell_type": "code",
   "execution_count": 243,
   "metadata": {
    "ExecuteTime": {
     "end_time": "2020-04-12T10:06:50.138695Z",
     "start_time": "2020-04-12T10:06:50.126162Z"
    }
   },
   "outputs": [],
   "source": [
    "def nb_articles(df):\n",
    "    nb_comments_articles = df.groupby(('author','articleID')) \\\n",
    "                                        .agg('count').reset_index()[['author','articleID','commentID']] \\\n",
    "                                        .rename(columns={'commentID':'nb_comments'})\n",
    "    nb_comments_articles['author'] = nb_comments_articles['author'].apply(lambda x: x.lower())\n",
    "    \n",
    "    nb_articles = nb_comments_articles.groupby('author').agg('count').reset_index()[['author','articleID']].rename(columns={'articleID':'nb_articles'})\n",
    "    \n",
    "    nb_comments_articles=nb_comments_articles.groupby('author').agg('mean').reset_index().rename(columns={\"nb_comments\":'nb_comments_by_article'})\n",
    "\n",
    "    return nb_comments_articles, nb_articles"
   ]
  },
  {
   "cell_type": "code",
   "execution_count": 244,
   "metadata": {
    "ExecuteTime": {
     "end_time": "2020-04-12T10:06:50.814232Z",
     "start_time": "2020-04-12T10:06:50.322427Z"
    }
   },
   "outputs": [
    {
     "name": "stderr",
     "output_type": "stream",
     "text": [
      "C:\\Users\\naila\\Anaconda3\\lib\\site-packages\\ipykernel_launcher.py:2: FutureWarning: Interpreting tuple 'by' as a list of keys, rather than a single key. Use 'by=[...]' instead of 'by=(...)'. In the future, a tuple will always mean a single key.\n",
      "  \n"
     ]
    }
   ],
   "source": [
    "nb_comments_total, nb_articles_total = nb_articles(comments)\n",
    "nb_comments_test, nb_articles_test = nb_articles(test_set)"
   ]
  },
  {
   "cell_type": "code",
   "execution_count": 245,
   "metadata": {
    "ExecuteTime": {
     "end_time": "2020-04-12T10:06:50.848872Z",
     "start_time": "2020-04-12T10:06:50.818134Z"
    }
   },
   "outputs": [],
   "source": [
    "authors_statistics = pd.merge(authors_statistics, nb_articles_total, on=\"author\").rename(columns={'nb_articles':'nb_articles_test'})\n",
    "authors_statistics = pd.merge(authors_statistics, nb_articles_total, on=\"author\").rename(columns={'nb_articles':'nb_articles_total'})\n",
    "authors_statistics['articles_pct'] = authors_statistics['nb_articles_test']/authors_statistics['nb_articles_total']*100"
   ]
  },
  {
   "cell_type": "code",
   "execution_count": 246,
   "metadata": {
    "ExecuteTime": {
     "end_time": "2020-04-12T10:06:51.266446Z",
     "start_time": "2020-04-12T10:06:51.238315Z"
    }
   },
   "outputs": [],
   "source": [
    "authors_statistics = pd.merge(authors_statistics, nb_comments_test,on=\"author\").rename(columns={'nb_comments_by_article':'nb_comments_by_article_test'})\n",
    "authors_statistics = pd.merge(authors_statistics, nb_comments_total,on=\"author\").rename(columns={'nb_comments_by_article':'nb_comments_by_article_total'})\n",
    "authors_statistics['nb_comments_article_pct'] = authors_statistics['nb_comments_by_article_test']/authors_statistics['nb_comments_by_article_total']*100"
   ]
  },
  {
   "cell_type": "code",
   "execution_count": 247,
   "metadata": {
    "ExecuteTime": {
     "end_time": "2020-04-12T10:06:51.903075Z",
     "start_time": "2020-04-12T10:06:51.869350Z"
    }
   },
   "outputs": [
    {
     "data": {
      "text/html": [
       "<div>\n",
       "<style scoped>\n",
       "    .dataframe tbody tr th:only-of-type {\n",
       "        vertical-align: middle;\n",
       "    }\n",
       "\n",
       "    .dataframe tbody tr th {\n",
       "        vertical-align: top;\n",
       "    }\n",
       "\n",
       "    .dataframe thead th {\n",
       "        text-align: right;\n",
       "    }\n",
       "</style>\n",
       "<table border=\"1\" class=\"dataframe\">\n",
       "  <thead>\n",
       "    <tr style=\"text-align: right;\">\n",
       "      <th></th>\n",
       "      <th>author</th>\n",
       "      <th>ref_author</th>\n",
       "      <th>nb_comments</th>\n",
       "      <th>ref_author_pct</th>\n",
       "      <th>nb_articles_test</th>\n",
       "      <th>nb_articles_total</th>\n",
       "      <th>articles_pct</th>\n",
       "      <th>nb_comments_by_article_test</th>\n",
       "      <th>nb_comments_by_article_total</th>\n",
       "      <th>nb_comments_article_pct</th>\n",
       "    </tr>\n",
       "  </thead>\n",
       "  <tbody>\n",
       "    <tr>\n",
       "      <th>0</th>\n",
       "      <td>andrew rosenthal</td>\n",
       "      <td>170.0</td>\n",
       "      <td>3094</td>\n",
       "      <td>5.494505</td>\n",
       "      <td>10</td>\n",
       "      <td>10</td>\n",
       "      <td>100.0</td>\n",
       "      <td>18.888889</td>\n",
       "      <td>309.400000</td>\n",
       "      <td>6.105006</td>\n",
       "    </tr>\n",
       "    <tr>\n",
       "      <th>1</th>\n",
       "      <td>bret stephens</td>\n",
       "      <td>3828.0</td>\n",
       "      <td>14651</td>\n",
       "      <td>26.127909</td>\n",
       "      <td>47</td>\n",
       "      <td>47</td>\n",
       "      <td>100.0</td>\n",
       "      <td>81.446809</td>\n",
       "      <td>311.723404</td>\n",
       "      <td>26.127909</td>\n",
       "    </tr>\n",
       "    <tr>\n",
       "      <th>2</th>\n",
       "      <td>charles m. blow</td>\n",
       "      <td>8470.0</td>\n",
       "      <td>39395</td>\n",
       "      <td>21.500190</td>\n",
       "      <td>61</td>\n",
       "      <td>61</td>\n",
       "      <td>100.0</td>\n",
       "      <td>138.852459</td>\n",
       "      <td>645.819672</td>\n",
       "      <td>21.500190</td>\n",
       "    </tr>\n",
       "    <tr>\n",
       "      <th>3</th>\n",
       "      <td>david brooks</td>\n",
       "      <td>17976.0</td>\n",
       "      <td>47493</td>\n",
       "      <td>37.849788</td>\n",
       "      <td>71</td>\n",
       "      <td>71</td>\n",
       "      <td>100.0</td>\n",
       "      <td>253.183099</td>\n",
       "      <td>668.915493</td>\n",
       "      <td>37.849788</td>\n",
       "    </tr>\n",
       "    <tr>\n",
       "      <th>4</th>\n",
       "      <td>david leonhardt</td>\n",
       "      <td>1394.0</td>\n",
       "      <td>18194</td>\n",
       "      <td>7.661867</td>\n",
       "      <td>46</td>\n",
       "      <td>46</td>\n",
       "      <td>100.0</td>\n",
       "      <td>30.304348</td>\n",
       "      <td>395.521739</td>\n",
       "      <td>7.661867</td>\n",
       "    </tr>\n",
       "    <tr>\n",
       "      <th>5</th>\n",
       "      <td>evan gershkovich</td>\n",
       "      <td>23.0</td>\n",
       "      <td>743</td>\n",
       "      <td>3.095559</td>\n",
       "      <td>20</td>\n",
       "      <td>20</td>\n",
       "      <td>100.0</td>\n",
       "      <td>1.769231</td>\n",
       "      <td>37.150000</td>\n",
       "      <td>4.762398</td>\n",
       "    </tr>\n",
       "    <tr>\n",
       "      <th>6</th>\n",
       "      <td>frank bruni</td>\n",
       "      <td>5857.0</td>\n",
       "      <td>36117</td>\n",
       "      <td>16.216740</td>\n",
       "      <td>72</td>\n",
       "      <td>72</td>\n",
       "      <td>100.0</td>\n",
       "      <td>81.347222</td>\n",
       "      <td>501.625000</td>\n",
       "      <td>16.216740</td>\n",
       "    </tr>\n",
       "    <tr>\n",
       "      <th>7</th>\n",
       "      <td>gail collins</td>\n",
       "      <td>3920.0</td>\n",
       "      <td>27493</td>\n",
       "      <td>14.258175</td>\n",
       "      <td>71</td>\n",
       "      <td>71</td>\n",
       "      <td>100.0</td>\n",
       "      <td>55.211268</td>\n",
       "      <td>387.225352</td>\n",
       "      <td>14.258175</td>\n",
       "    </tr>\n",
       "    <tr>\n",
       "      <th>8</th>\n",
       "      <td>jennifer finney boylan</td>\n",
       "      <td>194.0</td>\n",
       "      <td>2347</td>\n",
       "      <td>8.265871</td>\n",
       "      <td>14</td>\n",
       "      <td>14</td>\n",
       "      <td>100.0</td>\n",
       "      <td>13.857143</td>\n",
       "      <td>167.642857</td>\n",
       "      <td>8.265871</td>\n",
       "    </tr>\n",
       "    <tr>\n",
       "      <th>9</th>\n",
       "      <td>linda greenhouse</td>\n",
       "      <td>434.0</td>\n",
       "      <td>3042</td>\n",
       "      <td>14.266930</td>\n",
       "      <td>15</td>\n",
       "      <td>15</td>\n",
       "      <td>100.0</td>\n",
       "      <td>28.933333</td>\n",
       "      <td>202.800000</td>\n",
       "      <td>14.266930</td>\n",
       "    </tr>\n",
       "    <tr>\n",
       "      <th>10</th>\n",
       "      <td>liz spayd</td>\n",
       "      <td>675.0</td>\n",
       "      <td>5264</td>\n",
       "      <td>12.822948</td>\n",
       "      <td>51</td>\n",
       "      <td>51</td>\n",
       "      <td>100.0</td>\n",
       "      <td>13.235294</td>\n",
       "      <td>103.215686</td>\n",
       "      <td>12.822948</td>\n",
       "    </tr>\n",
       "    <tr>\n",
       "      <th>11</th>\n",
       "      <td>margaret renkl</td>\n",
       "      <td>164.0</td>\n",
       "      <td>2355</td>\n",
       "      <td>6.963907</td>\n",
       "      <td>11</td>\n",
       "      <td>11</td>\n",
       "      <td>100.0</td>\n",
       "      <td>14.909091</td>\n",
       "      <td>214.090909</td>\n",
       "      <td>6.963907</td>\n",
       "    </tr>\n",
       "    <tr>\n",
       "      <th>12</th>\n",
       "      <td>maureen dowd</td>\n",
       "      <td>3253.0</td>\n",
       "      <td>13558</td>\n",
       "      <td>23.993214</td>\n",
       "      <td>27</td>\n",
       "      <td>27</td>\n",
       "      <td>100.0</td>\n",
       "      <td>120.481481</td>\n",
       "      <td>502.148148</td>\n",
       "      <td>23.993214</td>\n",
       "    </tr>\n",
       "    <tr>\n",
       "      <th>13</th>\n",
       "      <td>michelle goldberg</td>\n",
       "      <td>1148.0</td>\n",
       "      <td>13038</td>\n",
       "      <td>8.805031</td>\n",
       "      <td>34</td>\n",
       "      <td>34</td>\n",
       "      <td>100.0</td>\n",
       "      <td>33.764706</td>\n",
       "      <td>383.470588</td>\n",
       "      <td>8.805031</td>\n",
       "    </tr>\n",
       "    <tr>\n",
       "      <th>14</th>\n",
       "      <td>nicholas kristof</td>\n",
       "      <td>3702.0</td>\n",
       "      <td>27742</td>\n",
       "      <td>13.344388</td>\n",
       "      <td>70</td>\n",
       "      <td>70</td>\n",
       "      <td>100.0</td>\n",
       "      <td>52.885714</td>\n",
       "      <td>396.314286</td>\n",
       "      <td>13.344388</td>\n",
       "    </tr>\n",
       "    <tr>\n",
       "      <th>15</th>\n",
       "      <td>paul krugman</td>\n",
       "      <td>9659.0</td>\n",
       "      <td>49601</td>\n",
       "      <td>19.473398</td>\n",
       "      <td>106</td>\n",
       "      <td>106</td>\n",
       "      <td>100.0</td>\n",
       "      <td>91.122642</td>\n",
       "      <td>467.933962</td>\n",
       "      <td>19.473398</td>\n",
       "    </tr>\n",
       "    <tr>\n",
       "      <th>16</th>\n",
       "      <td>roger cohen</td>\n",
       "      <td>3042.0</td>\n",
       "      <td>17185</td>\n",
       "      <td>17.701484</td>\n",
       "      <td>58</td>\n",
       "      <td>58</td>\n",
       "      <td>100.0</td>\n",
       "      <td>53.368421</td>\n",
       "      <td>296.293103</td>\n",
       "      <td>18.012036</td>\n",
       "    </tr>\n",
       "    <tr>\n",
       "      <th>17</th>\n",
       "      <td>ross douthat</td>\n",
       "      <td>10210.0</td>\n",
       "      <td>30480</td>\n",
       "      <td>33.497375</td>\n",
       "      <td>65</td>\n",
       "      <td>65</td>\n",
       "      <td>100.0</td>\n",
       "      <td>157.076923</td>\n",
       "      <td>468.923077</td>\n",
       "      <td>33.497375</td>\n",
       "    </tr>\n",
       "    <tr>\n",
       "      <th>18</th>\n",
       "      <td>thomas b. edsall</td>\n",
       "      <td>1053.0</td>\n",
       "      <td>11455</td>\n",
       "      <td>9.192492</td>\n",
       "      <td>32</td>\n",
       "      <td>32</td>\n",
       "      <td>100.0</td>\n",
       "      <td>32.906250</td>\n",
       "      <td>357.968750</td>\n",
       "      <td>9.192492</td>\n",
       "    </tr>\n",
       "    <tr>\n",
       "      <th>19</th>\n",
       "      <td>thomas l. friedman</td>\n",
       "      <td>3201.0</td>\n",
       "      <td>16511</td>\n",
       "      <td>19.387075</td>\n",
       "      <td>37</td>\n",
       "      <td>37</td>\n",
       "      <td>100.0</td>\n",
       "      <td>86.513514</td>\n",
       "      <td>446.243243</td>\n",
       "      <td>19.387075</td>\n",
       "    </tr>\n",
       "    <tr>\n",
       "      <th>20</th>\n",
       "      <td>timothy egan</td>\n",
       "      <td>941.0</td>\n",
       "      <td>8431</td>\n",
       "      <td>11.161191</td>\n",
       "      <td>29</td>\n",
       "      <td>29</td>\n",
       "      <td>100.0</td>\n",
       "      <td>32.448276</td>\n",
       "      <td>290.724138</td>\n",
       "      <td>11.161191</td>\n",
       "    </tr>\n",
       "  </tbody>\n",
       "</table>\n",
       "</div>"
      ],
      "text/plain": [
       "                    author  ref_author  nb_comments  ref_author_pct  \\\n",
       "0         andrew rosenthal       170.0         3094        5.494505   \n",
       "1            bret stephens      3828.0        14651       26.127909   \n",
       "2          charles m. blow      8470.0        39395       21.500190   \n",
       "3             david brooks     17976.0        47493       37.849788   \n",
       "4          david leonhardt      1394.0        18194        7.661867   \n",
       "5         evan gershkovich        23.0          743        3.095559   \n",
       "6              frank bruni      5857.0        36117       16.216740   \n",
       "7             gail collins      3920.0        27493       14.258175   \n",
       "8   jennifer finney boylan       194.0         2347        8.265871   \n",
       "9         linda greenhouse       434.0         3042       14.266930   \n",
       "10               liz spayd       675.0         5264       12.822948   \n",
       "11          margaret renkl       164.0         2355        6.963907   \n",
       "12            maureen dowd      3253.0        13558       23.993214   \n",
       "13       michelle goldberg      1148.0        13038        8.805031   \n",
       "14        nicholas kristof      3702.0        27742       13.344388   \n",
       "15            paul krugman      9659.0        49601       19.473398   \n",
       "16             roger cohen      3042.0        17185       17.701484   \n",
       "17            ross douthat     10210.0        30480       33.497375   \n",
       "18        thomas b. edsall      1053.0        11455        9.192492   \n",
       "19      thomas l. friedman      3201.0        16511       19.387075   \n",
       "20            timothy egan       941.0         8431       11.161191   \n",
       "\n",
       "    nb_articles_test  nb_articles_total  articles_pct  \\\n",
       "0                 10                 10         100.0   \n",
       "1                 47                 47         100.0   \n",
       "2                 61                 61         100.0   \n",
       "3                 71                 71         100.0   \n",
       "4                 46                 46         100.0   \n",
       "5                 20                 20         100.0   \n",
       "6                 72                 72         100.0   \n",
       "7                 71                 71         100.0   \n",
       "8                 14                 14         100.0   \n",
       "9                 15                 15         100.0   \n",
       "10                51                 51         100.0   \n",
       "11                11                 11         100.0   \n",
       "12                27                 27         100.0   \n",
       "13                34                 34         100.0   \n",
       "14                70                 70         100.0   \n",
       "15               106                106         100.0   \n",
       "16                58                 58         100.0   \n",
       "17                65                 65         100.0   \n",
       "18                32                 32         100.0   \n",
       "19                37                 37         100.0   \n",
       "20                29                 29         100.0   \n",
       "\n",
       "    nb_comments_by_article_test  nb_comments_by_article_total  \\\n",
       "0                     18.888889                    309.400000   \n",
       "1                     81.446809                    311.723404   \n",
       "2                    138.852459                    645.819672   \n",
       "3                    253.183099                    668.915493   \n",
       "4                     30.304348                    395.521739   \n",
       "5                      1.769231                     37.150000   \n",
       "6                     81.347222                    501.625000   \n",
       "7                     55.211268                    387.225352   \n",
       "8                     13.857143                    167.642857   \n",
       "9                     28.933333                    202.800000   \n",
       "10                    13.235294                    103.215686   \n",
       "11                    14.909091                    214.090909   \n",
       "12                   120.481481                    502.148148   \n",
       "13                    33.764706                    383.470588   \n",
       "14                    52.885714                    396.314286   \n",
       "15                    91.122642                    467.933962   \n",
       "16                    53.368421                    296.293103   \n",
       "17                   157.076923                    468.923077   \n",
       "18                    32.906250                    357.968750   \n",
       "19                    86.513514                    446.243243   \n",
       "20                    32.448276                    290.724138   \n",
       "\n",
       "    nb_comments_article_pct  \n",
       "0                  6.105006  \n",
       "1                 26.127909  \n",
       "2                 21.500190  \n",
       "3                 37.849788  \n",
       "4                  7.661867  \n",
       "5                  4.762398  \n",
       "6                 16.216740  \n",
       "7                 14.258175  \n",
       "8                  8.265871  \n",
       "9                 14.266930  \n",
       "10                12.822948  \n",
       "11                 6.963907  \n",
       "12                23.993214  \n",
       "13                 8.805031  \n",
       "14                13.344388  \n",
       "15                19.473398  \n",
       "16                18.012036  \n",
       "17                33.497375  \n",
       "18                 9.192492  \n",
       "19                19.387075  \n",
       "20                11.161191  "
      ]
     },
     "execution_count": 247,
     "metadata": {},
     "output_type": "execute_result"
    }
   ],
   "source": [
    "authors_statistics"
   ]
  },
  {
   "cell_type": "markdown",
   "metadata": {},
   "source": [
    "### Graphs"
   ]
  },
  {
   "cell_type": "code",
   "execution_count": 248,
   "metadata": {
    "ExecuteTime": {
     "end_time": "2020-04-12T10:40:42.595059Z",
     "start_time": "2020-04-12T10:40:41.234144Z"
    }
   },
   "outputs": [],
   "source": [
    "import matplotlib.pyplot as plt"
   ]
  },
  {
   "cell_type": "code",
   "execution_count": 271,
   "metadata": {
    "ExecuteTime": {
     "end_time": "2020-04-12T11:02:53.058558Z",
     "start_time": "2020-04-12T11:02:52.852813Z"
    }
   },
   "outputs": [
    {
     "data": {
      "image/png": "[encoded data removed]",
      "text/plain": [
       "<Figure size 432x288 with 1 Axes>"
      ]
     },
     "metadata": {
      "needs_background": "light"
     },
     "output_type": "display_data"
    }
   ],
   "source": [
    "plt.barh(authors_statistics['author'], authors_statistics['nb_articles_total'], color=(0.2, 0.4, 0.6, 0.6))\n",
    "plt.title(\"Number of articles for each journalist\")\n",
    "plt.xlabel('Number of articles')\n",
    "plt.show()\n"
   ]
  },
  {
   "cell_type": "markdown",
   "metadata": {},
   "source": [
    "We represent the number of comments by article for each author. The \"total comments\" columns correspond to the number of comments that don't contain the journalist's name by article. The two bargraphs are stacked so that we can see the proportionality."
   ]
  },
  {
   "cell_type": "code",
   "execution_count": 268,
   "metadata": {
    "ExecuteTime": {
     "end_time": "2020-04-12T11:01:09.720734Z",
     "start_time": "2020-04-12T11:01:09.464525Z"
    }
   },
   "outputs": [
    {
     "data": {
      "image/png": "[encoded data removed]",
      "text/plain": [
       "<Figure size 432x288 with 1 Axes>"
      ]
     },
     "metadata": {
      "needs_background": "light"
     },
     "output_type": "display_data"
    }
   ],
   "source": [
    "plt.barh(authors_statistics['author'], authors_statistics['nb_comments'], color=(0.2, 0.4, 0.6, 0.6), label='total comments')\n",
    "plt.barh(authors_statistics['author'], authors_statistics['ref_author'], color='#7f6d5f', label=\"containing author's name\")\n",
    "\n",
    "plt.title(\"Number of comments for each author in test_set\")\n",
    "plt.xlabel('Number of comments')\n",
    "plt.legend()\n",
    "plt.show()\n",
    "\n",
    "# in proportion of all comments, some journalists are more quoted than others"
   ]
  },
  {
   "cell_type": "markdown",
   "metadata": {},
   "source": [
    "We represent the mean of number of comments by article for each author. The \"total comments\" columns correspond to mean of number of comments that don't contain the journalist's name by article. The two bargraphs are stacked so that we can see the proportionality."
   ]
  },
  {
   "cell_type": "code",
   "execution_count": 273,
   "metadata": {
    "ExecuteTime": {
     "end_time": "2020-04-12T11:07:25.665503Z",
     "start_time": "2020-04-12T11:07:25.375155Z"
    }
   },
   "outputs": [
    {
     "data": {
      "image/png": "[encoded data removed]",
      "text/plain": [
       "<Figure size 432x288 with 1 Axes>"
      ]
     },
     "metadata": {
      "needs_background": "light"
     },
     "output_type": "display_data"
    }
   ],
   "source": [
    "plt.barh(authors_statistics['author'], authors_statistics['nb_comments_by_article_total'], color=(0.2, 0.4, 0.6, 0.6), label='total comments')\n",
    "plt.barh(authors_statistics['author'], authors_statistics['nb_comments_by_article_test'], color='#7f6d5f', label=\"containing author's name\")\n",
    "\n",
    "plt.title(\"Mean of number of comments by article\")\n",
    "plt.xlabel('Mean of number of comments')\n",
    "plt.legend()\n",
    "plt.show()"
   ]
  },
  {
   "cell_type": "markdown",
   "metadata": {},
   "source": [
    "# Final labels"
   ]
  },
  {
   "cell_type": "code",
   "execution_count": 482,
   "metadata": {
    "ExecuteTime": {
     "end_time": "2020-04-12T19:49:25.128148Z",
     "start_time": "2020-04-12T19:49:24.777362Z"
    }
   },
   "outputs": [],
   "source": [
    "final = pd.read_csv('data/final_set.csv', sep=\",\")"
   ]
  },
  {
   "cell_type": "code",
   "execution_count": 483,
   "metadata": {
    "ExecuteTime": {
     "end_time": "2020-04-12T19:49:25.152694Z",
     "start_time": "2020-04-12T19:49:25.133550Z"
    }
   },
   "outputs": [],
   "source": [
    "final['sentiment_str'] = final['sentiment_predicted'].map({0:'negative',2:'neutral',1:'positive'})"
   ]
  },
  {
   "cell_type": "code",
   "execution_count": 485,
   "metadata": {
    "ExecuteTime": {
     "end_time": "2020-04-12T19:49:33.663515Z",
     "start_time": "2020-04-12T19:49:33.585489Z"
    }
   },
   "outputs": [],
   "source": [
    "final = final.groupby(['author','sentiment_str']).agg('count').reset_index()\\\n",
    "            .pivot(index='author',columns='sentiment_str', values='text').reset_index()\n",
    "final['nb_comments'] = final.sum(axis=1)\n",
    "\n",
    "for sentiment in ['positive','negative','neutral']:\n",
    "    final[sentiment+'_pct'] = final[sentiment]/final['nb_comments']"
   ]
  },
  {
   "cell_type": "markdown",
   "metadata": {},
   "source": [
    "Here we represent the number of negative, positive, and neutral comments for each author."
   ]
  },
  {
   "cell_type": "code",
   "execution_count": 465,
   "metadata": {
    "ExecuteTime": {
     "end_time": "2020-04-12T19:28:31.203770Z",
     "start_time": "2020-04-12T19:28:30.427797Z"
    }
   },
   "outputs": [
    {
     "data": {
      "text/plain": [
       "<matplotlib.axes._subplots.AxesSubplot at 0x20fd3c5dcf8>"
      ]
     },
     "execution_count": 465,
     "metadata": {},
     "output_type": "execute_result"
    },
    {
     "data": {
      "image/png": "[encoded data removed]",
      "text/plain": [
       "<Figure size 432x288 with 1 Axes>"
      ]
     },
     "metadata": {
      "needs_background": "light"
     },
     "output_type": "display_data"
    }
   ],
   "source": [
    "final.set_index('author')[['negative','neutral','positive']]\\\n",
    "                .plot.barh(stacked=True, title=\"Number of comments by each sentiment\")"
   ]
  },
  {
   "cell_type": "code",
   "execution_count": 489,
   "metadata": {
    "ExecuteTime": {
     "end_time": "2020-04-12T19:50:28.747935Z",
     "start_time": "2020-04-12T19:50:27.838463Z"
    }
   },
   "outputs": [
    {
     "data": {
      "text/plain": [
       "<matplotlib.axes._subplots.AxesSubplot at 0x20fd2ff8f60>"
      ]
     },
     "execution_count": 489,
     "metadata": {},
     "output_type": "execute_result"
    },
    {
     "data": {
      "image/png": "[encoded data removed]",
      "text/plain": [
       "<Figure size 432x288 with 1 Axes>"
      ]
     },
     "metadata": {
      "needs_background": "light"
     },
     "output_type": "display_data"
    }
   ],
   "source": [
    "final.set_index('author')[['negative_pct','neutral_pct','positive_pct']]\\\n",
    "                .plot.barh(stacked=True, title=\"Number of comments by each sentiment\")"
   ]
  },
  {
   "cell_type": "code",
   "execution_count": 493,
   "metadata": {
    "ExecuteTime": {
     "end_time": "2020-04-12T19:53:11.458160Z",
     "start_time": "2020-04-12T19:53:10.561584Z"
    }
   },
   "outputs": [
    {
     "data": {
      "text/plain": [
       "<matplotlib.axes._subplots.AxesSubplot at 0x20fd514e320>"
      ]
     },
     "execution_count": 493,
     "metadata": {},
     "output_type": "execute_result"
    },
    {
     "data": {
      "image/png": "[encoded data removed]",
      "text/plain": [
       "<Figure size 432x288 with 1 Axes>"
      ]
     },
     "metadata": {
      "needs_background": "light"
     },
     "output_type": "display_data"
    }
   ],
   "source": [
    "final.sort_values('negative_pct').set_index('author')[['negative_pct','neutral_pct','positive_pct']]\\\n",
    "                .plot.barh(stacked=True, title=\"Number of comments by each sentiment\")"
   ]
  },
  {
   "cell_type": "code",
   "execution_count": 494,
   "metadata": {
    "ExecuteTime": {
     "end_time": "2020-04-12T19:53:31.458362Z",
     "start_time": "2020-04-12T19:53:30.670189Z"
    }
   },
   "outputs": [
    {
     "data": {
      "text/plain": [
       "<matplotlib.axes._subplots.AxesSubplot at 0x20fd52750f0>"
      ]
     },
     "execution_count": 494,
     "metadata": {},
     "output_type": "execute_result"
    },
    {
     "data": {
      "image/png": "[encoded data removed]",
      "text/plain": [
       "<Figure size 432x288 with 1 Axes>"
      ]
     },
     "metadata": {
      "needs_background": "light"
     },
     "output_type": "display_data"
    }
   ],
   "source": [
    "final.sort_values('positive_pct').set_index('author')[['positive_pct','neutral_pct','negative_pct']]\\\n",
    "                .plot.barh(stacked=True, title=\"Number of comments by each sentiment\")"
   ]
  }
 ],
 "metadata": {
  "kernelspec": {
   "display_name": "Python 3",
   "language": "python",
   "name": "python3"
  },
  "language_info": {
   "codemirror_mode": {
    "name": "ipython",
    "version": 3
   },
   "file_extension": ".py",
   "mimetype": "text/x-python",
   "name": "python",
   "nbconvert_exporter": "python",
   "pygments_lexer": "ipython3",
   "version": "3.7.3"
  }
 },
 "nbformat": 4,
 "nbformat_minor": 2
}
