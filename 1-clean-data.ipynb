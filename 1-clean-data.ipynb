{
 "cells": [
  {
   "cell_type": "code",
   "execution_count": 1,
   "metadata": {
    "ExecuteTime": {
     "end_time": "2020-04-12T21:04:07.180496Z",
     "start_time": "2020-04-12T21:04:03.107096Z"
    }
   },
   "outputs": [],
   "source": [
    "import pandas as pd\n",
    "import numpy as np\n",
    "import os\n",
    "from glob import glob"
   ]
  },
  {
   "cell_type": "code",
   "execution_count": 2,
   "metadata": {
    "ExecuteTime": {
     "end_time": "2020-04-12T21:04:07.199764Z",
     "start_time": "2020-04-12T21:04:07.188031Z"
    }
   },
   "outputs": [],
   "source": [
    "path_to_data = ('data/')"
   ]
  },
  {
   "cell_type": "code",
   "execution_count": 3,
   "metadata": {
    "ExecuteTime": {
     "end_time": "2020-04-12T21:05:34.296242Z",
     "start_time": "2020-04-12T21:04:07.209010Z"
    }
   },
   "outputs": [
    {
     "name": "stdout",
     "output_type": "stream",
     "text": [
      "Reading articles...\n",
      "Reading comments...\n"
     ]
    },
    {
     "name": "stderr",
     "output_type": "stream",
     "text": [
      "C:\\Users\\naila\\Anaconda3\\lib\\site-packages\\IPython\\core\\interactiveshell.py:3296: DtypeWarning: Columns (25,26) have mixed types. Specify dtype option on import or set low_memory=False.\n",
      "  exec(code_obj, self.user_global_ns, self.user_ns)\n",
      "C:\\Users\\naila\\Anaconda3\\lib\\site-packages\\IPython\\core\\interactiveshell.py:3296: DtypeWarning: Columns (32) have mixed types. Specify dtype option on import or set low_memory=False.\n",
      "  exec(code_obj, self.user_global_ns, self.user_ns)\n",
      "C:\\Users\\naila\\Anaconda3\\lib\\site-packages\\IPython\\core\\interactiveshell.py:3296: DtypeWarning: Columns (14,15,31,32) have mixed types. Specify dtype option on import or set low_memory=False.\n",
      "  exec(code_obj, self.user_global_ns, self.user_ns)\n",
      "C:\\Users\\naila\\Anaconda3\\lib\\site-packages\\IPython\\core\\interactiveshell.py:3296: DtypeWarning: Columns (32,33) have mixed types. Specify dtype option on import or set low_memory=False.\n",
      "  exec(code_obj, self.user_global_ns, self.user_ns)\n",
      "C:\\Users\\naila\\Anaconda3\\lib\\site-packages\\IPython\\core\\interactiveshell.py:3296: DtypeWarning: Columns (14,15,31) have mixed types. Specify dtype option on import or set low_memory=False.\n",
      "  exec(code_obj, self.user_global_ns, self.user_ns)\n"
     ]
    }
   ],
   "source": [
    "print('Reading articles...')\n",
    "articles = pd.concat(map(pd.read_csv, glob(os.path.join(path_to_data+'nyt-articles/', \"*.csv\"))), axis=0, sort=True).reset_index(drop=True)\n",
    "print('Reading comments...')\n",
    "comments = pd.concat(map(pd.read_csv, glob(os.path.join(path_to_data+'nyt-comments/', \"*.csv\"))), axis=0, sort=True).reset_index(drop=True)"
   ]
  },
  {
   "cell_type": "code",
   "execution_count": 4,
   "metadata": {
    "ExecuteTime": {
     "end_time": "2020-04-12T21:05:34.385396Z",
     "start_time": "2020-04-12T21:05:34.326048Z"
    }
   },
   "outputs": [
    {
     "data": {
      "text/plain": [
       "2176364"
      ]
     },
     "execution_count": 4,
     "metadata": {},
     "output_type": "execute_result"
    }
   ],
   "source": [
    "len(comments)"
   ]
  },
  {
   "cell_type": "code",
   "execution_count": 5,
   "metadata": {
    "ExecuteTime": {
     "end_time": "2020-04-12T21:05:34.442591Z",
     "start_time": "2020-04-12T21:05:34.387614Z"
    }
   },
   "outputs": [
    {
     "data": {
      "text/plain": [
       "9335"
      ]
     },
     "execution_count": 5,
     "metadata": {},
     "output_type": "execute_result"
    }
   ],
   "source": [
    "len(articles)"
   ]
  },
  {
   "cell_type": "markdown",
   "metadata": {},
   "source": [
    "# 1. Descriptive statistics"
   ]
  },
  {
   "cell_type": "code",
   "execution_count": 6,
   "metadata": {
    "ExecuteTime": {
     "end_time": "2020-04-12T21:05:34.603449Z",
     "start_time": "2020-04-12T21:05:34.447661Z"
    }
   },
   "outputs": [
    {
     "data": {
      "text/plain": [
       "article     9168\n",
       "blogpost     167\n",
       "Name: documentType, dtype: int64"
      ]
     },
     "execution_count": 6,
     "metadata": {},
     "output_type": "execute_result"
    }
   ],
   "source": [
    "articles['documentType'].value_counts() # some of them are blogposts"
   ]
  },
  {
   "cell_type": "code",
   "execution_count": 7,
   "metadata": {
    "ExecuteTime": {
     "end_time": "2020-04-12T21:05:34.642731Z",
     "start_time": "2020-04-12T21:05:34.611175Z"
    },
    "scrolled": true
   },
   "outputs": [
    {
     "data": {
      "text/plain": [
       "News               6219\n",
       "Op-Ed              1693\n",
       "Review              513\n",
       "Editorial           302\n",
       "briefing            298\n",
       "Blog                167\n",
       "News Analysis        48\n",
       "Brief                34\n",
       "Obituary (Obit)      29\n",
       "Question             19\n",
       "Letter                9\n",
       "Biography             2\n",
       "Interview             1\n",
       "An Appraisal          1\n",
       "Name: typeOfMaterial, dtype: int64"
      ]
     },
     "execution_count": 7,
     "metadata": {},
     "output_type": "execute_result"
    }
   ],
   "source": [
    "articles['typeOfMaterial'].value_counts(dropna=False)"
   ]
  },
  {
   "cell_type": "code",
   "execution_count": 8,
   "metadata": {
    "ExecuteTime": {
     "end_time": "2020-04-12T21:05:34.735471Z",
     "start_time": "2020-04-12T21:05:34.660350Z"
    },
    "scrolled": true
   },
   "outputs": [
    {
     "data": {
      "text/plain": [
       "Unknown                       6380\n",
       "Politics                       638\n",
       "Sunday Review                  353\n",
       "Television                     261\n",
       "Asia Pacific                   174\n",
       "Europe                         172\n",
       "Family                         166\n",
       "Live                           138\n",
       "Middle East                     89\n",
       "Move                            61\n",
       "Book Review                     60\n",
       "Economy                         54\n",
       "Art & Design                    54\n",
       "Baseball                        52\n",
       "Eat                             47\n",
       "Olympics                        45\n",
       "Soccer                          43\n",
       "Media                           43\n",
       "Mind                            42\n",
       "Lesson Plans                    41\n",
       "The Daily                       40\n",
       "Music                           38\n",
       "Americas                        37\n",
       "Pro Basketball                  34\n",
       "Wine, Beer & Cocktails          33\n",
       "DealBook                        31\n",
       "Pro Football                    31\n",
       "Africa                          21\n",
       "College Basketball              20\n",
       "Tennis                          17\n",
       "                              ... \n",
       "Education Life                  11\n",
       "Personal Tech                   10\n",
       "Energy & Environment             8\n",
       "Hockey                           8\n",
       "Dance                            7\n",
       "Australia                        7\n",
       "Retirement                       6\n",
       "College Football                 5\n",
       "Room For Debate                  4\n",
       "Weddings                         3\n",
       "Editorials                       3\n",
       "401(k)'s and Similar Plans       2\n",
       "Fashion & Beauty                 2\n",
       "Opinion | Politics               2\n",
       "Food                             1\n",
       "Cricket                          1\n",
       "Cycling                          1\n",
       "Paying for College               1\n",
       "Opinion | The World              1\n",
       "Neighborhoods                    1\n",
       "Auto Racing                      1\n",
       "Entertainment                    1\n",
       "Rugby                            1\n",
       "Student Loans                    1\n",
       "Automobiles                      1\n",
       "Insider Events                   1\n",
       "Entrepreneurship                 1\n",
       "Real Estate                      1\n",
       "Art                              1\n",
       "Learning                         1\n",
       "Name: sectionName, Length: 62, dtype: int64"
      ]
     },
     "execution_count": 8,
     "metadata": {},
     "output_type": "execute_result"
    }
   ],
   "source": [
    "articles['sectionName'].value_counts(dropna=False)"
   ]
  },
  {
   "cell_type": "code",
   "execution_count": 9,
   "metadata": {
    "ExecuteTime": {
     "end_time": "2020-04-12T21:05:34.787545Z",
     "start_time": "2020-04-12T21:05:34.747981Z"
    }
   },
   "outputs": [
    {
     "data": {
      "text/plain": [
       "Index(['approveDate', 'articleID', 'articleWordCount', 'commentBody',\n",
       "       'commentID', 'commentSequence', 'commentTitle', 'commentType',\n",
       "       'createDate', 'depth', 'editorsSelection', 'inReplyTo', 'newDesk',\n",
       "       'parentID', 'parentUserDisplayName', 'permID', 'picURL', 'printPage',\n",
       "       'recommendations', 'recommendedFlag', 'replyCount', 'reportAbuseFlag',\n",
       "       'sectionName', 'sharing', 'status', 'timespeople', 'trusted',\n",
       "       'typeOfMaterial', 'updateDate', 'userDisplayName', 'userID',\n",
       "       'userLocation', 'userTitle', 'userURL'],\n",
       "      dtype='object')"
      ]
     },
     "execution_count": 9,
     "metadata": {},
     "output_type": "execute_result"
    }
   ],
   "source": [
    "comments.columns"
   ]
  },
  {
   "cell_type": "code",
   "execution_count": 10,
   "metadata": {
    "ExecuteTime": {
     "end_time": "2020-04-12T21:05:35.038551Z",
     "start_time": "2020-04-12T21:05:34.797590Z"
    },
    "scrolled": true
   },
   "outputs": [
    {
     "data": {
      "text/html": [
       "<div>\n",
       "<style scoped>\n",
       "    .dataframe tbody tr th:only-of-type {\n",
       "        vertical-align: middle;\n",
       "    }\n",
       "\n",
       "    .dataframe tbody tr th {\n",
       "        vertical-align: top;\n",
       "    }\n",
       "\n",
       "    .dataframe thead th {\n",
       "        text-align: right;\n",
       "    }\n",
       "</style>\n",
       "<table border=\"1\" class=\"dataframe\">\n",
       "  <thead>\n",
       "    <tr style=\"text-align: right;\">\n",
       "      <th></th>\n",
       "      <th>approveDate</th>\n",
       "      <th>articleID</th>\n",
       "      <th>articleWordCount</th>\n",
       "      <th>commentBody</th>\n",
       "      <th>commentID</th>\n",
       "      <th>commentSequence</th>\n",
       "      <th>commentTitle</th>\n",
       "      <th>commentType</th>\n",
       "      <th>createDate</th>\n",
       "      <th>depth</th>\n",
       "      <th>...</th>\n",
       "      <th>status</th>\n",
       "      <th>timespeople</th>\n",
       "      <th>trusted</th>\n",
       "      <th>typeOfMaterial</th>\n",
       "      <th>updateDate</th>\n",
       "      <th>userDisplayName</th>\n",
       "      <th>userID</th>\n",
       "      <th>userLocation</th>\n",
       "      <th>userTitle</th>\n",
       "      <th>userURL</th>\n",
       "    </tr>\n",
       "  </thead>\n",
       "  <tbody>\n",
       "    <tr>\n",
       "      <th>0</th>\n",
       "      <td>1491245186</td>\n",
       "      <td>58def1347c459f24986d7c80</td>\n",
       "      <td>716.0</td>\n",
       "      <td>This project makes me happy to be a 30+ year T...</td>\n",
       "      <td>22022598.0</td>\n",
       "      <td>22022598.0</td>\n",
       "      <td>&lt;br/&gt;</td>\n",
       "      <td>comment</td>\n",
       "      <td>1.491237e+09</td>\n",
       "      <td>1.0</td>\n",
       "      <td>...</td>\n",
       "      <td>approved</td>\n",
       "      <td>1.0</td>\n",
       "      <td>0.0</td>\n",
       "      <td>News</td>\n",
       "      <td>1491245186</td>\n",
       "      <td>Rob Gayle</td>\n",
       "      <td>46006296.0</td>\n",
       "      <td>Riverside, CA</td>\n",
       "      <td>NaN</td>\n",
       "      <td>NaN</td>\n",
       "    </tr>\n",
       "    <tr>\n",
       "      <th>1</th>\n",
       "      <td>1491188619</td>\n",
       "      <td>58def1347c459f24986d7c80</td>\n",
       "      <td>716.0</td>\n",
       "      <td>Stunning photos and reportage. Infuriating tha...</td>\n",
       "      <td>22017350.0</td>\n",
       "      <td>22017350.0</td>\n",
       "      <td>NaN</td>\n",
       "      <td>comment</td>\n",
       "      <td>1.491180e+09</td>\n",
       "      <td>1.0</td>\n",
       "      <td>...</td>\n",
       "      <td>approved</td>\n",
       "      <td>1.0</td>\n",
       "      <td>0.0</td>\n",
       "      <td>News</td>\n",
       "      <td>1491188619</td>\n",
       "      <td>Susan A.</td>\n",
       "      <td>29202761.0</td>\n",
       "      <td>&lt;br/&gt;</td>\n",
       "      <td>NaN</td>\n",
       "      <td>NaN</td>\n",
       "    </tr>\n",
       "    <tr>\n",
       "      <th>2</th>\n",
       "      <td>1491188617</td>\n",
       "      <td>58def1347c459f24986d7c80</td>\n",
       "      <td>716.0</td>\n",
       "      <td>Brilliant work from conception to execution. I...</td>\n",
       "      <td>22017334.0</td>\n",
       "      <td>22017334.0</td>\n",
       "      <td>&lt;br/&gt;</td>\n",
       "      <td>comment</td>\n",
       "      <td>1.491179e+09</td>\n",
       "      <td>1.0</td>\n",
       "      <td>...</td>\n",
       "      <td>approved</td>\n",
       "      <td>1.0</td>\n",
       "      <td>0.0</td>\n",
       "      <td>News</td>\n",
       "      <td>1491188617</td>\n",
       "      <td>Meta</td>\n",
       "      <td>63944806.0</td>\n",
       "      <td>Raleigh NC</td>\n",
       "      <td>NaN</td>\n",
       "      <td>NaN</td>\n",
       "    </tr>\n",
       "    <tr>\n",
       "      <th>3</th>\n",
       "      <td>1491167820</td>\n",
       "      <td>58def1347c459f24986d7c80</td>\n",
       "      <td>716.0</td>\n",
       "      <td>NYT reporters should provide a contributor's l...</td>\n",
       "      <td>22015913.0</td>\n",
       "      <td>22015913.0</td>\n",
       "      <td>&lt;br/&gt;</td>\n",
       "      <td>comment</td>\n",
       "      <td>1.491150e+09</td>\n",
       "      <td>1.0</td>\n",
       "      <td>...</td>\n",
       "      <td>approved</td>\n",
       "      <td>1.0</td>\n",
       "      <td>0.0</td>\n",
       "      <td>News</td>\n",
       "      <td>1491167820</td>\n",
       "      <td>Tom Wyrick</td>\n",
       "      <td>1266184.0</td>\n",
       "      <td>Missouri, USA</td>\n",
       "      <td>NaN</td>\n",
       "      <td>NaN</td>\n",
       "    </tr>\n",
       "    <tr>\n",
       "      <th>4</th>\n",
       "      <td>1491167815</td>\n",
       "      <td>58def1347c459f24986d7c80</td>\n",
       "      <td>716.0</td>\n",
       "      <td>Could only have been done in print. Stunning.</td>\n",
       "      <td>22015466.0</td>\n",
       "      <td>22015466.0</td>\n",
       "      <td>&lt;br/&gt;</td>\n",
       "      <td>comment</td>\n",
       "      <td>1.491147e+09</td>\n",
       "      <td>1.0</td>\n",
       "      <td>...</td>\n",
       "      <td>approved</td>\n",
       "      <td>1.0</td>\n",
       "      <td>0.0</td>\n",
       "      <td>News</td>\n",
       "      <td>1491167815</td>\n",
       "      <td>Joe Sharkey</td>\n",
       "      <td>61121360.0</td>\n",
       "      <td>Tucson, Arizona</td>\n",
       "      <td>NaN</td>\n",
       "      <td>NaN</td>\n",
       "    </tr>\n",
       "  </tbody>\n",
       "</table>\n",
       "<p>5 rows × 34 columns</p>\n",
       "</div>"
      ],
      "text/plain": [
       "   approveDate                 articleID  articleWordCount  \\\n",
       "0   1491245186  58def1347c459f24986d7c80             716.0   \n",
       "1   1491188619  58def1347c459f24986d7c80             716.0   \n",
       "2   1491188617  58def1347c459f24986d7c80             716.0   \n",
       "3   1491167820  58def1347c459f24986d7c80             716.0   \n",
       "4   1491167815  58def1347c459f24986d7c80             716.0   \n",
       "\n",
       "                                         commentBody   commentID  \\\n",
       "0  This project makes me happy to be a 30+ year T...  22022598.0   \n",
       "1  Stunning photos and reportage. Infuriating tha...  22017350.0   \n",
       "2  Brilliant work from conception to execution. I...  22017334.0   \n",
       "3  NYT reporters should provide a contributor's l...  22015913.0   \n",
       "4     Could only have been done in print. Stunning.   22015466.0   \n",
       "\n",
       "   commentSequence commentTitle commentType    createDate  depth  ...  \\\n",
       "0       22022598.0        <br/>     comment  1.491237e+09    1.0  ...   \n",
       "1       22017350.0          NaN     comment  1.491180e+09    1.0  ...   \n",
       "2       22017334.0        <br/>     comment  1.491179e+09    1.0  ...   \n",
       "3       22015913.0        <br/>     comment  1.491150e+09    1.0  ...   \n",
       "4       22015466.0        <br/>     comment  1.491147e+09    1.0  ...   \n",
       "\n",
       "     status  timespeople trusted  typeOfMaterial  updateDate userDisplayName  \\\n",
       "0  approved          1.0     0.0            News  1491245186       Rob Gayle   \n",
       "1  approved          1.0     0.0            News  1491188619        Susan A.   \n",
       "2  approved          1.0     0.0            News  1491188617            Meta   \n",
       "3  approved          1.0     0.0            News  1491167820      Tom Wyrick   \n",
       "4  approved          1.0     0.0            News  1491167815     Joe Sharkey   \n",
       "\n",
       "       userID     userLocation  userTitle  userURL  \n",
       "0  46006296.0    Riverside, CA        NaN      NaN  \n",
       "1  29202761.0            <br/>        NaN      NaN  \n",
       "2  63944806.0       Raleigh NC        NaN      NaN  \n",
       "3   1266184.0    Missouri, USA        NaN      NaN  \n",
       "4  61121360.0  Tucson, Arizona        NaN      NaN  \n",
       "\n",
       "[5 rows x 34 columns]"
      ]
     },
     "execution_count": 10,
     "metadata": {},
     "output_type": "execute_result"
    }
   ],
   "source": [
    "comments.head()"
   ]
  },
  {
   "cell_type": "code",
   "execution_count": 11,
   "metadata": {
    "ExecuteTime": {
     "end_time": "2020-04-12T21:05:35.573462Z",
     "start_time": "2020-04-12T21:05:35.051277Z"
    }
   },
   "outputs": [
    {
     "data": {
      "text/plain": [
       "comment          1595760\n",
       "userReply         580279\n",
       "reporterReply        325\n",
       "Name: commentType, dtype: int64"
      ]
     },
     "execution_count": 11,
     "metadata": {},
     "output_type": "execute_result"
    }
   ],
   "source": [
    "comments['commentType'].value_counts()"
   ]
  },
  {
   "cell_type": "markdown",
   "metadata": {},
   "source": [
    "# 2. Clean data"
   ]
  },
  {
   "cell_type": "markdown",
   "metadata": {},
   "source": [
    "## 2.1. Keeping only some articles"
   ]
  },
  {
   "cell_type": "markdown",
   "metadata": {
    "ExecuteTime": {
     "end_time": "2020-04-08T09:52:06.364523Z",
     "start_time": "2020-04-08T09:52:06.262794Z"
    }
   },
   "source": [
    "We keep only the comments written by authors who wrote at least 10 articles in the NYT, and we only focus on Editorials and Opinion Editorials. Some articles were written by several journalists, so we duplicate them -- since we consider the journalists independantly. "
   ]
  },
  {
   "cell_type": "code",
   "execution_count": 12,
   "metadata": {
    "ExecuteTime": {
     "end_time": "2020-04-12T21:05:35.633153Z",
     "start_time": "2020-04-12T21:05:35.579065Z"
    }
   },
   "outputs": [],
   "source": [
    "import re"
   ]
  },
  {
   "cell_type": "code",
   "execution_count": 13,
   "metadata": {
    "ExecuteTime": {
     "end_time": "2020-04-12T21:05:35.726458Z",
     "start_time": "2020-04-12T21:05:35.639013Z"
    }
   },
   "outputs": [
    {
     "data": {
      "text/plain": [
       "1995"
      ]
     },
     "execution_count": 13,
     "metadata": {},
     "output_type": "execute_result"
    }
   ],
   "source": [
    "# Keep articles OpEd and Editorial\n",
    "articles = articles[articles['typeOfMaterial'].isin(['Op-Ed', 'Editorial'])]\n",
    "len(articles)"
   ]
  },
  {
   "cell_type": "code",
   "execution_count": 14,
   "metadata": {
    "ExecuteTime": {
     "end_time": "2020-04-12T21:05:36.004711Z",
     "start_time": "2020-04-12T21:05:35.730892Z"
    }
   },
   "outputs": [],
   "source": [
    "# Cleaning articles author name\n",
    "\n",
    "# duplicate articles if several authors\n",
    "authors = articles['byline'].str.split(',|and|with', expand=True).add_prefix('author_')\n",
    "\n",
    "# remove everything before \"by, BY, By\" (interviewed by, etc.)\n",
    "for col in authors.columns :\n",
    "    authors.loc[~authors[col].isna(), col] = authors.loc[~authors[col].isna(), col].apply(lambda x: re.sub(r'.*(by|BY|By)', '', x).strip())\n",
    "\n",
    "# merge to have article id\n",
    "authors = pd.merge(authors, articles[['articleID']], left_index=True, right_index=True)\n",
    "\n",
    "# stack df to have a df with one article-one author per row\n",
    "authors = authors.set_index(['articleID']).stack().reset_index(level=-1, drop=True).reset_index(name='author')\n",
    "\n",
    "# manually remove authors which are not real : \"M.D\" (which is a title), \"Unknown\"\n",
    "authors = authors[~authors['author'].isin(['M.D', 'Unknown'])]\n",
    "\n",
    "# keep authors who wrote 10 or more articles\n",
    "authors_list = authors['author'].value_counts()[authors['author'].value_counts()>=10].index\n",
    "authors = authors[authors['author'].isin(authors_list)]"
   ]
  },
  {
   "cell_type": "code",
   "execution_count": 15,
   "metadata": {
    "ExecuteTime": {
     "end_time": "2020-04-12T21:05:36.033795Z",
     "start_time": "2020-04-12T21:05:36.010916Z"
    },
    "scrolled": true
   },
   "outputs": [
    {
     "data": {
      "text/plain": [
       "THE EDITORIAL BOARD       258\n",
       "PAUL KRUGMAN              109\n",
       "FRANK BRUNI                75\n",
       "GAIL COLLINS               75\n",
       "NICHOLAS KRISTOF           72\n",
       "DAVID BROOKS               72\n",
       "ROSS DOUTHAT               67\n",
       "CHARLES M. BLOW            64\n",
       "ROGER COHEN                61\n",
       "LIZ SPAYD                  53\n",
       "BRET STEPHENS              48\n",
       "DAVID LEONHARDT            46\n",
       "THOMAS L. FRIEDMAN         37\n",
       "MICHELLE GOLDBERG          34\n",
       "THOMAS B. EDSALL           33\n",
       "TIMOTHY EGAN               30\n",
       "MAUREEN DOWD               29\n",
       "EVAN GERSHKOVICH           21\n",
       "LINDA GREENHOUSE           16\n",
       "JENNIFER FINNEY BOYLAN     14\n",
       "ANDREW ROSENTHAL           11\n",
       "MARGARET RENKL             11\n",
       "Name: author, dtype: int64"
      ]
     },
     "execution_count": 15,
     "metadata": {},
     "output_type": "execute_result"
    }
   ],
   "source": [
    "authors['author'].value_counts()"
   ]
  },
  {
   "cell_type": "code",
   "execution_count": 16,
   "metadata": {
    "ExecuteTime": {
     "end_time": "2020-04-12T21:05:36.085541Z",
     "start_time": "2020-04-12T21:05:36.040086Z"
    }
   },
   "outputs": [
    {
     "data": {
      "text/plain": [
       "22"
      ]
     },
     "execution_count": 16,
     "metadata": {},
     "output_type": "execute_result"
    }
   ],
   "source": [
    "len(authors['author'].unique())"
   ]
  },
  {
   "cell_type": "code",
   "execution_count": 17,
   "metadata": {
    "ExecuteTime": {
     "end_time": "2020-04-12T21:05:36.842426Z",
     "start_time": "2020-04-12T21:05:36.092144Z"
    }
   },
   "outputs": [
    {
     "data": {
      "text/plain": [
       "659776"
      ]
     },
     "execution_count": 17,
     "metadata": {},
     "output_type": "execute_result"
    }
   ],
   "source": [
    "# In the comments database, we keep only comments from the authors we kept, using the \"articleID\" variable.\n",
    "comments = comments[comments['articleID'].isin(authors['articleID'].unique())]\n",
    "len(comments)"
   ]
  },
  {
   "cell_type": "code",
   "execution_count": 18,
   "metadata": {
    "ExecuteTime": {
     "end_time": "2020-04-12T21:05:37.434736Z",
     "start_time": "2020-04-12T21:05:36.844007Z"
    }
   },
   "outputs": [],
   "source": [
    "comments = comments.loc[comments['commentType']=='comment']"
   ]
  },
  {
   "cell_type": "code",
   "execution_count": 19,
   "metadata": {
    "ExecuteTime": {
     "end_time": "2020-04-12T21:05:41.304496Z",
     "start_time": "2020-04-12T21:05:37.442394Z"
    }
   },
   "outputs": [],
   "source": [
    "comments = comments.join(authors.set_index('articleID'), on='articleID')[['articleID','commentBody','commentID','author']]"
   ]
  },
  {
   "cell_type": "code",
   "execution_count": 20,
   "metadata": {
    "ExecuteTime": {
     "end_time": "2020-04-12T21:05:41.654286Z",
     "start_time": "2020-04-12T21:05:41.309852Z"
    }
   },
   "outputs": [],
   "source": [
    "comments = comments.drop_duplicates(subset=['commentID','author'], keep='first')"
   ]
  },
  {
   "cell_type": "markdown",
   "metadata": {},
   "source": [
    "We remove the Editorial Board because we cannot identify it as a unique journalist."
   ]
  },
  {
   "cell_type": "code",
   "execution_count": 21,
   "metadata": {
    "ExecuteTime": {
     "end_time": "2020-04-12T21:05:46.020756Z",
     "start_time": "2020-04-12T21:05:41.656280Z"
    }
   },
   "outputs": [
    {
     "data": {
      "text/plain": [
       "388189"
      ]
     },
     "execution_count": 21,
     "metadata": {},
     "output_type": "execute_result"
    }
   ],
   "source": [
    "test_set = comments.loc[comments['author']!='THE EDITORIAL BOARD']\n",
    "len(test_set)"
   ]
  },
  {
   "cell_type": "markdown",
   "metadata": {},
   "source": [
    "## 2.2. Tokenization of authors names"
   ]
  },
  {
   "cell_type": "code",
   "execution_count": 22,
   "metadata": {
    "ExecuteTime": {
     "end_time": "2020-04-12T21:06:17.108396Z",
     "start_time": "2020-04-12T21:05:46.021754Z"
    }
   },
   "outputs": [
    {
     "name": "stderr",
     "output_type": "stream",
     "text": [
      "[nltk_data] Downloading package punkt to\n",
      "[nltk_data]     C:\\Users\\naila\\AppData\\Roaming\\nltk_data...\n",
      "[nltk_data]   Package punkt is already up-to-date!\n"
     ]
    },
    {
     "data": {
      "text/plain": [
       "True"
      ]
     },
     "execution_count": 22,
     "metadata": {},
     "output_type": "execute_result"
    }
   ],
   "source": [
    "import nltk\n",
    "nltk.download('punkt')"
   ]
  },
  {
   "cell_type": "code",
   "execution_count": 23,
   "metadata": {
    "ExecuteTime": {
     "end_time": "2020-04-12T21:06:18.794856Z",
     "start_time": "2020-04-12T21:06:17.125837Z"
    }
   },
   "outputs": [
    {
     "name": "stderr",
     "output_type": "stream",
     "text": [
      "C:\\Users\\naila\\Anaconda3\\lib\\site-packages\\ipykernel_launcher.py:1: SettingWithCopyWarning: \n",
      "A value is trying to be set on a copy of a slice from a DataFrame.\n",
      "Try using .loc[row_indexer,col_indexer] = value instead\n",
      "\n",
      "See the caveats in the documentation: http://pandas.pydata.org/pandas-docs/stable/indexing.html#indexing-view-versus-copy\n",
      "  \"\"\"Entry point for launching an IPython kernel.\n",
      "C:\\Users\\naila\\Anaconda3\\lib\\site-packages\\ipykernel_launcher.py:2: SettingWithCopyWarning: \n",
      "A value is trying to be set on a copy of a slice from a DataFrame.\n",
      "Try using .loc[row_indexer,col_indexer] = value instead\n",
      "\n",
      "See the caveats in the documentation: http://pandas.pydata.org/pandas-docs/stable/indexing.html#indexing-view-versus-copy\n",
      "  \n"
     ]
    }
   ],
   "source": [
    "test_set['commentBody'] = test_set['commentBody'].str.lower()\n",
    "test_set['author'] = test_set['author'].str.lower()"
   ]
  },
  {
   "cell_type": "code",
   "execution_count": 24,
   "metadata": {
    "ExecuteTime": {
     "end_time": "2020-04-12T21:07:19.559241Z",
     "start_time": "2020-04-12T21:06:18.800675Z"
    },
    "scrolled": true
   },
   "outputs": [
    {
     "name": "stderr",
     "output_type": "stream",
     "text": [
      "C:\\Users\\naila\\Anaconda3\\lib\\site-packages\\ipykernel_launcher.py:1: SettingWithCopyWarning: \n",
      "A value is trying to be set on a copy of a slice from a DataFrame.\n",
      "Try using .loc[row_indexer,col_indexer] = value instead\n",
      "\n",
      "See the caveats in the documentation: http://pandas.pydata.org/pandas-docs/stable/indexing.html#indexing-view-versus-copy\n",
      "  \"\"\"Entry point for launching an IPython kernel.\n"
     ]
    },
    {
     "data": {
      "text/plain": [
       "9          None\n",
       "10         None\n",
       "11         None\n",
       "12         None\n",
       "13         None\n",
       "14         None\n",
       "15         None\n",
       "16         None\n",
       "17         None\n",
       "18         None\n",
       "19         None\n",
       "20         None\n",
       "21         None\n",
       "22         None\n",
       "23         None\n",
       "24         None\n",
       "25         None\n",
       "26         None\n",
       "27         None\n",
       "28         None\n",
       "29         None\n",
       "30         None\n",
       "31         None\n",
       "32         None\n",
       "33         None\n",
       "34         None\n",
       "35         None\n",
       "36         None\n",
       "37         None\n",
       "38         None\n",
       "           ... \n",
       "2174957    None\n",
       "2174958    None\n",
       "2174959    None\n",
       "2174960    None\n",
       "2174961    None\n",
       "2174962    None\n",
       "2174963    None\n",
       "2174964    None\n",
       "2174965    None\n",
       "2174966    None\n",
       "2174967    None\n",
       "2174968    None\n",
       "2174969    None\n",
       "2174970    None\n",
       "2174971    None\n",
       "2174972    None\n",
       "2174973    None\n",
       "2174974    None\n",
       "2174975    None\n",
       "2174976    None\n",
       "2174977    None\n",
       "2174978    None\n",
       "2174979    None\n",
       "2174980    None\n",
       "2174981    None\n",
       "2174982    None\n",
       "2174983    None\n",
       "2174984    None\n",
       "2174985    None\n",
       "2174986    None\n",
       "Name: author_tokens, Length: 388189, dtype: object"
      ]
     },
     "execution_count": 24,
     "metadata": {},
     "output_type": "execute_result"
    }
   ],
   "source": [
    "test_set['author_tokens'] = test_set['author'].apply(nltk.word_tokenize)\n",
    "\n",
    "# Remove \"m.\", \"l.\", etc.\n",
    "def clean_authors_names(author_token):\n",
    "    issues = \"\".join([x for x in author_token if len(x)==2])\n",
    "    if issues!=\"\":\n",
    "        author_token.remove(issues)\n",
    "    else :\n",
    "        pass\n",
    "test_set['author_tokens'].apply(lambda x: clean_authors_names(x))"
   ]
  },
  {
   "cell_type": "code",
   "execution_count": 25,
   "metadata": {
    "ExecuteTime": {
     "end_time": "2020-04-12T21:07:19.567185Z",
     "start_time": "2020-04-12T21:07:19.561201Z"
    }
   },
   "outputs": [
    {
     "data": {
      "text/plain": [
       "388189"
      ]
     },
     "execution_count": 25,
     "metadata": {},
     "output_type": "execute_result"
    }
   ],
   "source": [
    "len(test_set)"
   ]
  },
  {
   "cell_type": "code",
   "execution_count": 26,
   "metadata": {
    "ExecuteTime": {
     "end_time": "2020-04-12T21:07:36.962250Z",
     "start_time": "2020-04-12T21:07:19.569190Z"
    }
   },
   "outputs": [
    {
     "name": "stderr",
     "output_type": "stream",
     "text": [
      "C:\\Users\\naila\\Anaconda3\\lib\\site-packages\\ipykernel_launcher.py:1: SettingWithCopyWarning: \n",
      "A value is trying to be set on a copy of a slice from a DataFrame.\n",
      "Try using .loc[row_indexer,col_indexer] = value instead\n",
      "\n",
      "See the caveats in the documentation: http://pandas.pydata.org/pandas-docs/stable/indexing.html#indexing-view-versus-copy\n",
      "  \"\"\"Entry point for launching an IPython kernel.\n"
     ]
    },
    {
     "data": {
      "text/plain": [
       "False    308875\n",
       "True      79314\n",
       "Name: ref_author, dtype: int64"
      ]
     },
     "execution_count": 26,
     "metadata": {},
     "output_type": "execute_result"
    }
   ],
   "source": [
    "test_set['ref_author'] = test_set.apply(lambda x: any(i in x.commentBody for i in x.author_tokens), axis=1)\n",
    "test_set['ref_author'].value_counts()"
   ]
  },
  {
   "cell_type": "code",
   "execution_count": 27,
   "metadata": {
    "ExecuteTime": {
     "end_time": "2020-04-12T21:07:37.058806Z",
     "start_time": "2020-04-12T21:07:36.964245Z"
    },
    "scrolled": true
   },
   "outputs": [],
   "source": [
    "test_set = test_set.loc[test_set['ref_author']==True].reset_index(drop=True).reset_index()"
   ]
  },
  {
   "cell_type": "markdown",
   "metadata": {},
   "source": [
    "## 2.3. Extract sentence that contains name of journalist"
   ]
  },
  {
   "cell_type": "code",
   "execution_count": 28,
   "metadata": {
    "ExecuteTime": {
     "end_time": "2020-04-12T21:07:37.071757Z",
     "start_time": "2020-04-12T21:07:37.062779Z"
    }
   },
   "outputs": [],
   "source": [
    "def extract_sentence(i):\n",
    "    row=test_set.loc[test_set.index==i]\n",
    "    sentences=[]\n",
    "    for author_name in row['author_tokens'][i] :\n",
    "        if author_name in row['commentBody'][i]:\n",
    "            sentences.extend(re.findall(r\"(?:(?![.?]).|m\\.|mr\\.|ms\\.|dr\\.|prof\\.)*\"+ \n",
    "                                        re.escape(author_name) +\n",
    "                                        r\"(?:(?![.?]).|m\\.|mr\\.|ms\\.|dr\\.|prof\\.)*[\\\"!?.]\", row['commentBody'][i]))\n",
    "    sentences = ' '.join(set(sentences))\n",
    "    sentences = re.sub('<br/>', ' ', sentences)\n",
    "    return sentences"
   ]
  },
  {
   "cell_type": "code",
   "execution_count": 29,
   "metadata": {
    "ExecuteTime": {
     "end_time": "2020-04-12T21:13:12.917874Z",
     "start_time": "2020-04-12T21:07:37.073750Z"
    }
   },
   "outputs": [],
   "source": [
    "test_set['sentences_author'] = test_set['index'].apply(lambda x: extract_sentence(x))"
   ]
  },
  {
   "cell_type": "code",
   "execution_count": 30,
   "metadata": {
    "ExecuteTime": {
     "end_time": "2020-04-12T21:13:15.068043Z",
     "start_time": "2020-04-12T21:13:12.919942Z"
    }
   },
   "outputs": [],
   "source": [
    "test_set.to_csv('data/test_set.csv', sep=\";\")"
   ]
  },
  {
   "cell_type": "code",
   "execution_count": 31,
   "metadata": {
    "ExecuteTime": {
     "end_time": "2020-04-12T21:13:15.073863Z",
     "start_time": "2020-04-12T21:13:15.069872Z"
    }
   },
   "outputs": [],
   "source": [
    "# labels = test_set.sample(n=300)\n",
    "# labels.to_csv('data/test_setlabel.csv', sep=\";\")\n",
    "# labels['index'].to_csv('data/indexes_setlabel.csv', sep=';')"
   ]
  },
  {
   "cell_type": "markdown",
   "metadata": {},
   "source": [
    "# Descriptive statistics"
   ]
  },
  {
   "cell_type": "markdown",
   "metadata": {},
   "source": [
    "## Number of comments"
   ]
  },
  {
   "cell_type": "code",
   "execution_count": 32,
   "metadata": {
    "ExecuteTime": {
     "end_time": "2020-04-12T21:13:15.204822Z",
     "start_time": "2020-04-12T21:13:15.077852Z"
    }
   },
   "outputs": [],
   "source": [
    "authors_statistics = test_set.groupby('author').agg('sum').reset_index()[['author','ref_author']]"
   ]
  },
  {
   "cell_type": "code",
   "execution_count": 33,
   "metadata": {
    "ExecuteTime": {
     "end_time": "2020-04-12T21:13:17.915185Z",
     "start_time": "2020-04-12T21:13:15.208177Z"
    }
   },
   "outputs": [],
   "source": [
    "# number of comments in editorials - total\n",
    "nb_comments_total = comments.groupby('author').agg('count').reset_index()[['author','articleID']].rename(columns={'articleID':'nb_comments'})\n",
    "nb_comments_total['author'] = nb_comments_total['author'].apply(lambda x: x.lower())"
   ]
  },
  {
   "cell_type": "code",
   "execution_count": 34,
   "metadata": {
    "ExecuteTime": {
     "end_time": "2020-04-12T21:13:18.009565Z",
     "start_time": "2020-04-12T21:13:17.918175Z"
    }
   },
   "outputs": [],
   "source": [
    "# Number of comments by author\n",
    "authors_statistics = pd.merge(authors_statistics, nb_comments_total, on='author')\n",
    "authors_statistics['ref_author_pct'] = authors_statistics['ref_author']/authors_statistics['nb_comments']*100"
   ]
  },
  {
   "cell_type": "markdown",
   "metadata": {},
   "source": [
    "###  Number of articles"
   ]
  },
  {
   "cell_type": "code",
   "execution_count": 35,
   "metadata": {
    "ExecuteTime": {
     "end_time": "2020-04-12T21:13:18.023490Z",
     "start_time": "2020-04-12T21:13:18.012518Z"
    }
   },
   "outputs": [],
   "source": [
    "def nb_articles(df):\n",
    "    nb_comments_articles = df.groupby(('author','articleID')) \\\n",
    "                                        .agg('count').reset_index()[['author','articleID','commentID']] \\\n",
    "                                        .rename(columns={'commentID':'nb_comments'})\n",
    "    nb_comments_articles['author'] = nb_comments_articles['author'].apply(lambda x: x.lower())\n",
    "    \n",
    "    nb_articles = nb_comments_articles.groupby('author').agg('count').reset_index()[['author','articleID']].rename(columns={'articleID':'nb_articles'})\n",
    "    \n",
    "    nb_comments_articles=nb_comments_articles.groupby('author').agg('mean').reset_index().rename(columns={\"nb_comments\":'nb_comments_by_article'})\n",
    "\n",
    "    return nb_comments_articles, nb_articles"
   ]
  },
  {
   "cell_type": "code",
   "execution_count": 36,
   "metadata": {
    "ExecuteTime": {
     "end_time": "2020-04-12T21:13:18.371243Z",
     "start_time": "2020-04-12T21:13:18.026481Z"
    }
   },
   "outputs": [
    {
     "name": "stderr",
     "output_type": "stream",
     "text": [
      "C:\\Users\\naila\\Anaconda3\\lib\\site-packages\\ipykernel_launcher.py:2: FutureWarning: Interpreting tuple 'by' as a list of keys, rather than a single key. Use 'by=[...]' instead of 'by=(...)'. In the future, a tuple will always mean a single key.\n",
      "  \n"
     ]
    }
   ],
   "source": [
    "nb_comments_total, nb_articles_total = nb_articles(comments)\n",
    "nb_comments_test, nb_articles_test = nb_articles(test_set)"
   ]
  },
  {
   "cell_type": "code",
   "execution_count": 37,
   "metadata": {
    "ExecuteTime": {
     "end_time": "2020-04-12T21:13:18.390324Z",
     "start_time": "2020-04-12T21:13:18.374319Z"
    }
   },
   "outputs": [],
   "source": [
    "authors_statistics = pd.merge(authors_statistics, nb_articles_total, on=\"author\").rename(columns={'nb_articles':'nb_articles_test'})\n",
    "authors_statistics = pd.merge(authors_statistics, nb_articles_total, on=\"author\").rename(columns={'nb_articles':'nb_articles_total'})\n",
    "authors_statistics['articles_pct'] = authors_statistics['nb_articles_test']/authors_statistics['nb_articles_total']*100"
   ]
  },
  {
   "cell_type": "code",
   "execution_count": 38,
   "metadata": {
    "ExecuteTime": {
     "end_time": "2020-04-12T21:13:18.436513Z",
     "start_time": "2020-04-12T21:13:18.394268Z"
    }
   },
   "outputs": [],
   "source": [
    "authors_statistics = pd.merge(authors_statistics, nb_comments_test,on=\"author\").rename(columns={'nb_comments_by_article':'nb_comments_by_article_test'})\n",
    "authors_statistics = pd.merge(authors_statistics, nb_comments_total,on=\"author\").rename(columns={'nb_comments_by_article':'nb_comments_by_article_total'})\n",
    "authors_statistics['nb_comments_article_pct'] = authors_statistics['nb_comments_by_article_test']/authors_statistics['nb_comments_by_article_total']*100"
   ]
  },
  {
   "cell_type": "code",
   "execution_count": 39,
   "metadata": {
    "ExecuteTime": {
     "end_time": "2020-04-12T21:13:18.502734Z",
     "start_time": "2020-04-12T21:13:18.440623Z"
    }
   },
   "outputs": [
    {
     "data": {
      "text/html": [
       "<div>\n",
       "<style scoped>\n",
       "    .dataframe tbody tr th:only-of-type {\n",
       "        vertical-align: middle;\n",
       "    }\n",
       "\n",
       "    .dataframe tbody tr th {\n",
       "        vertical-align: top;\n",
       "    }\n",
       "\n",
       "    .dataframe thead th {\n",
       "        text-align: right;\n",
       "    }\n",
       "</style>\n",
       "<table border=\"1\" class=\"dataframe\">\n",
       "  <thead>\n",
       "    <tr style=\"text-align: right;\">\n",
       "      <th></th>\n",
       "      <th>author</th>\n",
       "      <th>ref_author</th>\n",
       "      <th>nb_comments</th>\n",
       "      <th>ref_author_pct</th>\n",
       "      <th>nb_articles_test</th>\n",
       "      <th>nb_articles_total</th>\n",
       "      <th>articles_pct</th>\n",
       "      <th>nb_comments_by_article_test</th>\n",
       "      <th>nb_comments_by_article_total</th>\n",
       "      <th>nb_comments_article_pct</th>\n",
       "    </tr>\n",
       "  </thead>\n",
       "  <tbody>\n",
       "    <tr>\n",
       "      <th>0</th>\n",
       "      <td>andrew rosenthal</td>\n",
       "      <td>170.0</td>\n",
       "      <td>3094</td>\n",
       "      <td>5.494505</td>\n",
       "      <td>10</td>\n",
       "      <td>10</td>\n",
       "      <td>100.0</td>\n",
       "      <td>18.888889</td>\n",
       "      <td>309.400000</td>\n",
       "      <td>6.105006</td>\n",
       "    </tr>\n",
       "    <tr>\n",
       "      <th>1</th>\n",
       "      <td>bret stephens</td>\n",
       "      <td>3828.0</td>\n",
       "      <td>14651</td>\n",
       "      <td>26.127909</td>\n",
       "      <td>47</td>\n",
       "      <td>47</td>\n",
       "      <td>100.0</td>\n",
       "      <td>81.446809</td>\n",
       "      <td>311.723404</td>\n",
       "      <td>26.127909</td>\n",
       "    </tr>\n",
       "    <tr>\n",
       "      <th>2</th>\n",
       "      <td>charles m. blow</td>\n",
       "      <td>8470.0</td>\n",
       "      <td>39395</td>\n",
       "      <td>21.500190</td>\n",
       "      <td>61</td>\n",
       "      <td>61</td>\n",
       "      <td>100.0</td>\n",
       "      <td>138.852459</td>\n",
       "      <td>645.819672</td>\n",
       "      <td>21.500190</td>\n",
       "    </tr>\n",
       "    <tr>\n",
       "      <th>3</th>\n",
       "      <td>david brooks</td>\n",
       "      <td>17976.0</td>\n",
       "      <td>47493</td>\n",
       "      <td>37.849788</td>\n",
       "      <td>71</td>\n",
       "      <td>71</td>\n",
       "      <td>100.0</td>\n",
       "      <td>253.183099</td>\n",
       "      <td>668.915493</td>\n",
       "      <td>37.849788</td>\n",
       "    </tr>\n",
       "    <tr>\n",
       "      <th>4</th>\n",
       "      <td>david leonhardt</td>\n",
       "      <td>1394.0</td>\n",
       "      <td>18194</td>\n",
       "      <td>7.661867</td>\n",
       "      <td>46</td>\n",
       "      <td>46</td>\n",
       "      <td>100.0</td>\n",
       "      <td>30.304348</td>\n",
       "      <td>395.521739</td>\n",
       "      <td>7.661867</td>\n",
       "    </tr>\n",
       "    <tr>\n",
       "      <th>5</th>\n",
       "      <td>evan gershkovich</td>\n",
       "      <td>23.0</td>\n",
       "      <td>743</td>\n",
       "      <td>3.095559</td>\n",
       "      <td>20</td>\n",
       "      <td>20</td>\n",
       "      <td>100.0</td>\n",
       "      <td>1.769231</td>\n",
       "      <td>37.150000</td>\n",
       "      <td>4.762398</td>\n",
       "    </tr>\n",
       "    <tr>\n",
       "      <th>6</th>\n",
       "      <td>frank bruni</td>\n",
       "      <td>5857.0</td>\n",
       "      <td>36117</td>\n",
       "      <td>16.216740</td>\n",
       "      <td>72</td>\n",
       "      <td>72</td>\n",
       "      <td>100.0</td>\n",
       "      <td>81.347222</td>\n",
       "      <td>501.625000</td>\n",
       "      <td>16.216740</td>\n",
       "    </tr>\n",
       "    <tr>\n",
       "      <th>7</th>\n",
       "      <td>gail collins</td>\n",
       "      <td>3920.0</td>\n",
       "      <td>27493</td>\n",
       "      <td>14.258175</td>\n",
       "      <td>71</td>\n",
       "      <td>71</td>\n",
       "      <td>100.0</td>\n",
       "      <td>55.211268</td>\n",
       "      <td>387.225352</td>\n",
       "      <td>14.258175</td>\n",
       "    </tr>\n",
       "    <tr>\n",
       "      <th>8</th>\n",
       "      <td>jennifer finney boylan</td>\n",
       "      <td>194.0</td>\n",
       "      <td>2347</td>\n",
       "      <td>8.265871</td>\n",
       "      <td>14</td>\n",
       "      <td>14</td>\n",
       "      <td>100.0</td>\n",
       "      <td>13.857143</td>\n",
       "      <td>167.642857</td>\n",
       "      <td>8.265871</td>\n",
       "    </tr>\n",
       "    <tr>\n",
       "      <th>9</th>\n",
       "      <td>linda greenhouse</td>\n",
       "      <td>434.0</td>\n",
       "      <td>3042</td>\n",
       "      <td>14.266930</td>\n",
       "      <td>15</td>\n",
       "      <td>15</td>\n",
       "      <td>100.0</td>\n",
       "      <td>28.933333</td>\n",
       "      <td>202.800000</td>\n",
       "      <td>14.266930</td>\n",
       "    </tr>\n",
       "    <tr>\n",
       "      <th>10</th>\n",
       "      <td>liz spayd</td>\n",
       "      <td>675.0</td>\n",
       "      <td>5264</td>\n",
       "      <td>12.822948</td>\n",
       "      <td>51</td>\n",
       "      <td>51</td>\n",
       "      <td>100.0</td>\n",
       "      <td>13.235294</td>\n",
       "      <td>103.215686</td>\n",
       "      <td>12.822948</td>\n",
       "    </tr>\n",
       "    <tr>\n",
       "      <th>11</th>\n",
       "      <td>margaret renkl</td>\n",
       "      <td>164.0</td>\n",
       "      <td>2355</td>\n",
       "      <td>6.963907</td>\n",
       "      <td>11</td>\n",
       "      <td>11</td>\n",
       "      <td>100.0</td>\n",
       "      <td>14.909091</td>\n",
       "      <td>214.090909</td>\n",
       "      <td>6.963907</td>\n",
       "    </tr>\n",
       "    <tr>\n",
       "      <th>12</th>\n",
       "      <td>maureen dowd</td>\n",
       "      <td>3253.0</td>\n",
       "      <td>13558</td>\n",
       "      <td>23.993214</td>\n",
       "      <td>27</td>\n",
       "      <td>27</td>\n",
       "      <td>100.0</td>\n",
       "      <td>120.481481</td>\n",
       "      <td>502.148148</td>\n",
       "      <td>23.993214</td>\n",
       "    </tr>\n",
       "    <tr>\n",
       "      <th>13</th>\n",
       "      <td>michelle goldberg</td>\n",
       "      <td>1148.0</td>\n",
       "      <td>13038</td>\n",
       "      <td>8.805031</td>\n",
       "      <td>34</td>\n",
       "      <td>34</td>\n",
       "      <td>100.0</td>\n",
       "      <td>33.764706</td>\n",
       "      <td>383.470588</td>\n",
       "      <td>8.805031</td>\n",
       "    </tr>\n",
       "    <tr>\n",
       "      <th>14</th>\n",
       "      <td>nicholas kristof</td>\n",
       "      <td>3702.0</td>\n",
       "      <td>27742</td>\n",
       "      <td>13.344388</td>\n",
       "      <td>70</td>\n",
       "      <td>70</td>\n",
       "      <td>100.0</td>\n",
       "      <td>52.885714</td>\n",
       "      <td>396.314286</td>\n",
       "      <td>13.344388</td>\n",
       "    </tr>\n",
       "    <tr>\n",
       "      <th>15</th>\n",
       "      <td>paul krugman</td>\n",
       "      <td>9659.0</td>\n",
       "      <td>49601</td>\n",
       "      <td>19.473398</td>\n",
       "      <td>106</td>\n",
       "      <td>106</td>\n",
       "      <td>100.0</td>\n",
       "      <td>91.122642</td>\n",
       "      <td>467.933962</td>\n",
       "      <td>19.473398</td>\n",
       "    </tr>\n",
       "    <tr>\n",
       "      <th>16</th>\n",
       "      <td>roger cohen</td>\n",
       "      <td>3042.0</td>\n",
       "      <td>17185</td>\n",
       "      <td>17.701484</td>\n",
       "      <td>58</td>\n",
       "      <td>58</td>\n",
       "      <td>100.0</td>\n",
       "      <td>53.368421</td>\n",
       "      <td>296.293103</td>\n",
       "      <td>18.012036</td>\n",
       "    </tr>\n",
       "    <tr>\n",
       "      <th>17</th>\n",
       "      <td>ross douthat</td>\n",
       "      <td>10210.0</td>\n",
       "      <td>30480</td>\n",
       "      <td>33.497375</td>\n",
       "      <td>65</td>\n",
       "      <td>65</td>\n",
       "      <td>100.0</td>\n",
       "      <td>157.076923</td>\n",
       "      <td>468.923077</td>\n",
       "      <td>33.497375</td>\n",
       "    </tr>\n",
       "    <tr>\n",
       "      <th>18</th>\n",
       "      <td>thomas b. edsall</td>\n",
       "      <td>1053.0</td>\n",
       "      <td>11455</td>\n",
       "      <td>9.192492</td>\n",
       "      <td>32</td>\n",
       "      <td>32</td>\n",
       "      <td>100.0</td>\n",
       "      <td>32.906250</td>\n",
       "      <td>357.968750</td>\n",
       "      <td>9.192492</td>\n",
       "    </tr>\n",
       "    <tr>\n",
       "      <th>19</th>\n",
       "      <td>thomas l. friedman</td>\n",
       "      <td>3201.0</td>\n",
       "      <td>16511</td>\n",
       "      <td>19.387075</td>\n",
       "      <td>37</td>\n",
       "      <td>37</td>\n",
       "      <td>100.0</td>\n",
       "      <td>86.513514</td>\n",
       "      <td>446.243243</td>\n",
       "      <td>19.387075</td>\n",
       "    </tr>\n",
       "    <tr>\n",
       "      <th>20</th>\n",
       "      <td>timothy egan</td>\n",
       "      <td>941.0</td>\n",
       "      <td>8431</td>\n",
       "      <td>11.161191</td>\n",
       "      <td>29</td>\n",
       "      <td>29</td>\n",
       "      <td>100.0</td>\n",
       "      <td>32.448276</td>\n",
       "      <td>290.724138</td>\n",
       "      <td>11.161191</td>\n",
       "    </tr>\n",
       "  </tbody>\n",
       "</table>\n",
       "</div>"
      ],
      "text/plain": [
       "                    author  ref_author  nb_comments  ref_author_pct  \\\n",
       "0         andrew rosenthal       170.0         3094        5.494505   \n",
       "1            bret stephens      3828.0        14651       26.127909   \n",
       "2          charles m. blow      8470.0        39395       21.500190   \n",
       "3             david brooks     17976.0        47493       37.849788   \n",
       "4          david leonhardt      1394.0        18194        7.661867   \n",
       "5         evan gershkovich        23.0          743        3.095559   \n",
       "6              frank bruni      5857.0        36117       16.216740   \n",
       "7             gail collins      3920.0        27493       14.258175   \n",
       "8   jennifer finney boylan       194.0         2347        8.265871   \n",
       "9         linda greenhouse       434.0         3042       14.266930   \n",
       "10               liz spayd       675.0         5264       12.822948   \n",
       "11          margaret renkl       164.0         2355        6.963907   \n",
       "12            maureen dowd      3253.0        13558       23.993214   \n",
       "13       michelle goldberg      1148.0        13038        8.805031   \n",
       "14        nicholas kristof      3702.0        27742       13.344388   \n",
       "15            paul krugman      9659.0        49601       19.473398   \n",
       "16             roger cohen      3042.0        17185       17.701484   \n",
       "17            ross douthat     10210.0        30480       33.497375   \n",
       "18        thomas b. edsall      1053.0        11455        9.192492   \n",
       "19      thomas l. friedman      3201.0        16511       19.387075   \n",
       "20            timothy egan       941.0         8431       11.161191   \n",
       "\n",
       "    nb_articles_test  nb_articles_total  articles_pct  \\\n",
       "0                 10                 10         100.0   \n",
       "1                 47                 47         100.0   \n",
       "2                 61                 61         100.0   \n",
       "3                 71                 71         100.0   \n",
       "4                 46                 46         100.0   \n",
       "5                 20                 20         100.0   \n",
       "6                 72                 72         100.0   \n",
       "7                 71                 71         100.0   \n",
       "8                 14                 14         100.0   \n",
       "9                 15                 15         100.0   \n",
       "10                51                 51         100.0   \n",
       "11                11                 11         100.0   \n",
       "12                27                 27         100.0   \n",
       "13                34                 34         100.0   \n",
       "14                70                 70         100.0   \n",
       "15               106                106         100.0   \n",
       "16                58                 58         100.0   \n",
       "17                65                 65         100.0   \n",
       "18                32                 32         100.0   \n",
       "19                37                 37         100.0   \n",
       "20                29                 29         100.0   \n",
       "\n",
       "    nb_comments_by_article_test  nb_comments_by_article_total  \\\n",
       "0                     18.888889                    309.400000   \n",
       "1                     81.446809                    311.723404   \n",
       "2                    138.852459                    645.819672   \n",
       "3                    253.183099                    668.915493   \n",
       "4                     30.304348                    395.521739   \n",
       "5                      1.769231                     37.150000   \n",
       "6                     81.347222                    501.625000   \n",
       "7                     55.211268                    387.225352   \n",
       "8                     13.857143                    167.642857   \n",
       "9                     28.933333                    202.800000   \n",
       "10                    13.235294                    103.215686   \n",
       "11                    14.909091                    214.090909   \n",
       "12                   120.481481                    502.148148   \n",
       "13                    33.764706                    383.470588   \n",
       "14                    52.885714                    396.314286   \n",
       "15                    91.122642                    467.933962   \n",
       "16                    53.368421                    296.293103   \n",
       "17                   157.076923                    468.923077   \n",
       "18                    32.906250                    357.968750   \n",
       "19                    86.513514                    446.243243   \n",
       "20                    32.448276                    290.724138   \n",
       "\n",
       "    nb_comments_article_pct  \n",
       "0                  6.105006  \n",
       "1                 26.127909  \n",
       "2                 21.500190  \n",
       "3                 37.849788  \n",
       "4                  7.661867  \n",
       "5                  4.762398  \n",
       "6                 16.216740  \n",
       "7                 14.258175  \n",
       "8                  8.265871  \n",
       "9                 14.266930  \n",
       "10                12.822948  \n",
       "11                 6.963907  \n",
       "12                23.993214  \n",
       "13                 8.805031  \n",
       "14                13.344388  \n",
       "15                19.473398  \n",
       "16                18.012036  \n",
       "17                33.497375  \n",
       "18                 9.192492  \n",
       "19                19.387075  \n",
       "20                11.161191  "
      ]
     },
     "execution_count": 39,
     "metadata": {},
     "output_type": "execute_result"
    }
   ],
   "source": [
    "authors_statistics"
   ]
  },
  {
   "cell_type": "markdown",
   "metadata": {},
   "source": [
    "### Graphs"
   ]
  },
  {
   "cell_type": "code",
   "execution_count": 40,
   "metadata": {
    "ExecuteTime": {
     "end_time": "2020-04-12T21:13:19.067184Z",
     "start_time": "2020-04-12T21:13:18.504731Z"
    }
   },
   "outputs": [],
   "source": [
    "import matplotlib.pyplot as plt"
   ]
  },
  {
   "cell_type": "code",
   "execution_count": 41,
   "metadata": {
    "ExecuteTime": {
     "end_time": "2020-04-12T21:13:19.396749Z",
     "start_time": "2020-04-12T21:13:19.069179Z"
    }
   },
   "outputs": [
    {
     "data": {
      "image/png": "[encoded data removed]",
      "text/plain": [
       "<Figure size 432x288 with 1 Axes>"
      ]
     },
     "metadata": {
      "needs_background": "light"
     },
     "output_type": "display_data"
    }
   ],
   "source": [
    "plt.barh(authors_statistics['author'], authors_statistics['nb_articles_total'], color=(0.2, 0.4, 0.6, 0.6))\n",
    "plt.title(\"Number of articles for each journalist\")\n",
    "plt.xlabel('Number of articles')\n",
    "plt.show()\n"
   ]
  },
  {
   "cell_type": "markdown",
   "metadata": {},
   "source": [
    "We represent the number of comments by article for each author. The \"total comments\" columns correspond to the number of comments that don't contain the journalist's name by article. The two bargraphs are stacked so that we can see the proportionality."
   ]
  },
  {
   "cell_type": "code",
   "execution_count": 42,
   "metadata": {
    "ExecuteTime": {
     "end_time": "2020-04-12T21:13:19.751837Z",
     "start_time": "2020-04-12T21:13:19.398741Z"
    }
   },
   "outputs": [
    {
     "data": {
      "image/png": "[encoded data removed]",
      "text/plain": [
       "<Figure size 432x288 with 1 Axes>"
      ]
     },
     "metadata": {
      "needs_background": "light"
     },
     "output_type": "display_data"
    }
   ],
   "source": [
    "plt.barh(authors_statistics['author'], authors_statistics['nb_comments'], color=(0.2, 0.4, 0.6, 0.6), label='total comments')\n",
    "plt.barh(authors_statistics['author'], authors_statistics['ref_author'], color='#7f6d5f', label=\"containing author's name\")\n",
    "\n",
    "plt.title(\"Number of comments for each author in test_set\")\n",
    "plt.xlabel('Number of comments')\n",
    "plt.legend()\n",
    "plt.show()\n",
    "\n",
    "# in proportion of all comments, some journalists are more quoted than others"
   ]
  },
  {
   "cell_type": "markdown",
   "metadata": {},
   "source": [
    "We represent the mean of number of comments by article for each author. The \"total comments\" columns correspond to mean of number of comments that don't contain the journalist's name by article. The two bargraphs are stacked so that we can see the proportionality."
   ]
  },
  {
   "cell_type": "code",
   "execution_count": 43,
   "metadata": {
    "ExecuteTime": {
     "end_time": "2020-04-12T21:13:20.124568Z",
     "start_time": "2020-04-12T21:13:19.756821Z"
    }
   },
   "outputs": [
    {
     "data": {
      "image/png": "[encoded data removed]",
      "text/plain": [
       "<Figure size 432x288 with 1 Axes>"
      ]
     },
     "metadata": {
      "needs_background": "light"
     },
     "output_type": "display_data"
    }
   ],
   "source": [
    "plt.barh(authors_statistics['author'], authors_statistics['nb_comments_by_article_total'], color=(0.2, 0.4, 0.6, 0.6), label='total comments')\n",
    "plt.barh(authors_statistics['author'], authors_statistics['nb_comments_by_article_test'], color='#7f6d5f', label=\"containing author's name\")\n",
    "\n",
    "plt.title(\"Mean of number of comments by article\")\n",
    "plt.xlabel('Mean of number of comments')\n",
    "plt.legend()\n",
    "plt.show()"
   ]
  },
  {
   "cell_type": "markdown",
   "metadata": {},
   "source": [
    "# Final labels"
   ]
  },
  {
   "cell_type": "code",
   "execution_count": 44,
   "metadata": {
    "ExecuteTime": {
     "end_time": "2020-04-12T21:13:20.425134Z",
     "start_time": "2020-04-12T21:13:20.127555Z"
    }
   },
   "outputs": [],
   "source": [
    "final = pd.read_csv('data/final_set.csv', sep=\",\")"
   ]
  },
  {
   "cell_type": "code",
   "execution_count": 45,
   "metadata": {
    "ExecuteTime": {
     "end_time": "2020-04-12T21:13:20.436433Z",
     "start_time": "2020-04-12T21:13:20.427305Z"
    }
   },
   "outputs": [],
   "source": [
    "final['sentiment_str'] = final['sentiment_predicted'].map({0:'negative',2:'neutral',1:'positive'})"
   ]
  },
  {
   "cell_type": "code",
   "execution_count": 46,
   "metadata": {
    "ExecuteTime": {
     "end_time": "2020-04-12T21:13:20.556907Z",
     "start_time": "2020-04-12T21:13:20.438273Z"
    }
   },
   "outputs": [],
   "source": [
    "final = final.groupby(['author','sentiment_str']).agg('count').reset_index()\\\n",
    "            .pivot(index='author',columns='sentiment_str', values='text').reset_index()\n",
    "final['nb_comments'] = final.sum(axis=1)\n",
    "\n",
    "for sentiment in ['positive','negative','neutral']:\n",
    "    final[sentiment+'_pct'] = final[sentiment]/final['nb_comments']"
   ]
  },
  {
   "cell_type": "markdown",
   "metadata": {},
   "source": [
    "Here we represent the number of negative, positive, and neutral comments for each author."
   ]
  },
  {
   "cell_type": "code",
   "execution_count": 47,
   "metadata": {
    "ExecuteTime": {
     "end_time": "2020-04-12T21:13:21.126095Z",
     "start_time": "2020-04-12T21:13:20.559884Z"
    }
   },
   "outputs": [
    {
     "data": {
      "text/plain": [
       "<matplotlib.axes._subplots.AxesSubplot at 0x2a5b535bb70>"
      ]
     },
     "execution_count": 47,
     "metadata": {},
     "output_type": "execute_result"
    },
    {
     "data": {
      "image/png": "[encoded data removed]",
      "text/plain": [
       "<Figure size 432x288 with 1 Axes>"
      ]
     },
     "metadata": {
      "needs_background": "light"
     },
     "output_type": "display_data"
    }
   ],
   "source": [
    "final.set_index('author')[['negative','positive','neutral']]\\\n",
    "                .plot.barh(stacked=True, title=\"Number of comments by each sentiment\")"
   ]
  },
  {
   "cell_type": "code",
   "execution_count": 48,
   "metadata": {
    "ExecuteTime": {
     "end_time": "2020-04-12T21:13:21.514113Z",
     "start_time": "2020-04-12T21:13:21.129074Z"
    }
   },
   "outputs": [
    {
     "data": {
      "text/plain": [
       "<matplotlib.axes._subplots.AxesSubplot at 0x2a5b527f6a0>"
      ]
     },
     "execution_count": 48,
     "metadata": {},
     "output_type": "execute_result"
    },
    {
     "data": {
      "image/png": "[encoded data removed]",
      "text/plain": [
       "<Figure size 432x288 with 1 Axes>"
      ]
     },
     "metadata": {
      "needs_background": "light"
     },
     "output_type": "display_data"
    }
   ],
   "source": [
    "final.set_index('author')[['negative_pct','positive_pct','neutral_pct']]\\\n",
    "                .plot.barh(stacked=True, title=\"Number of comments by each sentiment\")"
   ]
  },
  {
   "cell_type": "code",
   "execution_count": 49,
   "metadata": {
    "ExecuteTime": {
     "end_time": "2020-04-12T21:13:21.890750Z",
     "start_time": "2020-04-12T21:13:21.521058Z"
    }
   },
   "outputs": [
    {
     "data": {
      "text/plain": [
       "<matplotlib.axes._subplots.AxesSubplot at 0x2a5b51e4b70>"
      ]
     },
     "execution_count": 49,
     "metadata": {},
     "output_type": "execute_result"
    },
    {
     "data": {
      "image/png": "[encoded data removed]",
      "text/plain": [
       "<Figure size 432x288 with 1 Axes>"
      ]
     },
     "metadata": {
      "needs_background": "light"
     },
     "output_type": "display_data"
    }
   ],
   "source": [
    "final.sort_values('negative_pct').set_index('author')[['negative_pct','positive_pct','neutral_pct']]\\\n",
    "                .plot.barh(stacked=True, title=\"Number of comments by each sentiment\")"
   ]
  },
  {
   "cell_type": "code",
   "execution_count": 50,
   "metadata": {
    "ExecuteTime": {
     "end_time": "2020-04-12T21:13:22.281738Z",
     "start_time": "2020-04-12T21:13:21.893741Z"
    }
   },
   "outputs": [
    {
     "data": {
      "text/plain": [
       "<matplotlib.axes._subplots.AxesSubplot at 0x2a5b51917b8>"
      ]
     },
     "execution_count": 50,
     "metadata": {},
     "output_type": "execute_result"
    },
    {
     "data": {
      "image/png": "[encoded data removed]",
      "text/plain": [
       "<Figure size 432x288 with 1 Axes>"
      ]
     },
     "metadata": {
      "needs_background": "light"
     },
     "output_type": "display_data"
    }
   ],
   "source": [
    "final.sort_values('positive_pct').set_index('author')[['positive_pct','negative_pct','neutral_pct']]\\\n",
    "                .plot.barh(stacked=True, title=\"Number of comments by each sentiment\")"
   ]
  },
  {
   "cell_type": "code",
   "execution_count": null,
   "metadata": {},
   "outputs": [],
   "source": []
  }
 ],
 "metadata": {
  "kernelspec": {
   "display_name": "Python 3",
   "language": "python",
   "name": "python3"
  },
  "language_info": {
   "codemirror_mode": {
    "name": "ipython",
    "version": 3
   },
   "file_extension": ".py",
   "mimetype": "text/x-python",
   "name": "python",
   "nbconvert_exporter": "python",
   "pygments_lexer": "ipython3",
   "version": "3.7.3"
  }
 },
 "nbformat": 4,
 "nbformat_minor": 2
}
