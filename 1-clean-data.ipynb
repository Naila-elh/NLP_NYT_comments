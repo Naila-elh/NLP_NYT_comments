{
 "cells": [
  {
   "cell_type": "markdown",
   "metadata": {},
   "source": [
    "Ressources:\n",
    "- Jeux de données d'entraînement : https://blog.cambridgespark.com/50-free-machine-learning-datasets-sentiment-analysis-b9388f79c124\n",
    "- Sentiment analysis : https://medium.com/nearist-ai/word2vec-tutorial-the-skip-gram-model-c7926e1fdc09\n",
    "- Sentiment analysis : https://towardsdatascience.com/unsupervised-sentiment-analysis-a38bf1906483"
   ]
  },
  {
   "cell_type": "markdown",
   "metadata": {},
   "source": [
    "Questions à se poser:\n",
    "- Pour les articles: on distingue selon articles ou blog? Et on fait par catégorie d'articles?\n",
    "- Pour les commentaires : on distingue commentaire et réponse à un commentaire ou on regarde juste les commentaires?"
   ]
  },
  {
   "cell_type": "code",
   "execution_count": 1,
   "metadata": {
    "ExecuteTime": {
     "end_time": "2020-04-08T15:52:38.648901Z",
     "start_time": "2020-04-08T15:52:35.720527Z"
    }
   },
   "outputs": [],
   "source": [
    "import pandas as pd\n",
    "import numpy as np\n",
    "import os\n",
    "from glob import glob"
   ]
  },
  {
   "cell_type": "code",
   "execution_count": 2,
   "metadata": {
    "ExecuteTime": {
     "end_time": "2020-04-08T15:52:38.660248Z",
     "start_time": "2020-04-08T15:52:38.649906Z"
    }
   },
   "outputs": [],
   "source": [
    "path_to_data = ('data/')"
   ]
  },
  {
   "cell_type": "code",
   "execution_count": 3,
   "metadata": {
    "ExecuteTime": {
     "end_time": "2020-04-08T15:53:33.758035Z",
     "start_time": "2020-04-08T15:52:38.665617Z"
    }
   },
   "outputs": [
    {
     "name": "stdout",
     "output_type": "stream",
     "text": [
      "Reading articles...\n",
      "Reading comments...\n"
     ]
    },
    {
     "name": "stderr",
     "output_type": "stream",
     "text": [
      "C:\\Users\\naila\\Anaconda3\\lib\\site-packages\\IPython\\core\\interactiveshell.py:3296: DtypeWarning: Columns (25,26) have mixed types. Specify dtype option on import or set low_memory=False.\n",
      "  exec(code_obj, self.user_global_ns, self.user_ns)\n",
      "C:\\Users\\naila\\Anaconda3\\lib\\site-packages\\IPython\\core\\interactiveshell.py:3296: DtypeWarning: Columns (32) have mixed types. Specify dtype option on import or set low_memory=False.\n",
      "  exec(code_obj, self.user_global_ns, self.user_ns)\n",
      "C:\\Users\\naila\\Anaconda3\\lib\\site-packages\\IPython\\core\\interactiveshell.py:3296: DtypeWarning: Columns (14,15,31,32) have mixed types. Specify dtype option on import or set low_memory=False.\n",
      "  exec(code_obj, self.user_global_ns, self.user_ns)\n",
      "C:\\Users\\naila\\Anaconda3\\lib\\site-packages\\IPython\\core\\interactiveshell.py:3296: DtypeWarning: Columns (32,33) have mixed types. Specify dtype option on import or set low_memory=False.\n",
      "  exec(code_obj, self.user_global_ns, self.user_ns)\n",
      "C:\\Users\\naila\\Anaconda3\\lib\\site-packages\\IPython\\core\\interactiveshell.py:3296: DtypeWarning: Columns (14,15,31) have mixed types. Specify dtype option on import or set low_memory=False.\n",
      "  exec(code_obj, self.user_global_ns, self.user_ns)\n"
     ]
    }
   ],
   "source": [
    "print('Reading articles...')\n",
    "articles = pd.concat(map(pd.read_csv, glob(os.path.join(path_to_data+'nyt-articles/', \"*.csv\"))), axis=0, sort=True).reset_index()\n",
    "print('Reading comments...')\n",
    "comments = pd.concat(map(pd.read_csv, glob(os.path.join(path_to_data+'nyt-comments/', \"*.csv\"))), axis=0, sort=True).reset_index()"
   ]
  },
  {
   "cell_type": "markdown",
   "metadata": {},
   "source": [
    "# 1. Descriptive statistics"
   ]
  },
  {
   "cell_type": "code",
   "execution_count": 10,
   "metadata": {
    "ExecuteTime": {
     "end_time": "2020-04-08T15:53:45.055456Z",
     "start_time": "2020-04-08T15:53:45.039475Z"
    }
   },
   "outputs": [
    {
     "data": {
      "text/plain": [
       "article     9168\n",
       "blogpost     167\n",
       "Name: documentType, dtype: int64"
      ]
     },
     "execution_count": 10,
     "metadata": {},
     "output_type": "execute_result"
    }
   ],
   "source": [
    "articles['documentType'].value_counts() # some of them are blogposts"
   ]
  },
  {
   "cell_type": "code",
   "execution_count": 11,
   "metadata": {
    "ExecuteTime": {
     "end_time": "2020-04-08T15:53:45.449895Z",
     "start_time": "2020-04-08T15:53:45.431471Z"
    },
    "scrolled": true
   },
   "outputs": [
    {
     "data": {
      "text/plain": [
       "OpEd               1719\n",
       "National            630\n",
       "Metro               593\n",
       "Learning            575\n",
       "Foreign             514\n",
       "Culture             507\n",
       "Business            407\n",
       "Magazine            386\n",
       "Washington          378\n",
       "Dining              366\n",
       "Games               357\n",
       "Well                342\n",
       "Editorial           333\n",
       "Sports              332\n",
       "Science             284\n",
       "Upshot              230\n",
       "RealEstate          225\n",
       "Insider             154\n",
       "Weekend             140\n",
       "Unknown             117\n",
       "Travel              112\n",
       "Arts&Leisure         71\n",
       "BookReview           62\n",
       "Styles               60\n",
       "SundayBusiness       57\n",
       "Metropolitan         57\n",
       "Podcasts             40\n",
       "Photo                39\n",
       "NewsDesk             32\n",
       "Smarter Living       31\n",
       "Climate              31\n",
       "Investigative        28\n",
       "Obits                22\n",
       "Politics             22\n",
       "Express              19\n",
       "SpecialSections      18\n",
       "TStyle               14\n",
       "EdLife               11\n",
       "Letters               5\n",
       "Summary               4\n",
       "NYTNow                4\n",
       "Society               3\n",
       "Video                 3\n",
       "Automobiles           1\n",
       "Name: newDesk, dtype: int64"
      ]
     },
     "execution_count": 11,
     "metadata": {},
     "output_type": "execute_result"
    }
   ],
   "source": [
    "articles['newDesk'].value_counts(dropna=False)"
   ]
  },
  {
   "cell_type": "code",
   "execution_count": 12,
   "metadata": {
    "ExecuteTime": {
     "end_time": "2020-04-08T15:53:46.599290Z",
     "start_time": "2020-04-08T15:53:46.581658Z"
    },
    "scrolled": true
   },
   "outputs": [
    {
     "data": {
      "text/plain": [
       "Unknown                       6380\n",
       "Politics                       638\n",
       "Sunday Review                  353\n",
       "Television                     261\n",
       "Asia Pacific                   174\n",
       "Europe                         172\n",
       "Family                         166\n",
       "Live                           138\n",
       "Middle East                     89\n",
       "Move                            61\n",
       "Book Review                     60\n",
       "Art & Design                    54\n",
       "Economy                         54\n",
       "Baseball                        52\n",
       "Eat                             47\n",
       "Olympics                        45\n",
       "Soccer                          43\n",
       "Media                           43\n",
       "Mind                            42\n",
       "Lesson Plans                    41\n",
       "The Daily                       40\n",
       "Music                           38\n",
       "Americas                        37\n",
       "Pro Basketball                  34\n",
       "Wine, Beer & Cocktails          33\n",
       "DealBook                        31\n",
       "Pro Football                    31\n",
       "Africa                          21\n",
       "College Basketball              20\n",
       "Tennis                          17\n",
       "                              ... \n",
       "Education Life                  11\n",
       "Personal Tech                   10\n",
       "Hockey                           8\n",
       "Energy & Environment             8\n",
       "Australia                        7\n",
       "Dance                            7\n",
       "Retirement                       6\n",
       "College Football                 5\n",
       "Room For Debate                  4\n",
       "Editorials                       3\n",
       "Weddings                         3\n",
       "Opinion | Politics               2\n",
       "401(k)'s and Similar Plans       2\n",
       "Fashion & Beauty                 2\n",
       "Neighborhoods                    1\n",
       "Insider Events                   1\n",
       "Cycling                          1\n",
       "Opinion | The World              1\n",
       "Entrepreneurship                 1\n",
       "Art                              1\n",
       "Entertainment                    1\n",
       "Real Estate                      1\n",
       "Cricket                          1\n",
       "Rugby                            1\n",
       "Automobiles                      1\n",
       "Auto Racing                      1\n",
       "Learning                         1\n",
       "Paying for College               1\n",
       "Food                             1\n",
       "Student Loans                    1\n",
       "Name: sectionName, Length: 62, dtype: int64"
      ]
     },
     "execution_count": 12,
     "metadata": {},
     "output_type": "execute_result"
    }
   ],
   "source": [
    "articles['sectionName'].value_counts(dropna=False)"
   ]
  },
  {
   "cell_type": "code",
   "execution_count": 13,
   "metadata": {
    "ExecuteTime": {
     "end_time": "2020-04-08T15:53:47.030073Z",
     "start_time": "2020-04-08T15:53:47.020040Z"
    }
   },
   "outputs": [
    {
     "data": {
      "text/plain": [
       "Index(['index', 'approveDate', 'articleID', 'articleWordCount', 'commentBody',\n",
       "       'commentID', 'commentSequence', 'commentTitle', 'commentType',\n",
       "       'createDate', 'depth', 'editorsSelection', 'inReplyTo', 'newDesk',\n",
       "       'parentID', 'parentUserDisplayName', 'permID', 'picURL', 'printPage',\n",
       "       'recommendations', 'recommendedFlag', 'replyCount', 'reportAbuseFlag',\n",
       "       'sectionName', 'sharing', 'status', 'timespeople', 'trusted',\n",
       "       'typeOfMaterial', 'updateDate', 'userDisplayName', 'userID',\n",
       "       'userLocation', 'userTitle', 'userURL'],\n",
       "      dtype='object')"
      ]
     },
     "execution_count": 13,
     "metadata": {},
     "output_type": "execute_result"
    }
   ],
   "source": [
    "comments.columns"
   ]
  },
  {
   "cell_type": "code",
   "execution_count": 14,
   "metadata": {
    "ExecuteTime": {
     "end_time": "2020-04-08T15:53:47.713040Z",
     "start_time": "2020-04-08T15:53:47.659642Z"
    },
    "scrolled": true
   },
   "outputs": [
    {
     "data": {
      "text/html": [
       "<div>\n",
       "<style scoped>\n",
       "    .dataframe tbody tr th:only-of-type {\n",
       "        vertical-align: middle;\n",
       "    }\n",
       "\n",
       "    .dataframe tbody tr th {\n",
       "        vertical-align: top;\n",
       "    }\n",
       "\n",
       "    .dataframe thead th {\n",
       "        text-align: right;\n",
       "    }\n",
       "</style>\n",
       "<table border=\"1\" class=\"dataframe\">\n",
       "  <thead>\n",
       "    <tr style=\"text-align: right;\">\n",
       "      <th></th>\n",
       "      <th>index</th>\n",
       "      <th>approveDate</th>\n",
       "      <th>articleID</th>\n",
       "      <th>articleWordCount</th>\n",
       "      <th>commentBody</th>\n",
       "      <th>commentID</th>\n",
       "      <th>commentSequence</th>\n",
       "      <th>commentTitle</th>\n",
       "      <th>commentType</th>\n",
       "      <th>createDate</th>\n",
       "      <th>...</th>\n",
       "      <th>status</th>\n",
       "      <th>timespeople</th>\n",
       "      <th>trusted</th>\n",
       "      <th>typeOfMaterial</th>\n",
       "      <th>updateDate</th>\n",
       "      <th>userDisplayName</th>\n",
       "      <th>userID</th>\n",
       "      <th>userLocation</th>\n",
       "      <th>userTitle</th>\n",
       "      <th>userURL</th>\n",
       "    </tr>\n",
       "  </thead>\n",
       "  <tbody>\n",
       "    <tr>\n",
       "      <th>0</th>\n",
       "      <td>0</td>\n",
       "      <td>1491245186</td>\n",
       "      <td>58def1347c459f24986d7c80</td>\n",
       "      <td>716.0</td>\n",
       "      <td>This project makes me happy to be a 30+ year T...</td>\n",
       "      <td>22022598.0</td>\n",
       "      <td>22022598.0</td>\n",
       "      <td>&lt;br/&gt;</td>\n",
       "      <td>comment</td>\n",
       "      <td>1.491237e+09</td>\n",
       "      <td>...</td>\n",
       "      <td>approved</td>\n",
       "      <td>1.0</td>\n",
       "      <td>0.0</td>\n",
       "      <td>News</td>\n",
       "      <td>1491245186</td>\n",
       "      <td>Rob Gayle</td>\n",
       "      <td>46006296.0</td>\n",
       "      <td>Riverside, CA</td>\n",
       "      <td>NaN</td>\n",
       "      <td>NaN</td>\n",
       "    </tr>\n",
       "    <tr>\n",
       "      <th>1</th>\n",
       "      <td>1</td>\n",
       "      <td>1491188619</td>\n",
       "      <td>58def1347c459f24986d7c80</td>\n",
       "      <td>716.0</td>\n",
       "      <td>Stunning photos and reportage. Infuriating tha...</td>\n",
       "      <td>22017350.0</td>\n",
       "      <td>22017350.0</td>\n",
       "      <td>NaN</td>\n",
       "      <td>comment</td>\n",
       "      <td>1.491180e+09</td>\n",
       "      <td>...</td>\n",
       "      <td>approved</td>\n",
       "      <td>1.0</td>\n",
       "      <td>0.0</td>\n",
       "      <td>News</td>\n",
       "      <td>1491188619</td>\n",
       "      <td>Susan A.</td>\n",
       "      <td>29202761.0</td>\n",
       "      <td>&lt;br/&gt;</td>\n",
       "      <td>NaN</td>\n",
       "      <td>NaN</td>\n",
       "    </tr>\n",
       "    <tr>\n",
       "      <th>2</th>\n",
       "      <td>2</td>\n",
       "      <td>1491188617</td>\n",
       "      <td>58def1347c459f24986d7c80</td>\n",
       "      <td>716.0</td>\n",
       "      <td>Brilliant work from conception to execution. I...</td>\n",
       "      <td>22017334.0</td>\n",
       "      <td>22017334.0</td>\n",
       "      <td>&lt;br/&gt;</td>\n",
       "      <td>comment</td>\n",
       "      <td>1.491179e+09</td>\n",
       "      <td>...</td>\n",
       "      <td>approved</td>\n",
       "      <td>1.0</td>\n",
       "      <td>0.0</td>\n",
       "      <td>News</td>\n",
       "      <td>1491188617</td>\n",
       "      <td>Meta</td>\n",
       "      <td>63944806.0</td>\n",
       "      <td>Raleigh NC</td>\n",
       "      <td>NaN</td>\n",
       "      <td>NaN</td>\n",
       "    </tr>\n",
       "    <tr>\n",
       "      <th>3</th>\n",
       "      <td>3</td>\n",
       "      <td>1491167820</td>\n",
       "      <td>58def1347c459f24986d7c80</td>\n",
       "      <td>716.0</td>\n",
       "      <td>NYT reporters should provide a contributor's l...</td>\n",
       "      <td>22015913.0</td>\n",
       "      <td>22015913.0</td>\n",
       "      <td>&lt;br/&gt;</td>\n",
       "      <td>comment</td>\n",
       "      <td>1.491150e+09</td>\n",
       "      <td>...</td>\n",
       "      <td>approved</td>\n",
       "      <td>1.0</td>\n",
       "      <td>0.0</td>\n",
       "      <td>News</td>\n",
       "      <td>1491167820</td>\n",
       "      <td>Tom Wyrick</td>\n",
       "      <td>1266184.0</td>\n",
       "      <td>Missouri, USA</td>\n",
       "      <td>NaN</td>\n",
       "      <td>NaN</td>\n",
       "    </tr>\n",
       "    <tr>\n",
       "      <th>4</th>\n",
       "      <td>4</td>\n",
       "      <td>1491167815</td>\n",
       "      <td>58def1347c459f24986d7c80</td>\n",
       "      <td>716.0</td>\n",
       "      <td>Could only have been done in print. Stunning.</td>\n",
       "      <td>22015466.0</td>\n",
       "      <td>22015466.0</td>\n",
       "      <td>&lt;br/&gt;</td>\n",
       "      <td>comment</td>\n",
       "      <td>1.491147e+09</td>\n",
       "      <td>...</td>\n",
       "      <td>approved</td>\n",
       "      <td>1.0</td>\n",
       "      <td>0.0</td>\n",
       "      <td>News</td>\n",
       "      <td>1491167815</td>\n",
       "      <td>Joe Sharkey</td>\n",
       "      <td>61121360.0</td>\n",
       "      <td>Tucson, Arizona</td>\n",
       "      <td>NaN</td>\n",
       "      <td>NaN</td>\n",
       "    </tr>\n",
       "  </tbody>\n",
       "</table>\n",
       "<p>5 rows × 35 columns</p>\n",
       "</div>"
      ],
      "text/plain": [
       "   index  approveDate                 articleID  articleWordCount  \\\n",
       "0      0   1491245186  58def1347c459f24986d7c80             716.0   \n",
       "1      1   1491188619  58def1347c459f24986d7c80             716.0   \n",
       "2      2   1491188617  58def1347c459f24986d7c80             716.0   \n",
       "3      3   1491167820  58def1347c459f24986d7c80             716.0   \n",
       "4      4   1491167815  58def1347c459f24986d7c80             716.0   \n",
       "\n",
       "                                         commentBody   commentID  \\\n",
       "0  This project makes me happy to be a 30+ year T...  22022598.0   \n",
       "1  Stunning photos and reportage. Infuriating tha...  22017350.0   \n",
       "2  Brilliant work from conception to execution. I...  22017334.0   \n",
       "3  NYT reporters should provide a contributor's l...  22015913.0   \n",
       "4     Could only have been done in print. Stunning.   22015466.0   \n",
       "\n",
       "   commentSequence commentTitle commentType    createDate  ...    status  \\\n",
       "0       22022598.0        <br/>     comment  1.491237e+09  ...  approved   \n",
       "1       22017350.0          NaN     comment  1.491180e+09  ...  approved   \n",
       "2       22017334.0        <br/>     comment  1.491179e+09  ...  approved   \n",
       "3       22015913.0        <br/>     comment  1.491150e+09  ...  approved   \n",
       "4       22015466.0        <br/>     comment  1.491147e+09  ...  approved   \n",
       "\n",
       "   timespeople  trusted typeOfMaterial  updateDate userDisplayName  \\\n",
       "0          1.0      0.0           News  1491245186       Rob Gayle   \n",
       "1          1.0      0.0           News  1491188619        Susan A.   \n",
       "2          1.0      0.0           News  1491188617            Meta   \n",
       "3          1.0      0.0           News  1491167820      Tom Wyrick   \n",
       "4          1.0      0.0           News  1491167815     Joe Sharkey   \n",
       "\n",
       "       userID     userLocation  userTitle  userURL  \n",
       "0  46006296.0    Riverside, CA        NaN      NaN  \n",
       "1  29202761.0            <br/>        NaN      NaN  \n",
       "2  63944806.0       Raleigh NC        NaN      NaN  \n",
       "3   1266184.0    Missouri, USA        NaN      NaN  \n",
       "4  61121360.0  Tucson, Arizona        NaN      NaN  \n",
       "\n",
       "[5 rows x 35 columns]"
      ]
     },
     "execution_count": 14,
     "metadata": {},
     "output_type": "execute_result"
    }
   ],
   "source": [
    "comments.head()"
   ]
  },
  {
   "cell_type": "code",
   "execution_count": 15,
   "metadata": {
    "ExecuteTime": {
     "end_time": "2020-04-08T15:53:48.518566Z",
     "start_time": "2020-04-08T15:53:48.099500Z"
    }
   },
   "outputs": [
    {
     "data": {
      "text/plain": [
       "comment          1595760\n",
       "userReply         580279\n",
       "reporterReply        325\n",
       "Name: commentType, dtype: int64"
      ]
     },
     "execution_count": 15,
     "metadata": {},
     "output_type": "execute_result"
    }
   ],
   "source": [
    "comments['commentType'].value_counts()"
   ]
  },
  {
   "cell_type": "markdown",
   "metadata": {},
   "source": [
    "# 2. Clean data"
   ]
  },
  {
   "cell_type": "markdown",
   "metadata": {},
   "source": [
    "## 2.1. Keeping only some articles"
   ]
  },
  {
   "cell_type": "markdown",
   "metadata": {
    "ExecuteTime": {
     "end_time": "2020-04-08T09:52:06.364523Z",
     "start_time": "2020-04-08T09:52:06.262794Z"
    }
   },
   "source": [
    "We keep only the comments written by authors who wrote at least 5 articles in the NYT.\n"
   ]
  },
  {
   "cell_type": "code",
   "execution_count": 16,
   "metadata": {
    "ExecuteTime": {
     "end_time": "2020-04-08T15:53:50.114241Z",
     "start_time": "2020-04-08T15:53:50.108963Z"
    }
   },
   "outputs": [],
   "source": [
    "import re"
   ]
  },
  {
   "cell_type": "code",
   "execution_count": 17,
   "metadata": {
    "ExecuteTime": {
     "end_time": "2020-04-08T15:53:50.613761Z",
     "start_time": "2020-04-08T15:53:50.586034Z"
    }
   },
   "outputs": [
    {
     "data": {
      "text/plain": [
       "2052"
      ]
     },
     "execution_count": 17,
     "metadata": {},
     "output_type": "execute_result"
    }
   ],
   "source": [
    "# Keep articles OpEd and Editorial\n",
    "articles = articles[articles['newDesk'].isin(['OpEd', 'Editorial'])]\n",
    "len(articles)"
   ]
  },
  {
   "cell_type": "code",
   "execution_count": 18,
   "metadata": {
    "ExecuteTime": {
     "end_time": "2020-04-08T15:53:51.236760Z",
     "start_time": "2020-04-08T15:53:51.054460Z"
    }
   },
   "outputs": [],
   "source": [
    "# Cleaning articles author name\n",
    "\n",
    "# duplicate articles if several authors\n",
    "authors = articles['byline'].str.split(',|and|with', expand=True).add_prefix('author_')\n",
    "\n",
    "# remove everything before \"by, BY, By\" (interviewed by, etc.)\n",
    "for col in authors.columns :\n",
    "    authors.loc[~authors[col].isna(), col] = authors.loc[~authors[col].isna(), col].apply(lambda x: re.sub(r'.*(by|BY|By)', '', x).strip())\n",
    "\n",
    "# merge to have article id\n",
    "authors = pd.merge(authors, articles[['articleID']], left_index=True, right_index=True)\n",
    "\n",
    "# stack df to have a df with one article-one author per row\n",
    "authors = authors.set_index(['articleID']).stack().reset_index(level=-1, drop=True).reset_index(name='author')\n",
    "\n",
    "# manually remove authors which are not real : \"M.D\" (which is a title), \"Unknown\"\n",
    "authors = authors[~authors['author'].isin(['M.D', 'Unknown'])]\n",
    "\n",
    "# keep authors who wrote 10 or more articles\n",
    "authors_list = authors['author'].value_counts()[authors['author'].value_counts()>=10].index\n",
    "authors = authors[authors['author'].isin(authors_list)]"
   ]
  },
  {
   "cell_type": "code",
   "execution_count": 19,
   "metadata": {
    "ExecuteTime": {
     "end_time": "2020-04-08T15:53:59.223995Z",
     "start_time": "2020-04-08T15:53:59.193260Z"
    },
    "scrolled": true
   },
   "outputs": [],
   "source": [
    "# In this authors list, we randomly select 100 authors.\n",
    "# import random\n",
    "# authors_list = random.sample(list(authors_list), 100)\n",
    "# authors = authors[authors['author'].isin(authors_list)]"
   ]
  },
  {
   "cell_type": "code",
   "execution_count": 20,
   "metadata": {
    "ExecuteTime": {
     "end_time": "2020-04-08T15:53:59.762118Z",
     "start_time": "2020-04-08T15:53:59.746103Z"
    },
    "scrolled": true
   },
   "outputs": [
    {
     "data": {
      "text/plain": [
       "THE EDITORIAL BOARD       258\n",
       "PAUL KRUGMAN              113\n",
       "GAIL COLLINS               75\n",
       "NICHOLAS KRISTOF           75\n",
       "FRANK BRUNI                75\n",
       "DAVID BROOKS               72\n",
       "ROSS DOUTHAT               67\n",
       "CHARLES M. BLOW            64\n",
       "ROGER COHEN                61\n",
       "LIZ SPAYD                  53\n",
       "BRET STEPHENS              48\n",
       "DAVID LEONHARDT            47\n",
       "THOMAS L. FRIEDMAN         37\n",
       "MICHELLE GOLDBERG          34\n",
       "THOMAS B. EDSALL           33\n",
       "TIMOTHY EGAN               30\n",
       "MAUREEN DOWD               29\n",
       "UNKNOWN                    27\n",
       "EVAN GERSHKOVICH           21\n",
       "LINDA GREENHOUSE           16\n",
       "JENNIFER FINNEY BOYLAN     14\n",
       "MARGARET RENKL             11\n",
       "ANDREW ROSENTHAL           11\n",
       "SUSAN CHIRA                11\n",
       "Name: author, dtype: int64"
      ]
     },
     "execution_count": 20,
     "metadata": {},
     "output_type": "execute_result"
    }
   ],
   "source": [
    "authors['author'].value_counts()"
   ]
  },
  {
   "cell_type": "code",
   "execution_count": 22,
   "metadata": {
    "ExecuteTime": {
     "end_time": "2020-04-08T15:54:17.616961Z",
     "start_time": "2020-04-08T15:54:17.609198Z"
    }
   },
   "outputs": [
    {
     "data": {
      "text/plain": [
       "24"
      ]
     },
     "execution_count": 22,
     "metadata": {},
     "output_type": "execute_result"
    }
   ],
   "source": [
    "len(authors['author'].unique())"
   ]
  },
  {
   "cell_type": "code",
   "execution_count": 23,
   "metadata": {
    "ExecuteTime": {
     "end_time": "2020-04-08T15:54:20.145361Z",
     "start_time": "2020-04-08T15:54:19.330521Z"
    }
   },
   "outputs": [
    {
     "data": {
      "text/plain": [
       "671748"
      ]
     },
     "execution_count": 23,
     "metadata": {},
     "output_type": "execute_result"
    }
   ],
   "source": [
    "# In the comments database, we keep only comments from the authors we kept, using the \"articleID\" variable.\n",
    "comments = comments[comments['articleID'].isin(authors['articleID'].unique())]\n",
    "len(comments)"
   ]
  },
  {
   "cell_type": "markdown",
   "metadata": {},
   "source": [
    "## 2.2. Tokenization of comments"
   ]
  },
  {
   "cell_type": "code",
   "execution_count": 24,
   "metadata": {
    "ExecuteTime": {
     "end_time": "2020-04-08T15:54:30.963438Z",
     "start_time": "2020-04-08T15:54:22.395126Z"
    }
   },
   "outputs": [],
   "source": [
    "from gensim.models import LdaModel\n",
    "from gensim import corpora\n",
    "import nltk\n",
    "from string import punctuation\n",
    "from nltk.tokenize import TreebankWordTokenizer"
   ]
  },
  {
   "cell_type": "code",
   "execution_count": 25,
   "metadata": {
    "ExecuteTime": {
     "end_time": "2020-04-08T15:54:34.226731Z",
     "start_time": "2020-04-08T15:54:32.652477Z"
    }
   },
   "outputs": [],
   "source": [
    "for item in ['<br/>']:\n",
    "    comments['commentBody'] = comments['commentBody'].apply(lambda x: x.replace(item, ' '))              "
   ]
  },
  {
   "cell_type": "code",
   "execution_count": 27,
   "metadata": {
    "ExecuteTime": {
     "end_time": "2020-04-08T16:07:42.837983Z",
     "start_time": "2020-04-08T15:55:03.128288Z"
    }
   },
   "outputs": [
    {
     "name": "stderr",
     "output_type": "stream",
     "text": [
      "[nltk_data] Downloading package stopwords to\n",
      "[nltk_data]     C:\\Users\\naila\\AppData\\Roaming\\nltk_data...\n",
      "[nltk_data]   Package stopwords is already up-to-date!\n"
     ]
    },
    {
     "name": "stdout",
     "output_type": "stream",
     "text": [
      "Tokenizing...\n"
     ]
    }
   ],
   "source": [
    "nltk.download('stopwords')\n",
    "en_stop = set(nltk.corpus.stopwords.words('english'))\n",
    "to_be_removed = list(en_stop) + list(punctuation)\n",
    "\n",
    "print(\"Tokenizing...\")\n",
    "tok = TreebankWordTokenizer()\n",
    "comments['commentTokens'] = comments['commentBody'].apply(lambda x: list(filter(lambda a: a.lower() not in to_be_removed,tok.tokenize(x))))\n",
    "\n",
    "\n",
    "# dictionary = corpora.Dictionary(comments['commentTokens'].tolist())\n",
    "# corpus = [dictionary.doc2bow(text) for text in comments['commentTokens'].tolist()]\n",
    "# ldamodel = LdaModel(corpus, id2word=dictionary, num_topics=4)"
   ]
  },
  {
   "cell_type": "code",
   "execution_count": 64,
   "metadata": {
    "ExecuteTime": {
     "end_time": "2020-04-08T16:39:32.172604Z",
     "start_time": "2020-04-08T16:37:45.811038Z"
    }
   },
   "outputs": [],
   "source": [
    "comments.to_csv(path_to_data+('df_clean.csv'), sep=';')"
   ]
  },
  {
   "cell_type": "code",
   "execution_count": null,
   "metadata": {},
   "outputs": [],
   "source": []
  }
 ],
 "metadata": {
  "kernelspec": {
   "display_name": "Python 3",
   "language": "python",
   "name": "python3"
  },
  "language_info": {
   "codemirror_mode": {
    "name": "ipython",
    "version": 3
   },
   "file_extension": ".py",
   "mimetype": "text/x-python",
   "name": "python",
   "nbconvert_exporter": "python",
   "pygments_lexer": "ipython3",
   "version": "3.7.3"
  }
 },
 "nbformat": 4,
 "nbformat_minor": 2
}
